{
 "metadata": {
  "language_info": {
   "codemirror_mode": {
    "name": "ipython",
    "version": 3
   },
   "file_extension": ".py",
   "mimetype": "text/x-python",
   "name": "python",
   "nbconvert_exporter": "python",
   "pygments_lexer": "ipython3",
   "version": "3.8.5-final"
  },
  "orig_nbformat": 2,
  "kernelspec": {
   "name": "python3",
   "display_name": "Python 3",
   "language": "python"
  }
 },
 "nbformat": 4,
 "nbformat_minor": 2,
 "cells": [
  {
   "cell_type": "code",
   "execution_count": 1,
   "metadata": {},
   "outputs": [],
   "source": [
    "import pandas as pd"
   ]
  },
  {
   "cell_type": "code",
   "execution_count": 2,
   "metadata": {},
   "outputs": [],
   "source": [
    "df = pd.read_csv('full_players_solution.csv')"
   ]
  },
  {
   "cell_type": "code",
   "execution_count": 3,
   "metadata": {},
   "outputs": [
    {
     "output_type": "execute_result",
     "data": {
      "text/plain": [
       "     Unnamed: 0            Name   Price  Team 1 Position  Round   Team 2  \\\n",
       "0             0    Jay Lockhart  363000  Demons       DE     18    Hawks   \n",
       "1             1   Neville Jetta  285000  Demons       DE      1  Dockers   \n",
       "2             2   Neville Jetta  285000  Demons       DE      4     Cats   \n",
       "3             3   Neville Jetta  285000  Demons       DE      6   Tigers   \n",
       "4             4   Neville Jetta  285000  Demons       DE      8    Swans   \n",
       "..          ...             ...     ...     ...      ...    ...      ...   \n",
       "685         685     Eddie Betts  424000   Blues       FO     13     _BYE   \n",
       "686         686  Lochie O'Brien  304000   Blues       MI     13     _BYE   \n",
       "687         687       Paddy Dow  323000   Blues       MI     13     _BYE   \n",
       "688         688      Sam Taylor  276000  Giants       DE     12     _BYE   \n",
       "689         689     Callan Ward  461000  Giants       MI     12     _BYE   \n",
       "\n",
       "                   Date      Score                     id  \\\n",
       "0    Sat 17 Jul 12:00pm  61.500000    R:18_P:Jay Lockhart   \n",
       "1     Sat 20 Mar 1:45pm  24.363636    R:1_P:Neville Jetta   \n",
       "2     Sun 11 Apr 3:20pm  21.181818    R:4_P:Neville Jetta   \n",
       "3     Sat 24 Apr 7:25pm  22.454545    R:6_P:Neville Jetta   \n",
       "4     Sat 8 May 12:00pm  27.727273    R:8_P:Neville Jetta   \n",
       "..                  ...        ...                    ...   \n",
       "685                 NaN   0.000000     R:13_P:Eddie Betts   \n",
       "686                 NaN   0.000000  R:13_P:Lochie O'Brien   \n",
       "687                 NaN   0.000000       R:13_P:Paddy Dow   \n",
       "688                 NaN   0.000000      R:12_P:Sam Taylor   \n",
       "689                 NaN   0.000000     R:12_P:Callan Ward   \n",
       "\n",
       "                    pl_pos_id  is_selected  \n",
       "0      R:18_P:Jay Lockhart_DE            1  \n",
       "1      R:1_P:Neville Jetta_DE            1  \n",
       "2      R:4_P:Neville Jetta_DE            1  \n",
       "3      R:6_P:Neville Jetta_DE            1  \n",
       "4      R:8_P:Neville Jetta_DE            1  \n",
       "..                        ...          ...  \n",
       "685     R:13_P:Eddie Betts_FO            1  \n",
       "686  R:13_P:Lochie O'Brien_MI            1  \n",
       "687       R:13_P:Paddy Dow_MI            1  \n",
       "688      R:12_P:Sam Taylor_DE            1  \n",
       "689     R:12_P:Callan Ward_MI            1  \n",
       "\n",
       "[690 rows x 12 columns]"
      ],
      "text/html": "<div>\n<style scoped>\n    .dataframe tbody tr th:only-of-type {\n        vertical-align: middle;\n    }\n\n    .dataframe tbody tr th {\n        vertical-align: top;\n    }\n\n    .dataframe thead th {\n        text-align: right;\n    }\n</style>\n<table border=\"1\" class=\"dataframe\">\n  <thead>\n    <tr style=\"text-align: right;\">\n      <th></th>\n      <th>Unnamed: 0</th>\n      <th>Name</th>\n      <th>Price</th>\n      <th>Team 1</th>\n      <th>Position</th>\n      <th>Round</th>\n      <th>Team 2</th>\n      <th>Date</th>\n      <th>Score</th>\n      <th>id</th>\n      <th>pl_pos_id</th>\n      <th>is_selected</th>\n    </tr>\n  </thead>\n  <tbody>\n    <tr>\n      <th>0</th>\n      <td>0</td>\n      <td>Jay Lockhart</td>\n      <td>363000</td>\n      <td>Demons</td>\n      <td>DE</td>\n      <td>18</td>\n      <td>Hawks</td>\n      <td>Sat 17 Jul 12:00pm</td>\n      <td>61.500000</td>\n      <td>R:18_P:Jay Lockhart</td>\n      <td>R:18_P:Jay Lockhart_DE</td>\n      <td>1</td>\n    </tr>\n    <tr>\n      <th>1</th>\n      <td>1</td>\n      <td>Neville Jetta</td>\n      <td>285000</td>\n      <td>Demons</td>\n      <td>DE</td>\n      <td>1</td>\n      <td>Dockers</td>\n      <td>Sat 20 Mar 1:45pm</td>\n      <td>24.363636</td>\n      <td>R:1_P:Neville Jetta</td>\n      <td>R:1_P:Neville Jetta_DE</td>\n      <td>1</td>\n    </tr>\n    <tr>\n      <th>2</th>\n      <td>2</td>\n      <td>Neville Jetta</td>\n      <td>285000</td>\n      <td>Demons</td>\n      <td>DE</td>\n      <td>4</td>\n      <td>Cats</td>\n      <td>Sun 11 Apr 3:20pm</td>\n      <td>21.181818</td>\n      <td>R:4_P:Neville Jetta</td>\n      <td>R:4_P:Neville Jetta_DE</td>\n      <td>1</td>\n    </tr>\n    <tr>\n      <th>3</th>\n      <td>3</td>\n      <td>Neville Jetta</td>\n      <td>285000</td>\n      <td>Demons</td>\n      <td>DE</td>\n      <td>6</td>\n      <td>Tigers</td>\n      <td>Sat 24 Apr 7:25pm</td>\n      <td>22.454545</td>\n      <td>R:6_P:Neville Jetta</td>\n      <td>R:6_P:Neville Jetta_DE</td>\n      <td>1</td>\n    </tr>\n    <tr>\n      <th>4</th>\n      <td>4</td>\n      <td>Neville Jetta</td>\n      <td>285000</td>\n      <td>Demons</td>\n      <td>DE</td>\n      <td>8</td>\n      <td>Swans</td>\n      <td>Sat 8 May 12:00pm</td>\n      <td>27.727273</td>\n      <td>R:8_P:Neville Jetta</td>\n      <td>R:8_P:Neville Jetta_DE</td>\n      <td>1</td>\n    </tr>\n    <tr>\n      <th>...</th>\n      <td>...</td>\n      <td>...</td>\n      <td>...</td>\n      <td>...</td>\n      <td>...</td>\n      <td>...</td>\n      <td>...</td>\n      <td>...</td>\n      <td>...</td>\n      <td>...</td>\n      <td>...</td>\n      <td>...</td>\n    </tr>\n    <tr>\n      <th>685</th>\n      <td>685</td>\n      <td>Eddie Betts</td>\n      <td>424000</td>\n      <td>Blues</td>\n      <td>FO</td>\n      <td>13</td>\n      <td>_BYE</td>\n      <td>NaN</td>\n      <td>0.000000</td>\n      <td>R:13_P:Eddie Betts</td>\n      <td>R:13_P:Eddie Betts_FO</td>\n      <td>1</td>\n    </tr>\n    <tr>\n      <th>686</th>\n      <td>686</td>\n      <td>Lochie O'Brien</td>\n      <td>304000</td>\n      <td>Blues</td>\n      <td>MI</td>\n      <td>13</td>\n      <td>_BYE</td>\n      <td>NaN</td>\n      <td>0.000000</td>\n      <td>R:13_P:Lochie O'Brien</td>\n      <td>R:13_P:Lochie O'Brien_MI</td>\n      <td>1</td>\n    </tr>\n    <tr>\n      <th>687</th>\n      <td>687</td>\n      <td>Paddy Dow</td>\n      <td>323000</td>\n      <td>Blues</td>\n      <td>MI</td>\n      <td>13</td>\n      <td>_BYE</td>\n      <td>NaN</td>\n      <td>0.000000</td>\n      <td>R:13_P:Paddy Dow</td>\n      <td>R:13_P:Paddy Dow_MI</td>\n      <td>1</td>\n    </tr>\n    <tr>\n      <th>688</th>\n      <td>688</td>\n      <td>Sam Taylor</td>\n      <td>276000</td>\n      <td>Giants</td>\n      <td>DE</td>\n      <td>12</td>\n      <td>_BYE</td>\n      <td>NaN</td>\n      <td>0.000000</td>\n      <td>R:12_P:Sam Taylor</td>\n      <td>R:12_P:Sam Taylor_DE</td>\n      <td>1</td>\n    </tr>\n    <tr>\n      <th>689</th>\n      <td>689</td>\n      <td>Callan Ward</td>\n      <td>461000</td>\n      <td>Giants</td>\n      <td>MI</td>\n      <td>12</td>\n      <td>_BYE</td>\n      <td>NaN</td>\n      <td>0.000000</td>\n      <td>R:12_P:Callan Ward</td>\n      <td>R:12_P:Callan Ward_MI</td>\n      <td>1</td>\n    </tr>\n  </tbody>\n</table>\n<p>690 rows × 12 columns</p>\n</div>"
     },
     "metadata": {},
     "execution_count": 3
    }
   ],
   "source": [
    "df"
   ]
  },
  {
   "cell_type": "code",
   "execution_count": 11,
   "metadata": {},
   "outputs": [
    {
     "output_type": "execute_result",
     "data": {
      "text/plain": [
       "     Unnamed: 0               Name   Price     Team 1 Position  Round  \\\n",
       "383         383         Ben McEvoy  477000      Hawks       DE      2   \n",
       "64           64        Bryce Gibbs  487000      Crows       DE      2   \n",
       "653         653        Callan Ward  461000     Giants       MI      2   \n",
       "331         331    Connor Budarick  357000       Suns       DE      2   \n",
       "158         158     Dylan Roberton  170000     Saints       DE      2   \n",
       "597         597      Dyson Heppell  566000    Bombers       MI      2   \n",
       "506         506        Eddie Betts  424000      Blues       FO      2   \n",
       "287         287        Jack Redden  554000     Eagles       MI      2   \n",
       "345         345      Jack Riewoldt  469000     Tigers       FO      2   \n",
       "387         387      James Frawley  305000      Hawks       DE      2   \n",
       "309         309     Jarrod Harbrow  428000       Suns       DE      2   \n",
       "197         197       Joel Selwood  596000       Cats       MI      2   \n",
       "427         427    Jonathon Patton  191000      Hawks       FO      2   \n",
       "245         245     Joshua Kennedy  431000     Eagles       FO      2   \n",
       "526         526     Lochie O'Brien  304000      Blues       MI      2   \n",
       "263         263     Mark Hutchings  308000     Eagles       FO      2   \n",
       "476         476  Minairo Frederick  292000    Dockers       FO      2   \n",
       "12           12      Neville Jetta  285000     Demons       DE      2   \n",
       "548         548          Paddy Dow  323000      Blues       MI      2   \n",
       "106         106        Rory Sloane  580000      Crows       MI      2   \n",
       "301         301  Sam Powell-Pepper  558000      Power       MI      2   \n",
       "631         631         Sam Taylor  276000     Giants       DE      2   \n",
       "612         612      Shane Mumford  466000     Giants       RU      2   \n",
       "409         409     Shaun Burgoyne  435000      Hawks       FO      2   \n",
       "298         298      Steven Motlop  412000      Power       FO      2   \n",
       "86           86      Taylor Walker  366000      Crows       FO      2   \n",
       "121         121     Todd Goldstein  760000  Kangaroos       RU      2   \n",
       "229         229         Tom Hickey  418000     Eagles       RU      2   \n",
       "451         451         Tom Scully  443000      Hawks       MI      2   \n",
       "362         362      Trent Cotchin  634000     Tigers       MI      2   \n",
       "\n",
       "        Team 2               Date      Score                       id  \\\n",
       "383     Tigers  Sun 28 Mar 1:10pm  65.545455         R:2_P:Ben McEvoy   \n",
       "64       Swans  Sat 27 Mar 1:45pm  95.250000        R:2_P:Bryce Gibbs   \n",
       "653    Dockers  Sun 28 Mar 3:10pm  73.818182        R:2_P:Callan Ward   \n",
       "331  Kangaroos  Sat 27 Mar 7:10pm  41.000000    R:2_P:Connor Budarick   \n",
       "158     Demons  Sat 27 Mar 7:25pm  46.454545     R:2_P:Dylan Roberton   \n",
       "597      Power  Sat 27 Mar 4:05pm  72.777778      R:2_P:Dyson Heppell   \n",
       "506    Magpies  Thu 25 Mar 7:20pm  50.363636        R:2_P:Eddie Betts   \n",
       "287   Bulldogs  Sun 28 Mar 3:20pm  70.454545        R:2_P:Jack Redden   \n",
       "345      Hawks  Sun 28 Mar 1:10pm  69.636364      R:2_P:Jack Riewoldt   \n",
       "387     Tigers  Sun 28 Mar 1:10pm  51.181818      R:2_P:James Frawley   \n",
       "309  Kangaroos  Sat 27 Mar 7:10pm  58.181818     R:2_P:Jarrod Harbrow   \n",
       "197      Lions  Fri 26 Mar 7:20pm  94.136364       R:2_P:Joel Selwood   \n",
       "427     Tigers  Sun 28 Mar 1:10pm  31.000000    R:2_P:Jonathon Patton   \n",
       "245   Bulldogs  Sun 28 Mar 3:20pm  49.909091     R:2_P:Joshua Kennedy   \n",
       "526    Magpies  Thu 25 Mar 7:20pm  15.333333     R:2_P:Lochie O'Brien   \n",
       "263   Bulldogs  Sun 28 Mar 3:20pm  47.000000     R:2_P:Mark Hutchings   \n",
       "476     Giants  Sun 28 Mar 3:10pm   0.000000  R:2_P:Minairo Frederick   \n",
       "12      Saints  Sat 27 Mar 7:25pm  18.454545      R:2_P:Neville Jetta   \n",
       "548    Magpies  Thu 25 Mar 7:20pm  34.333333          R:2_P:Paddy Dow   \n",
       "106      Swans  Sat 27 Mar 1:45pm  84.583333        R:2_P:Rory Sloane   \n",
       "301    Bombers  Sat 27 Mar 4:05pm  74.000000  R:2_P:Sam Powell-Pepper   \n",
       "631    Dockers  Sun 28 Mar 3:10pm   8.666667         R:2_P:Sam Taylor   \n",
       "612    Dockers  Sun 28 Mar 3:10pm  55.600000      R:2_P:Shane Mumford   \n",
       "409     Tigers  Sun 28 Mar 1:10pm  60.090909     R:2_P:Shaun Burgoyne   \n",
       "298    Bombers  Sat 27 Mar 4:05pm  58.000000      R:2_P:Steven Motlop   \n",
       "86       Swans  Sat 27 Mar 1:45pm  54.500000      R:2_P:Taylor Walker   \n",
       "121       Suns  Sat 27 Mar 7:10pm  92.636364     R:2_P:Todd Goldstein   \n",
       "229   Bulldogs  Sun 28 Mar 3:20pm  32.300000         R:2_P:Tom Hickey   \n",
       "451     Tigers  Sun 28 Mar 1:10pm  61.000000         R:2_P:Tom Scully   \n",
       "362      Hawks  Sun 28 Mar 1:10pm  94.181818      R:2_P:Trent Cotchin   \n",
       "\n",
       "                      pl_pos_id  is_selected  \n",
       "383         R:2_P:Ben McEvoy_DE            1  \n",
       "64         R:2_P:Bryce Gibbs_DE            1  \n",
       "653        R:2_P:Callan Ward_MI            1  \n",
       "331    R:2_P:Connor Budarick_DE            1  \n",
       "158     R:2_P:Dylan Roberton_DE            1  \n",
       "597      R:2_P:Dyson Heppell_MI            1  \n",
       "506        R:2_P:Eddie Betts_FO            1  \n",
       "287        R:2_P:Jack Redden_MI            1  \n",
       "345      R:2_P:Jack Riewoldt_FO            1  \n",
       "387      R:2_P:James Frawley_DE            1  \n",
       "309     R:2_P:Jarrod Harbrow_DE            1  \n",
       "197       R:2_P:Joel Selwood_MI            1  \n",
       "427    R:2_P:Jonathon Patton_FO            1  \n",
       "245     R:2_P:Joshua Kennedy_FO            1  \n",
       "526     R:2_P:Lochie O'Brien_MI            1  \n",
       "263     R:2_P:Mark Hutchings_FO            1  \n",
       "476  R:2_P:Minairo Frederick_FO            1  \n",
       "12       R:2_P:Neville Jetta_DE            1  \n",
       "548          R:2_P:Paddy Dow_MI            1  \n",
       "106        R:2_P:Rory Sloane_MI            1  \n",
       "301  R:2_P:Sam Powell-Pepper_MI            1  \n",
       "631         R:2_P:Sam Taylor_DE            1  \n",
       "612      R:2_P:Shane Mumford_RU            1  \n",
       "409     R:2_P:Shaun Burgoyne_FO            1  \n",
       "298      R:2_P:Steven Motlop_FO            1  \n",
       "86       R:2_P:Taylor Walker_FO            1  \n",
       "121     R:2_P:Todd Goldstein_RU            1  \n",
       "229         R:2_P:Tom Hickey_RU            1  \n",
       "451         R:2_P:Tom Scully_MI            1  \n",
       "362      R:2_P:Trent Cotchin_MI            1  "
      ],
      "text/html": "<div>\n<style scoped>\n    .dataframe tbody tr th:only-of-type {\n        vertical-align: middle;\n    }\n\n    .dataframe tbody tr th {\n        vertical-align: top;\n    }\n\n    .dataframe thead th {\n        text-align: right;\n    }\n</style>\n<table border=\"1\" class=\"dataframe\">\n  <thead>\n    <tr style=\"text-align: right;\">\n      <th></th>\n      <th>Unnamed: 0</th>\n      <th>Name</th>\n      <th>Price</th>\n      <th>Team 1</th>\n      <th>Position</th>\n      <th>Round</th>\n      <th>Team 2</th>\n      <th>Date</th>\n      <th>Score</th>\n      <th>id</th>\n      <th>pl_pos_id</th>\n      <th>is_selected</th>\n    </tr>\n  </thead>\n  <tbody>\n    <tr>\n      <th>383</th>\n      <td>383</td>\n      <td>Ben McEvoy</td>\n      <td>477000</td>\n      <td>Hawks</td>\n      <td>DE</td>\n      <td>2</td>\n      <td>Tigers</td>\n      <td>Sun 28 Mar 1:10pm</td>\n      <td>65.545455</td>\n      <td>R:2_P:Ben McEvoy</td>\n      <td>R:2_P:Ben McEvoy_DE</td>\n      <td>1</td>\n    </tr>\n    <tr>\n      <th>64</th>\n      <td>64</td>\n      <td>Bryce Gibbs</td>\n      <td>487000</td>\n      <td>Crows</td>\n      <td>DE</td>\n      <td>2</td>\n      <td>Swans</td>\n      <td>Sat 27 Mar 1:45pm</td>\n      <td>95.250000</td>\n      <td>R:2_P:Bryce Gibbs</td>\n      <td>R:2_P:Bryce Gibbs_DE</td>\n      <td>1</td>\n    </tr>\n    <tr>\n      <th>653</th>\n      <td>653</td>\n      <td>Callan Ward</td>\n      <td>461000</td>\n      <td>Giants</td>\n      <td>MI</td>\n      <td>2</td>\n      <td>Dockers</td>\n      <td>Sun 28 Mar 3:10pm</td>\n      <td>73.818182</td>\n      <td>R:2_P:Callan Ward</td>\n      <td>R:2_P:Callan Ward_MI</td>\n      <td>1</td>\n    </tr>\n    <tr>\n      <th>331</th>\n      <td>331</td>\n      <td>Connor Budarick</td>\n      <td>357000</td>\n      <td>Suns</td>\n      <td>DE</td>\n      <td>2</td>\n      <td>Kangaroos</td>\n      <td>Sat 27 Mar 7:10pm</td>\n      <td>41.000000</td>\n      <td>R:2_P:Connor Budarick</td>\n      <td>R:2_P:Connor Budarick_DE</td>\n      <td>1</td>\n    </tr>\n    <tr>\n      <th>158</th>\n      <td>158</td>\n      <td>Dylan Roberton</td>\n      <td>170000</td>\n      <td>Saints</td>\n      <td>DE</td>\n      <td>2</td>\n      <td>Demons</td>\n      <td>Sat 27 Mar 7:25pm</td>\n      <td>46.454545</td>\n      <td>R:2_P:Dylan Roberton</td>\n      <td>R:2_P:Dylan Roberton_DE</td>\n      <td>1</td>\n    </tr>\n    <tr>\n      <th>597</th>\n      <td>597</td>\n      <td>Dyson Heppell</td>\n      <td>566000</td>\n      <td>Bombers</td>\n      <td>MI</td>\n      <td>2</td>\n      <td>Power</td>\n      <td>Sat 27 Mar 4:05pm</td>\n      <td>72.777778</td>\n      <td>R:2_P:Dyson Heppell</td>\n      <td>R:2_P:Dyson Heppell_MI</td>\n      <td>1</td>\n    </tr>\n    <tr>\n      <th>506</th>\n      <td>506</td>\n      <td>Eddie Betts</td>\n      <td>424000</td>\n      <td>Blues</td>\n      <td>FO</td>\n      <td>2</td>\n      <td>Magpies</td>\n      <td>Thu 25 Mar 7:20pm</td>\n      <td>50.363636</td>\n      <td>R:2_P:Eddie Betts</td>\n      <td>R:2_P:Eddie Betts_FO</td>\n      <td>1</td>\n    </tr>\n    <tr>\n      <th>287</th>\n      <td>287</td>\n      <td>Jack Redden</td>\n      <td>554000</td>\n      <td>Eagles</td>\n      <td>MI</td>\n      <td>2</td>\n      <td>Bulldogs</td>\n      <td>Sun 28 Mar 3:20pm</td>\n      <td>70.454545</td>\n      <td>R:2_P:Jack Redden</td>\n      <td>R:2_P:Jack Redden_MI</td>\n      <td>1</td>\n    </tr>\n    <tr>\n      <th>345</th>\n      <td>345</td>\n      <td>Jack Riewoldt</td>\n      <td>469000</td>\n      <td>Tigers</td>\n      <td>FO</td>\n      <td>2</td>\n      <td>Hawks</td>\n      <td>Sun 28 Mar 1:10pm</td>\n      <td>69.636364</td>\n      <td>R:2_P:Jack Riewoldt</td>\n      <td>R:2_P:Jack Riewoldt_FO</td>\n      <td>1</td>\n    </tr>\n    <tr>\n      <th>387</th>\n      <td>387</td>\n      <td>James Frawley</td>\n      <td>305000</td>\n      <td>Hawks</td>\n      <td>DE</td>\n      <td>2</td>\n      <td>Tigers</td>\n      <td>Sun 28 Mar 1:10pm</td>\n      <td>51.181818</td>\n      <td>R:2_P:James Frawley</td>\n      <td>R:2_P:James Frawley_DE</td>\n      <td>1</td>\n    </tr>\n    <tr>\n      <th>309</th>\n      <td>309</td>\n      <td>Jarrod Harbrow</td>\n      <td>428000</td>\n      <td>Suns</td>\n      <td>DE</td>\n      <td>2</td>\n      <td>Kangaroos</td>\n      <td>Sat 27 Mar 7:10pm</td>\n      <td>58.181818</td>\n      <td>R:2_P:Jarrod Harbrow</td>\n      <td>R:2_P:Jarrod Harbrow_DE</td>\n      <td>1</td>\n    </tr>\n    <tr>\n      <th>197</th>\n      <td>197</td>\n      <td>Joel Selwood</td>\n      <td>596000</td>\n      <td>Cats</td>\n      <td>MI</td>\n      <td>2</td>\n      <td>Lions</td>\n      <td>Fri 26 Mar 7:20pm</td>\n      <td>94.136364</td>\n      <td>R:2_P:Joel Selwood</td>\n      <td>R:2_P:Joel Selwood_MI</td>\n      <td>1</td>\n    </tr>\n    <tr>\n      <th>427</th>\n      <td>427</td>\n      <td>Jonathon Patton</td>\n      <td>191000</td>\n      <td>Hawks</td>\n      <td>FO</td>\n      <td>2</td>\n      <td>Tigers</td>\n      <td>Sun 28 Mar 1:10pm</td>\n      <td>31.000000</td>\n      <td>R:2_P:Jonathon Patton</td>\n      <td>R:2_P:Jonathon Patton_FO</td>\n      <td>1</td>\n    </tr>\n    <tr>\n      <th>245</th>\n      <td>245</td>\n      <td>Joshua Kennedy</td>\n      <td>431000</td>\n      <td>Eagles</td>\n      <td>FO</td>\n      <td>2</td>\n      <td>Bulldogs</td>\n      <td>Sun 28 Mar 3:20pm</td>\n      <td>49.909091</td>\n      <td>R:2_P:Joshua Kennedy</td>\n      <td>R:2_P:Joshua Kennedy_FO</td>\n      <td>1</td>\n    </tr>\n    <tr>\n      <th>526</th>\n      <td>526</td>\n      <td>Lochie O'Brien</td>\n      <td>304000</td>\n      <td>Blues</td>\n      <td>MI</td>\n      <td>2</td>\n      <td>Magpies</td>\n      <td>Thu 25 Mar 7:20pm</td>\n      <td>15.333333</td>\n      <td>R:2_P:Lochie O'Brien</td>\n      <td>R:2_P:Lochie O'Brien_MI</td>\n      <td>1</td>\n    </tr>\n    <tr>\n      <th>263</th>\n      <td>263</td>\n      <td>Mark Hutchings</td>\n      <td>308000</td>\n      <td>Eagles</td>\n      <td>FO</td>\n      <td>2</td>\n      <td>Bulldogs</td>\n      <td>Sun 28 Mar 3:20pm</td>\n      <td>47.000000</td>\n      <td>R:2_P:Mark Hutchings</td>\n      <td>R:2_P:Mark Hutchings_FO</td>\n      <td>1</td>\n    </tr>\n    <tr>\n      <th>476</th>\n      <td>476</td>\n      <td>Minairo Frederick</td>\n      <td>292000</td>\n      <td>Dockers</td>\n      <td>FO</td>\n      <td>2</td>\n      <td>Giants</td>\n      <td>Sun 28 Mar 3:10pm</td>\n      <td>0.000000</td>\n      <td>R:2_P:Minairo Frederick</td>\n      <td>R:2_P:Minairo Frederick_FO</td>\n      <td>1</td>\n    </tr>\n    <tr>\n      <th>12</th>\n      <td>12</td>\n      <td>Neville Jetta</td>\n      <td>285000</td>\n      <td>Demons</td>\n      <td>DE</td>\n      <td>2</td>\n      <td>Saints</td>\n      <td>Sat 27 Mar 7:25pm</td>\n      <td>18.454545</td>\n      <td>R:2_P:Neville Jetta</td>\n      <td>R:2_P:Neville Jetta_DE</td>\n      <td>1</td>\n    </tr>\n    <tr>\n      <th>548</th>\n      <td>548</td>\n      <td>Paddy Dow</td>\n      <td>323000</td>\n      <td>Blues</td>\n      <td>MI</td>\n      <td>2</td>\n      <td>Magpies</td>\n      <td>Thu 25 Mar 7:20pm</td>\n      <td>34.333333</td>\n      <td>R:2_P:Paddy Dow</td>\n      <td>R:2_P:Paddy Dow_MI</td>\n      <td>1</td>\n    </tr>\n    <tr>\n      <th>106</th>\n      <td>106</td>\n      <td>Rory Sloane</td>\n      <td>580000</td>\n      <td>Crows</td>\n      <td>MI</td>\n      <td>2</td>\n      <td>Swans</td>\n      <td>Sat 27 Mar 1:45pm</td>\n      <td>84.583333</td>\n      <td>R:2_P:Rory Sloane</td>\n      <td>R:2_P:Rory Sloane_MI</td>\n      <td>1</td>\n    </tr>\n    <tr>\n      <th>301</th>\n      <td>301</td>\n      <td>Sam Powell-Pepper</td>\n      <td>558000</td>\n      <td>Power</td>\n      <td>MI</td>\n      <td>2</td>\n      <td>Bombers</td>\n      <td>Sat 27 Mar 4:05pm</td>\n      <td>74.000000</td>\n      <td>R:2_P:Sam Powell-Pepper</td>\n      <td>R:2_P:Sam Powell-Pepper_MI</td>\n      <td>1</td>\n    </tr>\n    <tr>\n      <th>631</th>\n      <td>631</td>\n      <td>Sam Taylor</td>\n      <td>276000</td>\n      <td>Giants</td>\n      <td>DE</td>\n      <td>2</td>\n      <td>Dockers</td>\n      <td>Sun 28 Mar 3:10pm</td>\n      <td>8.666667</td>\n      <td>R:2_P:Sam Taylor</td>\n      <td>R:2_P:Sam Taylor_DE</td>\n      <td>1</td>\n    </tr>\n    <tr>\n      <th>612</th>\n      <td>612</td>\n      <td>Shane Mumford</td>\n      <td>466000</td>\n      <td>Giants</td>\n      <td>RU</td>\n      <td>2</td>\n      <td>Dockers</td>\n      <td>Sun 28 Mar 3:10pm</td>\n      <td>55.600000</td>\n      <td>R:2_P:Shane Mumford</td>\n      <td>R:2_P:Shane Mumford_RU</td>\n      <td>1</td>\n    </tr>\n    <tr>\n      <th>409</th>\n      <td>409</td>\n      <td>Shaun Burgoyne</td>\n      <td>435000</td>\n      <td>Hawks</td>\n      <td>FO</td>\n      <td>2</td>\n      <td>Tigers</td>\n      <td>Sun 28 Mar 1:10pm</td>\n      <td>60.090909</td>\n      <td>R:2_P:Shaun Burgoyne</td>\n      <td>R:2_P:Shaun Burgoyne_FO</td>\n      <td>1</td>\n    </tr>\n    <tr>\n      <th>298</th>\n      <td>298</td>\n      <td>Steven Motlop</td>\n      <td>412000</td>\n      <td>Power</td>\n      <td>FO</td>\n      <td>2</td>\n      <td>Bombers</td>\n      <td>Sat 27 Mar 4:05pm</td>\n      <td>58.000000</td>\n      <td>R:2_P:Steven Motlop</td>\n      <td>R:2_P:Steven Motlop_FO</td>\n      <td>1</td>\n    </tr>\n    <tr>\n      <th>86</th>\n      <td>86</td>\n      <td>Taylor Walker</td>\n      <td>366000</td>\n      <td>Crows</td>\n      <td>FO</td>\n      <td>2</td>\n      <td>Swans</td>\n      <td>Sat 27 Mar 1:45pm</td>\n      <td>54.500000</td>\n      <td>R:2_P:Taylor Walker</td>\n      <td>R:2_P:Taylor Walker_FO</td>\n      <td>1</td>\n    </tr>\n    <tr>\n      <th>121</th>\n      <td>121</td>\n      <td>Todd Goldstein</td>\n      <td>760000</td>\n      <td>Kangaroos</td>\n      <td>RU</td>\n      <td>2</td>\n      <td>Suns</td>\n      <td>Sat 27 Mar 7:10pm</td>\n      <td>92.636364</td>\n      <td>R:2_P:Todd Goldstein</td>\n      <td>R:2_P:Todd Goldstein_RU</td>\n      <td>1</td>\n    </tr>\n    <tr>\n      <th>229</th>\n      <td>229</td>\n      <td>Tom Hickey</td>\n      <td>418000</td>\n      <td>Eagles</td>\n      <td>RU</td>\n      <td>2</td>\n      <td>Bulldogs</td>\n      <td>Sun 28 Mar 3:20pm</td>\n      <td>32.300000</td>\n      <td>R:2_P:Tom Hickey</td>\n      <td>R:2_P:Tom Hickey_RU</td>\n      <td>1</td>\n    </tr>\n    <tr>\n      <th>451</th>\n      <td>451</td>\n      <td>Tom Scully</td>\n      <td>443000</td>\n      <td>Hawks</td>\n      <td>MI</td>\n      <td>2</td>\n      <td>Tigers</td>\n      <td>Sun 28 Mar 1:10pm</td>\n      <td>61.000000</td>\n      <td>R:2_P:Tom Scully</td>\n      <td>R:2_P:Tom Scully_MI</td>\n      <td>1</td>\n    </tr>\n    <tr>\n      <th>362</th>\n      <td>362</td>\n      <td>Trent Cotchin</td>\n      <td>634000</td>\n      <td>Tigers</td>\n      <td>MI</td>\n      <td>2</td>\n      <td>Hawks</td>\n      <td>Sun 28 Mar 1:10pm</td>\n      <td>94.181818</td>\n      <td>R:2_P:Trent Cotchin</td>\n      <td>R:2_P:Trent Cotchin_MI</td>\n      <td>1</td>\n    </tr>\n  </tbody>\n</table>\n</div>"
     },
     "metadata": {},
     "execution_count": 11
    }
   ],
   "source": [
    "df[df['Round']==2].sort_values('Name')"
   ]
  },
  {
   "cell_type": "code",
   "execution_count": 5,
   "metadata": {},
   "outputs": [],
   "source": [
    "# df[df['Round']==1].sort_values('Position').to_csv('previous_round_selection/Round_two_selection.csv')"
   ]
  },
  {
   "cell_type": "code",
   "execution_count": 6,
   "metadata": {},
   "outputs": [],
   "source": [
    "df_1 = pd.read_csv('previous_round_selection/Round_one_selection.csv')"
   ]
  },
  {
   "cell_type": "code",
   "execution_count": 8,
   "metadata": {},
   "outputs": [
    {
     "output_type": "execute_result",
     "data": {
      "text/plain": [
       "    Unnamed: 0  Unnamed: 0.1               Name   Price     Team 1 Position  \\\n",
       "2          384           384         Ben McEvoy  477000      Hawks       DE   \n",
       "6           53            53        Bryce Gibbs  487000      Crows       DE   \n",
       "26         642           642        Callan Ward  461000     Giants       MI   \n",
       "5          332           332    Connor Budarick  357000       Suns       DE   \n",
       "7          169           169     Dylan Roberton  170000     Saints       DE   \n",
       "25         587           587      Dyson Heppell  566000    Bombers       MI   \n",
       "9          515           515        Eddie Betts  424000      Blues       FO   \n",
       "19         276           276        Jack Redden  554000     Eagles       MI   \n",
       "13         334           334      Jack Riewoldt  469000     Tigers       FO   \n",
       "1          398           398      James Frawley  305000      Hawks       DE   \n",
       "4          320           320     Jarrod Harbrow  428000       Suns       DE   \n",
       "11         438           438    Jonathon Patton  191000      Hawks       FO   \n",
       "8          240           240     Joshua Kennedy  431000     Eagles       FO   \n",
       "23         537           537     Lochie O'Brien  304000      Blues       MI   \n",
       "20         275           275         Luke Shuey  657000     Eagles       MI   \n",
       "16         252           252     Mark Hutchings  308000     Eagles       FO   \n",
       "10         484           484  Minairo Frederick  292000    Dockers       FO   \n",
       "0            1             1      Neville Jetta  285000     Demons       DE   \n",
       "24         559           559          Paddy Dow  323000      Blues       MI   \n",
       "17         302           302  Sam Powell-Pepper  558000      Power       MI   \n",
       "3          620           620         Sam Taylor  276000     Giants       DE   \n",
       "28         607           607      Shane Mumford  466000     Giants       RU   \n",
       "12         418           418     Shaun Burgoyne  435000      Hawks       FO   \n",
       "15         299           299      Steven Motlop  412000      Power       FO   \n",
       "14          75            75      Taylor Walker  366000      Crows       FO   \n",
       "22         274           274          Tim Kelly  730000     Eagles       MI   \n",
       "29         117           117     Todd Goldstein  760000  Kangaroos       RU   \n",
       "27         218           218         Tom Hickey  418000     Eagles       RU   \n",
       "21         457           457         Tom Scully  443000      Hawks       MI   \n",
       "18         359           359      Trent Cotchin  634000     Tigers       MI   \n",
       "\n",
       "    Round     Team 2       Score                       id  \\\n",
       "2       1    Bombers   54.181818         R:1_P:Ben McEvoy   \n",
       "6       1       Cats   58.727273        R:1_P:Bryce Gibbs   \n",
       "26      1     Saints   74.818182        R:1_P:Callan Ward   \n",
       "5       1     Eagles   63.000000    R:1_P:Connor Budarick   \n",
       "7       1     Giants   36.363636     R:1_P:Dylan Roberton   \n",
       "25      1      Hawks   80.555556      R:1_P:Dyson Heppell   \n",
       "9       1     Tigers   66.833333        R:1_P:Eddie Betts   \n",
       "19      1       Suns   82.454545        R:1_P:Jack Redden   \n",
       "13      1      Blues   67.416667      R:1_P:Jack Riewoldt   \n",
       "1       1    Bombers   40.818182      R:1_P:James Frawley   \n",
       "4       1     Eagles   62.000000     R:1_P:Jarrod Harbrow   \n",
       "11      1    Bombers   42.000000    R:1_P:Jonathon Patton   \n",
       "8       1       Suns   74.090909     R:1_P:Joshua Kennedy   \n",
       "23      1     Tigers    0.000000     R:1_P:Lochie O'Brien   \n",
       "20      1       Suns  102.181818         R:1_P:Luke Shuey   \n",
       "16      1       Suns   14.444444     R:1_P:Mark Hutchings   \n",
       "10      1     Demons   31.000000  R:1_P:Minairo Frederick   \n",
       "0       1    Dockers   24.363636      R:1_P:Neville Jetta   \n",
       "24      1     Tigers   37.750000          R:1_P:Paddy Dow   \n",
       "17      1  Kangaroos   80.250000  R:1_P:Sam Powell-Pepper   \n",
       "3       1     Saints   23.666667         R:1_P:Sam Taylor   \n",
       "28      1     Saints   66.400000      R:1_P:Shane Mumford   \n",
       "12      1    Bombers   71.090909     R:1_P:Shaun Burgoyne   \n",
       "15      1  Kangaroos   73.363636      R:1_P:Steven Motlop   \n",
       "14      1       Cats   46.000000      R:1_P:Taylor Walker   \n",
       "22      1       Suns  107.666667          R:1_P:Tim Kelly   \n",
       "29      1      Power   96.545455     R:1_P:Todd Goldstein   \n",
       "27      1       Suns   39.900000         R:1_P:Tom Hickey   \n",
       "21      1    Bombers   57.818182         R:1_P:Tom Scully   \n",
       "18      1      Blues   82.333333      R:1_P:Trent Cotchin   \n",
       "\n",
       "                     pl_pos_id  is_selected  \n",
       "2          R:1_P:Ben McEvoy_DE            1  \n",
       "6         R:1_P:Bryce Gibbs_DE            1  \n",
       "26        R:1_P:Callan Ward_MI            1  \n",
       "5     R:1_P:Connor Budarick_DE            1  \n",
       "7      R:1_P:Dylan Roberton_DE            1  \n",
       "25      R:1_P:Dyson Heppell_MI            1  \n",
       "9         R:1_P:Eddie Betts_FO            1  \n",
       "19        R:1_P:Jack Redden_MI            1  \n",
       "13      R:1_P:Jack Riewoldt_FO            1  \n",
       "1       R:1_P:James Frawley_DE            1  \n",
       "4      R:1_P:Jarrod Harbrow_DE            1  \n",
       "11    R:1_P:Jonathon Patton_FO            1  \n",
       "8      R:1_P:Joshua Kennedy_FO            1  \n",
       "23     R:1_P:Lochie O'Brien_MI            1  \n",
       "20         R:1_P:Luke Shuey_MI            1  \n",
       "16     R:1_P:Mark Hutchings_FO            1  \n",
       "10  R:1_P:Minairo Frederick_FO            1  \n",
       "0       R:1_P:Neville Jetta_DE            1  \n",
       "24          R:1_P:Paddy Dow_MI            1  \n",
       "17  R:1_P:Sam Powell-Pepper_MI            1  \n",
       "3          R:1_P:Sam Taylor_DE            1  \n",
       "28      R:1_P:Shane Mumford_RU            1  \n",
       "12     R:1_P:Shaun Burgoyne_FO            1  \n",
       "15      R:1_P:Steven Motlop_FO            1  \n",
       "14      R:1_P:Taylor Walker_FO            1  \n",
       "22          R:1_P:Tim Kelly_MI            1  \n",
       "29     R:1_P:Todd Goldstein_RU            1  \n",
       "27         R:1_P:Tom Hickey_RU            1  \n",
       "21         R:1_P:Tom Scully_MI            1  \n",
       "18      R:1_P:Trent Cotchin_MI            1  "
      ],
      "text/html": "<div>\n<style scoped>\n    .dataframe tbody tr th:only-of-type {\n        vertical-align: middle;\n    }\n\n    .dataframe tbody tr th {\n        vertical-align: top;\n    }\n\n    .dataframe thead th {\n        text-align: right;\n    }\n</style>\n<table border=\"1\" class=\"dataframe\">\n  <thead>\n    <tr style=\"text-align: right;\">\n      <th></th>\n      <th>Unnamed: 0</th>\n      <th>Unnamed: 0.1</th>\n      <th>Name</th>\n      <th>Price</th>\n      <th>Team 1</th>\n      <th>Position</th>\n      <th>Round</th>\n      <th>Team 2</th>\n      <th>Score</th>\n      <th>id</th>\n      <th>pl_pos_id</th>\n      <th>is_selected</th>\n    </tr>\n  </thead>\n  <tbody>\n    <tr>\n      <th>2</th>\n      <td>384</td>\n      <td>384</td>\n      <td>Ben McEvoy</td>\n      <td>477000</td>\n      <td>Hawks</td>\n      <td>DE</td>\n      <td>1</td>\n      <td>Bombers</td>\n      <td>54.181818</td>\n      <td>R:1_P:Ben McEvoy</td>\n      <td>R:1_P:Ben McEvoy_DE</td>\n      <td>1</td>\n    </tr>\n    <tr>\n      <th>6</th>\n      <td>53</td>\n      <td>53</td>\n      <td>Bryce Gibbs</td>\n      <td>487000</td>\n      <td>Crows</td>\n      <td>DE</td>\n      <td>1</td>\n      <td>Cats</td>\n      <td>58.727273</td>\n      <td>R:1_P:Bryce Gibbs</td>\n      <td>R:1_P:Bryce Gibbs_DE</td>\n      <td>1</td>\n    </tr>\n    <tr>\n      <th>26</th>\n      <td>642</td>\n      <td>642</td>\n      <td>Callan Ward</td>\n      <td>461000</td>\n      <td>Giants</td>\n      <td>MI</td>\n      <td>1</td>\n      <td>Saints</td>\n      <td>74.818182</td>\n      <td>R:1_P:Callan Ward</td>\n      <td>R:1_P:Callan Ward_MI</td>\n      <td>1</td>\n    </tr>\n    <tr>\n      <th>5</th>\n      <td>332</td>\n      <td>332</td>\n      <td>Connor Budarick</td>\n      <td>357000</td>\n      <td>Suns</td>\n      <td>DE</td>\n      <td>1</td>\n      <td>Eagles</td>\n      <td>63.000000</td>\n      <td>R:1_P:Connor Budarick</td>\n      <td>R:1_P:Connor Budarick_DE</td>\n      <td>1</td>\n    </tr>\n    <tr>\n      <th>7</th>\n      <td>169</td>\n      <td>169</td>\n      <td>Dylan Roberton</td>\n      <td>170000</td>\n      <td>Saints</td>\n      <td>DE</td>\n      <td>1</td>\n      <td>Giants</td>\n      <td>36.363636</td>\n      <td>R:1_P:Dylan Roberton</td>\n      <td>R:1_P:Dylan Roberton_DE</td>\n      <td>1</td>\n    </tr>\n    <tr>\n      <th>25</th>\n      <td>587</td>\n      <td>587</td>\n      <td>Dyson Heppell</td>\n      <td>566000</td>\n      <td>Bombers</td>\n      <td>MI</td>\n      <td>1</td>\n      <td>Hawks</td>\n      <td>80.555556</td>\n      <td>R:1_P:Dyson Heppell</td>\n      <td>R:1_P:Dyson Heppell_MI</td>\n      <td>1</td>\n    </tr>\n    <tr>\n      <th>9</th>\n      <td>515</td>\n      <td>515</td>\n      <td>Eddie Betts</td>\n      <td>424000</td>\n      <td>Blues</td>\n      <td>FO</td>\n      <td>1</td>\n      <td>Tigers</td>\n      <td>66.833333</td>\n      <td>R:1_P:Eddie Betts</td>\n      <td>R:1_P:Eddie Betts_FO</td>\n      <td>1</td>\n    </tr>\n    <tr>\n      <th>19</th>\n      <td>276</td>\n      <td>276</td>\n      <td>Jack Redden</td>\n      <td>554000</td>\n      <td>Eagles</td>\n      <td>MI</td>\n      <td>1</td>\n      <td>Suns</td>\n      <td>82.454545</td>\n      <td>R:1_P:Jack Redden</td>\n      <td>R:1_P:Jack Redden_MI</td>\n      <td>1</td>\n    </tr>\n    <tr>\n      <th>13</th>\n      <td>334</td>\n      <td>334</td>\n      <td>Jack Riewoldt</td>\n      <td>469000</td>\n      <td>Tigers</td>\n      <td>FO</td>\n      <td>1</td>\n      <td>Blues</td>\n      <td>67.416667</td>\n      <td>R:1_P:Jack Riewoldt</td>\n      <td>R:1_P:Jack Riewoldt_FO</td>\n      <td>1</td>\n    </tr>\n    <tr>\n      <th>1</th>\n      <td>398</td>\n      <td>398</td>\n      <td>James Frawley</td>\n      <td>305000</td>\n      <td>Hawks</td>\n      <td>DE</td>\n      <td>1</td>\n      <td>Bombers</td>\n      <td>40.818182</td>\n      <td>R:1_P:James Frawley</td>\n      <td>R:1_P:James Frawley_DE</td>\n      <td>1</td>\n    </tr>\n    <tr>\n      <th>4</th>\n      <td>320</td>\n      <td>320</td>\n      <td>Jarrod Harbrow</td>\n      <td>428000</td>\n      <td>Suns</td>\n      <td>DE</td>\n      <td>1</td>\n      <td>Eagles</td>\n      <td>62.000000</td>\n      <td>R:1_P:Jarrod Harbrow</td>\n      <td>R:1_P:Jarrod Harbrow_DE</td>\n      <td>1</td>\n    </tr>\n    <tr>\n      <th>11</th>\n      <td>438</td>\n      <td>438</td>\n      <td>Jonathon Patton</td>\n      <td>191000</td>\n      <td>Hawks</td>\n      <td>FO</td>\n      <td>1</td>\n      <td>Bombers</td>\n      <td>42.000000</td>\n      <td>R:1_P:Jonathon Patton</td>\n      <td>R:1_P:Jonathon Patton_FO</td>\n      <td>1</td>\n    </tr>\n    <tr>\n      <th>8</th>\n      <td>240</td>\n      <td>240</td>\n      <td>Joshua Kennedy</td>\n      <td>431000</td>\n      <td>Eagles</td>\n      <td>FO</td>\n      <td>1</td>\n      <td>Suns</td>\n      <td>74.090909</td>\n      <td>R:1_P:Joshua Kennedy</td>\n      <td>R:1_P:Joshua Kennedy_FO</td>\n      <td>1</td>\n    </tr>\n    <tr>\n      <th>23</th>\n      <td>537</td>\n      <td>537</td>\n      <td>Lochie O'Brien</td>\n      <td>304000</td>\n      <td>Blues</td>\n      <td>MI</td>\n      <td>1</td>\n      <td>Tigers</td>\n      <td>0.000000</td>\n      <td>R:1_P:Lochie O'Brien</td>\n      <td>R:1_P:Lochie O'Brien_MI</td>\n      <td>1</td>\n    </tr>\n    <tr>\n      <th>20</th>\n      <td>275</td>\n      <td>275</td>\n      <td>Luke Shuey</td>\n      <td>657000</td>\n      <td>Eagles</td>\n      <td>MI</td>\n      <td>1</td>\n      <td>Suns</td>\n      <td>102.181818</td>\n      <td>R:1_P:Luke Shuey</td>\n      <td>R:1_P:Luke Shuey_MI</td>\n      <td>1</td>\n    </tr>\n    <tr>\n      <th>16</th>\n      <td>252</td>\n      <td>252</td>\n      <td>Mark Hutchings</td>\n      <td>308000</td>\n      <td>Eagles</td>\n      <td>FO</td>\n      <td>1</td>\n      <td>Suns</td>\n      <td>14.444444</td>\n      <td>R:1_P:Mark Hutchings</td>\n      <td>R:1_P:Mark Hutchings_FO</td>\n      <td>1</td>\n    </tr>\n    <tr>\n      <th>10</th>\n      <td>484</td>\n      <td>484</td>\n      <td>Minairo Frederick</td>\n      <td>292000</td>\n      <td>Dockers</td>\n      <td>FO</td>\n      <td>1</td>\n      <td>Demons</td>\n      <td>31.000000</td>\n      <td>R:1_P:Minairo Frederick</td>\n      <td>R:1_P:Minairo Frederick_FO</td>\n      <td>1</td>\n    </tr>\n    <tr>\n      <th>0</th>\n      <td>1</td>\n      <td>1</td>\n      <td>Neville Jetta</td>\n      <td>285000</td>\n      <td>Demons</td>\n      <td>DE</td>\n      <td>1</td>\n      <td>Dockers</td>\n      <td>24.363636</td>\n      <td>R:1_P:Neville Jetta</td>\n      <td>R:1_P:Neville Jetta_DE</td>\n      <td>1</td>\n    </tr>\n    <tr>\n      <th>24</th>\n      <td>559</td>\n      <td>559</td>\n      <td>Paddy Dow</td>\n      <td>323000</td>\n      <td>Blues</td>\n      <td>MI</td>\n      <td>1</td>\n      <td>Tigers</td>\n      <td>37.750000</td>\n      <td>R:1_P:Paddy Dow</td>\n      <td>R:1_P:Paddy Dow_MI</td>\n      <td>1</td>\n    </tr>\n    <tr>\n      <th>17</th>\n      <td>302</td>\n      <td>302</td>\n      <td>Sam Powell-Pepper</td>\n      <td>558000</td>\n      <td>Power</td>\n      <td>MI</td>\n      <td>1</td>\n      <td>Kangaroos</td>\n      <td>80.250000</td>\n      <td>R:1_P:Sam Powell-Pepper</td>\n      <td>R:1_P:Sam Powell-Pepper_MI</td>\n      <td>1</td>\n    </tr>\n    <tr>\n      <th>3</th>\n      <td>620</td>\n      <td>620</td>\n      <td>Sam Taylor</td>\n      <td>276000</td>\n      <td>Giants</td>\n      <td>DE</td>\n      <td>1</td>\n      <td>Saints</td>\n      <td>23.666667</td>\n      <td>R:1_P:Sam Taylor</td>\n      <td>R:1_P:Sam Taylor_DE</td>\n      <td>1</td>\n    </tr>\n    <tr>\n      <th>28</th>\n      <td>607</td>\n      <td>607</td>\n      <td>Shane Mumford</td>\n      <td>466000</td>\n      <td>Giants</td>\n      <td>RU</td>\n      <td>1</td>\n      <td>Saints</td>\n      <td>66.400000</td>\n      <td>R:1_P:Shane Mumford</td>\n      <td>R:1_P:Shane Mumford_RU</td>\n      <td>1</td>\n    </tr>\n    <tr>\n      <th>12</th>\n      <td>418</td>\n      <td>418</td>\n      <td>Shaun Burgoyne</td>\n      <td>435000</td>\n      <td>Hawks</td>\n      <td>FO</td>\n      <td>1</td>\n      <td>Bombers</td>\n      <td>71.090909</td>\n      <td>R:1_P:Shaun Burgoyne</td>\n      <td>R:1_P:Shaun Burgoyne_FO</td>\n      <td>1</td>\n    </tr>\n    <tr>\n      <th>15</th>\n      <td>299</td>\n      <td>299</td>\n      <td>Steven Motlop</td>\n      <td>412000</td>\n      <td>Power</td>\n      <td>FO</td>\n      <td>1</td>\n      <td>Kangaroos</td>\n      <td>73.363636</td>\n      <td>R:1_P:Steven Motlop</td>\n      <td>R:1_P:Steven Motlop_FO</td>\n      <td>1</td>\n    </tr>\n    <tr>\n      <th>14</th>\n      <td>75</td>\n      <td>75</td>\n      <td>Taylor Walker</td>\n      <td>366000</td>\n      <td>Crows</td>\n      <td>FO</td>\n      <td>1</td>\n      <td>Cats</td>\n      <td>46.000000</td>\n      <td>R:1_P:Taylor Walker</td>\n      <td>R:1_P:Taylor Walker_FO</td>\n      <td>1</td>\n    </tr>\n    <tr>\n      <th>22</th>\n      <td>274</td>\n      <td>274</td>\n      <td>Tim Kelly</td>\n      <td>730000</td>\n      <td>Eagles</td>\n      <td>MI</td>\n      <td>1</td>\n      <td>Suns</td>\n      <td>107.666667</td>\n      <td>R:1_P:Tim Kelly</td>\n      <td>R:1_P:Tim Kelly_MI</td>\n      <td>1</td>\n    </tr>\n    <tr>\n      <th>29</th>\n      <td>117</td>\n      <td>117</td>\n      <td>Todd Goldstein</td>\n      <td>760000</td>\n      <td>Kangaroos</td>\n      <td>RU</td>\n      <td>1</td>\n      <td>Power</td>\n      <td>96.545455</td>\n      <td>R:1_P:Todd Goldstein</td>\n      <td>R:1_P:Todd Goldstein_RU</td>\n      <td>1</td>\n    </tr>\n    <tr>\n      <th>27</th>\n      <td>218</td>\n      <td>218</td>\n      <td>Tom Hickey</td>\n      <td>418000</td>\n      <td>Eagles</td>\n      <td>RU</td>\n      <td>1</td>\n      <td>Suns</td>\n      <td>39.900000</td>\n      <td>R:1_P:Tom Hickey</td>\n      <td>R:1_P:Tom Hickey_RU</td>\n      <td>1</td>\n    </tr>\n    <tr>\n      <th>21</th>\n      <td>457</td>\n      <td>457</td>\n      <td>Tom Scully</td>\n      <td>443000</td>\n      <td>Hawks</td>\n      <td>MI</td>\n      <td>1</td>\n      <td>Bombers</td>\n      <td>57.818182</td>\n      <td>R:1_P:Tom Scully</td>\n      <td>R:1_P:Tom Scully_MI</td>\n      <td>1</td>\n    </tr>\n    <tr>\n      <th>18</th>\n      <td>359</td>\n      <td>359</td>\n      <td>Trent Cotchin</td>\n      <td>634000</td>\n      <td>Tigers</td>\n      <td>MI</td>\n      <td>1</td>\n      <td>Blues</td>\n      <td>82.333333</td>\n      <td>R:1_P:Trent Cotchin</td>\n      <td>R:1_P:Trent Cotchin_MI</td>\n      <td>1</td>\n    </tr>\n  </tbody>\n</table>\n</div>"
     },
     "metadata": {},
     "execution_count": 8
    }
   ],
   "source": [
    "df_1.sort_values('Name')"
   ]
  },
  {
   "cell_type": "code",
   "execution_count": 14,
   "metadata": {},
   "outputs": [],
   "source": [
    "for round_prev in range(1,max(df['Round'])-1):\n",
    "    round_next = round_prev+1\n",
    "    rp = df[df['Round']==round_prev].sort_values('Score',ascending=False)\n",
    "    rn = df[df['Round']==round_next].sort_values('Score',ascending=False)\n",
    "    assert len(rn[~(rn['Name'].isin(rp['Name']))])<=2\n",
    "    assert list(df[df['Round']==round_prev][['id']].duplicated().unique())==[False]\n",
    "    # print(len(rn[~(rn['Name'].isin(rp['Name']))]))"
   ]
  },
  {
   "cell_type": "code",
   "execution_count": 13,
   "metadata": {},
   "outputs": [
    {
     "output_type": "execute_result",
     "data": {
      "text/plain": [
       "     Unnamed: 0        Name   Price  Team 1 Position  Round Team 2  \\\n",
       "274         274   Tim Kelly  730000  Eagles       MI      1   Suns   \n",
       "275         275  Luke Shuey  657000  Eagles       MI      1   Suns   \n",
       "\n",
       "                  Date       Score                id            pl_pos_id  \\\n",
       "274  Sun 21 Mar 3:10pm  107.666667   R:1_P:Tim Kelly   R:1_P:Tim Kelly_MI   \n",
       "275  Sun 21 Mar 3:10pm  102.181818  R:1_P:Luke Shuey  R:1_P:Luke Shuey_MI   \n",
       "\n",
       "     is_selected  \n",
       "274            1  \n",
       "275            1  "
      ],
      "text/html": "<div>\n<style scoped>\n    .dataframe tbody tr th:only-of-type {\n        vertical-align: middle;\n    }\n\n    .dataframe tbody tr th {\n        vertical-align: top;\n    }\n\n    .dataframe thead th {\n        text-align: right;\n    }\n</style>\n<table border=\"1\" class=\"dataframe\">\n  <thead>\n    <tr style=\"text-align: right;\">\n      <th></th>\n      <th>Unnamed: 0</th>\n      <th>Name</th>\n      <th>Price</th>\n      <th>Team 1</th>\n      <th>Position</th>\n      <th>Round</th>\n      <th>Team 2</th>\n      <th>Date</th>\n      <th>Score</th>\n      <th>id</th>\n      <th>pl_pos_id</th>\n      <th>is_selected</th>\n    </tr>\n  </thead>\n  <tbody>\n    <tr>\n      <th>274</th>\n      <td>274</td>\n      <td>Tim Kelly</td>\n      <td>730000</td>\n      <td>Eagles</td>\n      <td>MI</td>\n      <td>1</td>\n      <td>Suns</td>\n      <td>Sun 21 Mar 3:10pm</td>\n      <td>107.666667</td>\n      <td>R:1_P:Tim Kelly</td>\n      <td>R:1_P:Tim Kelly_MI</td>\n      <td>1</td>\n    </tr>\n    <tr>\n      <th>275</th>\n      <td>275</td>\n      <td>Luke Shuey</td>\n      <td>657000</td>\n      <td>Eagles</td>\n      <td>MI</td>\n      <td>1</td>\n      <td>Suns</td>\n      <td>Sun 21 Mar 3:10pm</td>\n      <td>102.181818</td>\n      <td>R:1_P:Luke Shuey</td>\n      <td>R:1_P:Luke Shuey_MI</td>\n      <td>1</td>\n    </tr>\n  </tbody>\n</table>\n</div>"
     },
     "metadata": {},
     "execution_count": 13
    }
   ],
   "source": [
    "rp = df[df['Round']==1].sort_values('Score',ascending=False)\n",
    "rn = df[df['Round']==2].sort_values('Score',ascending=False)\n",
    "rp[~(rp['Name'].isin(rn['Name']))]"
   ]
  },
  {
   "cell_type": "code",
   "execution_count": 14,
   "metadata": {},
   "outputs": [
    {
     "output_type": "execute_result",
     "data": {
      "text/plain": [
       "     Unnamed: 0          Name   Price Team 1 Position  Round Team 2  \\\n",
       "197         197  Joel Selwood  596000   Cats       MI      2  Lions   \n",
       "106         106   Rory Sloane  580000  Crows       MI      2  Swans   \n",
       "\n",
       "                  Date      Score                  id              pl_pos_id  \\\n",
       "197  Fri 26 Mar 7:20pm  94.136364  R:2_P:Joel Selwood  R:2_P:Joel Selwood_MI   \n",
       "106  Sat 27 Mar 1:45pm  84.583333   R:2_P:Rory Sloane   R:2_P:Rory Sloane_MI   \n",
       "\n",
       "     is_selected  \n",
       "197            1  \n",
       "106            1  "
      ],
      "text/html": "<div>\n<style scoped>\n    .dataframe tbody tr th:only-of-type {\n        vertical-align: middle;\n    }\n\n    .dataframe tbody tr th {\n        vertical-align: top;\n    }\n\n    .dataframe thead th {\n        text-align: right;\n    }\n</style>\n<table border=\"1\" class=\"dataframe\">\n  <thead>\n    <tr style=\"text-align: right;\">\n      <th></th>\n      <th>Unnamed: 0</th>\n      <th>Name</th>\n      <th>Price</th>\n      <th>Team 1</th>\n      <th>Position</th>\n      <th>Round</th>\n      <th>Team 2</th>\n      <th>Date</th>\n      <th>Score</th>\n      <th>id</th>\n      <th>pl_pos_id</th>\n      <th>is_selected</th>\n    </tr>\n  </thead>\n  <tbody>\n    <tr>\n      <th>197</th>\n      <td>197</td>\n      <td>Joel Selwood</td>\n      <td>596000</td>\n      <td>Cats</td>\n      <td>MI</td>\n      <td>2</td>\n      <td>Lions</td>\n      <td>Fri 26 Mar 7:20pm</td>\n      <td>94.136364</td>\n      <td>R:2_P:Joel Selwood</td>\n      <td>R:2_P:Joel Selwood_MI</td>\n      <td>1</td>\n    </tr>\n    <tr>\n      <th>106</th>\n      <td>106</td>\n      <td>Rory Sloane</td>\n      <td>580000</td>\n      <td>Crows</td>\n      <td>MI</td>\n      <td>2</td>\n      <td>Swans</td>\n      <td>Sat 27 Mar 1:45pm</td>\n      <td>84.583333</td>\n      <td>R:2_P:Rory Sloane</td>\n      <td>R:2_P:Rory Sloane_MI</td>\n      <td>1</td>\n    </tr>\n  </tbody>\n</table>\n</div>"
     },
     "metadata": {},
     "execution_count": 14
    }
   ],
   "source": [
    "rn[~(rn['Name'].isin(rp['Name']))]"
   ]
  },
  {
   "cell_type": "code",
   "execution_count": null,
   "metadata": {},
   "outputs": [],
   "source": []
  }
 ]
}