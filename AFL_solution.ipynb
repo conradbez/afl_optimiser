{
 "metadata": {
  "language_info": {
   "codemirror_mode": {
    "name": "ipython",
    "version": 3
   },
   "file_extension": ".py",
   "mimetype": "text/x-python",
   "name": "python",
   "nbconvert_exporter": "python",
   "pygments_lexer": "ipython3",
   "version": "3.8.5-final"
  },
  "orig_nbformat": 2,
  "kernelspec": {
   "name": "python3",
   "display_name": "Python 3",
   "language": "python"
  }
 },
 "nbformat": 4,
 "nbformat_minor": 2,
 "cells": [
  {
   "cell_type": "code",
   "execution_count": 2,
   "metadata": {},
   "outputs": [],
   "source": [
    "import pandas as pd"
   ]
  },
  {
   "cell_type": "code",
   "execution_count": 3,
   "metadata": {},
   "outputs": [],
   "source": [
    "df = pd.read_csv('full_players_solution.csv')"
   ]
  },
  {
   "cell_type": "code",
   "execution_count": 4,
   "metadata": {},
   "outputs": [
    {
     "output_type": "execute_result",
     "data": {
      "text/plain": [
       "     Unnamed: 0            Name   Price   Team 1 Position  Round   Team 2  \\\n",
       "0             0  Bayley Fritsch  553000   Demons       FO     12    Lions   \n",
       "1             1  Bayley Fritsch  553000   Demons       FO     13  Magpies   \n",
       "2             2  Bayley Fritsch  553000   Demons       FO     16   Giants   \n",
       "3             3  Bayley Fritsch  553000   Demons       FO     15  Bombers   \n",
       "4             4   Jake Melksham  415000   Demons       FO      1  Dockers   \n",
       "..          ...             ...     ...      ...      ...    ...      ...   \n",
       "685         685       Paddy Dow  323000    Blues       MI     13     _BYE   \n",
       "686         686   Dyson Heppell  566000  Bombers       MI     13     _BYE   \n",
       "687         687   Shane Mumford  466000   Giants       RU     12     _BYE   \n",
       "688         688      Phil Davis  344000   Giants       DE     12     _BYE   \n",
       "689         689     Callan Ward  461000   Giants       MI     12     _BYE   \n",
       "\n",
       "         Score                     id                 pl_pos_id  is_selected  \n",
       "0    63.000000  R:12_P:Bayley Fritsch  R:12_P:Bayley Fritsch_FO            1  \n",
       "1    90.000000  R:13_P:Bayley Fritsch  R:13_P:Bayley Fritsch_FO            1  \n",
       "2    62.333333  R:16_P:Bayley Fritsch  R:16_P:Bayley Fritsch_FO            1  \n",
       "3    97.333333  R:15_P:Bayley Fritsch  R:15_P:Bayley Fritsch_FO            1  \n",
       "4    44.400000    R:1_P:Jake Melksham    R:1_P:Jake Melksham_FO            1  \n",
       "..         ...                    ...                       ...          ...  \n",
       "685   0.000000       R:13_P:Paddy Dow       R:13_P:Paddy Dow_MI            1  \n",
       "686   0.000000   R:13_P:Dyson Heppell   R:13_P:Dyson Heppell_MI            1  \n",
       "687   0.000000   R:12_P:Shane Mumford   R:12_P:Shane Mumford_RU            1  \n",
       "688   0.000000      R:12_P:Phil Davis      R:12_P:Phil Davis_DE            1  \n",
       "689   0.000000     R:12_P:Callan Ward     R:12_P:Callan Ward_MI            1  \n",
       "\n",
       "[690 rows x 11 columns]"
      ],
      "text/html": "<div>\n<style scoped>\n    .dataframe tbody tr th:only-of-type {\n        vertical-align: middle;\n    }\n\n    .dataframe tbody tr th {\n        vertical-align: top;\n    }\n\n    .dataframe thead th {\n        text-align: right;\n    }\n</style>\n<table border=\"1\" class=\"dataframe\">\n  <thead>\n    <tr style=\"text-align: right;\">\n      <th></th>\n      <th>Unnamed: 0</th>\n      <th>Name</th>\n      <th>Price</th>\n      <th>Team 1</th>\n      <th>Position</th>\n      <th>Round</th>\n      <th>Team 2</th>\n      <th>Score</th>\n      <th>id</th>\n      <th>pl_pos_id</th>\n      <th>is_selected</th>\n    </tr>\n  </thead>\n  <tbody>\n    <tr>\n      <th>0</th>\n      <td>0</td>\n      <td>Bayley Fritsch</td>\n      <td>553000</td>\n      <td>Demons</td>\n      <td>FO</td>\n      <td>12</td>\n      <td>Lions</td>\n      <td>63.000000</td>\n      <td>R:12_P:Bayley Fritsch</td>\n      <td>R:12_P:Bayley Fritsch_FO</td>\n      <td>1</td>\n    </tr>\n    <tr>\n      <th>1</th>\n      <td>1</td>\n      <td>Bayley Fritsch</td>\n      <td>553000</td>\n      <td>Demons</td>\n      <td>FO</td>\n      <td>13</td>\n      <td>Magpies</td>\n      <td>90.000000</td>\n      <td>R:13_P:Bayley Fritsch</td>\n      <td>R:13_P:Bayley Fritsch_FO</td>\n      <td>1</td>\n    </tr>\n    <tr>\n      <th>2</th>\n      <td>2</td>\n      <td>Bayley Fritsch</td>\n      <td>553000</td>\n      <td>Demons</td>\n      <td>FO</td>\n      <td>16</td>\n      <td>Giants</td>\n      <td>62.333333</td>\n      <td>R:16_P:Bayley Fritsch</td>\n      <td>R:16_P:Bayley Fritsch_FO</td>\n      <td>1</td>\n    </tr>\n    <tr>\n      <th>3</th>\n      <td>3</td>\n      <td>Bayley Fritsch</td>\n      <td>553000</td>\n      <td>Demons</td>\n      <td>FO</td>\n      <td>15</td>\n      <td>Bombers</td>\n      <td>97.333333</td>\n      <td>R:15_P:Bayley Fritsch</td>\n      <td>R:15_P:Bayley Fritsch_FO</td>\n      <td>1</td>\n    </tr>\n    <tr>\n      <th>4</th>\n      <td>4</td>\n      <td>Jake Melksham</td>\n      <td>415000</td>\n      <td>Demons</td>\n      <td>FO</td>\n      <td>1</td>\n      <td>Dockers</td>\n      <td>44.400000</td>\n      <td>R:1_P:Jake Melksham</td>\n      <td>R:1_P:Jake Melksham_FO</td>\n      <td>1</td>\n    </tr>\n    <tr>\n      <th>...</th>\n      <td>...</td>\n      <td>...</td>\n      <td>...</td>\n      <td>...</td>\n      <td>...</td>\n      <td>...</td>\n      <td>...</td>\n      <td>...</td>\n      <td>...</td>\n      <td>...</td>\n      <td>...</td>\n    </tr>\n    <tr>\n      <th>685</th>\n      <td>685</td>\n      <td>Paddy Dow</td>\n      <td>323000</td>\n      <td>Blues</td>\n      <td>MI</td>\n      <td>13</td>\n      <td>_BYE</td>\n      <td>0.000000</td>\n      <td>R:13_P:Paddy Dow</td>\n      <td>R:13_P:Paddy Dow_MI</td>\n      <td>1</td>\n    </tr>\n    <tr>\n      <th>686</th>\n      <td>686</td>\n      <td>Dyson Heppell</td>\n      <td>566000</td>\n      <td>Bombers</td>\n      <td>MI</td>\n      <td>13</td>\n      <td>_BYE</td>\n      <td>0.000000</td>\n      <td>R:13_P:Dyson Heppell</td>\n      <td>R:13_P:Dyson Heppell_MI</td>\n      <td>1</td>\n    </tr>\n    <tr>\n      <th>687</th>\n      <td>687</td>\n      <td>Shane Mumford</td>\n      <td>466000</td>\n      <td>Giants</td>\n      <td>RU</td>\n      <td>12</td>\n      <td>_BYE</td>\n      <td>0.000000</td>\n      <td>R:12_P:Shane Mumford</td>\n      <td>R:12_P:Shane Mumford_RU</td>\n      <td>1</td>\n    </tr>\n    <tr>\n      <th>688</th>\n      <td>688</td>\n      <td>Phil Davis</td>\n      <td>344000</td>\n      <td>Giants</td>\n      <td>DE</td>\n      <td>12</td>\n      <td>_BYE</td>\n      <td>0.000000</td>\n      <td>R:12_P:Phil Davis</td>\n      <td>R:12_P:Phil Davis_DE</td>\n      <td>1</td>\n    </tr>\n    <tr>\n      <th>689</th>\n      <td>689</td>\n      <td>Callan Ward</td>\n      <td>461000</td>\n      <td>Giants</td>\n      <td>MI</td>\n      <td>12</td>\n      <td>_BYE</td>\n      <td>0.000000</td>\n      <td>R:12_P:Callan Ward</td>\n      <td>R:12_P:Callan Ward_MI</td>\n      <td>1</td>\n    </tr>\n  </tbody>\n</table>\n<p>690 rows × 11 columns</p>\n</div>"
     },
     "metadata": {},
     "execution_count": 4
    }
   ],
   "source": [
    "df"
   ]
  },
  {
   "cell_type": "code",
   "execution_count": 5,
   "metadata": {},
   "outputs": [
    {
     "output_type": "execute_result",
     "data": {
      "text/plain": [
       "     Unnamed: 0                         Name   Price     Team 1 Position  \\\n",
       "335         335               Jarrod Harbrow  428000       Suns       DE   \n",
       "53           53                  Bryce Gibbs  487000      Crows       DE   \n",
       "75           75                 Daniel Talia  351000      Crows       DE   \n",
       "491         491                 Stephen Hill  480000    Dockers       DE   \n",
       "169         169                 Jarryn Geary  382000     Saints       DE   \n",
       "187         187               Dylan Roberton  170000     Saints       DE   \n",
       "406         406                James Frawley  305000      Hawks       DE   \n",
       "618         618                   Phil Davis  344000     Giants       DE   \n",
       "551         551  Anthony McDonald-Tipungwuti  446000    Bombers       FO   \n",
       "511         511                  Eddie Betts  424000      Blues       FO   \n",
       "450         450              Jonathon Patton  191000      Hawks       FO   \n",
       "429         429               Shaun Burgoyne  435000      Hawks       FO   \n",
       "351         351                Jack Riewoldt  469000     Tigers       FO   \n",
       "4             4                Jake Melksham  415000     Demons       FO   \n",
       "312         312                Steven Motlop  412000      Power       FO   \n",
       "251         251               Joshua Kennedy  431000     Eagles       FO   \n",
       "97           97                Taylor Walker  366000      Crows       FO   \n",
       "350         350                Noah Anderson  562000       Suns       MI   \n",
       "290         290               Mark Hutchings  308000     Eagles       MI   \n",
       "268         268                  Jack Redden  554000     Eagles       MI   \n",
       "267         267                   Luke Shuey  657000     Eagles       MI   \n",
       "472         472                   Tom Scully  443000      Hawks       MI   \n",
       "119         119               Ben Cunnington  503000  Kangaroos       MI   \n",
       "531         531                    Paddy Dow  323000      Blues       MI   \n",
       "574         574                Dyson Heppell  566000    Bombers       MI   \n",
       "315         315            Sam Powell-Pepper  558000      Power       MI   \n",
       "640         640                  Callan Ward  461000     Giants       MI   \n",
       "384         384                   Ben McEvoy  477000      Hawks       RU   \n",
       "145         145                Patrick Ryder  575000     Saints       RU   \n",
       "596         596                Shane Mumford  466000     Giants       RU   \n",
       "\n",
       "     Round     Team 2       Score                                 id  \\\n",
       "335      1     Eagles   62.000000               R:1_P:Jarrod Harbrow   \n",
       "53       1       Cats   58.727273                  R:1_P:Bryce Gibbs   \n",
       "75       1       Cats   22.272727                 R:1_P:Daniel Talia   \n",
       "491      1     Demons   61.909091                 R:1_P:Stephen Hill   \n",
       "169      1     Giants   55.090909                 R:1_P:Jarryn Geary   \n",
       "187      1     Giants   36.363636               R:1_P:Dylan Roberton   \n",
       "406      1    Bombers   40.818182                R:1_P:James Frawley   \n",
       "618      1     Saints   35.909091                   R:1_P:Phil Davis   \n",
       "551      1      Hawks   41.000000  R:1_P:Anthony McDonald-Tipungwuti   \n",
       "511      1     Tigers   66.833333                  R:1_P:Eddie Betts   \n",
       "450      1    Bombers   42.000000              R:1_P:Jonathon Patton   \n",
       "429      1    Bombers   71.090909               R:1_P:Shaun Burgoyne   \n",
       "351      1      Blues   67.416667                R:1_P:Jack Riewoldt   \n",
       "4        1    Dockers   44.400000                R:1_P:Jake Melksham   \n",
       "312      1  Kangaroos   73.363636                R:1_P:Steven Motlop   \n",
       "251      1       Suns   74.090909               R:1_P:Joshua Kennedy   \n",
       "97       1       Cats   46.000000                R:1_P:Taylor Walker   \n",
       "350      1     Eagles   73.000000                R:1_P:Noah Anderson   \n",
       "290      1       Suns   14.444444               R:1_P:Mark Hutchings   \n",
       "268      1       Suns   82.454545                  R:1_P:Jack Redden   \n",
       "267      1       Suns  102.181818                   R:1_P:Luke Shuey   \n",
       "472      1    Bombers   57.818182                   R:1_P:Tom Scully   \n",
       "119      1      Power   61.727273               R:1_P:Ben Cunnington   \n",
       "531      1     Tigers   37.750000                    R:1_P:Paddy Dow   \n",
       "574      1      Hawks   80.555556                R:1_P:Dyson Heppell   \n",
       "315      1  Kangaroos   80.250000            R:1_P:Sam Powell-Pepper   \n",
       "640      1     Saints   74.818182                  R:1_P:Callan Ward   \n",
       "384      1    Bombers   54.181818                   R:1_P:Ben McEvoy   \n",
       "145      1     Giants   62.600000                R:1_P:Patrick Ryder   \n",
       "596      1     Saints   66.400000                R:1_P:Shane Mumford   \n",
       "\n",
       "                                pl_pos_id  is_selected  \n",
       "335               R:1_P:Jarrod Harbrow_DE            1  \n",
       "53                   R:1_P:Bryce Gibbs_DE            1  \n",
       "75                  R:1_P:Daniel Talia_DE            1  \n",
       "491                 R:1_P:Stephen Hill_DE            1  \n",
       "169                 R:1_P:Jarryn Geary_DE            1  \n",
       "187               R:1_P:Dylan Roberton_DE            1  \n",
       "406                R:1_P:James Frawley_DE            1  \n",
       "618                   R:1_P:Phil Davis_DE            1  \n",
       "551  R:1_P:Anthony McDonald-Tipungwuti_FO            1  \n",
       "511                  R:1_P:Eddie Betts_FO            1  \n",
       "450              R:1_P:Jonathon Patton_FO            1  \n",
       "429               R:1_P:Shaun Burgoyne_FO            1  \n",
       "351                R:1_P:Jack Riewoldt_FO            1  \n",
       "4                  R:1_P:Jake Melksham_FO            1  \n",
       "312                R:1_P:Steven Motlop_FO            1  \n",
       "251               R:1_P:Joshua Kennedy_FO            1  \n",
       "97                 R:1_P:Taylor Walker_FO            1  \n",
       "350                R:1_P:Noah Anderson_MI            1  \n",
       "290               R:1_P:Mark Hutchings_MI            1  \n",
       "268                  R:1_P:Jack Redden_MI            1  \n",
       "267                   R:1_P:Luke Shuey_MI            1  \n",
       "472                   R:1_P:Tom Scully_MI            1  \n",
       "119               R:1_P:Ben Cunnington_MI            1  \n",
       "531                    R:1_P:Paddy Dow_MI            1  \n",
       "574                R:1_P:Dyson Heppell_MI            1  \n",
       "315            R:1_P:Sam Powell-Pepper_MI            1  \n",
       "640                  R:1_P:Callan Ward_MI            1  \n",
       "384                   R:1_P:Ben McEvoy_RU            1  \n",
       "145                R:1_P:Patrick Ryder_RU            1  \n",
       "596                R:1_P:Shane Mumford_RU            1  "
      ],
      "text/html": "<div>\n<style scoped>\n    .dataframe tbody tr th:only-of-type {\n        vertical-align: middle;\n    }\n\n    .dataframe tbody tr th {\n        vertical-align: top;\n    }\n\n    .dataframe thead th {\n        text-align: right;\n    }\n</style>\n<table border=\"1\" class=\"dataframe\">\n  <thead>\n    <tr style=\"text-align: right;\">\n      <th></th>\n      <th>Unnamed: 0</th>\n      <th>Name</th>\n      <th>Price</th>\n      <th>Team 1</th>\n      <th>Position</th>\n      <th>Round</th>\n      <th>Team 2</th>\n      <th>Score</th>\n      <th>id</th>\n      <th>pl_pos_id</th>\n      <th>is_selected</th>\n    </tr>\n  </thead>\n  <tbody>\n    <tr>\n      <th>335</th>\n      <td>335</td>\n      <td>Jarrod Harbrow</td>\n      <td>428000</td>\n      <td>Suns</td>\n      <td>DE</td>\n      <td>1</td>\n      <td>Eagles</td>\n      <td>62.000000</td>\n      <td>R:1_P:Jarrod Harbrow</td>\n      <td>R:1_P:Jarrod Harbrow_DE</td>\n      <td>1</td>\n    </tr>\n    <tr>\n      <th>53</th>\n      <td>53</td>\n      <td>Bryce Gibbs</td>\n      <td>487000</td>\n      <td>Crows</td>\n      <td>DE</td>\n      <td>1</td>\n      <td>Cats</td>\n      <td>58.727273</td>\n      <td>R:1_P:Bryce Gibbs</td>\n      <td>R:1_P:Bryce Gibbs_DE</td>\n      <td>1</td>\n    </tr>\n    <tr>\n      <th>75</th>\n      <td>75</td>\n      <td>Daniel Talia</td>\n      <td>351000</td>\n      <td>Crows</td>\n      <td>DE</td>\n      <td>1</td>\n      <td>Cats</td>\n      <td>22.272727</td>\n      <td>R:1_P:Daniel Talia</td>\n      <td>R:1_P:Daniel Talia_DE</td>\n      <td>1</td>\n    </tr>\n    <tr>\n      <th>491</th>\n      <td>491</td>\n      <td>Stephen Hill</td>\n      <td>480000</td>\n      <td>Dockers</td>\n      <td>DE</td>\n      <td>1</td>\n      <td>Demons</td>\n      <td>61.909091</td>\n      <td>R:1_P:Stephen Hill</td>\n      <td>R:1_P:Stephen Hill_DE</td>\n      <td>1</td>\n    </tr>\n    <tr>\n      <th>169</th>\n      <td>169</td>\n      <td>Jarryn Geary</td>\n      <td>382000</td>\n      <td>Saints</td>\n      <td>DE</td>\n      <td>1</td>\n      <td>Giants</td>\n      <td>55.090909</td>\n      <td>R:1_P:Jarryn Geary</td>\n      <td>R:1_P:Jarryn Geary_DE</td>\n      <td>1</td>\n    </tr>\n    <tr>\n      <th>187</th>\n      <td>187</td>\n      <td>Dylan Roberton</td>\n      <td>170000</td>\n      <td>Saints</td>\n      <td>DE</td>\n      <td>1</td>\n      <td>Giants</td>\n      <td>36.363636</td>\n      <td>R:1_P:Dylan Roberton</td>\n      <td>R:1_P:Dylan Roberton_DE</td>\n      <td>1</td>\n    </tr>\n    <tr>\n      <th>406</th>\n      <td>406</td>\n      <td>James Frawley</td>\n      <td>305000</td>\n      <td>Hawks</td>\n      <td>DE</td>\n      <td>1</td>\n      <td>Bombers</td>\n      <td>40.818182</td>\n      <td>R:1_P:James Frawley</td>\n      <td>R:1_P:James Frawley_DE</td>\n      <td>1</td>\n    </tr>\n    <tr>\n      <th>618</th>\n      <td>618</td>\n      <td>Phil Davis</td>\n      <td>344000</td>\n      <td>Giants</td>\n      <td>DE</td>\n      <td>1</td>\n      <td>Saints</td>\n      <td>35.909091</td>\n      <td>R:1_P:Phil Davis</td>\n      <td>R:1_P:Phil Davis_DE</td>\n      <td>1</td>\n    </tr>\n    <tr>\n      <th>551</th>\n      <td>551</td>\n      <td>Anthony McDonald-Tipungwuti</td>\n      <td>446000</td>\n      <td>Bombers</td>\n      <td>FO</td>\n      <td>1</td>\n      <td>Hawks</td>\n      <td>41.000000</td>\n      <td>R:1_P:Anthony McDonald-Tipungwuti</td>\n      <td>R:1_P:Anthony McDonald-Tipungwuti_FO</td>\n      <td>1</td>\n    </tr>\n    <tr>\n      <th>511</th>\n      <td>511</td>\n      <td>Eddie Betts</td>\n      <td>424000</td>\n      <td>Blues</td>\n      <td>FO</td>\n      <td>1</td>\n      <td>Tigers</td>\n      <td>66.833333</td>\n      <td>R:1_P:Eddie Betts</td>\n      <td>R:1_P:Eddie Betts_FO</td>\n      <td>1</td>\n    </tr>\n    <tr>\n      <th>450</th>\n      <td>450</td>\n      <td>Jonathon Patton</td>\n      <td>191000</td>\n      <td>Hawks</td>\n      <td>FO</td>\n      <td>1</td>\n      <td>Bombers</td>\n      <td>42.000000</td>\n      <td>R:1_P:Jonathon Patton</td>\n      <td>R:1_P:Jonathon Patton_FO</td>\n      <td>1</td>\n    </tr>\n    <tr>\n      <th>429</th>\n      <td>429</td>\n      <td>Shaun Burgoyne</td>\n      <td>435000</td>\n      <td>Hawks</td>\n      <td>FO</td>\n      <td>1</td>\n      <td>Bombers</td>\n      <td>71.090909</td>\n      <td>R:1_P:Shaun Burgoyne</td>\n      <td>R:1_P:Shaun Burgoyne_FO</td>\n      <td>1</td>\n    </tr>\n    <tr>\n      <th>351</th>\n      <td>351</td>\n      <td>Jack Riewoldt</td>\n      <td>469000</td>\n      <td>Tigers</td>\n      <td>FO</td>\n      <td>1</td>\n      <td>Blues</td>\n      <td>67.416667</td>\n      <td>R:1_P:Jack Riewoldt</td>\n      <td>R:1_P:Jack Riewoldt_FO</td>\n      <td>1</td>\n    </tr>\n    <tr>\n      <th>4</th>\n      <td>4</td>\n      <td>Jake Melksham</td>\n      <td>415000</td>\n      <td>Demons</td>\n      <td>FO</td>\n      <td>1</td>\n      <td>Dockers</td>\n      <td>44.400000</td>\n      <td>R:1_P:Jake Melksham</td>\n      <td>R:1_P:Jake Melksham_FO</td>\n      <td>1</td>\n    </tr>\n    <tr>\n      <th>312</th>\n      <td>312</td>\n      <td>Steven Motlop</td>\n      <td>412000</td>\n      <td>Power</td>\n      <td>FO</td>\n      <td>1</td>\n      <td>Kangaroos</td>\n      <td>73.363636</td>\n      <td>R:1_P:Steven Motlop</td>\n      <td>R:1_P:Steven Motlop_FO</td>\n      <td>1</td>\n    </tr>\n    <tr>\n      <th>251</th>\n      <td>251</td>\n      <td>Joshua Kennedy</td>\n      <td>431000</td>\n      <td>Eagles</td>\n      <td>FO</td>\n      <td>1</td>\n      <td>Suns</td>\n      <td>74.090909</td>\n      <td>R:1_P:Joshua Kennedy</td>\n      <td>R:1_P:Joshua Kennedy_FO</td>\n      <td>1</td>\n    </tr>\n    <tr>\n      <th>97</th>\n      <td>97</td>\n      <td>Taylor Walker</td>\n      <td>366000</td>\n      <td>Crows</td>\n      <td>FO</td>\n      <td>1</td>\n      <td>Cats</td>\n      <td>46.000000</td>\n      <td>R:1_P:Taylor Walker</td>\n      <td>R:1_P:Taylor Walker_FO</td>\n      <td>1</td>\n    </tr>\n    <tr>\n      <th>350</th>\n      <td>350</td>\n      <td>Noah Anderson</td>\n      <td>562000</td>\n      <td>Suns</td>\n      <td>MI</td>\n      <td>1</td>\n      <td>Eagles</td>\n      <td>73.000000</td>\n      <td>R:1_P:Noah Anderson</td>\n      <td>R:1_P:Noah Anderson_MI</td>\n      <td>1</td>\n    </tr>\n    <tr>\n      <th>290</th>\n      <td>290</td>\n      <td>Mark Hutchings</td>\n      <td>308000</td>\n      <td>Eagles</td>\n      <td>MI</td>\n      <td>1</td>\n      <td>Suns</td>\n      <td>14.444444</td>\n      <td>R:1_P:Mark Hutchings</td>\n      <td>R:1_P:Mark Hutchings_MI</td>\n      <td>1</td>\n    </tr>\n    <tr>\n      <th>268</th>\n      <td>268</td>\n      <td>Jack Redden</td>\n      <td>554000</td>\n      <td>Eagles</td>\n      <td>MI</td>\n      <td>1</td>\n      <td>Suns</td>\n      <td>82.454545</td>\n      <td>R:1_P:Jack Redden</td>\n      <td>R:1_P:Jack Redden_MI</td>\n      <td>1</td>\n    </tr>\n    <tr>\n      <th>267</th>\n      <td>267</td>\n      <td>Luke Shuey</td>\n      <td>657000</td>\n      <td>Eagles</td>\n      <td>MI</td>\n      <td>1</td>\n      <td>Suns</td>\n      <td>102.181818</td>\n      <td>R:1_P:Luke Shuey</td>\n      <td>R:1_P:Luke Shuey_MI</td>\n      <td>1</td>\n    </tr>\n    <tr>\n      <th>472</th>\n      <td>472</td>\n      <td>Tom Scully</td>\n      <td>443000</td>\n      <td>Hawks</td>\n      <td>MI</td>\n      <td>1</td>\n      <td>Bombers</td>\n      <td>57.818182</td>\n      <td>R:1_P:Tom Scully</td>\n      <td>R:1_P:Tom Scully_MI</td>\n      <td>1</td>\n    </tr>\n    <tr>\n      <th>119</th>\n      <td>119</td>\n      <td>Ben Cunnington</td>\n      <td>503000</td>\n      <td>Kangaroos</td>\n      <td>MI</td>\n      <td>1</td>\n      <td>Power</td>\n      <td>61.727273</td>\n      <td>R:1_P:Ben Cunnington</td>\n      <td>R:1_P:Ben Cunnington_MI</td>\n      <td>1</td>\n    </tr>\n    <tr>\n      <th>531</th>\n      <td>531</td>\n      <td>Paddy Dow</td>\n      <td>323000</td>\n      <td>Blues</td>\n      <td>MI</td>\n      <td>1</td>\n      <td>Tigers</td>\n      <td>37.750000</td>\n      <td>R:1_P:Paddy Dow</td>\n      <td>R:1_P:Paddy Dow_MI</td>\n      <td>1</td>\n    </tr>\n    <tr>\n      <th>574</th>\n      <td>574</td>\n      <td>Dyson Heppell</td>\n      <td>566000</td>\n      <td>Bombers</td>\n      <td>MI</td>\n      <td>1</td>\n      <td>Hawks</td>\n      <td>80.555556</td>\n      <td>R:1_P:Dyson Heppell</td>\n      <td>R:1_P:Dyson Heppell_MI</td>\n      <td>1</td>\n    </tr>\n    <tr>\n      <th>315</th>\n      <td>315</td>\n      <td>Sam Powell-Pepper</td>\n      <td>558000</td>\n      <td>Power</td>\n      <td>MI</td>\n      <td>1</td>\n      <td>Kangaroos</td>\n      <td>80.250000</td>\n      <td>R:1_P:Sam Powell-Pepper</td>\n      <td>R:1_P:Sam Powell-Pepper_MI</td>\n      <td>1</td>\n    </tr>\n    <tr>\n      <th>640</th>\n      <td>640</td>\n      <td>Callan Ward</td>\n      <td>461000</td>\n      <td>Giants</td>\n      <td>MI</td>\n      <td>1</td>\n      <td>Saints</td>\n      <td>74.818182</td>\n      <td>R:1_P:Callan Ward</td>\n      <td>R:1_P:Callan Ward_MI</td>\n      <td>1</td>\n    </tr>\n    <tr>\n      <th>384</th>\n      <td>384</td>\n      <td>Ben McEvoy</td>\n      <td>477000</td>\n      <td>Hawks</td>\n      <td>RU</td>\n      <td>1</td>\n      <td>Bombers</td>\n      <td>54.181818</td>\n      <td>R:1_P:Ben McEvoy</td>\n      <td>R:1_P:Ben McEvoy_RU</td>\n      <td>1</td>\n    </tr>\n    <tr>\n      <th>145</th>\n      <td>145</td>\n      <td>Patrick Ryder</td>\n      <td>575000</td>\n      <td>Saints</td>\n      <td>RU</td>\n      <td>1</td>\n      <td>Giants</td>\n      <td>62.600000</td>\n      <td>R:1_P:Patrick Ryder</td>\n      <td>R:1_P:Patrick Ryder_RU</td>\n      <td>1</td>\n    </tr>\n    <tr>\n      <th>596</th>\n      <td>596</td>\n      <td>Shane Mumford</td>\n      <td>466000</td>\n      <td>Giants</td>\n      <td>RU</td>\n      <td>1</td>\n      <td>Saints</td>\n      <td>66.400000</td>\n      <td>R:1_P:Shane Mumford</td>\n      <td>R:1_P:Shane Mumford_RU</td>\n      <td>1</td>\n    </tr>\n  </tbody>\n</table>\n</div>"
     },
     "metadata": {},
     "execution_count": 5
    }
   ],
   "source": [
    "len(df[df['Round']==20])\n",
    "df[df['Round']==1].sort_values('Position')\n"
   ]
  },
  {
   "cell_type": "code",
   "execution_count": null,
   "metadata": {},
   "outputs": [],
   "source": [
    "df[df['Round']==1].sort_values('Position').to_csv('Round_one_selection.csv')"
   ]
  },
  {
   "cell_type": "code",
   "execution_count": 14,
   "metadata": {},
   "outputs": [],
   "source": [
    "for round_prev in range(1,max(df['Round'])-1):\n",
    "    round_next = round_prev+1\n",
    "    rp = df[df['Round']==round_prev].sort_values('Score',ascending=False)\n",
    "    rn = df[df['Round']==round_next].sort_values('Score',ascending=False)\n",
    "    assert len(rn[~(rn['Name'].isin(rp['Name']))])<=2\n",
    "    assert list(df[df['Round']==round_prev][['id']].duplicated().unique())==[False]\n",
    "    # print(len(rn[~(rn['Name'].isin(rp['Name']))]))"
   ]
  },
  {
   "cell_type": "code",
   "execution_count": 7,
   "metadata": {},
   "outputs": [
    {
     "output_type": "execute_result",
     "data": {
      "text/plain": [
       "     Unnamed: 0            Name   Price  Team 1 Position  Round     Team 2  \\\n",
       "159         159   Callum Wilkie  459000  Saints       DE     17      Lions   \n",
       "256         256  Joshua Kennedy  431000  Eagles       FO     17  Kangaroos   \n",
       "\n",
       "         Score                     id                 pl_pos_id  is_selected  \n",
       "159  59.000000   R:17_P:Callum Wilkie   R:17_P:Callum Wilkie_DE            1  \n",
       "256  54.909091  R:17_P:Joshua Kennedy  R:17_P:Joshua Kennedy_FO            1  "
      ],
      "text/html": "<div>\n<style scoped>\n    .dataframe tbody tr th:only-of-type {\n        vertical-align: middle;\n    }\n\n    .dataframe tbody tr th {\n        vertical-align: top;\n    }\n\n    .dataframe thead th {\n        text-align: right;\n    }\n</style>\n<table border=\"1\" class=\"dataframe\">\n  <thead>\n    <tr style=\"text-align: right;\">\n      <th></th>\n      <th>Unnamed: 0</th>\n      <th>Name</th>\n      <th>Price</th>\n      <th>Team 1</th>\n      <th>Position</th>\n      <th>Round</th>\n      <th>Team 2</th>\n      <th>Score</th>\n      <th>id</th>\n      <th>pl_pos_id</th>\n      <th>is_selected</th>\n    </tr>\n  </thead>\n  <tbody>\n    <tr>\n      <th>159</th>\n      <td>159</td>\n      <td>Callum Wilkie</td>\n      <td>459000</td>\n      <td>Saints</td>\n      <td>DE</td>\n      <td>17</td>\n      <td>Lions</td>\n      <td>59.000000</td>\n      <td>R:17_P:Callum Wilkie</td>\n      <td>R:17_P:Callum Wilkie_DE</td>\n      <td>1</td>\n    </tr>\n    <tr>\n      <th>256</th>\n      <td>256</td>\n      <td>Joshua Kennedy</td>\n      <td>431000</td>\n      <td>Eagles</td>\n      <td>FO</td>\n      <td>17</td>\n      <td>Kangaroos</td>\n      <td>54.909091</td>\n      <td>R:17_P:Joshua Kennedy</td>\n      <td>R:17_P:Joshua Kennedy_FO</td>\n      <td>1</td>\n    </tr>\n  </tbody>\n</table>\n</div>"
     },
     "metadata": {},
     "execution_count": 7
    }
   ],
   "source": [
    "rn[~(rn['Name'].isin(rp['Name']))]"
   ]
  }
 ]
}