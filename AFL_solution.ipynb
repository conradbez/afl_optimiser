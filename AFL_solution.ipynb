{
 "metadata": {
  "language_info": {
   "codemirror_mode": {
    "name": "ipython",
    "version": 3
   },
   "file_extension": ".py",
   "mimetype": "text/x-python",
   "name": "python",
   "nbconvert_exporter": "python",
   "pygments_lexer": "ipython3",
   "version": "3.6.12-final"
  },
  "orig_nbformat": 2,
  "kernelspec": {
   "name": "python3",
   "display_name": "Python 3",
   "language": "python"
  }
 },
 "nbformat": 4,
 "nbformat_minor": 2,
 "cells": [
  {
   "cell_type": "code",
   "execution_count": 15,
   "metadata": {},
   "outputs": [],
   "source": [
    "import pandas as pd"
   ]
  },
  {
   "cell_type": "code",
   "execution_count": 16,
   "metadata": {},
   "outputs": [],
   "source": [
    "df = pd.read_csv('solution.csv')"
   ]
  },
  {
   "cell_type": "code",
   "execution_count": 17,
   "metadata": {},
   "outputs": [
    {
     "output_type": "execute_result",
     "data": {
      "text/plain": [
       "30"
      ]
     },
     "metadata": {},
     "execution_count": 17
    }
   ],
   "source": [
    "df.groupby(['Round','Position']).sum()['is_selected']\n",
    "len(df[df['Round']==18]['Name'].unique())"
   ]
  },
  {
   "cell_type": "code",
   "execution_count": 18,
   "metadata": {},
   "outputs": [
    {
     "output_type": "execute_result",
     "data": {
      "text/plain": [
       "array(['R:1_P:Bailey Williams_RU', 'R:1_P:Deven Robertson_MI',\n",
       "       'R:1_P:Josh Jenkins_RU', 'R:1_P:Kieran Strachan_RU',\n",
       "       'R:1_P:Rhys Mathieson_MI', 'R:1_P:Thomas Hutchesson_MI',\n",
       "       'R:1_P:Max Lynch_FO', 'R:1_P:Keegan Brooksby_FO',\n",
       "       'R:1_P:Ben Jarvis_DE', 'R:1_P:Taylor Duryea_DE',\n",
       "       'R:1_P:Jack Buckley_DE', 'R:1_P:Will Walker_MI',\n",
       "       'R:1_P:Lachie Young_MI', 'R:1_P:Jordan Clark_DE',\n",
       "       'R:1_P:Lin Jong_FO', 'R:1_P:Tom Fullarton_FO',\n",
       "       'R:1_P:Josh Honey_FO', \"R:1_P:Xavier O'Neill_MI\",\n",
       "       'R:1_P:Joel Amartey_FO', 'R:1_P:Brayden Ainsworth_FO',\n",
       "       'R:1_P:Roarke Smith_MI', 'R:1_P:Luke Foley_DE',\n",
       "       'R:1_P:Lachlan Sholl_DE', 'R:1_P:Orazio Fantasia_DE',\n",
       "       'R:1_P:Dustin Martin_MI', 'R:1_P:Paddy Dow_MI',\n",
       "       'R:1_P:Bailey Scott_MI', 'R:1_P:Isaac Smith_FO',\n",
       "       'R:1_P:Shai Bolton_FO', 'R:1_P:Adam Tomlinson_DE'], dtype=object)"
      ]
     },
     "metadata": {},
     "execution_count": 18
    }
   ],
   "source": [
    "df[df['Round']==1]['pl_pos_id'].unique()"
   ]
  },
  {
   "cell_type": "code",
   "execution_count": 24,
   "metadata": {},
   "outputs": [
    {
     "output_type": "execute_result",
     "data": {
      "text/plain": [
       "     Unnamed: 0  Round   Team 1  Team 2  Year      Score                 Name  \\\n",
       "538         538      2     Cats   Hawks  2020  94.000000  Patrick Dangerfield   \n",
       "528         528      2  Magpies  Tigers  2020  83.000000    Steele Sidebottom   \n",
       "418         418      2    Blues  Demons  2020  61.641558      Matthew Kennedy   \n",
       "379         379      2     Cats   Hawks  2020  50.455263         Zach Guthrie   \n",
       "487         487      2   Eagles    Suns  2020  46.000000       Jarrod Brander   \n",
       "\n",
       "        Team Position   Price                         id  Round_prev  \\\n",
       "538     Cats       MI  780000  R:2_P:Patrick Dangerfield           1   \n",
       "528  Magpies       MI  841000    R:2_P:Steele Sidebottom           1   \n",
       "418    Blues       MI  570000      R:2_P:Matthew Kennedy           1   \n",
       "379     Cats       DE  338000         R:2_P:Zach Guthrie           1   \n",
       "487   Eagles       MI  448000       R:2_P:Jarrod Brander           1   \n",
       "\n",
       "                        pl_pos_id  is_selected  \n",
       "538  R:2_P:Patrick Dangerfield_MI            1  \n",
       "528    R:2_P:Steele Sidebottom_MI            1  \n",
       "418      R:2_P:Matthew Kennedy_MI            1  \n",
       "379         R:2_P:Zach Guthrie_DE            1  \n",
       "487       R:2_P:Jarrod Brander_MI            1  "
      ],
      "text/html": "<div>\n<style scoped>\n    .dataframe tbody tr th:only-of-type {\n        vertical-align: middle;\n    }\n\n    .dataframe tbody tr th {\n        vertical-align: top;\n    }\n\n    .dataframe thead th {\n        text-align: right;\n    }\n</style>\n<table border=\"1\" class=\"dataframe\">\n  <thead>\n    <tr style=\"text-align: right;\">\n      <th></th>\n      <th>Unnamed: 0</th>\n      <th>Round</th>\n      <th>Team 1</th>\n      <th>Team 2</th>\n      <th>Year</th>\n      <th>Score</th>\n      <th>Name</th>\n      <th>Team</th>\n      <th>Position</th>\n      <th>Price</th>\n      <th>id</th>\n      <th>Round_prev</th>\n      <th>pl_pos_id</th>\n      <th>is_selected</th>\n    </tr>\n  </thead>\n  <tbody>\n    <tr>\n      <th>538</th>\n      <td>538</td>\n      <td>2</td>\n      <td>Cats</td>\n      <td>Hawks</td>\n      <td>2020</td>\n      <td>94.000000</td>\n      <td>Patrick Dangerfield</td>\n      <td>Cats</td>\n      <td>MI</td>\n      <td>780000</td>\n      <td>R:2_P:Patrick Dangerfield</td>\n      <td>1</td>\n      <td>R:2_P:Patrick Dangerfield_MI</td>\n      <td>1</td>\n    </tr>\n    <tr>\n      <th>528</th>\n      <td>528</td>\n      <td>2</td>\n      <td>Magpies</td>\n      <td>Tigers</td>\n      <td>2020</td>\n      <td>83.000000</td>\n      <td>Steele Sidebottom</td>\n      <td>Magpies</td>\n      <td>MI</td>\n      <td>841000</td>\n      <td>R:2_P:Steele Sidebottom</td>\n      <td>1</td>\n      <td>R:2_P:Steele Sidebottom_MI</td>\n      <td>1</td>\n    </tr>\n    <tr>\n      <th>418</th>\n      <td>418</td>\n      <td>2</td>\n      <td>Blues</td>\n      <td>Demons</td>\n      <td>2020</td>\n      <td>61.641558</td>\n      <td>Matthew Kennedy</td>\n      <td>Blues</td>\n      <td>MI</td>\n      <td>570000</td>\n      <td>R:2_P:Matthew Kennedy</td>\n      <td>1</td>\n      <td>R:2_P:Matthew Kennedy_MI</td>\n      <td>1</td>\n    </tr>\n    <tr>\n      <th>379</th>\n      <td>379</td>\n      <td>2</td>\n      <td>Cats</td>\n      <td>Hawks</td>\n      <td>2020</td>\n      <td>50.455263</td>\n      <td>Zach Guthrie</td>\n      <td>Cats</td>\n      <td>DE</td>\n      <td>338000</td>\n      <td>R:2_P:Zach Guthrie</td>\n      <td>1</td>\n      <td>R:2_P:Zach Guthrie_DE</td>\n      <td>1</td>\n    </tr>\n    <tr>\n      <th>487</th>\n      <td>487</td>\n      <td>2</td>\n      <td>Eagles</td>\n      <td>Suns</td>\n      <td>2020</td>\n      <td>46.000000</td>\n      <td>Jarrod Brander</td>\n      <td>Eagles</td>\n      <td>MI</td>\n      <td>448000</td>\n      <td>R:2_P:Jarrod Brander</td>\n      <td>1</td>\n      <td>R:2_P:Jarrod Brander_MI</td>\n      <td>1</td>\n    </tr>\n  </tbody>\n</table>\n</div>"
     },
     "metadata": {},
     "execution_count": 24
    }
   ],
   "source": [
    "r1 = df[df['Round']==1].sort_values('Score',ascending=False)\n",
    "r2 = df[df['Round']==2].sort_values('Score',ascending=False)\n",
    "r2[~(r2['Name'].isin(r1['Name']))]"
   ]
  },
  {
   "cell_type": "code",
   "execution_count": null,
   "metadata": {},
   "outputs": [],
   "source": []
  }
 ]
}