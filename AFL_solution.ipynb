{
 "metadata": {
  "language_info": {
   "codemirror_mode": {
    "name": "ipython",
    "version": 3
   },
   "file_extension": ".py",
   "mimetype": "text/x-python",
   "name": "python",
   "nbconvert_exporter": "python",
   "pygments_lexer": "ipython3",
   "version": "3.8.2-final"
  },
  "orig_nbformat": 2,
  "kernelspec": {
   "name": "python3",
   "display_name": "Python 3",
   "language": "python"
  }
 },
 "nbformat": 4,
 "nbformat_minor": 2,
 "cells": [
  {
   "cell_type": "code",
   "execution_count": 11,
   "metadata": {},
   "outputs": [],
   "source": [
    "import pandas as pd"
   ]
  },
  {
   "cell_type": "code",
   "execution_count": 26,
   "metadata": {},
   "outputs": [],
   "source": [
    "df = pd.read_csv('solution.csv')"
   ]
  },
  {
   "cell_type": "code",
   "execution_count": 27,
   "metadata": {},
   "outputs": [],
   "source": [
    "# df.groupby(['Round','Position']).sum()['is_selected']\n",
    "# len(df[df['Round']==18]['Name'].unique())"
   ]
  },
  {
   "cell_type": "code",
   "execution_count": 28,
   "metadata": {},
   "outputs": [
    {
     "output_type": "execute_result",
     "data": {
      "text/plain": [
       "array(['R:1_P:Bailey Williams_RU', 'R:1_P:Jonathon Patton_FO',\n",
       "       'R:1_P:Lin Jong_MI', 'R:1_P:Deven Robertson_MI',\n",
       "       'R:1_P:Ed Richards_MI', 'R:1_P:Ryan Gardner_DE',\n",
       "       'R:1_P:Joel Smith_DE', 'R:1_P:Jarrod Brander_MI',\n",
       "       'R:1_P:Toby Bedford_FO', 'R:1_P:Kyle Langford_FO',\n",
       "       'R:1_P:Jye Caldwell_MI', 'R:1_P:Isaac Smith_FO',\n",
       "       'R:1_P:Sam Sturt_FO', 'R:1_P:Adam Tomlinson_DE',\n",
       "       'R:1_P:Steele Sidebottom_MI', 'R:1_P:Michael Walters_FO',\n",
       "       'R:1_P:Aiden Bonar_DE', 'R:1_P:Brett Bewley_MI',\n",
       "       'R:1_P:Jordan Clark_DE', 'R:1_P:Thomas Berry_FO',\n",
       "       'R:1_P:Rory Lobb_RU', 'R:1_P:Paddy Dow_FO',\n",
       "       'R:1_P:Dylan Roberton_DE', 'R:1_P:Dustin Martin_MI',\n",
       "       'R:1_P:Tom Scully_MI', 'R:1_P:Fischer McAsey_DE',\n",
       "       'R:1_P:Orazio Fantasia_DE', 'R:1_P:Shai Bolton_MI',\n",
       "       'R:1_P:Laitham Vandermeer_FO', 'R:1_P:Rowan Marshall_RU'],\n",
       "      dtype=object)"
      ]
     },
     "metadata": {},
     "execution_count": 28
    }
   ],
   "source": [
    "df[df['Round']==1]['pl_pos_id'].unique()"
   ]
  },
  {
   "cell_type": "code",
   "execution_count": 29,
   "metadata": {},
   "outputs": [
    {
     "output_type": "stream",
     "name": "stdout",
     "text": [
      "4\n4\n0\n0\n0\n0\n0\n0\n0\n0\n0\n0\n0\n0\n0\n0\n"
     ]
    }
   ],
   "source": [
    "for round_prev in range(1,17):\n",
    "    round_next = round_prev+1\n",
    "    rp = df[df['Round']==round_prev].sort_values('Score',ascending=False)\n",
    "    rn = df[df['Round']==round_next].sort_values('Score',ascending=False)\n",
    "    print(len(rn[~(rn['Name'].isin(rp['Name']))]))\n"
   ]
  },
  {
   "cell_type": "code",
   "execution_count": 21,
   "metadata": {},
   "outputs": [
    {
     "output_type": "execute_result",
     "data": {
      "text/plain": [
       "Empty DataFrame\n",
       "Columns: [Unnamed: 0, Round, Team 1, Team 2, Year, Score, Name, Team, Position, Price, id, Round_prev, pl_pos_id, is_selected_x, is_selected_y]\n",
       "Index: []"
      ],
      "text/html": "<div>\n<style scoped>\n    .dataframe tbody tr th:only-of-type {\n        vertical-align: middle;\n    }\n\n    .dataframe tbody tr th {\n        vertical-align: top;\n    }\n\n    .dataframe thead th {\n        text-align: right;\n    }\n</style>\n<table border=\"1\" class=\"dataframe\">\n  <thead>\n    <tr style=\"text-align: right;\">\n      <th></th>\n      <th>Unnamed: 0</th>\n      <th>Round</th>\n      <th>Team 1</th>\n      <th>Team 2</th>\n      <th>Year</th>\n      <th>Score</th>\n      <th>Name</th>\n      <th>Team</th>\n      <th>Position</th>\n      <th>Price</th>\n      <th>id</th>\n      <th>Round_prev</th>\n      <th>pl_pos_id</th>\n      <th>is_selected_x</th>\n      <th>is_selected_y</th>\n    </tr>\n  </thead>\n  <tbody>\n  </tbody>\n</table>\n</div>"
     },
     "metadata": {},
     "execution_count": 21
    }
   ],
   "source": [
    "rn[~(rn['Name'].isin(rp['Name']))]"
   ]
  },
  {
   "cell_type": "code",
   "execution_count": null,
   "metadata": {},
   "outputs": [],
   "source": []
  }
 ]
}