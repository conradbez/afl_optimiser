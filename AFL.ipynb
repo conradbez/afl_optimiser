{
  "nbformat": 4,
  "nbformat_minor": 0,
  "metadata": {
    "colab": {
      "name": "AFL.ipynb",
      "provenance": [],
      "collapsed_sections": []
    },
    "kernelspec": {
      "name": "python3",
      "display_name": "Python 3",
      "language": "python"
    }
  },
  "cells": [
    {
      "cell_type": "code",
      "metadata": {
        "id": "c8cfL_UgRZhj"
      },
      "source": [
        "# !pip install pyomo\n",
        "# !pip install --upgrade --user ortools\n",
        "# !apt-get install -y glpk-utils\n",
        "# !sudo apt-get update -y\n",
        "# !sudo apt-get install -y coinor-cbc"
      ],
      "execution_count": 2,
      "outputs": []
    },
    {
      "cell_type": "code",
      "execution_count": 18,
      "metadata": {},
      "outputs": [],
      "source": [
        "# !pip install -U git+https://github.com/coin-or/pulp\n",
        "# !sudo pulptest\n",
        "# !pip install pandas"
      ]
    },
    {
      "cell_type": "code",
      "metadata": {
        "id": "sy6uwTvL0rQs"
      },
      "source": [
        "import pandas as pd\n",
        "from pulp import *\n",
        "full_player_scores = pd.read_csv('full_players.csv', index_col=0)\n",
        "full_player_scores = full_player_scores.reset_index(drop=True)\n",
        "full_player_scores['Score'] = pd.to_numeric(full_player_scores['Score'], errors='coerce')\n",
        "# full_player_scores['Value'] = full_player_scores['Score']/full_player_scores['Price']\n",
        "\n",
        "full_player_scores_2021 = full_player_scores[full_player_scores['Year']==2021]\n",
        "full_player_scores = full_player_scores[full_player_scores['Year']==2020]\n",
        "\n",
        "# Only keep players who are playing this season\n",
        "full_player_scores[full_player_scores['Name'].isin(full_player_scores_2021['Name'].unique())].dropna(how='all').dropna(how='all')\n",
        "\n",
        "\n",
        "# full_player_scores = full_player_scores[full_player_scores.isin(full_player_scores_2021['Name'].unique())]['Name'].dropna(how='all')\n",
        "\n",
        "player_num_games_played = full_player_scores[full_player_scores['Score']>0].groupby('Name')['Team 2'].transform('count')\n",
        "\n",
        "opponent_average_score = full_player_scores.groupby('Team 2')['Score'].transform('mean')\n",
        "player_average_score = full_player_scores.groupby('Name')['Score'].transform('mean')\n",
        "player_average_value = player_average_score/full_player_scores['Price']\n",
        "\n",
        "na_locs = full_player_scores['Score'].isna()\n",
        "\n",
        "full_player_scores.loc[na_locs,'Score'] = ((opponent_average_score+player_average_score)/2).loc[na_locs]\n",
        "\n",
        "\n",
        "RU_Players = full_player_scores[(full_player_scores['Year']==2020)]\n",
        "\n",
        "RU_Players = RU_Players.sort_values('Score',ascending=False)\n",
        "RU_Players['id'] = \"Round:\"+RU_Players['Round'].astype(str)+\"_Player:\"+RU_Players['Name']\n",
        "\n",
        "\n",
        "# Only take players who played more than 5 games\n",
        "print(len(RU_Players['Name'].unique()))\n",
        "players_to_keep = player_num_games_played[player_num_games_played>5].index.values\n",
        "RU_Players = RU_Players.reindex(index=players_to_keep).dropna(how='all')\n",
        "print(len(RU_Players['Name'].unique()))\n",
        "\n",
        "\n",
        "# Only take players in top quater of average values (score/price)\n",
        "# player_best_values = player_average_value.sort_values(ascending=False)[:int(len(player_average_value)/2)]\n",
        "# RU_Players = RU_Players.reindex(index=player_best_values.index.values).dropna(how='all') \n",
        "# print(len(RU_Players['Name'].unique()))\n",
        "\n",
        "# RU_Players = RU_Players[RU_Players['Round']<4]\n",
        "# RU_Players = RU_Players.head(40)\n",
        "RU_Players.groupby('Position').count()['Name']"
      ],
      "execution_count": 20,
      "outputs": [
        {
          "output_type": "stream",
          "name": "stdout",
          "text": [
            "652\n501\n"
          ]
        },
        {
          "output_type": "execute_result",
          "data": {
            "text/plain": [
              "Position\n",
              "DE    2327\n",
              "FO    2388\n",
              "MI    2271\n",
              "RU     397\n",
              "Name: Name, dtype: int64"
            ]
          },
          "metadata": {},
          "execution_count": 20
        }
      ]
    },
    {
      "cell_type": "code",
      "metadata": {
        "colab": {
          "base_uri": "https://localhost:8080/"
        },
        "id": "3yLWwxpJ48TW",
        "outputId": "8b83ef68-43c6-48c6-ea54-0ba9b6d7c9e2",
        "tags": []
      },
      "source": [
        "player_contraints = {}\n",
        "prob = LpProblem(\"aflProblem\", LpMaximize)\n",
        "overall_score = LpVariable('OverallScore',0)\n",
        "for p_id,score in zip(RU_Players['id'].iteritems(),RU_Players['Score'].iteritems()):\n",
        "  p_id = p_id[1]\n",
        "  player_contraints[p_id] = LpVariable(p_id, 0, 1, cat='Binary')\n",
        "\n",
        "player_contraints = LpVariable.dicts(\"player_contraints\", player_contraints, 0, 1, cat='Binary')\n",
        "prob += lpSum([player_contraints[p_id[1]]*score[1] for p_id,score in zip(RU_Players['id'].iteritems(),RU_Players['Score'].iteritems())]), \"Total score is maximized\"\n",
        "\n",
        "# START TRANFERS\n",
        "RU_Players_prev_round = RU_Players\n",
        "RU_Players_prev_round['Round_prev'] = RU_Players_prev_round['Round'] - 1\n",
        "\n",
        "RU_transfers = RU_Players[['id','Position','Round','Name']].merge(RU_Players_prev_round[['id','Position','Round_prev','Name']],left_on=['Position','Round'],right_on=['Position','Round_prev'], suffixes = ('_prev','_next'))\n",
        "RU_transfers['Transfer'] = RU_transfers['id_prev']+'->'+RU_transfers['id_next']\n",
        "\n",
        "transfer_contraints = {}\n",
        "\n",
        "# Define transfer itermediaries\n",
        "for i,t_id in RU_transfers['Transfer'].iteritems():\n",
        "  transfer_contraints[t_id] = LpVariable(t_id, 0, 1, cat='Binary')\n",
        "\n",
        "transfer_contraints = LpVariable.dicts(\"transfer_contraints\", transfer_contraints, 0, 1, cat='Binary')\n",
        "\n",
        "# map rounds end to itermediary\n",
        "for prev_player,trans in RU_transfers.groupby(['id_prev'])['Transfer'].apply(list).iteritems():\n",
        "  prob += lpSum([transfer_contraints[t_id] for t_id in trans]) == player_contraints[prev_player], f\"Previous player equals transfer intermediatary for {prev_player} equals {trans}\"\n",
        "\n",
        "# map intermediary to next round\n",
        "for next_player,trans in RU_transfers.groupby(['id_next'])['Transfer'].apply(list).iteritems():\n",
        "  prob += lpSum([transfer_contraints[t_id] for t_id in trans]) == player_contraints[next_player], f\"Next player equals transfer intermediatary for {next_player} equals {trans}\"\n",
        "\n",
        "for round, transfers in RU_transfers[RU_transfers['Name_prev'] != RU_transfers['Name_next']][['Round','Transfer']].drop_duplicates().groupby(['Round'])['Transfer'].apply(list).iteritems():\n",
        "  prob += lpSum([transfer_contraints[t_id] for t_id in transfers]) <= 4, f\"Round: {round}, has less than or equal to 4 transfers\"\n",
        "# END TRANFERS\n",
        "\n",
        "# START money contraint\n",
        "money = 13 * 10**6\n",
        "for round,player in RU_Players[['id','Price','Round']].drop_duplicates().groupby(['Round'])['id'].apply(list).iteritems():\n",
        "  prob += lpSum([player_contraints[p_id]*RU_Players[RU_Players['id']==p_id]['Price'].values[0] for p_id in player]) <= money, f\"Round: {round}, has less than ${money}\"\n",
        "# END money contraint\n",
        "\n",
        "#START Contrain each player to a single position per round\n",
        "RU_Players_Position_Casting = RU_Players.copy()\n",
        "RU_Players_Position_Casting['pl_pos_id'] = (RU_Players['id']+'_'+RU_Players['Position'])\n",
        "\n",
        "Players_Position_Casting_Series = RU_Players_Position_Casting[['id','pl_pos_id','Round']].drop_duplicates().groupby(['id' ])['pl_pos_id'].apply(list).iteritems()\n",
        "\n",
        "Players_Position_Casting = {}\n",
        "for i,r in RU_Players_Position_Casting[['pl_pos_id']].drop_duplicates().iterrows():\n",
        "  Players_Position_Casting[r['pl_pos_id']] = LpVariable(r['pl_pos_id'], 0, 1, cat='Binary')\n",
        "\n",
        "for p_id, pl_pos_ids in Players_Position_Casting_Series:\n",
        "    player_possible_positions = [Players_Position_Casting[pl_pos_id] for pl_pos_id  in pl_pos_ids] \n",
        "    prob += lpSum(player_possible_positions) == player_contraints[p_id], f\"Must have only have equal to {p_id} (0 or 1) of {player_possible_positions} positions in round\"\n",
        "#END Contrain each player to a single position per round\n",
        "\n",
        "# START max players from each position\n",
        "allowed_holds_per_position = {'DE': 8, \"MI\" : 10, 'RU' : 3, 'FO':9}\n",
        "\n",
        "for (position,round), pl_pos_ids in RU_Players_Position_Casting[['pl_pos_id','Position','Round']].drop_duplicates().groupby(['Position', 'Round'])['pl_pos_id'].apply(list).iteritems():\n",
        "  prob += lpSum([Players_Position_Casting[pl_pos_id] for pl_pos_id in pl_pos_ids]) >= allowed_holds_per_position[position], f\"Position: {position}, has less than {allowed_holds_per_position[position]} in round {round}\"\n",
        "\n",
        "# END max players from each position\n",
        "\n",
        "print('done with pre-work')"
      ],
      "execution_count": 13,
      "outputs": [
        {
          "output_type": "stream",
          "name": "stdout",
          "text": [
            "done with pre-work\n"
          ]
        }
      ]
    },
    {
      "cell_type": "code",
      "execution_count": 19,
      "metadata": {},
      "outputs": [
        {
          "output_type": "stream",
          "name": "stdout",
          "text": [
            "Previous player equals transfer intermediatary for Round:2_Player:Zachary Williams equals ['Round:2_Player:David Astbury->Round:3_Player:Zachary Williams', 'Round:2_Player:Heath Shaw->Round:3_Player:Zachary Williams', 'Round:2_Player:Lewis Jetta->Round:3_Player:Zachary Williams', 'Round:2_Player:Joel Smith->Round:3_Player:Zachary Williams', 'Round:2_Player:Jed Bews->Round:3_Player:Zachary Williams', 'Round:2_Player:Jasper Pittard->Round:3_Player:Zachary Williams', 'Round:2_Player:Benjamin Stratton->Round:3_Player:Zachary Williams', 'Round:2_Player:Kyron Hayden->Round:3_Player:Zachary Williams', 'Round:2_Player:Brandon Starcevich->Round:3_Player:Zachary Williams', 'Round:2_Player:Dan Houston->Round:3_Player:Zachary Williams', 'Round:2_Player:Kade Simpson->Round:3_Player:Zachary Williams', 'Round:2_Player:Darcy Byrne-Jones->Round:3_Player:Zachary Williams', 'Round:2_Player:Harry Taylor->Round:3_Player:Zachary Williams', 'Round:2_Player:Callum Ah Chee->Round:3_Player:Zachary Williams', 'Round:2_Player:Jackson Nelson->Round:3_Player:Zachary Williams', 'Round:2_Player:Daniel Rich->Round:3_Player:Zachary Williams', 'Round:2_Player:Jamie MacMillan->Round:3_Player:Zachary Williams', 'Round:2_Player:Trent Rivers->Round:3_Player:Zachary Williams', 'Round:2_Player:Tom Doedee->Round:3_Player:Zachary Williams', 'Round:2_Player:Aaron Francis->Round:3_Player:Zachary Williams', 'Round:2_Player:Ryan Burton->Round:3_Player:Zachary Williams', 'Round:2_Player:Shannon Hurn->Round:3_Player:Zachary Williams', 'Round:2_Player:Pearce Hanley->Round:3_Player:Zachary Williams', 'Round:2_Player:Jayden Short->Round:3_Player:Zachary Williams', 'Round:2_Player:Jack Crisp->Round:3_Player:Zachary Williams', 'Round:2_Player:Nick Vlastuin->Round:3_Player:Zachary Williams', 'Round:2_Player:Grant Birchall->Round:3_Player:Zachary Williams', 'Round:2_Player:Hayden Crozier->Round:3_Player:Zachary Williams', 'Round:2_Player:Alex Keath->Round:3_Player:Zachary Williams', 'Round:2_Player:Liam Baker->Round:3_Player:Zachary Williams', 'Round:2_Player:Ben Long->Round:3_Player:Zachary Williams', 'Round:2_Player:Thomas Stewart->Round:3_Player:Zachary Williams', 'Round:2_Player:Liam Duggan->Round:3_Player:Zachary Williams', 'Round:2_Player:Bradley Sheppard->Round:3_Player:Zachary Williams', 'Round:2_Player:Lachie Whitfield->Round:3_Player:Zachary Williams', 'Round:2_Player:Hunter Clark->Round:3_Player:Zachary Williams', 'Round:2_Player:Caleb Daniel->Round:3_Player:Zachary Williams', 'Round:2_Player:Dylan Grimes->Round:3_Player:Zachary Williams', 'Round:2_Player:Harris Andrews->Round:3_Player:Zachary Williams', 'Round:2_Player:Sam Docherty->Round:3_Player:Zachary Williams', 'Round:2_Player:James Frawley->Round:3_Player:Zachary Williams', 'Round:2_Player:Robbie Tarrant->Round:3_Player:Zachary Williams', 'Round:2_Player:Blake Hardwick->Round:3_Player:Zachary Williams', 'Round:2_Player:Harry Cunningham->Round:3_Player:Zachary Williams', 'Round:2_Player:Sam Petrevski-Seton->Round:3_Player:Zachary Williams', 'Round:2_Player:Christian Salem->Round:3_Player:Zachary Williams', 'Round:2_Player:Shaun Atley->Round:3_Player:Zachary Williams', 'Round:2_Player:Tom Clurey->Round:3_Player:Zachary Williams', 'Round:2_Player:Aidan Corr->Round:3_Player:Zachary Williams', 'Round:2_Player:Jeremy McGovern->Round:3_Player:Zachary Williams', 'Round:2_Player:Steven May->Round:3_Player:Zachary Williams', 'Round:2_Player:Adam Tomlinson->Round:3_Player:Zachary Williams', 'Round:2_Player:Zachary Williams->Round:3_Player:Zachary Williams', 'Round:2_Player:Charlie Ballard->Round:3_Player:Zachary Williams', 'Round:2_Player:Jake Lever->Round:3_Player:Zachary Williams', 'Round:2_Player:James Harmes->Round:3_Player:Zachary Williams']\n"
          ]
        }
      ],
      "source": [
        "# print(f\"Previous player equals transfer intermediatary for {prev_player} equals {trans}\")"
      ]
    },
    {
      "cell_type": "code",
      "metadata": {
        "colab": {
          "base_uri": "https://localhost:8080/"
        },
        "id": "l-HWpbAuTL_T",
        "outputId": "d7bb891d-552e-47d9-bdb9-d17b20102925"
      },
      "source": [
        "# prob.solve(pulp.PULP_CBC_CMD(msg=True, maxSeconds=200))\n",
        "solver = getSolver('COIN_CMD', maxSeconds=200, msg=True,gapRel = 0.15, threads=100)\n",
        "prob.solve(solver)"
      ],
      "execution_count": 14,
      "outputs": [
        {
          "output_type": "execute_result",
          "data": {
            "text/plain": [
              "1"
            ]
          },
          "metadata": {},
          "execution_count": 14
        }
      ]
    },
    {
      "cell_type": "code",
      "execution_count": 15,
      "metadata": {},
      "outputs": [],
      "source": [
        "results = []\n",
        "for player_position in Players_Position_Casting.values():\n",
        "    if player_position.value() != 0:\n",
        "        results.append([player_position.name,1])\n",
        "Players_selected = pd.DataFrame(results, columns=['pl_pos_id', 'is_selected'])\n",
        "RU_Players_Position_Casting['pl_pos_id'] = RU_Players_Position_Casting['pl_pos_id'].str.replace(' ', '_')\n",
        "RU_Players_Position_Casting = RU_Players_Position_Casting.merge(Players_selected, on = ['pl_pos_id'])\n",
        "RU_Players_Position_Casting.to_csv('solution.csv')"
      ]
    },
    {
      "cell_type": "code",
      "execution_count": 17,
      "metadata": {},
      "outputs": [],
      "source": [
        "for round in RU_Players_Position_Casting['Round'].unique():\n",
        "    assert RU_Players_Position_Casting[RU_Players_Position_Casting['Round']==round]['is_selected'].sum()"
      ]
    },
    {
      "cell_type": "code",
      "execution_count": 6,
      "metadata": {},
      "outputs": [],
      "source": []
    },
    {
      "cell_type": "code",
      "execution_count": null,
      "metadata": {},
      "outputs": [],
      "source": []
    }
  ]
}