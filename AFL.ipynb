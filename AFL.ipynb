{
  "nbformat": 4,
  "nbformat_minor": 0,
  "metadata": {
    "colab": {
      "name": "AFL.ipynb",
      "provenance": [],
      "collapsed_sections": []
    },
    "kernelspec": {
      "name": "python3",
      "display_name": "Python 3",
      "language": "python"
    }
  },
  "cells": [
    {
      "cell_type": "code",
      "execution_count": 19,
      "metadata": {},
      "outputs": [
        {
          "output_type": "stream",
          "name": "stdout",
          "text": [
            "Traceback (most recent call last):\n  File \"/Users/conrad/miniconda3/envs/conrad/bin/jupyter\", line 11, in <module>\n    sys.exit(main())\n  File \"/Users/conrad/miniconda3/envs/conrad/lib/python3.6/site-packages/jupyter_core/command.py\", line 285, in main\n    command = _jupyter_abspath(subcommand)\n  File \"/Users/conrad/miniconda3/envs/conrad/lib/python3.6/site-packages/jupyter_core/command.py\", line 125, in _jupyter_abspath\n    'Jupyter command `{}` not found.'.format(jupyter_subcommand)\nException: Jupyter command `jupyter-nbconvert` not found.\n"
          ]
        }
      ],
      "source": [
        "# !jupyter nbconvert --to script AFL.ipynb"
      ]
    },
    {
      "cell_type": "code",
      "metadata": {
        "id": "c8cfL_UgRZhj"
      },
      "source": [
        "# !pip install pyomo\n",
        "# !pip install --upgrade --user ortools\n",
        "# !apt-get install -y glpk-utils\n",
        "# !sudo apt-get update -y\n",
        "# !sudo apt-get install -y coinor-cbc"
      ],
      "execution_count": 2,
      "outputs": []
    },
    {
      "cell_type": "code",
      "execution_count": 1,
      "metadata": {},
      "outputs": [],
      "source": [
        "# !pip install -U git+https://github.com/coin-or/pulp\n",
        "# !sudo pulptest\n",
        "# !pip install pandas"
      ]
    },
    {
      "cell_type": "code",
      "execution_count": 4,
      "metadata": {},
      "outputs": [],
      "source": [
        "def test1(test_df):\n",
        "    assert len(test_df[test_df['Name'].isna()])==0\n",
        "    for r in test_df['Round'].unique():\n",
        "        names = test_df[test_df['Round']==r]['Name'].unique()\n",
        "        try:    \n",
        "            assert len(test_df[~(test_df['Name'].isin(names))])==0\n",
        "        except AssertionError:\n",
        "            # print(r)\n",
        "            # print(test_df[~(test_df['Name'].isin(names))])\n",
        "            assert len(test_df[~(test_df['Name'].isin(names))])==0"
      ]
    },
    {
      "cell_type": "code",
      "metadata": {
        "id": "sy6uwTvL0rQs"
      },
      "source": [
        "import numpy as np\n",
        "import pandas as pd\n",
        "from pulp import *\n",
        "full_player_scores = pd.read_csv('full_players.csv', index_col=0)\n",
        "full_player_scores.dropna(subset=['Name'])\n",
        "full_player_scores = full_player_scores.reset_index(drop=True)\n",
        "full_player_scores['Score'] = pd.to_numeric(full_player_scores['Score'], errors='coerce')\n",
        "\n",
        "# testfilter\n",
        "full_player_scores = full_player_scores[full_player_scores['Round']<4]\n",
        "# players_to_keep = [\"Adam Tomlinson\", \"Max Gawn\"]\n",
        "# players_to_keep = full_player_scores.head(30)['Name'].unique()\n",
        "# full_player_scores = full_player_scores[full_player_scores['Name'].isin(players_to_keep)]\n",
        "\n",
        "\n",
        "full_player_scores_2021 = full_player_scores[full_player_scores['Year']==2021]\n",
        "full_player_scores = full_player_scores[full_player_scores['Year']==2020]\n",
        "\n",
        "# Only keep players who are playing this season\n",
        "full_player_scores = full_player_scores[full_player_scores['Name'].isin(full_player_scores_2021['Name'].unique())].dropna(how='all').dropna(how='all')\n",
        "\n",
        "df = full_player_scores.copy()\n",
        "\n",
        "df1 = df[['Name','Team','Position','Price', 'Team 1','Year']].drop_duplicates()\n",
        "df2 = df[['Round']].drop_duplicates()\n",
        "df1['key'] = 0\n",
        "df2['key'] = 0\n",
        "df = df1.merge(df2, how='outer', on=['key'])\n",
        "df = df.sort_values('Round')\n",
        "df = df.drop('key', axis=1)\n",
        "full_player_scores = full_player_scores.merge(df, on=['Name', 'Team', 'Position','Round','Price', 'Team 1','Year'],how='right').reset_index(drop=True)\n",
        "try:\n",
        "    test1(full_player_scores)\n",
        "except AssertionError:\n",
        "    print('WARNING: failed a test')\n",
        "\n",
        "\n",
        "player_num_games_played = full_player_scores[full_player_scores['Score']>0].groupby('Name')['Team 2'].transform('count')\n",
        "\n",
        "opponent_average_score = full_player_scores.groupby('Team 2')['Score'].transform('mean')\n",
        "player_average_score = full_player_scores.groupby('Name')['Score'].transform('mean')\n",
        "player_average_value = player_average_score/full_player_scores['Price']\n",
        "\n",
        "na_locs = full_player_scores['Score'].isna()\n",
        "\n",
        "full_player_scores.loc[na_locs,'Score'] = ((opponent_average_score+player_average_score)/2).loc[na_locs]\n",
        "\n",
        "na_locs = full_player_scores['Score'].isna()\n",
        "\n",
        "full_player_scores.loc[na_locs,'Score'] = (player_average_score).loc[na_locs]\n",
        "\n",
        "RU_Players = full_player_scores.copy()\n",
        "\n",
        "assert list(full_player_scores['Year'].unique())==[2020]\n",
        "\n",
        "RU_Players = RU_Players.sort_values('Score',ascending=False)\n",
        "\n",
        "RU_Players = full_player_scores.copy()\n",
        "\n",
        "assert list(full_player_scores['Year'].unique())==[2020]\n",
        "\n",
        "RU_Players = RU_Players.sort_values('Score',ascending=False)\n",
        "RU_Players['id'] = \"R:\"+RU_Players['Round'].astype(str)+\"_P:\"+RU_Players['Name']\n",
        "\n",
        "# Only take players who played more than 5 games\n",
        "# players_to_keep = player_num_games_played[player_num_games_played>5].index.values\n",
        "# RU_Players = RU_Players.reindex(index=players_to_keep).dropna(how='all')\n",
        "\n",
        "# Only take players in top quater of average values (score/price)\n",
        "player_best_values = player_average_value.sort_values(ascending=False)[:int(len(player_average_value)/2)]\n",
        "RU_Players = RU_Players.reindex(index=player_best_values.index.values).dropna(how='all') \n",
        "\n",
        "try:\n",
        "    test1(RU_Players)\n",
        "except AssertionError:\n",
        "    print('WARNING: failed a test')\n",
        "\n",
        "RU_Players.groupby(['Round','Position']).count()"
      ],
      "execution_count": 52,
      "outputs": [
        {
          "output_type": "execute_result",
          "data": {
            "text/plain": [
              "                Team 1  Team 2  Year  Score  Name  Team  Price   id\n",
              "Round Position                                                     \n",
              "1     DE            97      97    97     97    97    97     97   97\n",
              "      FO           108     108   108    108   108   108    108  108\n",
              "      MI           101     101   101    101   101   101    101  101\n",
              "      RU            19      19    19     19    19    19     19   19\n",
              "2     DE            97      97    97     97    97    97     97   97\n",
              "      FO           108     108   108    108   108   108    108  108\n",
              "      MI           101     101   101    101   101   101    101  101\n",
              "      RU            19      19    19     19    19    19     19   19\n",
              "3     DE            97      82    97     97    97    97     97   97\n",
              "      FO           108      96   108    108   108   108    108  108\n",
              "      MI           101      89   101    101   101   101    101  101\n",
              "      RU            19      18    19     19    19    19     19   19"
            ],
            "text/html": "<div>\n<style scoped>\n    .dataframe tbody tr th:only-of-type {\n        vertical-align: middle;\n    }\n\n    .dataframe tbody tr th {\n        vertical-align: top;\n    }\n\n    .dataframe thead th {\n        text-align: right;\n    }\n</style>\n<table border=\"1\" class=\"dataframe\">\n  <thead>\n    <tr style=\"text-align: right;\">\n      <th></th>\n      <th></th>\n      <th>Team 1</th>\n      <th>Team 2</th>\n      <th>Year</th>\n      <th>Score</th>\n      <th>Name</th>\n      <th>Team</th>\n      <th>Price</th>\n      <th>id</th>\n    </tr>\n    <tr>\n      <th>Round</th>\n      <th>Position</th>\n      <th></th>\n      <th></th>\n      <th></th>\n      <th></th>\n      <th></th>\n      <th></th>\n      <th></th>\n      <th></th>\n    </tr>\n  </thead>\n  <tbody>\n    <tr>\n      <th rowspan=\"4\" valign=\"top\">1</th>\n      <th>DE</th>\n      <td>97</td>\n      <td>97</td>\n      <td>97</td>\n      <td>97</td>\n      <td>97</td>\n      <td>97</td>\n      <td>97</td>\n      <td>97</td>\n    </tr>\n    <tr>\n      <th>FO</th>\n      <td>108</td>\n      <td>108</td>\n      <td>108</td>\n      <td>108</td>\n      <td>108</td>\n      <td>108</td>\n      <td>108</td>\n      <td>108</td>\n    </tr>\n    <tr>\n      <th>MI</th>\n      <td>101</td>\n      <td>101</td>\n      <td>101</td>\n      <td>101</td>\n      <td>101</td>\n      <td>101</td>\n      <td>101</td>\n      <td>101</td>\n    </tr>\n    <tr>\n      <th>RU</th>\n      <td>19</td>\n      <td>19</td>\n      <td>19</td>\n      <td>19</td>\n      <td>19</td>\n      <td>19</td>\n      <td>19</td>\n      <td>19</td>\n    </tr>\n    <tr>\n      <th rowspan=\"4\" valign=\"top\">2</th>\n      <th>DE</th>\n      <td>97</td>\n      <td>97</td>\n      <td>97</td>\n      <td>97</td>\n      <td>97</td>\n      <td>97</td>\n      <td>97</td>\n      <td>97</td>\n    </tr>\n    <tr>\n      <th>FO</th>\n      <td>108</td>\n      <td>108</td>\n      <td>108</td>\n      <td>108</td>\n      <td>108</td>\n      <td>108</td>\n      <td>108</td>\n      <td>108</td>\n    </tr>\n    <tr>\n      <th>MI</th>\n      <td>101</td>\n      <td>101</td>\n      <td>101</td>\n      <td>101</td>\n      <td>101</td>\n      <td>101</td>\n      <td>101</td>\n      <td>101</td>\n    </tr>\n    <tr>\n      <th>RU</th>\n      <td>19</td>\n      <td>19</td>\n      <td>19</td>\n      <td>19</td>\n      <td>19</td>\n      <td>19</td>\n      <td>19</td>\n      <td>19</td>\n    </tr>\n    <tr>\n      <th rowspan=\"4\" valign=\"top\">3</th>\n      <th>DE</th>\n      <td>97</td>\n      <td>82</td>\n      <td>97</td>\n      <td>97</td>\n      <td>97</td>\n      <td>97</td>\n      <td>97</td>\n      <td>97</td>\n    </tr>\n    <tr>\n      <th>FO</th>\n      <td>108</td>\n      <td>96</td>\n      <td>108</td>\n      <td>108</td>\n      <td>108</td>\n      <td>108</td>\n      <td>108</td>\n      <td>108</td>\n    </tr>\n    <tr>\n      <th>MI</th>\n      <td>101</td>\n      <td>89</td>\n      <td>101</td>\n      <td>101</td>\n      <td>101</td>\n      <td>101</td>\n      <td>101</td>\n      <td>101</td>\n    </tr>\n    <tr>\n      <th>RU</th>\n      <td>19</td>\n      <td>18</td>\n      <td>19</td>\n      <td>19</td>\n      <td>19</td>\n      <td>19</td>\n      <td>19</td>\n      <td>19</td>\n    </tr>\n  </tbody>\n</table>\n</div>"
          },
          "metadata": {},
          "execution_count": 52
        }
      ]
    },
    {
      "cell_type": "code",
      "metadata": {
        "colab": {
          "base_uri": "https://localhost:8080/"
        },
        "id": "3yLWwxpJ48TW",
        "outputId": "8b83ef68-43c6-48c6-ea54-0ba9b6d7c9e2",
        "tags": [
          "outputPrepend"
        ]
      },
      "source": [
        "player_contraints = {}\n",
        "prob = LpProblem(\"aflProblem\", LpMaximize)\n",
        "overall_score = LpVariable('OverallScore',0)\n",
        "for p_id,score in zip(RU_Players['id'].iteritems(),RU_Players['Score'].iteritems()):\n",
        "  p_id = p_id[1]\n",
        "  player_contraints[p_id] = LpVariable(p_id, 0, 1, cat='Binary')\n",
        "\n",
        "player_contraints = LpVariable.dicts(\"PC\", player_contraints, 0, 1, cat='Binary')\n",
        "prob += lpSum([player_contraints[p_id[1]]*score[1] for p_id,score in zip(RU_Players['id'].iteritems(),RU_Players['Score'].iteritems())]), \"Total score is maximized\"\n",
        "\n",
        "# START TRANFERS\n",
        "RU_Players_prev_round = RU_Players\n",
        "RU_Players_prev_round['Round_prev'] = RU_Players_prev_round['Round'] - 1\n",
        "\n",
        "RU_transfers = RU_Players[['id','Position','Round','Name']].merge(RU_Players_prev_round[['id','Position','Round_prev','Name']],left_on=['Position','Round'],right_on=['Position','Round_prev'], suffixes = ('_prev','_next'))\n",
        "\n",
        "RU_transfers['Transfer'] = RU_transfers['id_prev']+'-'+RU_transfers['id_next']\n",
        "RU_transfers=RU_transfers[['id_prev',\t'Round',\t'Name_prev',\t'id_next',\t'Round_prev',\t'Name_next',\t'Transfer']].drop_duplicates()\n",
        "\n",
        "transfer_contraints = {}\n",
        "\n",
        "# Define transfer itermediaries\n",
        "for i,t_id in RU_transfers['Transfer'].iteritems():\n",
        "  transfer_contraints[t_id] = LpVariable(t_id, 0, 1, cat='Binary')\n",
        "\n",
        "transfer_contraints = LpVariable.dicts(\"TC\", transfer_contraints, 0, 1, cat='Binary')\n",
        "\n",
        "# map rounds end to itermediary\n",
        "for prev_player,trans in RU_transfers.groupby(['id_prev'])['Transfer'].apply(list).iteritems():\n",
        "  prob += lpSum([transfer_contraints[t_id] for t_id in trans]) == player_contraints[prev_player], f\"Previous player equals transfer intermediatary for {prev_player} equals {trans}\"\n",
        "\n",
        "# map intermediary to next round\n",
        "for next_player,trans in RU_transfers.groupby(['id_next'])['Transfer'].apply(list).iteritems():\n",
        "  prob += lpSum([transfer_contraints[t_id] for t_id in trans]) == player_contraints[next_player], f\"Next player equals transfer intermediatary for {next_player} equals {trans}\"\n",
        "\n",
        "for round, transfers in RU_transfers[RU_transfers['Name_prev'] != RU_transfers['Name_next']][['Round','Transfer']].drop_duplicates().groupby(['Round'])['Transfer'].apply(list).iteritems():\n",
        "  prob += lpSum([transfer_contraints[t_id] for t_id in transfers]) <= 4, f\"Round: {round}, has less than or equal to 4 transfers\"\n",
        "  print(f'{[transfer_contraints[t_id] for t_id in transfers]}) <= 4')\n",
        "# END TRANFERS\n",
        "\n",
        "# START money contraint\n",
        "money = 13 * 10**6\n",
        "for round,player in RU_Players[['id','Price','Round']].drop_duplicates().groupby(['Round'])['id'].apply(list).iteritems():\n",
        "  prob += lpSum([player_contraints[p_id]*RU_Players[RU_Players['id']==p_id]['Price'].values[0] for p_id in player]) <= money, f\"Round: {round}, has less than ${money}\"\n",
        "# END money contraint\n",
        "\n",
        "#START Contrain each player to a single position per round\n",
        "RU_Players_Position_Casting = RU_Players.copy()\n",
        "RU_Players_Position_Casting['pl_pos_id'] = (RU_Players['id']+'_'+RU_Players['Position'])\n",
        "\n",
        "Players_Position_Casting_Series = RU_Players_Position_Casting[['id','pl_pos_id','Round']].drop_duplicates().groupby(['id','Round'])['pl_pos_id'].apply(list).iteritems()\n",
        "\n",
        "Players_Position_Casting = {}\n",
        "for i,r in RU_Players_Position_Casting[['pl_pos_id']].drop_duplicates().iterrows():\n",
        "  Players_Position_Casting[r['pl_pos_id']] = LpVariable(r['pl_pos_id'], 0, 1, cat='Binary')\n",
        "\n",
        "Players_Position_Casting = LpVariable.dicts(\"Players_Position_Casting\", Players_Position_Casting, 0, 1, cat='Binary')\n",
        "\n",
        "for (p_id,round), pl_pos_ids in Players_Position_Casting_Series:\n",
        "    player_possible_positions = [Players_Position_Casting[pl_pos_id] for pl_pos_id  in pl_pos_ids] \n",
        "    prob += lpSum(player_possible_positions) <= player_contraints[p_id], f\"Must have only have equal to {p_id} (0 or 1) of {player_possible_positions} positions in round {round}\"\n",
        "#END Contrain each player to a single position per round\n",
        "\n",
        "# START max players from each position\n",
        "# allowed_holds_per_position = {'DE': 8, \"MI\" : 10, 'RU' : 3, 'FO':9}\n",
        "allowed_holds_per_position = {'DE': 1, \"MI\" : 1, 'RU' : 1, 'FO':1}\n",
        "\n",
        "print('START max players from each position')\n",
        "for (position,round), pl_pos_ids in RU_Players_Position_Casting[['pl_pos_id','Position','Round']].drop_duplicates().groupby(['Position', 'Round'])['pl_pos_id'].apply(list).iteritems():\n",
        "  prob += lpSum([Players_Position_Casting[pl_pos_id] for pl_pos_id in pl_pos_ids]) == allowed_holds_per_position[position], f\"Position: {position}, has less than {allowed_holds_per_position[position]} in round {round}\"\n",
        "  print('\\n')\n",
        "\n",
        "# END max players from each position\n",
        "\n",
        "print('done with pre-work')"
      ],
      "execution_count": 53,
      "outputs": [
        {
          "output_type": "stream",
          "name": "stdout",
          "text": [
            ":2_P:Dan_Houston_R:3_P:Nick_Vlastuin, TC_R:2_P:Dan_Houston_R:3_P:Robbie_Tarrant, TC_R:2_P:Dan_Houston_R:3_P:Jayden_Short, TC_R:2_P:Dan_Houston_R:3_P:Jake_Lloyd, TC_R:2_P:Dan_Houston_R:3_P:Jack_Henry, TC_R:2_P:Dan_Houston_R:3_P:Ben_Long, TC_R:2_P:Dan_Houston_R:3_P:Trent_Rivers, TC_R:2_P:Jayden_Short_R:3_P:Michael_Hibberd, TC_R:2_P:Jayden_Short_R:3_P:Connor_Budarick, TC_R:2_P:Jayden_Short_R:3_P:Brandon_Starcevich, TC_R:2_P:Jayden_Short_R:3_P:Sam_Frost, TC_R:2_P:Jayden_Short_R:3_P:Noah_Answerth, TC_R:2_P:Jayden_Short_R:3_P:Trent_McKenzie, TC_R:2_P:Jayden_Short_R:3_P:Mason_Redman, TC_R:2_P:Jayden_Short_R:3_P:Ryan_Gardner, TC_R:2_P:Jayden_Short_R:3_P:Joel_Smith, TC_R:2_P:Jayden_Short_R:3_P:Sam_Docherty, TC_R:2_P:Jayden_Short_R:3_P:Kaiden_Brand, TC_R:2_P:Jayden_Short_R:3_P:Alex_Keath, TC_R:2_P:Jayden_Short_R:3_P:Sam_Taylor, TC_R:2_P:Jayden_Short_R:3_P:Robbie_Fox, TC_R:2_P:Jayden_Short_R:3_P:Tom_Clurey, TC_R:2_P:Jayden_Short_R:3_P:Brandon_Zerk_Thatcher, TC_R:2_P:Jayden_Short_R:3_P:Darcy_Byrne_Jones, TC_R:2_P:Jayden_Short_R:3_P:Ben_Paton, TC_R:2_P:Jayden_Short_R:3_P:James_Harmes, TC_R:2_P:Jayden_Short_R:3_P:Adam_Tomlinson, TC_R:2_P:Jayden_Short_R:3_P:Jeremy_Howe, TC_R:2_P:Jayden_Short_R:3_P:Zaine_Cordy, TC_R:2_P:Jayden_Short_R:3_P:Aiden_Bonar, TC_R:2_P:Jayden_Short_R:3_P:Jack_Bowes, TC_R:2_P:Jayden_Short_R:3_P:David_Astbury, TC_R:2_P:Jayden_Short_R:3_P:Adam_Saad, TC_R:2_P:Jayden_Short_R:3_P:Bachar_Houli, TC_R:2_P:Jayden_Short_R:3_P:Jordan_Clark, TC_R:2_P:Jayden_Short_R:3_P:Ryan_Burton, TC_R:2_P:Jayden_Short_R:3_P:Brayden_Maynard, TC_R:2_P:Jayden_Short_R:3_P:Easton_Wood, TC_R:2_P:Jayden_Short_R:3_P:Michael_Hurley, TC_R:2_P:Jayden_Short_R:3_P:Will_Hamill, TC_R:2_P:Jayden_Short_R:3_P:Hayden_Crozier, TC_R:2_P:Jayden_Short_R:3_P:Dylan_Roberton, TC_R:2_P:Jayden_Short_R:3_P:Aliir_Aliir, TC_R:2_P:Jayden_Short_R:3_P:Jake_Carlisle, TC_R:2_P:Jayden_Short_R:3_P:Jay_Lockhart, TC_R:2_P:Jayden_Short_R:3_P:Wayne_Milera, TC_R:2_P:Jayden_Short_R:3_P:Christian_Salem, TC_R:2_P:Jayden_Short_R:3_P:Blake_Hardwick, TC_R:2_P:Jayden_Short_R:3_P:Nick_Haynes, TC_R:2_P:Jayden_Short_R:3_P:Dylan_Grimes, TC_R:2_P:Jayden_Short_R:3_P:Fischer_McAsey, TC_R:2_P:Jayden_Short_R:3_P:Jacob_Weitering, TC_R:2_P:Jayden_Short_R:3_P:Hunter_Clark, TC_R:2_P:Jayden_Short_R:3_P:Ryan_Lester, TC_R:2_P:Jayden_Short_R:3_P:Daniel_Rich, TC_R:2_P:Jayden_Short_R:3_P:Sam_Petrevski_Seton, TC_R:2_P:Jayden_Short_R:3_P:Cale_Hooker, TC_R:2_P:Jayden_Short_R:3_P:James_Frawley, TC_R:2_P:Jayden_Short_R:3_P:Shannon_Hurn, TC_R:2_P:Jayden_Short_R:3_P:Riley_Bonner, TC_R:2_P:Jayden_Short_R:3_P:Jack_Scrimshaw, TC_R:2_P:Jayden_Short_R:3_P:Reece_Conca, TC_R:2_P:Jayden_Short_R:3_P:Hamish_Hartlett, TC_R:2_P:Jayden_Short_R:3_P:Orazio_Fantasia, TC_R:2_P:Jayden_Short_R:3_P:Taylin_Duman, TC_R:2_P:Jayden_Short_R:3_P:Callum_Ah_Chee, TC_R:2_P:Jayden_Short_R:3_P:Jack_Lukosius, TC_R:2_P:Jayden_Short_R:3_P:Aidan_Corr, TC_R:2_P:Jayden_Short_R:3_P:Darcy_Gardiner, TC_R:2_P:Jayden_Short_R:3_P:Hayden_Young, TC_R:2_P:Jayden_Short_R:3_P:Harris_Andrews, TC_R:2_P:Jayden_Short_R:3_P:Dane_Rampe, TC_R:2_P:Jayden_Short_R:3_P:Jason_Johannisen, TC_R:2_P:Jayden_Short_R:3_P:Thomas_Stewart, TC_R:2_P:Jayden_Short_R:3_P:Charlie_Ballard, TC_R:2_P:Jayden_Short_R:3_P:Luke_Brown, TC_R:2_P:Jayden_Short_R:3_P:Isaac_Cumming, TC_R:2_P:Jayden_Short_R:3_P:Caleb_Daniel, TC_R:2_P:Jayden_Short_R:3_P:Tom_Doedee, TC_R:2_P:Jayden_Short_R:3_P:Jordan_Ridley, TC_R:2_P:Jayden_Short_R:3_P:Samuel_Collins, TC_R:2_P:Jayden_Short_R:3_P:Shaun_Atley, TC_R:2_P:Jayden_Short_R:3_P:Callum_Wilkie, TC_R:2_P:Jayden_Short_R:3_P:Aaron_Francis, TC_R:2_P:Jayden_Short_R:3_P:Bailey_Williams, TC_R:2_P:Jayden_Short_R:3_P:Jack_Crisp, TC_R:2_P:Jayden_Short_R:3_P:Grant_Birchall, TC_R:2_P:Jayden_Short_R:3_P:Nathan_Wilson, TC_R:2_P:Jayden_Short_R:3_P:Phil_Davis, TC_R:2_P:Jayden_Short_R:3_P:Nicholas_Coffield, TC_R:2_P:Jayden_Short_R:3_P:Brennan_Cox, TC_R:2_P:Jayden_Short_R:3_P:Wil_Powell, TC_R:2_P:Jayden_Short_R:3_P:Jordan_Dawson, TC_R:2_P:Jayden_Short_R:3_P:Harry_Cunningham, TC_R:2_P:Jayden_Short_R:3_P:James_Sicily, TC_R:2_P:Jayden_Short_R:3_P:Dougal_Howard, TC_R:2_P:Jayden_Short_R:3_P:Nick_Vlastuin, TC_R:2_P:Jayden_Short_R:3_P:Robbie_Tarrant, TC_R:2_P:Jayden_Short_R:3_P:Dan_Houston, TC_R:2_P:Jayden_Short_R:3_P:Jake_Lloyd, TC_R:2_P:Jayden_Short_R:3_P:Jack_Henry, TC_R:2_P:Jayden_Short_R:3_P:Ben_Long, TC_R:2_P:Jayden_Short_R:3_P:Trent_Rivers, TC_R:2_P:Jake_Lloyd_R:3_P:Michael_Hibberd, TC_R:2_P:Jake_Lloyd_R:3_P:Connor_Budarick, TC_R:2_P:Jake_Lloyd_R:3_P:Brandon_Starcevich, TC_R:2_P:Jake_Lloyd_R:3_P:Sam_Frost, TC_R:2_P:Jake_Lloyd_R:3_P:Noah_Answerth, TC_R:2_P:Jake_Lloyd_R:3_P:Trent_McKenzie, TC_R:2_P:Jake_Lloyd_R:3_P:Mason_Redman, TC_R:2_P:Jake_Lloyd_R:3_P:Ryan_Gardner, TC_R:2_P:Jake_Lloyd_R:3_P:Joel_Smith, TC_R:2_P:Jake_Lloyd_R:3_P:Sam_Docherty, TC_R:2_P:Jake_Lloyd_R:3_P:Kaiden_Brand, TC_R:2_P:Jake_Lloyd_R:3_P:Alex_Keath, TC_R:2_P:Jake_Lloyd_R:3_P:Sam_Taylor, TC_R:2_P:Jake_Lloyd_R:3_P:Robbie_Fox, TC_R:2_P:Jake_Lloyd_R:3_P:Tom_Clurey, TC_R:2_P:Jake_Lloyd_R:3_P:Brandon_Zerk_Thatcher, TC_R:2_P:Jake_Lloyd_R:3_P:Darcy_Byrne_Jones, TC_R:2_P:Jake_Lloyd_R:3_P:Ben_Paton, TC_R:2_P:Jake_Lloyd_R:3_P:James_Harmes, TC_R:2_P:Jake_Lloyd_R:3_P:Adam_Tomlinson, TC_R:2_P:Jake_Lloyd_R:3_P:Jeremy_Howe, TC_R:2_P:Jake_Lloyd_R:3_P:Zaine_Cordy, TC_R:2_P:Jake_Lloyd_R:3_P:Aiden_Bonar, TC_R:2_P:Jake_Lloyd_R:3_P:Jack_Bowes, TC_R:2_P:Jake_Lloyd_R:3_P:David_Astbury, TC_R:2_P:Jake_Lloyd_R:3_P:Adam_Saad, TC_R:2_P:Jake_Lloyd_R:3_P:Bachar_Houli, TC_R:2_P:Jake_Lloyd_R:3_P:Jordan_Clark, TC_R:2_P:Jake_Lloyd_R:3_P:Ryan_Burton, TC_R:2_P:Jake_Lloyd_R:3_P:Brayden_Maynard, TC_R:2_P:Jake_Lloyd_R:3_P:Easton_Wood, TC_R:2_P:Jake_Lloyd_R:3_P:Michael_Hurley, TC_R:2_P:Jake_Lloyd_R:3_P:Will_Hamill, TC_R:2_P:Jake_Lloyd_R:3_P:Hayden_Crozier, TC_R:2_P:Jake_Lloyd_R:3_P:Dylan_Roberton, TC_R:2_P:Jake_Lloyd_R:3_P:Aliir_Aliir, TC_R:2_P:Jake_Lloyd_R:3_P:Jake_Carlisle, TC_R:2_P:Jake_Lloyd_R:3_P:Jay_Lockhart, TC_R:2_P:Jake_Lloyd_R:3_P:Wayne_Milera, TC_R:2_P:Jake_Lloyd_R:3_P:Christian_Salem, TC_R:2_P:Jake_Lloyd_R:3_P:Blake_Hardwick, TC_R:2_P:Jake_Lloyd_R:3_P:Nick_Haynes, TC_R:2_P:Jake_Lloyd_R:3_P:Dylan_Grimes, TC_R:2_P:Jake_Lloyd_R:3_P:Fischer_McAsey, TC_R:2_P:Jake_Lloyd_R:3_P:Jacob_Weitering, TC_R:2_P:Jake_Lloyd_R:3_P:Hunter_Clark, TC_R:2_P:Jake_Lloyd_R:3_P:Ryan_Lester, TC_R:2_P:Jake_Lloyd_R:3_P:Daniel_Rich, TC_R:2_P:Jake_Lloyd_R:3_P:Sam_Petrevski_Seton, TC_R:2_P:Jake_Lloyd_R:3_P:Cale_Hooker, TC_R:2_P:Jake_Lloyd_R:3_P:James_Frawley, TC_R:2_P:Jake_Lloyd_R:3_P:Shannon_Hurn, TC_R:2_P:Jake_Lloyd_R:3_P:Riley_Bonner, TC_R:2_P:Jake_Lloyd_R:3_P:Jack_Scrimshaw, TC_R:2_P:Jake_Lloyd_R:3_P:Reece_Conca, TC_R:2_P:Jake_Lloyd_R:3_P:Hamish_Hartlett, TC_R:2_P:Jake_Lloyd_R:3_P:Orazio_Fantasia, TC_R:2_P:Jake_Lloyd_R:3_P:Taylin_Duman, TC_R:2_P:Jake_Lloyd_R:3_P:Callum_Ah_Chee, TC_R:2_P:Jake_Lloyd_R:3_P:Jack_Lukosius, TC_R:2_P:Jake_Lloyd_R:3_P:Aidan_Corr, TC_R:2_P:Jake_Lloyd_R:3_P:Darcy_Gardiner, TC_R:2_P:Jake_Lloyd_R:3_P:Hayden_Young, TC_R:2_P:Jake_Lloyd_R:3_P:Harris_Andrews, TC_R:2_P:Jake_Lloyd_R:3_P:Dane_Rampe, TC_R:2_P:Jake_Lloyd_R:3_P:Jason_Johannisen, TC_R:2_P:Jake_Lloyd_R:3_P:Thomas_Stewart, TC_R:2_P:Jake_Lloyd_R:3_P:Charlie_Ballard, TC_R:2_P:Jake_Lloyd_R:3_P:Luke_Brown, TC_R:2_P:Jake_Lloyd_R:3_P:Isaac_Cumming, TC_R:2_P:Jake_Lloyd_R:3_P:Caleb_Daniel, TC_R:2_P:Jake_Lloyd_R:3_P:Tom_Doedee, TC_R:2_P:Jake_Lloyd_R:3_P:Jordan_Ridley, TC_R:2_P:Jake_Lloyd_R:3_P:Samuel_Collins, TC_R:2_P:Jake_Lloyd_R:3_P:Shaun_Atley, TC_R:2_P:Jake_Lloyd_R:3_P:Callum_Wilkie, TC_R:2_P:Jake_Lloyd_R:3_P:Aaron_Francis, TC_R:2_P:Jake_Lloyd_R:3_P:Bailey_Williams, TC_R:2_P:Jake_Lloyd_R:3_P:Jack_Crisp, TC_R:2_P:Jake_Lloyd_R:3_P:Grant_Birchall, TC_R:2_P:Jake_Lloyd_R:3_P:Nathan_Wilson, TC_R:2_P:Jake_Lloyd_R:3_P:Phil_Davis, TC_R:2_P:Jake_Lloyd_R:3_P:Nicholas_Coffield, TC_R:2_P:Jake_Lloyd_R:3_P:Brennan_Cox, TC_R:2_P:Jake_Lloyd_R:3_P:Wil_Powell, TC_R:2_P:Jake_Lloyd_R:3_P:Jordan_Dawson, TC_R:2_P:Jake_Lloyd_R:3_P:Harry_Cunningham, TC_R:2_P:Jake_Lloyd_R:3_P:James_Sicily, TC_R:2_P:Jake_Lloyd_R:3_P:Dougal_Howard, TC_R:2_P:Jake_Lloyd_R:3_P:Nick_Vlastuin, TC_R:2_P:Jake_Lloyd_R:3_P:Robbie_Tarrant, TC_R:2_P:Jake_Lloyd_R:3_P:Dan_Houston, TC_R:2_P:Jake_Lloyd_R:3_P:Jayden_Short, TC_R:2_P:Jake_Lloyd_R:3_P:Jack_Henry, TC_R:2_P:Jake_Lloyd_R:3_P:Ben_Long, TC_R:2_P:Jake_Lloyd_R:3_P:Trent_Rivers, TC_R:2_P:Jack_Henry_R:3_P:Michael_Hibberd, TC_R:2_P:Jack_Henry_R:3_P:Connor_Budarick, TC_R:2_P:Jack_Henry_R:3_P:Brandon_Starcevich, TC_R:2_P:Jack_Henry_R:3_P:Sam_Frost, TC_R:2_P:Jack_Henry_R:3_P:Noah_Answerth, TC_R:2_P:Jack_Henry_R:3_P:Trent_McKenzie, TC_R:2_P:Jack_Henry_R:3_P:Mason_Redman, TC_R:2_P:Jack_Henry_R:3_P:Ryan_Gardner, TC_R:2_P:Jack_Henry_R:3_P:Joel_Smith, TC_R:2_P:Jack_Henry_R:3_P:Sam_Docherty, TC_R:2_P:Jack_Henry_R:3_P:Kaiden_Brand, TC_R:2_P:Jack_Henry_R:3_P:Alex_Keath, TC_R:2_P:Jack_Henry_R:3_P:Sam_Taylor, TC_R:2_P:Jack_Henry_R:3_P:Robbie_Fox, TC_R:2_P:Jack_Henry_R:3_P:Tom_Clurey, TC_R:2_P:Jack_Henry_R:3_P:Brandon_Zerk_Thatcher, TC_R:2_P:Jack_Henry_R:3_P:Darcy_Byrne_Jones, TC_R:2_P:Jack_Henry_R:3_P:Ben_Paton, TC_R:2_P:Jack_Henry_R:3_P:James_Harmes, TC_R:2_P:Jack_Henry_R:3_P:Adam_Tomlinson, TC_R:2_P:Jack_Henry_R:3_P:Jeremy_Howe, TC_R:2_P:Jack_Henry_R:3_P:Zaine_Cordy, TC_R:2_P:Jack_Henry_R:3_P:Aiden_Bonar, TC_R:2_P:Jack_Henry_R:3_P:Jack_Bowes, TC_R:2_P:Jack_Henry_R:3_P:David_Astbury, TC_R:2_P:Jack_Henry_R:3_P:Adam_Saad, TC_R:2_P:Jack_Henry_R:3_P:Bachar_Houli, TC_R:2_P:Jack_Henry_R:3_P:Jordan_Clark, TC_R:2_P:Jack_Henry_R:3_P:Ryan_Burton, TC_R:2_P:Jack_Henry_R:3_P:Brayden_Maynard, TC_R:2_P:Jack_Henry_R:3_P:Easton_Wood, TC_R:2_P:Jack_Henry_R:3_P:Michael_Hurley, TC_R:2_P:Jack_Henry_R:3_P:Will_Hamill, TC_R:2_P:Jack_Henry_R:3_P:Hayden_Crozier, TC_R:2_P:Jack_Henry_R:3_P:Dylan_Roberton, TC_R:2_P:Jack_Henry_R:3_P:Aliir_Aliir, TC_R:2_P:Jack_Henry_R:3_P:Jake_Carlisle, TC_R:2_P:Jack_Henry_R:3_P:Jay_Lockhart, TC_R:2_P:Jack_Henry_R:3_P:Wayne_Milera, TC_R:2_P:Jack_Henry_R:3_P:Christian_Salem, TC_R:2_P:Jack_Henry_R:3_P:Blake_Hardwick, TC_R:2_P:Jack_Henry_R:3_P:Nick_Haynes, TC_R:2_P:Jack_Henry_R:3_P:Dylan_Grimes, TC_R:2_P:Jack_Henry_R:3_P:Fischer_McAsey, TC_R:2_P:Jack_Henry_R:3_P:Jacob_Weitering, TC_R:2_P:Jack_Henry_R:3_P:Hunter_Clark, TC_R:2_P:Jack_Henry_R:3_P:Ryan_Lester, TC_R:2_P:Jack_Henry_R:3_P:Daniel_Rich, TC_R:2_P:Jack_Henry_R:3_P:Sam_Petrevski_Seton, TC_R:2_P:Jack_Henry_R:3_P:Cale_Hooker, TC_R:2_P:Jack_Henry_R:3_P:James_Frawley, TC_R:2_P:Jack_Henry_R:3_P:Shannon_Hurn, TC_R:2_P:Jack_Henry_R:3_P:Riley_Bonner, TC_R:2_P:Jack_Henry_R:3_P:Jack_Scrimshaw, TC_R:2_P:Jack_Henry_R:3_P:Reece_Conca, TC_R:2_P:Jack_Henry_R:3_P:Hamish_Hartlett, TC_R:2_P:Jack_Henry_R:3_P:Orazio_Fantasia, TC_R:2_P:Jack_Henry_R:3_P:Taylin_Duman, TC_R:2_P:Jack_Henry_R:3_P:Callum_Ah_Chee, TC_R:2_P:Jack_Henry_R:3_P:Jack_Lukosius, TC_R:2_P:Jack_Henry_R:3_P:Aidan_Corr, TC_R:2_P:Jack_Henry_R:3_P:Darcy_Gardiner, TC_R:2_P:Jack_Henry_R:3_P:Hayden_Young, TC_R:2_P:Jack_Henry_R:3_P:Harris_Andrews, TC_R:2_P:Jack_Henry_R:3_P:Dane_Rampe, TC_R:2_P:Jack_Henry_R:3_P:Jason_Johannisen, TC_R:2_P:Jack_Henry_R:3_P:Thomas_Stewart, TC_R:2_P:Jack_Henry_R:3_P:Charlie_Ballard, TC_R:2_P:Jack_Henry_R:3_P:Luke_Brown, TC_R:2_P:Jack_Henry_R:3_P:Isaac_Cumming, TC_R:2_P:Jack_Henry_R:3_P:Caleb_Daniel, TC_R:2_P:Jack_Henry_R:3_P:Tom_Doedee, TC_R:2_P:Jack_Henry_R:3_P:Jordan_Ridley, TC_R:2_P:Jack_Henry_R:3_P:Samuel_Collins, TC_R:2_P:Jack_Henry_R:3_P:Shaun_Atley, TC_R:2_P:Jack_Henry_R:3_P:Callum_Wilkie, TC_R:2_P:Jack_Henry_R:3_P:Aaron_Francis, TC_R:2_P:Jack_Henry_R:3_P:Bailey_Williams, TC_R:2_P:Jack_Henry_R:3_P:Jack_Crisp, TC_R:2_P:Jack_Henry_R:3_P:Grant_Birchall, TC_R:2_P:Jack_Henry_R:3_P:Nathan_Wilson, TC_R:2_P:Jack_Henry_R:3_P:Phil_Davis, TC_R:2_P:Jack_Henry_R:3_P:Nicholas_Coffield, TC_R:2_P:Jack_Henry_R:3_P:Brennan_Cox, TC_R:2_P:Jack_Henry_R:3_P:Wil_Powell, TC_R:2_P:Jack_Henry_R:3_P:Jordan_Dawson, TC_R:2_P:Jack_Henry_R:3_P:Harry_Cunningham, TC_R:2_P:Jack_Henry_R:3_P:James_Sicily, TC_R:2_P:Jack_Henry_R:3_P:Dougal_Howard, TC_R:2_P:Jack_Henry_R:3_P:Nick_Vlastuin, TC_R:2_P:Jack_Henry_R:3_P:Robbie_Tarrant, TC_R:2_P:Jack_Henry_R:3_P:Dan_Houston, TC_R:2_P:Jack_Henry_R:3_P:Jayden_Short, TC_R:2_P:Jack_Henry_R:3_P:Jake_Lloyd, TC_R:2_P:Jack_Henry_R:3_P:Ben_Long, TC_R:2_P:Jack_Henry_R:3_P:Trent_Rivers, TC_R:2_P:Ben_Long_R:3_P:Michael_Hibberd, TC_R:2_P:Ben_Long_R:3_P:Connor_Budarick, TC_R:2_P:Ben_Long_R:3_P:Brandon_Starcevich, TC_R:2_P:Ben_Long_R:3_P:Sam_Frost, TC_R:2_P:Ben_Long_R:3_P:Noah_Answerth, TC_R:2_P:Ben_Long_R:3_P:Trent_McKenzie, TC_R:2_P:Ben_Long_R:3_P:Mason_Redman, TC_R:2_P:Ben_Long_R:3_P:Ryan_Gardner, TC_R:2_P:Ben_Long_R:3_P:Joel_Smith, TC_R:2_P:Ben_Long_R:3_P:Sam_Docherty, TC_R:2_P:Ben_Long_R:3_P:Kaiden_Brand, TC_R:2_P:Ben_Long_R:3_P:Alex_Keath, TC_R:2_P:Ben_Long_R:3_P:Sam_Taylor, TC_R:2_P:Ben_Long_R:3_P:Robbie_Fox, TC_R:2_P:Ben_Long_R:3_P:Tom_Clurey, TC_R:2_P:Ben_Long_R:3_P:Brandon_Zerk_Thatcher, TC_R:2_P:Ben_Long_R:3_P:Darcy_Byrne_Jones, TC_R:2_P:Ben_Long_R:3_P:Ben_Paton, TC_R:2_P:Ben_Long_R:3_P:James_Harmes, TC_R:2_P:Ben_Long_R:3_P:Adam_Tomlinson, TC_R:2_P:Ben_Long_R:3_P:Jeremy_Howe, TC_R:2_P:Ben_Long_R:3_P:Zaine_Cordy, TC_R:2_P:Ben_Long_R:3_P:Aiden_Bonar, TC_R:2_P:Ben_Long_R:3_P:Jack_Bowes, TC_R:2_P:Ben_Long_R:3_P:David_Astbury, TC_R:2_P:Ben_Long_R:3_P:Adam_Saad, TC_R:2_P:Ben_Long_R:3_P:Bachar_Houli, TC_R:2_P:Ben_Long_R:3_P:Jordan_Clark, TC_R:2_P:Ben_Long_R:3_P:Ryan_Burton, TC_R:2_P:Ben_Long_R:3_P:Brayden_Maynard, TC_R:2_P:Ben_Long_R:3_P:Easton_Wood, TC_R:2_P:Ben_Long_R:3_P:Michael_Hurley, TC_R:2_P:Ben_Long_R:3_P:Will_Hamill, TC_R:2_P:Ben_Long_R:3_P:Hayden_Crozier, TC_R:2_P:Ben_Long_R:3_P:Dylan_Roberton, TC_R:2_P:Ben_Long_R:3_P:Aliir_Aliir, TC_R:2_P:Ben_Long_R:3_P:Jake_Carlisle, TC_R:2_P:Ben_Long_R:3_P:Jay_Lockhart, TC_R:2_P:Ben_Long_R:3_P:Wayne_Milera, TC_R:2_P:Ben_Long_R:3_P:Christian_Salem, TC_R:2_P:Ben_Long_R:3_P:Blake_Hardwick, TC_R:2_P:Ben_Long_R:3_P:Nick_Haynes, TC_R:2_P:Ben_Long_R:3_P:Dylan_Grimes, TC_R:2_P:Ben_Long_R:3_P:Fischer_McAsey, TC_R:2_P:Ben_Long_R:3_P:Jacob_Weitering, TC_R:2_P:Ben_Long_R:3_P:Hunter_Clark, TC_R:2_P:Ben_Long_R:3_P:Ryan_Lester, TC_R:2_P:Ben_Long_R:3_P:Daniel_Rich, TC_R:2_P:Ben_Long_R:3_P:Sam_Petrevski_Seton, TC_R:2_P:Ben_Long_R:3_P:Cale_Hooker, TC_R:2_P:Ben_Long_R:3_P:James_Frawley, TC_R:2_P:Ben_Long_R:3_P:Shannon_Hurn, TC_R:2_P:Ben_Long_R:3_P:Riley_Bonner, TC_R:2_P:Ben_Long_R:3_P:Jack_Scrimshaw, TC_R:2_P:Ben_Long_R:3_P:Reece_Conca, TC_R:2_P:Ben_Long_R:3_P:Hamish_Hartlett, TC_R:2_P:Ben_Long_R:3_P:Orazio_Fantasia, TC_R:2_P:Ben_Long_R:3_P:Taylin_Duman, TC_R:2_P:Ben_Long_R:3_P:Callum_Ah_Chee, TC_R:2_P:Ben_Long_R:3_P:Jack_Lukosius, TC_R:2_P:Ben_Long_R:3_P:Aidan_Corr, TC_R:2_P:Ben_Long_R:3_P:Darcy_Gardiner, TC_R:2_P:Ben_Long_R:3_P:Hayden_Young, TC_R:2_P:Ben_Long_R:3_P:Harris_Andrews, TC_R:2_P:Ben_Long_R:3_P:Dane_Rampe, TC_R:2_P:Ben_Long_R:3_P:Jason_Johannisen, TC_R:2_P:Ben_Long_R:3_P:Thomas_Stewart, TC_R:2_P:Ben_Long_R:3_P:Charlie_Ballard, TC_R:2_P:Ben_Long_R:3_P:Luke_Brown, TC_R:2_P:Ben_Long_R:3_P:Isaac_Cumming, TC_R:2_P:Ben_Long_R:3_P:Caleb_Daniel, TC_R:2_P:Ben_Long_R:3_P:Tom_Doedee, TC_R:2_P:Ben_Long_R:3_P:Jordan_Ridley, TC_R:2_P:Ben_Long_R:3_P:Samuel_Collins, TC_R:2_P:Ben_Long_R:3_P:Shaun_Atley, TC_R:2_P:Ben_Long_R:3_P:Callum_Wilkie, TC_R:2_P:Ben_Long_R:3_P:Aaron_Francis, TC_R:2_P:Ben_Long_R:3_P:Bailey_Williams, TC_R:2_P:Ben_Long_R:3_P:Jack_Crisp, TC_R:2_P:Ben_Long_R:3_P:Grant_Birchall, TC_R:2_P:Ben_Long_R:3_P:Nathan_Wilson, TC_R:2_P:Ben_Long_R:3_P:Phil_Davis, TC_R:2_P:Ben_Long_R:3_P:Nicholas_Coffield, TC_R:2_P:Ben_Long_R:3_P:Brennan_Cox, TC_R:2_P:Ben_Long_R:3_P:Wil_Powell, TC_R:2_P:Ben_Long_R:3_P:Jordan_Dawson, TC_R:2_P:Ben_Long_R:3_P:Harry_Cunningham, TC_R:2_P:Ben_Long_R:3_P:James_Sicily, TC_R:2_P:Ben_Long_R:3_P:Dougal_Howard, TC_R:2_P:Ben_Long_R:3_P:Nick_Vlastuin, TC_R:2_P:Ben_Long_R:3_P:Robbie_Tarrant, TC_R:2_P:Ben_Long_R:3_P:Dan_Houston, TC_R:2_P:Ben_Long_R:3_P:Jayden_Short, TC_R:2_P:Ben_Long_R:3_P:Jake_Lloyd, TC_R:2_P:Ben_Long_R:3_P:Jack_Henry, TC_R:2_P:Ben_Long_R:3_P:Trent_Rivers, TC_R:2_P:Trent_Rivers_R:3_P:Michael_Hibberd, TC_R:2_P:Trent_Rivers_R:3_P:Connor_Budarick, TC_R:2_P:Trent_Rivers_R:3_P:Brandon_Starcevich, TC_R:2_P:Trent_Rivers_R:3_P:Sam_Frost, TC_R:2_P:Trent_Rivers_R:3_P:Noah_Answerth, TC_R:2_P:Trent_Rivers_R:3_P:Trent_McKenzie, TC_R:2_P:Trent_Rivers_R:3_P:Mason_Redman, TC_R:2_P:Trent_Rivers_R:3_P:Ryan_Gardner, TC_R:2_P:Trent_Rivers_R:3_P:Joel_Smith, TC_R:2_P:Trent_Rivers_R:3_P:Sam_Docherty, TC_R:2_P:Trent_Rivers_R:3_P:Kaiden_Brand, TC_R:2_P:Trent_Rivers_R:3_P:Alex_Keath, TC_R:2_P:Trent_Rivers_R:3_P:Sam_Taylor, TC_R:2_P:Trent_Rivers_R:3_P:Robbie_Fox, TC_R:2_P:Trent_Rivers_R:3_P:Tom_Clurey, TC_R:2_P:Trent_Rivers_R:3_P:Brandon_Zerk_Thatcher, TC_R:2_P:Trent_Rivers_R:3_P:Darcy_Byrne_Jones, TC_R:2_P:Trent_Rivers_R:3_P:Ben_Paton, TC_R:2_P:Trent_Rivers_R:3_P:James_Harmes, TC_R:2_P:Trent_Rivers_R:3_P:Adam_Tomlinson, TC_R:2_P:Trent_Rivers_R:3_P:Jeremy_Howe, TC_R:2_P:Trent_Rivers_R:3_P:Zaine_Cordy, TC_R:2_P:Trent_Rivers_R:3_P:Aiden_Bonar, TC_R:2_P:Trent_Rivers_R:3_P:Jack_Bowes, TC_R:2_P:Trent_Rivers_R:3_P:David_Astbury, TC_R:2_P:Trent_Rivers_R:3_P:Adam_Saad, TC_R:2_P:Trent_Rivers_R:3_P:Bachar_Houli, TC_R:2_P:Trent_Rivers_R:3_P:Jordan_Clark, TC_R:2_P:Trent_Rivers_R:3_P:Ryan_Burton, TC_R:2_P:Trent_Rivers_R:3_P:Brayden_Maynard, TC_R:2_P:Trent_Rivers_R:3_P:Easton_Wood, TC_R:2_P:Trent_Rivers_R:3_P:Michael_Hurley, TC_R:2_P:Trent_Rivers_R:3_P:Will_Hamill, TC_R:2_P:Trent_Rivers_R:3_P:Hayden_Crozier, TC_R:2_P:Trent_Rivers_R:3_P:Dylan_Roberton, TC_R:2_P:Trent_Rivers_R:3_P:Aliir_Aliir, TC_R:2_P:Trent_Rivers_R:3_P:Jake_Carlisle, TC_R:2_P:Trent_Rivers_R:3_P:Jay_Lockhart, TC_R:2_P:Trent_Rivers_R:3_P:Wayne_Milera, TC_R:2_P:Trent_Rivers_R:3_P:Christian_Salem, TC_R:2_P:Trent_Rivers_R:3_P:Blake_Hardwick, TC_R:2_P:Trent_Rivers_R:3_P:Nick_Haynes, TC_R:2_P:Trent_Rivers_R:3_P:Dylan_Grimes, TC_R:2_P:Trent_Rivers_R:3_P:Fischer_McAsey, TC_R:2_P:Trent_Rivers_R:3_P:Jacob_Weitering, TC_R:2_P:Trent_Rivers_R:3_P:Hunter_Clark, TC_R:2_P:Trent_Rivers_R:3_P:Ryan_Lester, TC_R:2_P:Trent_Rivers_R:3_P:Daniel_Rich, TC_R:2_P:Trent_Rivers_R:3_P:Sam_Petrevski_Seton, TC_R:2_P:Trent_Rivers_R:3_P:Cale_Hooker, TC_R:2_P:Trent_Rivers_R:3_P:James_Frawley, TC_R:2_P:Trent_Rivers_R:3_P:Shannon_Hurn, TC_R:2_P:Trent_Rivers_R:3_P:Riley_Bonner, TC_R:2_P:Trent_Rivers_R:3_P:Jack_Scrimshaw, TC_R:2_P:Trent_Rivers_R:3_P:Reece_Conca, TC_R:2_P:Trent_Rivers_R:3_P:Hamish_Hartlett, TC_R:2_P:Trent_Rivers_R:3_P:Orazio_Fantasia, TC_R:2_P:Trent_Rivers_R:3_P:Taylin_Duman, TC_R:2_P:Trent_Rivers_R:3_P:Callum_Ah_Chee, TC_R:2_P:Trent_Rivers_R:3_P:Jack_Lukosius, TC_R:2_P:Trent_Rivers_R:3_P:Aidan_Corr, TC_R:2_P:Trent_Rivers_R:3_P:Darcy_Gardiner, TC_R:2_P:Trent_Rivers_R:3_P:Hayden_Young, TC_R:2_P:Trent_Rivers_R:3_P:Harris_Andrews, TC_R:2_P:Trent_Rivers_R:3_P:Dane_Rampe, TC_R:2_P:Trent_Rivers_R:3_P:Jason_Johannisen, TC_R:2_P:Trent_Rivers_R:3_P:Thomas_Stewart, TC_R:2_P:Trent_Rivers_R:3_P:Charlie_Ballard, TC_R:2_P:Trent_Rivers_R:3_P:Luke_Brown, TC_R:2_P:Trent_Rivers_R:3_P:Isaac_Cumming, TC_R:2_P:Trent_Rivers_R:3_P:Caleb_Daniel, TC_R:2_P:Trent_Rivers_R:3_P:Tom_Doedee, TC_R:2_P:Trent_Rivers_R:3_P:Jordan_Ridley, TC_R:2_P:Trent_Rivers_R:3_P:Samuel_Collins, TC_R:2_P:Trent_Rivers_R:3_P:Shaun_Atley, TC_R:2_P:Trent_Rivers_R:3_P:Callum_Wilkie, TC_R:2_P:Trent_Rivers_R:3_P:Aaron_Francis, TC_R:2_P:Trent_Rivers_R:3_P:Bailey_Williams, TC_R:2_P:Trent_Rivers_R:3_P:Jack_Crisp, TC_R:2_P:Trent_Rivers_R:3_P:Grant_Birchall, TC_R:2_P:Trent_Rivers_R:3_P:Nathan_Wilson, TC_R:2_P:Trent_Rivers_R:3_P:Phil_Davis, TC_R:2_P:Trent_Rivers_R:3_P:Nicholas_Coffield, TC_R:2_P:Trent_Rivers_R:3_P:Brennan_Cox, TC_R:2_P:Trent_Rivers_R:3_P:Wil_Powell, TC_R:2_P:Trent_Rivers_R:3_P:Jordan_Dawson, TC_R:2_P:Trent_Rivers_R:3_P:Harry_Cunningham, TC_R:2_P:Trent_Rivers_R:3_P:James_Sicily, TC_R:2_P:Trent_Rivers_R:3_P:Dougal_Howard, TC_R:2_P:Trent_Rivers_R:3_P:Nick_Vlastuin, TC_R:2_P:Trent_Rivers_R:3_P:Robbie_Tarrant, TC_R:2_P:Trent_Rivers_R:3_P:Dan_Houston, TC_R:2_P:Trent_Rivers_R:3_P:Jayden_Short, TC_R:2_P:Trent_Rivers_R:3_P:Jake_Lloyd, TC_R:2_P:Trent_Rivers_R:3_P:Jack_Henry, TC_R:2_P:Trent_Rivers_R:3_P:Ben_Long]) <= 4\n",
            "START max players from each position\n",
            "done with pre-work\n"
          ]
        }
      ]
    },
    {
      "cell_type": "code",
      "metadata": {
        "colab": {
          "base_uri": "https://localhost:8080/"
        },
        "id": "l-HWpbAuTL_T",
        "outputId": "d7bb891d-552e-47d9-bdb9-d17b20102925"
      },
      "source": [
        "try:\n",
        "    solver = getSolver('COIN_CMD', timeLimit=200, msg=True,gapRel = 0.2)\n",
        "    prob.solve(solver)\n",
        "except:\n",
        "    print('USING INBUILT SOLVER!!  \\n'*100)\n",
        "    solver = getSolver('PULP_CBC_CMD')\n",
        "    prob.solve(solver)"
      ],
      "execution_count": 7,
      "outputs": []
    },
    {
      "cell_type": "code",
      "execution_count": 35,
      "metadata": {},
      "outputs": [
        {
          "output_type": "execute_result",
          "data": {
            "text/plain": [
              "True"
            ]
          },
          "metadata": {},
          "execution_count": 35
        }
      ],
      "source": []
    },
    {
      "cell_type": "code",
      "execution_count": 44,
      "metadata": {},
      "outputs": [
        {
          "output_type": "stream",
          "name": "stdout",
          "text": [
            "R:2_P:Thomas Berry-R:3_P:Jamie Elliott\nR:2_P:Shai Bolton-R:3_P:Isaac Smith\nR:1_P:Isaac Smith-R:2_P:Tom Phillips\nR:1_P:Sam Sturt-R:2_P:Nick Blakey\nR:1_P:Dustin Martin-R:2_P:Ben Davis\nR:2_P:Tom Clurey-R:3_P:Sam Taylor\nR:2_P:Aiden Bonar-R:3_P:Ryan Gardner\nR:1_P:Ryan Gardner-R:2_P:Tom Clurey\n"
          ]
        }
      ],
      "source": [
        "for i,v in transfer_contraints.items():\n",
        "    if v.value():\n",
        "        last_name = i[i.find(' ')+1: i.find('-')]\n",
        "        last_letters = i[-len(last_name):]\n",
        "        # print(last_name)\n",
        "        # print(last_letters)\n",
        "        # print\n",
        "        if not last_name == last_letters:\n",
        "            print(i)"
      ]
    },
    {
      "cell_type": "code",
      "execution_count": 10,
      "metadata": {},
      "outputs": [
        {
          "output_type": "error",
          "ename": "KeyError",
          "evalue": "'is_selected'",
          "traceback": [
            "\u001b[0;31m---------------------------------------------------------------------------\u001b[0m",
            "\u001b[0;31mKeyError\u001b[0m                                  Traceback (most recent call last)",
            "\u001b[0;32m~/miniconda3/envs/conrad/lib/python3.6/site-packages/pandas/core/indexes/base.py\u001b[0m in \u001b[0;36mget_loc\u001b[0;34m(self, key, method, tolerance)\u001b[0m\n\u001b[1;32m   2897\u001b[0m             \u001b[0;32mtry\u001b[0m\u001b[0;34m:\u001b[0m\u001b[0;34m\u001b[0m\u001b[0;34m\u001b[0m\u001b[0m\n\u001b[0;32m-> 2898\u001b[0;31m                 \u001b[0;32mreturn\u001b[0m \u001b[0mself\u001b[0m\u001b[0;34m.\u001b[0m\u001b[0m_engine\u001b[0m\u001b[0;34m.\u001b[0m\u001b[0mget_loc\u001b[0m\u001b[0;34m(\u001b[0m\u001b[0mcasted_key\u001b[0m\u001b[0;34m)\u001b[0m\u001b[0;34m\u001b[0m\u001b[0;34m\u001b[0m\u001b[0m\n\u001b[0m\u001b[1;32m   2899\u001b[0m             \u001b[0;32mexcept\u001b[0m \u001b[0mKeyError\u001b[0m \u001b[0;32mas\u001b[0m \u001b[0merr\u001b[0m\u001b[0;34m:\u001b[0m\u001b[0;34m\u001b[0m\u001b[0;34m\u001b[0m\u001b[0m\n",
            "\u001b[0;32mpandas/_libs/index.pyx\u001b[0m in \u001b[0;36mpandas._libs.index.IndexEngine.get_loc\u001b[0;34m()\u001b[0m\n",
            "\u001b[0;32mpandas/_libs/index.pyx\u001b[0m in \u001b[0;36mpandas._libs.index.IndexEngine.get_loc\u001b[0;34m()\u001b[0m\n",
            "\u001b[0;32mpandas/_libs/hashtable_class_helper.pxi\u001b[0m in \u001b[0;36mpandas._libs.hashtable.PyObjectHashTable.get_item\u001b[0;34m()\u001b[0m\n",
            "\u001b[0;32mpandas/_libs/hashtable_class_helper.pxi\u001b[0m in \u001b[0;36mpandas._libs.hashtable.PyObjectHashTable.get_item\u001b[0;34m()\u001b[0m\n",
            "\u001b[0;31mKeyError\u001b[0m: 'is_selected'",
            "\nThe above exception was the direct cause of the following exception:\n",
            "\u001b[0;31mKeyError\u001b[0m                                  Traceback (most recent call last)",
            "\u001b[0;32m<ipython-input-10-fcad1d37ff69>\u001b[0m in \u001b[0;36m<module>\u001b[0;34m\u001b[0m\n\u001b[1;32m      6\u001b[0m \u001b[0mRU_Players_Position_Casting\u001b[0m \u001b[0;34m=\u001b[0m \u001b[0mRU_Players_Position_Casting\u001b[0m\u001b[0;34m.\u001b[0m\u001b[0mmerge\u001b[0m\u001b[0;34m(\u001b[0m\u001b[0mPlayers_selected\u001b[0m\u001b[0;34m,\u001b[0m \u001b[0mon\u001b[0m \u001b[0;34m=\u001b[0m \u001b[0;34m[\u001b[0m\u001b[0;34m'pl_pos_id'\u001b[0m\u001b[0;34m]\u001b[0m\u001b[0;34m)\u001b[0m\u001b[0;34m\u001b[0m\u001b[0;34m\u001b[0m\u001b[0m\n\u001b[1;32m      7\u001b[0m \u001b[0mRU_Players_Position_Casting\u001b[0m\u001b[0;34m.\u001b[0m\u001b[0mto_csv\u001b[0m\u001b[0;34m(\u001b[0m\u001b[0;34m'solution.csv'\u001b[0m\u001b[0;34m)\u001b[0m\u001b[0;34m\u001b[0m\u001b[0;34m\u001b[0m\u001b[0m\n\u001b[0;32m----> 8\u001b[0;31m \u001b[0mprint\u001b[0m\u001b[0;34m(\u001b[0m\u001b[0mRU_Players_Position_Casting\u001b[0m\u001b[0;34m.\u001b[0m\u001b[0mgroupby\u001b[0m\u001b[0;34m(\u001b[0m\u001b[0;34m[\u001b[0m\u001b[0;34m'Round'\u001b[0m\u001b[0;34m,\u001b[0m\u001b[0;34m'Position'\u001b[0m\u001b[0;34m]\u001b[0m\u001b[0;34m)\u001b[0m\u001b[0;34m.\u001b[0m\u001b[0msum\u001b[0m\u001b[0;34m(\u001b[0m\u001b[0;34m)\u001b[0m\u001b[0;34m[\u001b[0m\u001b[0;34m'is_selected'\u001b[0m\u001b[0;34m]\u001b[0m\u001b[0;34m)\u001b[0m\u001b[0;34m\u001b[0m\u001b[0;34m\u001b[0m\u001b[0m\n\u001b[0m",
            "\u001b[0;32m~/miniconda3/envs/conrad/lib/python3.6/site-packages/pandas/core/frame.py\u001b[0m in \u001b[0;36m__getitem__\u001b[0;34m(self, key)\u001b[0m\n\u001b[1;32m   2904\u001b[0m             \u001b[0;32mif\u001b[0m \u001b[0mself\u001b[0m\u001b[0;34m.\u001b[0m\u001b[0mcolumns\u001b[0m\u001b[0;34m.\u001b[0m\u001b[0mnlevels\u001b[0m \u001b[0;34m>\u001b[0m \u001b[0;36m1\u001b[0m\u001b[0;34m:\u001b[0m\u001b[0;34m\u001b[0m\u001b[0;34m\u001b[0m\u001b[0m\n\u001b[1;32m   2905\u001b[0m                 \u001b[0;32mreturn\u001b[0m \u001b[0mself\u001b[0m\u001b[0;34m.\u001b[0m\u001b[0m_getitem_multilevel\u001b[0m\u001b[0;34m(\u001b[0m\u001b[0mkey\u001b[0m\u001b[0;34m)\u001b[0m\u001b[0;34m\u001b[0m\u001b[0;34m\u001b[0m\u001b[0m\n\u001b[0;32m-> 2906\u001b[0;31m             \u001b[0mindexer\u001b[0m \u001b[0;34m=\u001b[0m \u001b[0mself\u001b[0m\u001b[0;34m.\u001b[0m\u001b[0mcolumns\u001b[0m\u001b[0;34m.\u001b[0m\u001b[0mget_loc\u001b[0m\u001b[0;34m(\u001b[0m\u001b[0mkey\u001b[0m\u001b[0;34m)\u001b[0m\u001b[0;34m\u001b[0m\u001b[0;34m\u001b[0m\u001b[0m\n\u001b[0m\u001b[1;32m   2907\u001b[0m             \u001b[0;32mif\u001b[0m \u001b[0mis_integer\u001b[0m\u001b[0;34m(\u001b[0m\u001b[0mindexer\u001b[0m\u001b[0;34m)\u001b[0m\u001b[0;34m:\u001b[0m\u001b[0;34m\u001b[0m\u001b[0;34m\u001b[0m\u001b[0m\n\u001b[1;32m   2908\u001b[0m                 \u001b[0mindexer\u001b[0m \u001b[0;34m=\u001b[0m \u001b[0;34m[\u001b[0m\u001b[0mindexer\u001b[0m\u001b[0;34m]\u001b[0m\u001b[0;34m\u001b[0m\u001b[0;34m\u001b[0m\u001b[0m\n",
            "\u001b[0;32m~/miniconda3/envs/conrad/lib/python3.6/site-packages/pandas/core/indexes/base.py\u001b[0m in \u001b[0;36mget_loc\u001b[0;34m(self, key, method, tolerance)\u001b[0m\n\u001b[1;32m   2898\u001b[0m                 \u001b[0;32mreturn\u001b[0m \u001b[0mself\u001b[0m\u001b[0;34m.\u001b[0m\u001b[0m_engine\u001b[0m\u001b[0;34m.\u001b[0m\u001b[0mget_loc\u001b[0m\u001b[0;34m(\u001b[0m\u001b[0mcasted_key\u001b[0m\u001b[0;34m)\u001b[0m\u001b[0;34m\u001b[0m\u001b[0;34m\u001b[0m\u001b[0m\n\u001b[1;32m   2899\u001b[0m             \u001b[0;32mexcept\u001b[0m \u001b[0mKeyError\u001b[0m \u001b[0;32mas\u001b[0m \u001b[0merr\u001b[0m\u001b[0;34m:\u001b[0m\u001b[0;34m\u001b[0m\u001b[0;34m\u001b[0m\u001b[0m\n\u001b[0;32m-> 2900\u001b[0;31m                 \u001b[0;32mraise\u001b[0m \u001b[0mKeyError\u001b[0m\u001b[0;34m(\u001b[0m\u001b[0mkey\u001b[0m\u001b[0;34m)\u001b[0m \u001b[0;32mfrom\u001b[0m \u001b[0merr\u001b[0m\u001b[0;34m\u001b[0m\u001b[0;34m\u001b[0m\u001b[0m\n\u001b[0m\u001b[1;32m   2901\u001b[0m \u001b[0;34m\u001b[0m\u001b[0m\n\u001b[1;32m   2902\u001b[0m         \u001b[0;32mif\u001b[0m \u001b[0mtolerance\u001b[0m \u001b[0;32mis\u001b[0m \u001b[0;32mnot\u001b[0m \u001b[0;32mNone\u001b[0m\u001b[0;34m:\u001b[0m\u001b[0;34m\u001b[0m\u001b[0;34m\u001b[0m\u001b[0m\n",
            "\u001b[0;31mKeyError\u001b[0m: 'is_selected'"
          ]
        }
      ],
      "source": [
        "results = []\n",
        "for name, player_position in Players_Position_Casting.items():\n",
        "    if player_position.value() != 0:\n",
        "        results.append([name,1])\n",
        "Players_selected = pd.DataFrame(results, columns=['pl_pos_id', 'is_selected'])\n",
        "RU_Players_Position_Casting = RU_Players_Position_Casting.merge(Players_selected, on = ['pl_pos_id'])\n",
        "RU_Players_Position_Casting.to_csv('solution.csv')\n",
        "print(RU_Players_Position_Casting.groupby(['Round','Position']).sum()['is_selected'])"
      ]
    },
    {
      "cell_type": "code",
      "execution_count": 9,
      "metadata": {},
      "outputs": [
        {
          "output_type": "execute_result",
          "data": {
            "text/plain": [
              "    Round   Team 1     Team 2  Year       Score               Name     Team  \\\n",
              "65      1   Saints  Kangaroos  2020   20.000000     Dylan Roberton   Saints   \n",
              "29      1   Demons     Eagles  2020   26.000000       Toby Bedford   Demons   \n",
              "33      1   Giants       Cats  2020   58.142308       Jye Caldwell   Giants   \n",
              "54      1     Cats     Giants  2020   51.000000       Jordan Clark     Cats   \n",
              "60      1  Dockers    Bombers  2020   92.000000          Rory Lobb  Dockers   \n",
              "..    ...      ...        ...   ...         ...                ...      ...   \n",
              "22      3   Giants   Bulldogs  2020   64.000000         Sam Taylor   Giants   \n",
              "20      3   Demons        NaN  2020   26.000000         Joel Smith   Demons   \n",
              "45      3  Dockers      Power  2020   75.000000    Michael Walters  Dockers   \n",
              "27      3   Demons        NaN  2020   26.000000       Toby Bedford   Demons   \n",
              "44      3  Magpies     Saints  2020  126.000000  Steele Sidebottom  Magpies   \n",
              "\n",
              "   Position   Price                       id  Round_prev  \\\n",
              "65       DE  170000     R:1_P:Dylan Roberton           0   \n",
              "29       FO  200000       R:1_P:Toby Bedford           0   \n",
              "33       MI  502000       R:1_P:Jye Caldwell           0   \n",
              "54       DE  422000       R:1_P:Jordan Clark           0   \n",
              "60       RU  542000          R:1_P:Rory Lobb           0   \n",
              "..      ...     ...                      ...         ...   \n",
              "22       DE  276000         R:3_P:Sam Taylor           2   \n",
              "20       DE  188000         R:3_P:Joel Smith           2   \n",
              "45       FO  698000    R:3_P:Michael Walters           2   \n",
              "27       FO  200000       R:3_P:Toby Bedford           2   \n",
              "44       FO  841000  R:3_P:Steele Sidebottom           2   \n",
              "\n",
              "                     pl_pos_id  is_selected  \n",
              "65     R:1_P:Dylan Roberton_DE            1  \n",
              "29       R:1_P:Toby Bedford_FO            1  \n",
              "33       R:1_P:Jye Caldwell_MI            1  \n",
              "54       R:1_P:Jordan Clark_DE            1  \n",
              "60          R:1_P:Rory Lobb_RU            1  \n",
              "..                         ...          ...  \n",
              "22         R:3_P:Sam Taylor_DE            1  \n",
              "20         R:3_P:Joel Smith_DE            1  \n",
              "45    R:3_P:Michael Walters_FO            1  \n",
              "27       R:3_P:Toby Bedford_FO            1  \n",
              "44  R:3_P:Steele Sidebottom_FO            1  \n",
              "\n",
              "[90 rows x 13 columns]"
            ],
            "text/html": "<div>\n<style scoped>\n    .dataframe tbody tr th:only-of-type {\n        vertical-align: middle;\n    }\n\n    .dataframe tbody tr th {\n        vertical-align: top;\n    }\n\n    .dataframe thead th {\n        text-align: right;\n    }\n</style>\n<table border=\"1\" class=\"dataframe\">\n  <thead>\n    <tr style=\"text-align: right;\">\n      <th></th>\n      <th>Round</th>\n      <th>Team 1</th>\n      <th>Team 2</th>\n      <th>Year</th>\n      <th>Score</th>\n      <th>Name</th>\n      <th>Team</th>\n      <th>Position</th>\n      <th>Price</th>\n      <th>id</th>\n      <th>Round_prev</th>\n      <th>pl_pos_id</th>\n      <th>is_selected</th>\n    </tr>\n  </thead>\n  <tbody>\n    <tr>\n      <th>65</th>\n      <td>1</td>\n      <td>Saints</td>\n      <td>Kangaroos</td>\n      <td>2020</td>\n      <td>20.000000</td>\n      <td>Dylan Roberton</td>\n      <td>Saints</td>\n      <td>DE</td>\n      <td>170000</td>\n      <td>R:1_P:Dylan Roberton</td>\n      <td>0</td>\n      <td>R:1_P:Dylan Roberton_DE</td>\n      <td>1</td>\n    </tr>\n    <tr>\n      <th>29</th>\n      <td>1</td>\n      <td>Demons</td>\n      <td>Eagles</td>\n      <td>2020</td>\n      <td>26.000000</td>\n      <td>Toby Bedford</td>\n      <td>Demons</td>\n      <td>FO</td>\n      <td>200000</td>\n      <td>R:1_P:Toby Bedford</td>\n      <td>0</td>\n      <td>R:1_P:Toby Bedford_FO</td>\n      <td>1</td>\n    </tr>\n    <tr>\n      <th>33</th>\n      <td>1</td>\n      <td>Giants</td>\n      <td>Cats</td>\n      <td>2020</td>\n      <td>58.142308</td>\n      <td>Jye Caldwell</td>\n      <td>Giants</td>\n      <td>MI</td>\n      <td>502000</td>\n      <td>R:1_P:Jye Caldwell</td>\n      <td>0</td>\n      <td>R:1_P:Jye Caldwell_MI</td>\n      <td>1</td>\n    </tr>\n    <tr>\n      <th>54</th>\n      <td>1</td>\n      <td>Cats</td>\n      <td>Giants</td>\n      <td>2020</td>\n      <td>51.000000</td>\n      <td>Jordan Clark</td>\n      <td>Cats</td>\n      <td>DE</td>\n      <td>422000</td>\n      <td>R:1_P:Jordan Clark</td>\n      <td>0</td>\n      <td>R:1_P:Jordan Clark_DE</td>\n      <td>1</td>\n    </tr>\n    <tr>\n      <th>60</th>\n      <td>1</td>\n      <td>Dockers</td>\n      <td>Bombers</td>\n      <td>2020</td>\n      <td>92.000000</td>\n      <td>Rory Lobb</td>\n      <td>Dockers</td>\n      <td>RU</td>\n      <td>542000</td>\n      <td>R:1_P:Rory Lobb</td>\n      <td>0</td>\n      <td>R:1_P:Rory Lobb_RU</td>\n      <td>1</td>\n    </tr>\n    <tr>\n      <th>...</th>\n      <td>...</td>\n      <td>...</td>\n      <td>...</td>\n      <td>...</td>\n      <td>...</td>\n      <td>...</td>\n      <td>...</td>\n      <td>...</td>\n      <td>...</td>\n      <td>...</td>\n      <td>...</td>\n      <td>...</td>\n      <td>...</td>\n    </tr>\n    <tr>\n      <th>22</th>\n      <td>3</td>\n      <td>Giants</td>\n      <td>Bulldogs</td>\n      <td>2020</td>\n      <td>64.000000</td>\n      <td>Sam Taylor</td>\n      <td>Giants</td>\n      <td>DE</td>\n      <td>276000</td>\n      <td>R:3_P:Sam Taylor</td>\n      <td>2</td>\n      <td>R:3_P:Sam Taylor_DE</td>\n      <td>1</td>\n    </tr>\n    <tr>\n      <th>20</th>\n      <td>3</td>\n      <td>Demons</td>\n      <td>NaN</td>\n      <td>2020</td>\n      <td>26.000000</td>\n      <td>Joel Smith</td>\n      <td>Demons</td>\n      <td>DE</td>\n      <td>188000</td>\n      <td>R:3_P:Joel Smith</td>\n      <td>2</td>\n      <td>R:3_P:Joel Smith_DE</td>\n      <td>1</td>\n    </tr>\n    <tr>\n      <th>45</th>\n      <td>3</td>\n      <td>Dockers</td>\n      <td>Power</td>\n      <td>2020</td>\n      <td>75.000000</td>\n      <td>Michael Walters</td>\n      <td>Dockers</td>\n      <td>FO</td>\n      <td>698000</td>\n      <td>R:3_P:Michael Walters</td>\n      <td>2</td>\n      <td>R:3_P:Michael Walters_FO</td>\n      <td>1</td>\n    </tr>\n    <tr>\n      <th>27</th>\n      <td>3</td>\n      <td>Demons</td>\n      <td>NaN</td>\n      <td>2020</td>\n      <td>26.000000</td>\n      <td>Toby Bedford</td>\n      <td>Demons</td>\n      <td>FO</td>\n      <td>200000</td>\n      <td>R:3_P:Toby Bedford</td>\n      <td>2</td>\n      <td>R:3_P:Toby Bedford_FO</td>\n      <td>1</td>\n    </tr>\n    <tr>\n      <th>44</th>\n      <td>3</td>\n      <td>Magpies</td>\n      <td>Saints</td>\n      <td>2020</td>\n      <td>126.000000</td>\n      <td>Steele Sidebottom</td>\n      <td>Magpies</td>\n      <td>FO</td>\n      <td>841000</td>\n      <td>R:3_P:Steele Sidebottom</td>\n      <td>2</td>\n      <td>R:3_P:Steele Sidebottom_FO</td>\n      <td>1</td>\n    </tr>\n  </tbody>\n</table>\n<p>90 rows × 13 columns</p>\n</div>"
          },
          "metadata": {},
          "execution_count": 9
        }
      ],
      "source": [
        "RU_Players_Position_Casting.sort_values(['Round'])"
      ]
    },
    {
      "cell_type": "code",
      "execution_count": 17,
      "metadata": {},
      "outputs": [],
      "source": [
        "for round in RU_Players_Position_Casting['Round'].unique():\n",
        "    assert RU_Players_Position_Casting[RU_Players_Position_Casting['Round']==round]['is_selected'].sum()"
      ]
    }
  ]
}