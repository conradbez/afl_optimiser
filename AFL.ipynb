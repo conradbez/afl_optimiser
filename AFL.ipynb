{
  "nbformat": 4,
  "nbformat_minor": 0,
  "metadata": {
    "colab": {
      "name": "AFL.ipynb",
      "provenance": [],
      "collapsed_sections": []
    },
    "kernelspec": {
      "name": "python3",
      "display_name": "Python 3.8.2 64-bit",
      "metadata": {
        "interpreter": {
          "hash": "31f2aee4e71d21fbe5cf8b01ff0e069b9275f58929596ceb00d14d90e3e16cd6"
        }
      }
    }
  },
  "cells": [
    {
      "cell_type": "code",
      "metadata": {
        "id": "c8cfL_UgRZhj"
      },
      "source": [
        "# !pip install pyomo\n",
        "# !pip install --upgrade --user ortools\n",
        "# !apt-get install -y glpk-utils\n",
        "# !sudo apt-get update -y\n",
        "# !sudo apt-get install -y coinor-cbc"
      ],
      "execution_count": null,
      "outputs": []
    },
    {
      "cell_type": "code",
      "execution_count": null,
      "metadata": {},
      "outputs": [],
      "source": [
        "# !pip install -U git+https://github.com/coin-or/pulp\n",
        "# !sudo pulptest\n"
      ]
    },
    {
      "cell_type": "code",
      "metadata": {
        "colab": {
          "base_uri": "https://localhost:8080/",
          "height": 395
        },
        "id": "E2GvnXxCQ2nl",
        "outputId": "d9521666-a081-4e49-b6b2-a8b6a604b618"
      },
      "source": [],
      "execution_count": 1,
      "outputs": []
    },
    {
      "cell_type": "code",
      "metadata": {
        "id": "sy6uwTvL0rQs"
      },
      "source": [
        "import pandas as pd\n",
        "from pulp import *\n",
        "full_player_scores = pd.read_csv('full_players.csv', index_col=0)\n",
        "full_player_scores = full_player_scores.reset_index(drop=True)\n",
        "full_player_scores['Score'] = pd.to_numeric(full_player_scores['Score'], errors='coerce')\n",
        "# full_player_scores['Value'] = full_player_scores['Score']/full_player_scores['Price']\n",
        "full_player_scores = full_player_scores[full_player_scores['Year']==2020]\n",
        "\n",
        "player_num_games_played = full_player_scores[full_player_scores['Score']>0].groupby('Name')['Team 2'].transform('count')\n",
        "\n",
        "opponent_average_score = full_player_scores.groupby('Team 2')['Score'].transform('mean')\n",
        "player_average_score = full_player_scores.groupby('Name')['Score'].transform('mean')\n",
        "player_average_value = player_average_score/full_player_scores['Price']\n",
        "\n",
        "na_locs = full_player_scores['Score'].isna()\n",
        "\n",
        "full_player_scores.loc[na_locs,'Score'] = ((opponent_average_score+player_average_score)/2).loc[na_locs]\n",
        "\n",
        "# RU_Players = full_player_scores[(full_player_scores['Round']<=2)&(full_player_scores['Year']==2020)] # Only two rounds\n",
        "# RU_Players = full_player_scores[(full_player_scores['Round']<=5)&(full_player_scores['Position']=='RU')&(full_player_scores['Year']==2020)] # Only rucks\n",
        "# RU_Players = full_player_scores[(full_player_scores['Round']<=2)&(full_player_scores['Year']==2020)]\n",
        "# RU_Players = full_player_scores[(full_player_scores['Position']=='RU')&(full_player_scores['Year']==2020)] # Only rucks\n",
        "\n",
        "RU_Players = full_player_scores[(full_player_scores['Year']==2020)]\n",
        "\n",
        "\n",
        "RU_Players = RU_Players.sort_values('Score',ascending=False)\n",
        "RU_Players['id'] = \"Round:\"+RU_Players['Round'].astype(str)+\"_Player:\"+RU_Players['Name']\n",
        "# RU_Players = RU_Players[RU_Players['Round']<3]\n",
        "\n",
        "# Only take players who played more than 5 games\n",
        "print(len(RU_Players['Name'].unique()))\n",
        "players_to_keep = player_num_games_played[player_num_games_played>5].index.values\n",
        "RU_Players = RU_Players.reindex(index=players_to_keep).dropna(how='all')\n",
        "print(len(RU_Players['Name'].unique()))\n",
        "\n",
        "\n",
        "# Only take players in top quater of average values (score/price)\n",
        "print(len(RU_Players['Name'].unique()))\n",
        "player_best_values = player_average_value.sort_values(ascending=False)[:int(len(player_average_value)/2)]\n",
        "RU_Players = RU_Players.reindex(index=player_best_values.index.values).dropna(how='all') \n",
        "print(len(RU_Players['Name'].unique()))\n",
        "\n",
        "\n",
        "# RU_Players = RU_Players.head(4)"
      ],
      "execution_count": 40,
      "outputs": [
        {
          "output_type": "stream",
          "name": "stdout",
          "text": [
            "652\n501\n501\n212\n"
          ]
        }
      ]
    },
    {
      "cell_type": "code",
      "metadata": {
        "colab": {
          "base_uri": "https://localhost:8080/"
        },
        "id": "3yLWwxpJ48TW",
        "outputId": "8b83ef68-43c6-48c6-ea54-0ba9b6d7c9e2",
        "tags": []
      },
      "source": [
        "trades_allowed = None\n",
        "player_contraints = {}\n",
        "prob = LpProblem(\"aflProblem\", LpMaximize)\n",
        "overall_score = LpVariable('OverallScore',0)\n",
        "for p_id,score in zip(RU_Players['id'].iteritems(),RU_Players['Score'].iteritems()):\n",
        "  p_id = p_id[1]\n",
        "  player_contraints[p_id] = LpVariable(p_id, 0, 1, cat='Binary')\n",
        "\n",
        "player_contraints = LpVariable.dicts(\"player_contraints\", player_contraints, 0, 1, cat='Binary')\n",
        "prob += lpSum([player_contraints[p_id[1]]*score[1] for p_id,score in zip(RU_Players['id'].iteritems(),RU_Players['Score'].iteritems())]), \"Total score is maximized\"\n",
        "\n",
        "# START TRANFERS\n",
        "RU_Players_prev_round = RU_Players\n",
        "RU_Players_prev_round['Round_prev'] = RU_Players_prev_round['Round'] - 1\n",
        "\n",
        "RU_transfers = RU_Players[['id','Position','Round','Name']].merge(RU_Players_prev_round[['id','Position','Round_prev','Name']],left_on=['Position','Round'],right_on=['Position','Round_prev'], suffixes = ('_prev','_next'))\n",
        "RU_transfers['Transfer'] = RU_transfers['id_prev']+'->'+RU_transfers['id_next']\n",
        "\n",
        "transfer_contraints = {}\n",
        "\n",
        "# Define transfer itermediaries\n",
        "for i,t_id in RU_transfers['Transfer'].iteritems():\n",
        "  transfer_contraints[t_id] = LpVariable(t_id, 0, 1, cat='Binary')\n",
        "\n",
        "transfer_contraints = LpVariable.dicts(\"transfer_contraints\", transfer_contraints, 0, 1, cat='Binary')\n",
        "\n",
        "# map rounds end to itermediary\n",
        "for prev_player,trans in RU_transfers.groupby(['id_prev'])['Transfer'].apply(list).iteritems():\n",
        "  prob += lpSum([transfer_contraints[t_id] for t_id in trans]) == player_contraints[prev_player], \"Previous player equals transfer intermediatary for \"+prev_player\n",
        "\n",
        "# map intermediary to next round\n",
        "for next_player,trans in RU_transfers.groupby(['id_next'])['Transfer'].apply(list).iteritems():\n",
        "  prob += lpSum([transfer_contraints[t_id] for t_id in trans]) == player_contraints[next_player], \"Next player equals transfer intermediatary for \"+next_player\n",
        "\n",
        "for round, transfers in RU_transfers[RU_transfers['Name_prev'] != RU_transfers['Name_next']].groupby(['Round'])['Transfer'].apply(list).iteritems():\n",
        "  prob += lpSum([transfer_contraints[t_id] for t_id in transfers]) <= 4, f\"Round: {round}, has less than orequal to 4 transfers\"\n",
        "# END TRANFERS\n",
        "\n",
        "# START max players from each position\n",
        "allowed_holds_per_position = {'DE': 8, \"MI\" : 10, 'RU' : 3, 'FO':9}\n",
        "\n",
        "for (position,round), player in RU_Players[['id','Position','Round']].drop_duplicates().groupby(['Position', 'Round'])['id'].apply(list).iteritems():\n",
        "  prob += lpSum([player_contraints[p_id] for p_id in player]) <= allowed_holds_per_position[position], f\"Position: {position}, has less than {allowed_holds_per_position[position]} in round {round}\"\n",
        "\n",
        "# END max players from each position\n",
        "\n",
        "# START money contraint\n",
        "money = 13 * 10**6\n",
        "for round,player in RU_Players[['id','Price','Round']].drop_duplicates().groupby(['Round'])['id'].apply(list).iteritems():\n",
        "  prob += lpSum([player_contraints[p_id]*RU_Players[RU_Players['id']==p_id]['Price'].values[0] for p_id in player]) <= money, f\"Round: {round}, has less than ${money}\"\n",
        "# END money contraint\n",
        "\n",
        "print('done with pre-work')"
      ],
      "execution_count": 41,
      "outputs": [
        {
          "output_type": "stream",
          "name": "stdout",
          "text": [
            "done with pre-work\n"
          ]
        }
      ]
    },
    {
      "cell_type": "code",
      "metadata": {
        "colab": {
          "base_uri": "https://localhost:8080/"
        },
        "id": "l-HWpbAuTL_T",
        "outputId": "d7bb891d-552e-47d9-bdb9-d17b20102925"
      },
      "source": [
        "# solver = getSolver('COIN_CMD', maxSeconds=1000, msg=True,gapRel = 0.1, threads=100)\n",
        "solver = getSolver('PULP_CBC_CMD', maxSeconds=100, msg=True,gapRel = 0.1, threads=100)\n",
        "# solver = getSolver('COIN_CMD', msg=True, cuts=True)\n",
        "# prob.solve(pulp.PULP_CBC_CMD(msg=True, maxSeconds=10))\n",
        "# prob.solve(PULP_CBC_CMD(gapRel = 0.05))\n",
        "# solver = getSolver('GLPK_CMD')\n",
        "prob.solve(solver)\n",
        "# pulp.COIN(maxSeconds=your_time_limit))\n",
        "# prob.solve(solver)\n",
        "# list_solvers(onlyAvailable=True)"
      ],
      "execution_count": 42,
      "outputs": [
        {
          "output_type": "execute_result",
          "data": {
            "text/plain": [
              "1"
            ]
          },
          "metadata": {},
          "execution_count": 42
        }
      ]
    },
    {
      "cell_type": "code",
      "metadata": {
        "id": "1pkmlf2k4jOJ",
        "colab": {
          "base_uri": "https://localhost:8080/"
        },
        "outputId": "28ab202e-1bbb-4049-9873-d51b004cf6e3",
        "tags": []
      },
      "source": [
        "roundplayers = {}\n",
        "roundchanges = {}\n",
        "for round in range(1,30):\n",
        "  roundplayers[round] = []\n",
        "  for n,t in player_contraints.items():\n",
        "      if t.value()>0.5:\n",
        "        if n[:len(f'Round:{round}_')] == f'Round:{round}_':\n",
        "          roundplayers[round].append(n[len(f'Round:{round}_Player:'):])\n",
        "  if not round == 1:\n",
        "    roundchanges[f'{round}_out'] = set(roundplayers[round-1]).difference(set(roundplayers[round]))\n",
        "    roundchanges[f'{round}_in'] = set(roundplayers[round]).difference(set(roundplayers[round-1]))\n"
      ],
      "execution_count": 104,
      "outputs": []
    },
    {
      "cell_type": "code",
      "execution_count": 107,
      "metadata": {},
      "outputs": [
        {
          "output_type": "stream",
          "name": "stdout",
          "text": [
            "{'2_out': {'Isaac Smith', 'Steele Sidebottom', 'Dustin Martin'}, '2_in': {'Rowan Marshall', 'Patrick Dangerfield', 'Jarrod Berry'}, '3_out': {'Luke Parker', 'Rowan Marshall', 'Patrick Dangerfield', 'Adam Tomlinson'}, '3_in': {'Isaac Smith', 'Steele Sidebottom', 'Hugh McCluggage', 'Justin Westhoff'}, '4_out': {'Isaac Smith', 'Steele Sidebottom', 'Gary Ablett', 'Justin Westhoff'}, '4_in': {'Rowan Marshall', 'Patrick Dangerfield', 'Sam Menegola', 'Adam Tomlinson'}, '5_out': {'Patrick Dangerfield', 'Tom Clurey', 'Adam Tomlinson'}, '5_in': {'Harry Taylor', 'Kane Lambert', 'Steven May'}, '6_out': {'Brad Ebert', 'Rowan Marshall', 'Sam Docherty', 'Mitch Robinson'}, '6_in': {'Isaac Smith', 'Dylan Grimes', 'Patrick Dangerfield', 'Orazio Fantasia'}, '7_out': {'Isaac Smith', 'Joel Selwood', 'Orazio Fantasia'}, '7_in': {'Paul Seedsman', 'Marlion Pickett', 'Jake Lever'}, '8_out': {'Timothy English', 'Patrick Dangerfield', 'Curtis Taylor', 'Darcy Tucker'}, '8_in': {'Matthew Kennedy', 'Rowan Marshall', 'Nick Hind', 'Dustin Martin'}, '9_out': {'Matthew Kennedy', 'Jarrod Berry'}, '9_in': {'Steele Sidebottom', 'James Stewart'}, '10_out': {'Steele Sidebottom', 'Harry Taylor', 'Dustin Martin'}, '10_in': {'Robbie Gray', 'Christian Salem', 'Shai Bolton'}, '11_out': {'Paul Seedsman', 'Rowan Marshall', 'Heath Shaw', 'Shai Bolton'}, '11_in': {'Nathan Wilson', 'Zac Fisher', 'Patrick Cripps', 'Patrick Dangerfield'}, '12_out': {'Brody Mihocek', 'Patrick Dangerfield', 'Jasper Pittard', 'Hugh McCluggage'}, '12_in': {'Lachie Whitfield', 'Steele Sidebottom', 'Liam Ryan', \"Tim O'Brien\"}, '13_out': {'Steele Sidebottom', 'Zach Tuohy', 'Dylan Grimes', 'Nick Hind'}, '13_in': {'Kade Simpson', 'James Cousins', 'Shai Bolton', 'Dustin Martin'}, '14_out': {'Sam Menegola', 'Shai Bolton', 'Kane Lambert', 'Dustin Martin'}, '14_in': {'Tim Taranto', 'Jamie Elliott', 'Josh Kennedy', 'Patrick Dangerfield'}, '15_out': {'Shaun Atley', 'Robbie Gray', 'Jamie Elliott', 'Patrick Dangerfield'}, '15_in': {'Luke Parker', 'Adam Tomlinson', 'Harry Schoenberg', 'Blake Acres'}, '16_out': {'Brodie Grundy', 'Taylor Adams', 'Marlion Pickett', 'Adam Tomlinson'}, '16_in': {'Patrick Dangerfield', 'Jye Caldwell', 'Tom Rockliff', 'Rowan Marshall'}, '17_out': {'Zac Fisher', 'Patrick Dangerfield', 'Jye Caldwell', 'Rowan Marshall'}, '17_in': {'Tom Green', 'Lachlan Sholl', 'Jesse Hogan', 'Dustin Martin'}, '18_out': {'Liam Ryan', 'Tom Rockliff', 'Dustin Martin'}, '18_in': {'Matthew Kennedy', 'Paul Puopolo', 'Adam Tomlinson'}, '19_out': {'Patrick Cripps', 'Lachlan Sholl', 'James Stewart', 'Matthew Kennedy', 'Josh Kennedy', 'Harry Schoenberg', 'Steven May', 'Tim Taranto', 'James Cousins', 'Blake Acres', 'Adam Tomlinson', 'Jake Lever', 'Jesse Hogan', 'Luke Parker', 'Paul Puopolo', 'Christian Salem', \"Tim O'Brien\", 'Kade Simpson', 'Nathan Wilson', 'Lachie Whitfield', 'Tom Green'}, '19_in': set(), '20_out': set(), '20_in': set(), '21_out': set(), '21_in': set(), '22_out': set(), '22_in': set(), '23_out': set(), '23_in': set(), '24_out': set(), '24_in': set(), '25_out': set(), '25_in': set(), '26_out': set(), '26_in': set(), '27_out': set(), '27_in': set(), '28_out': set(), '28_in': set(), '29_out': set(), '29_in': set()}\n{1: ['Brad Ebert', 'Heath Shaw', 'Gary Ablett', 'Jasper Pittard', 'Darcy Tucker', 'Dustin Martin', 'Taylor Adams', 'Steele Sidebottom', 'Curtis Taylor', 'Joel Selwood', 'Brody Mihocek', 'Mitch Robinson', 'Timothy English', 'Brodie Grundy', 'Sam Docherty', 'Zach Tuohy', 'Shaun Atley', 'Tom Clurey', 'Isaac Smith', 'Adam Tomlinson', 'Luke Parker'], 2: ['Brad Ebert', 'Heath Shaw', 'Gary Ablett', 'Jasper Pittard', 'Darcy Tucker', 'Taylor Adams', 'Curtis Taylor', 'Joel Selwood', 'Brody Mihocek', 'Mitch Robinson', 'Patrick Dangerfield', 'Rowan Marshall', 'Timothy English', 'Brodie Grundy', 'Sam Docherty', 'Zach Tuohy', 'Jarrod Berry', 'Shaun Atley', 'Tom Clurey', 'Adam Tomlinson', 'Luke Parker'], 3: ['Brad Ebert', 'Heath Shaw', 'Justin Westhoff', 'Gary Ablett', 'Jasper Pittard', 'Darcy Tucker', 'Taylor Adams', 'Steele Sidebottom', 'Curtis Taylor', 'Joel Selwood', 'Brody Mihocek', 'Mitch Robinson', 'Timothy English', 'Hugh McCluggage', 'Brodie Grundy', 'Sam Docherty', 'Zach Tuohy', 'Jarrod Berry', 'Shaun Atley', 'Tom Clurey', 'Isaac Smith'], 4: ['Brad Ebert', 'Heath Shaw', 'Jasper Pittard', 'Darcy Tucker', 'Sam Menegola', 'Taylor Adams', 'Curtis Taylor', 'Joel Selwood', 'Brody Mihocek', 'Mitch Robinson', 'Patrick Dangerfield', 'Rowan Marshall', 'Timothy English', 'Hugh McCluggage', 'Brodie Grundy', 'Sam Docherty', 'Zach Tuohy', 'Jarrod Berry', 'Shaun Atley', 'Tom Clurey', 'Adam Tomlinson'], 5: ['Brad Ebert', 'Heath Shaw', 'Kane Lambert', 'Jasper Pittard', 'Darcy Tucker', 'Sam Menegola', 'Harry Taylor', 'Taylor Adams', 'Curtis Taylor', 'Joel Selwood', 'Brody Mihocek', 'Mitch Robinson', 'Rowan Marshall', 'Timothy English', 'Hugh McCluggage', 'Brodie Grundy', 'Sam Docherty', 'Zach Tuohy', 'Jarrod Berry', 'Shaun Atley', 'Steven May'], 6: ['Heath Shaw', 'Kane Lambert', 'Jasper Pittard', 'Darcy Tucker', 'Orazio Fantasia', 'Sam Menegola', 'Harry Taylor', 'Taylor Adams', 'Curtis Taylor', 'Joel Selwood', 'Brody Mihocek', 'Patrick Dangerfield', 'Timothy English', 'Hugh McCluggage', 'Dylan Grimes', 'Brodie Grundy', 'Zach Tuohy', 'Jarrod Berry', 'Shaun Atley', 'Steven May', 'Isaac Smith'], 7: ['Heath Shaw', 'Kane Lambert', 'Jasper Pittard', 'Darcy Tucker', 'Sam Menegola', 'Harry Taylor', 'Taylor Adams', 'Curtis Taylor', 'Paul Seedsman', 'Brody Mihocek', 'Patrick Dangerfield', 'Marlion Pickett', 'Timothy English', 'Hugh McCluggage', 'Dylan Grimes', 'Brodie Grundy', 'Zach Tuohy', 'Jarrod Berry', 'Shaun Atley', 'Steven May', 'Jake Lever'], 8: ['Heath Shaw', 'Matthew Kennedy', 'Kane Lambert', 'Jasper Pittard', 'Dustin Martin', 'Sam Menegola', 'Harry Taylor', 'Taylor Adams', 'Paul Seedsman', 'Brody Mihocek', 'Marlion Pickett', 'Rowan Marshall', 'Hugh McCluggage', 'Dylan Grimes', 'Brodie Grundy', 'Zach Tuohy', 'Jarrod Berry', 'Nick Hind', 'Shaun Atley', 'Steven May', 'Jake Lever'], 9: ['Heath Shaw', 'Kane Lambert', 'Jasper Pittard', 'Dustin Martin', 'Sam Menegola', 'Harry Taylor', 'Taylor Adams', 'Steele Sidebottom', 'Paul Seedsman', 'Brody Mihocek', 'Marlion Pickett', 'Rowan Marshall', 'Hugh McCluggage', 'Dylan Grimes', 'Brodie Grundy', 'James Stewart', 'Zach Tuohy', 'Nick Hind', 'Shaun Atley', 'Steven May', 'Jake Lever'], 10: ['Heath Shaw', 'Kane Lambert', 'Jasper Pittard', 'Sam Menegola', 'Robbie Gray', 'Taylor Adams', 'Paul Seedsman', 'Brody Mihocek', 'Marlion Pickett', 'Rowan Marshall', 'Hugh McCluggage', 'Dylan Grimes', 'Brodie Grundy', 'James Stewart', 'Zach Tuohy', 'Nick Hind', 'Christian Salem', 'Shaun Atley', 'Steven May', 'Shai Bolton', 'Jake Lever'], 11: ['Kane Lambert', 'Jasper Pittard', 'Zac Fisher', 'Sam Menegola', 'Robbie Gray', 'Taylor Adams', 'Brody Mihocek', 'Patrick Dangerfield', 'Marlion Pickett', 'Hugh McCluggage', 'Dylan Grimes', 'Brodie Grundy', 'James Stewart', 'Nathan Wilson', 'Zach Tuohy', 'Nick Hind', 'Christian Salem', 'Patrick Cripps', 'Shaun Atley', 'Steven May', 'Jake Lever'], 12: ['Kane Lambert', 'Zac Fisher', 'Sam Menegola', 'Robbie Gray', 'Taylor Adams', 'Steele Sidebottom', 'Marlion Pickett', 'Liam Ryan', 'Lachie Whitfield', 'Dylan Grimes', 'Brodie Grundy', 'James Stewart', 'Nathan Wilson', 'Zach Tuohy', \"Tim O'Brien\", 'Nick Hind', 'Christian Salem', 'Patrick Cripps', 'Shaun Atley', 'Steven May', 'Jake Lever'], 13: ['James Cousins', 'Kane Lambert', 'Zac Fisher', 'Kade Simpson', 'Dustin Martin', 'Sam Menegola', 'Robbie Gray', 'Taylor Adams', 'Marlion Pickett', 'Liam Ryan', 'Lachie Whitfield', 'Brodie Grundy', 'James Stewart', 'Nathan Wilson', \"Tim O'Brien\", 'Christian Salem', 'Patrick Cripps', 'Shaun Atley', 'Steven May', 'Shai Bolton', 'Jake Lever'], 14: ['James Cousins', 'Zac Fisher', 'Kade Simpson', 'Robbie Gray', 'Taylor Adams', 'Patrick Dangerfield', 'Marlion Pickett', 'Liam Ryan', 'Lachie Whitfield', 'Josh Kennedy', 'Brodie Grundy', 'James Stewart', 'Nathan Wilson', \"Tim O'Brien\", 'Jamie Elliott', 'Christian Salem', 'Patrick Cripps', 'Shaun Atley', 'Steven May', 'Jake Lever', 'Tim Taranto'], 15: ['James Cousins', 'Blake Acres', 'Harry Schoenberg', 'Zac Fisher', 'Kade Simpson', 'Taylor Adams', 'Marlion Pickett', 'Liam Ryan', 'Lachie Whitfield', 'Josh Kennedy', 'Brodie Grundy', 'James Stewart', 'Nathan Wilson', \"Tim O'Brien\", 'Christian Salem', 'Patrick Cripps', 'Steven May', 'Adam Tomlinson', 'Luke Parker', 'Jake Lever', 'Tim Taranto'], 16: ['James Cousins', 'Blake Acres', 'Harry Schoenberg', 'Zac Fisher', 'Kade Simpson', 'Jye Caldwell', 'Patrick Dangerfield', 'Tom Rockliff', 'Rowan Marshall', 'Liam Ryan', 'Lachie Whitfield', 'Josh Kennedy', 'James Stewart', 'Nathan Wilson', \"Tim O'Brien\", 'Christian Salem', 'Patrick Cripps', 'Steven May', 'Luke Parker', 'Jake Lever', 'Tim Taranto'], 17: ['James Cousins', 'Tom Green', 'Blake Acres', 'Harry Schoenberg', 'Lachlan Sholl', 'Kade Simpson', 'Dustin Martin', 'Tom Rockliff', 'Liam Ryan', 'Jesse Hogan', 'Lachie Whitfield', 'Josh Kennedy', 'James Stewart', 'Nathan Wilson', \"Tim O'Brien\", 'Christian Salem', 'Patrick Cripps', 'Steven May', 'Luke Parker', 'Jake Lever', 'Tim Taranto'], 18: ['James Cousins', 'Tom Green', 'Blake Acres', 'Matthew Kennedy', 'Paul Puopolo', 'Harry Schoenberg', 'Lachlan Sholl', 'Kade Simpson', 'Jesse Hogan', 'Lachie Whitfield', 'Josh Kennedy', 'James Stewart', 'Nathan Wilson', \"Tim O'Brien\", 'Christian Salem', 'Patrick Cripps', 'Steven May', 'Adam Tomlinson', 'Luke Parker', 'Jake Lever', 'Tim Taranto'], 19: [], 20: [], 21: [], 22: [], 23: [], 24: [], 25: [], 26: [], 27: [], 28: [], 29: []}\n"
          ]
        }
      ],
      "source": [
        "print(roundchanges)\n",
        "print(roundplayers)\n"
      ]
    },
    {
      "cell_type": "code",
      "execution_count": null,
      "metadata": {},
      "outputs": [],
      "source": []
    }
  ]
}