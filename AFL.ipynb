{
  "nbformat": 4,
  "nbformat_minor": 0,
  "metadata": {
    "colab": {
      "name": "AFL.ipynb",
      "provenance": [],
      "collapsed_sections": []
    },
    "kernelspec": {
      "name": "python3",
      "display_name": "Python 3",
      "language": "python"
    }
  },
  "cells": [
    {
      "cell_type": "code",
      "execution_count": 19,
      "metadata": {},
      "outputs": [
        {
          "output_type": "stream",
          "name": "stdout",
          "text": [
            "Traceback (most recent call last):\n  File \"/Users/conrad/miniconda3/envs/conrad/bin/jupyter\", line 11, in <module>\n    sys.exit(main())\n  File \"/Users/conrad/miniconda3/envs/conrad/lib/python3.6/site-packages/jupyter_core/command.py\", line 285, in main\n    command = _jupyter_abspath(subcommand)\n  File \"/Users/conrad/miniconda3/envs/conrad/lib/python3.6/site-packages/jupyter_core/command.py\", line 125, in _jupyter_abspath\n    'Jupyter command `{}` not found.'.format(jupyter_subcommand)\nException: Jupyter command `jupyter-nbconvert` not found.\n"
          ]
        }
      ],
      "source": [
        "# !jupyter nbconvert --to script AFL.ipynb"
      ]
    },
    {
      "cell_type": "code",
      "metadata": {
        "id": "c8cfL_UgRZhj"
      },
      "source": [
        "# !pip install pyomo\n",
        "# !pip install --upgrade --user ortools\n",
        "# !apt-get install -y glpk-utils\n",
        "# !sudo apt-get update -y\n",
        "# !sudo apt-get install -y coinor-cbc"
      ],
      "execution_count": 49,
      "outputs": []
    },
    {
      "cell_type": "code",
      "execution_count": 50,
      "metadata": {},
      "outputs": [],
      "source": [
        "# !pip install -U git+https://github.com/coin-or/pulp\n",
        "# !sudo pulptest\n",
        "# !pip install pandas"
      ]
    },
    {
      "cell_type": "code",
      "execution_count": 51,
      "metadata": {},
      "outputs": [],
      "source": [
        "import numpy as np\n",
        "import pandas as pd\n",
        "from pulp import *"
      ]
    },
    {
      "cell_type": "code",
      "execution_count": 52,
      "metadata": {},
      "outputs": [
        {
          "output_type": "stream",
          "name": "stdout",
          "text": [
            "WARNING: failed a test\n"
          ]
        }
      ],
      "source": [
        "def test1(test_df):\n",
        "    assert len(test_df[test_df['Name'].isna()])==0\n",
        "    for r in test_df['Round'].unique():\n",
        "        names = test_df[test_df['Round']==r]['Name'].unique()\n",
        "        try:    \n",
        "            assert len(test_df[~(test_df['Name'].isin(names))])==0\n",
        "        except AssertionError:\n",
        "            # print(r)\n",
        "            # print(test_df[~(test_df['Name'].isin(names))])\n",
        "            assert len(test_df[~(test_df['Name'].isin(names))])==0\n",
        "\n"
      ]
    },
    {
      "cell_type": "code",
      "metadata": {
        "id": "sy6uwTvL0rQs"
      },
      "source": [
        "\n",
        "def getPlayers(full_player_scores = pd.read_csv('full_players.csv', index_col=0)):\n",
        "    full_player_scores.dropna(subset=['Name'])\n",
        "    full_player_scores = full_player_scores.reset_index(drop=True)\n",
        "    full_player_scores['Score'] = pd.to_numeric(full_player_scores['Score'], errors='coerce')\n",
        "\n",
        "    # testfilter\n",
        "    # full_player_scores = full_player_scores[full_player_scores['Round']<4]\n",
        "    # players_to_keep = [\"Adam Tomlinson\", \"Max Gawn\"]\n",
        "    # players_to_keep = full_player_scores['Name'].unique()[:100]\n",
        "    # full_player_scores = full_player_scores[full_player_scores['Name'].isin(players_to_keep)]\n",
        "\n",
        "\n",
        "    full_player_scores_2021 = full_player_scores[full_player_scores['Year']==2021]\n",
        "    full_player_scores = full_player_scores[full_player_scores['Year']==2020]\n",
        "\n",
        "    # Only keep players who are playing this season\n",
        "    full_player_scores = full_player_scores[full_player_scores['Name'].isin(full_player_scores_2021['Name'].unique())].dropna(how='all').dropna(how='all')\n",
        "\n",
        "    df = full_player_scores.copy()\n",
        "\n",
        "    df1 = df[['Name','Team','Position','Price', 'Team 1','Year']].drop_duplicates()\n",
        "    df2 = df[['Round']].drop_duplicates()\n",
        "    df1['key'] = 0\n",
        "    df2['key'] = 0\n",
        "    df = df1.merge(df2, how='outer', on=['key'])\n",
        "    df = df.sort_values('Round')\n",
        "    df = df.drop('key', axis=1)\n",
        "    full_player_scores = full_player_scores.merge(df, on=['Name', 'Team', 'Position','Round','Price', 'Team 1','Year'],how='right').reset_index(drop=True)\n",
        "    try:\n",
        "        test1(full_player_scores)\n",
        "    except AssertionError:\n",
        "        print('WARNING: failed a test')\n",
        "\n",
        "\n",
        "    player_num_games_played = full_player_scores[full_player_scores['Score']>0].groupby('Name')['Team 2'].transform('count')\n",
        "\n",
        "    opponent_average_score = full_player_scores.groupby('Team 2')['Score'].transform('mean')\n",
        "    player_average_score = full_player_scores.groupby('Name')['Score'].transform('mean')\n",
        "    player_average_value = player_average_score/full_player_scores['Price']\n",
        "\n",
        "    na_locs = full_player_scores['Score'].isna()\n",
        "\n",
        "    full_player_scores.loc[na_locs,'Score'] = ((opponent_average_score+player_average_score)/2).loc[na_locs]\n",
        "\n",
        "    na_locs = full_player_scores['Score'].isna()\n",
        "\n",
        "    full_player_scores.loc[na_locs,'Score'] = (player_average_score).loc[na_locs]\n",
        "\n",
        "    RU_Players = full_player_scores.copy()\n",
        "\n",
        "    assert list(full_player_scores['Year'].unique())==[2020]\n",
        "\n",
        "    RU_Players = RU_Players.sort_values('Score',ascending=False)\n",
        "\n",
        "    RU_Players = full_player_scores.copy()\n",
        "\n",
        "    assert list(full_player_scores['Year'].unique())==[2020]\n",
        "\n",
        "    RU_Players = RU_Players.sort_values('Score',ascending=False)\n",
        "    RU_Players['id'] = \"R:\"+RU_Players['Round'].astype(str)+\"_P:\"+RU_Players['Name']\n",
        "\n",
        "    # Only take players who played more than 5 games\n",
        "    # players_to_keep = player_num_games_played[player_num_games_played>5].index.values\n",
        "    # RU_Players = RU_Players.reindex(index=players_to_keep).dropna(how='all')\n",
        "\n",
        "    # Only take players in top quater of average values (score/price)\n",
        "    # player_best_values = player_average_value.sort_values(ascending=False)[:int(len(player_average_value)/4)]\n",
        "    # RU_Players = RU_Players.reindex(index=player_best_values.index.values).dropna(how='all') \n",
        "\n",
        "    try:\n",
        "        test1(RU_Players)\n",
        "    except AssertionError:\n",
        "        print('WARNING: failed a test')\n",
        "\n",
        "    RU_Players.groupby(['Round','Position']).count()\n",
        "    return RU_Players\n",
        "RU_Players = getPlayers()"
      ],
      "execution_count": 53,
      "outputs": []
    },
    {
      "cell_type": "code",
      "metadata": {
        "colab": {
          "base_uri": "https://localhost:8080/"
        },
        "id": "3yLWwxpJ48TW",
        "outputId": "8b83ef68-43c6-48c6-ea54-0ba9b6d7c9e2",
        "tags": []
      },
      "source": [
        "def getProblem(RU_Players):\n",
        "  player_contraints = {}\n",
        "  prob = LpProblem(\"aflProblem\", LpMaximize)\n",
        "  overall_score = LpVariable('OverallScore',0)\n",
        "  for p_id,score in zip(RU_Players['id'].iteritems(),RU_Players['Score'].iteritems()):\n",
        "    p_id = p_id[1]\n",
        "    player_contraints[p_id] = LpVariable(p_id, 0, 1, cat='Binary')\n",
        "\n",
        "  player_contraints = LpVariable.dicts(\"PC\", player_contraints, 0, 1, cat='Binary')\n",
        "  prob += lpSum([player_contraints[p_id[1]]*score[1] for p_id,score in zip(RU_Players['id'].iteritems(),RU_Players['Score'].iteritems())]), \"Total score is maximized\"\n",
        "\n",
        "  # START TRANFERS\n",
        "  RU_Players_prev_round = RU_Players\n",
        "  RU_Players_prev_round['Round_prev'] = RU_Players_prev_round['Round'] - 1\n",
        "\n",
        "  RU_transfers = RU_Players[['id','Position','Round','Name']].merge(RU_Players_prev_round[['id','Position','Round_prev','Name']],left_on=['Position','Round'],right_on=['Position','Round_prev'], suffixes = ('_prev','_next'))\n",
        "\n",
        "  RU_transfers['Transfer'] = RU_transfers['id_prev']+'-'+RU_transfers['id_next']\n",
        "  RU_transfers=RU_transfers[['id_prev',\t'Round',\t'Name_prev',\t'id_next',\t'Round_prev',\t'Name_next',\t'Transfer']].drop_duplicates()\n",
        "\n",
        "  transfer_contraints = {}\n",
        "\n",
        "  # Define transfer itermediaries\n",
        "  for i,t_id in RU_transfers['Transfer'].iteritems():\n",
        "    transfer_contraints[t_id] = LpVariable(t_id, 0, 1, cat='Binary')\n",
        "\n",
        "  transfer_contraints = LpVariable.dicts(\"TC\", transfer_contraints, 0, 1, cat='Binary')\n",
        "\n",
        "  # map rounds end to itermediary\n",
        "  for prev_player,trans in RU_transfers.groupby(['id_prev'])['Transfer'].apply(list).iteritems():\n",
        "    prob += lpSum([transfer_contraints[t_id] for t_id in trans]) == player_contraints[prev_player], f\"Previous player equals transfer intermediatary for {prev_player} equals {trans}\"\n",
        "\n",
        "  # map intermediary to next round\n",
        "  for next_player,trans in RU_transfers.groupby(['id_next'])['Transfer'].apply(list).iteritems():\n",
        "    prob += lpSum([transfer_contraints[t_id] for t_id in trans]) == player_contraints[next_player], f\"Next player equals transfer intermediatary for {next_player} equals {trans}\"\n",
        "\n",
        "  for round, transfers in RU_transfers[RU_transfers['Name_prev'] != RU_transfers['Name_next']][['Round','Transfer']].drop_duplicates().groupby(['Round'])['Transfer'].apply(list).iteritems():\n",
        "    prob += lpSum([transfer_contraints[t_id] for t_id in transfers]) <= 4, f\"Round: {round}, has less than or equal to 4 transfers\"\n",
        "    print(f'{[transfer_contraints[t_id] for t_id in transfers]}) <= 4')\n",
        "  # END TRANFERS\n",
        "\n",
        "  # START money contraint\n",
        "  money = 13 * 10**6\n",
        "  for round,player in RU_Players[['id','Price','Round']].drop_duplicates().groupby(['Round'])['id'].apply(list).iteritems():\n",
        "    prob += lpSum([player_contraints[p_id]*RU_Players[RU_Players['id']==p_id]['Price'].values[0] for p_id in player]) <= money, f\"Round: {round}, has less than ${money}\"\n",
        "  # END money contraint\n",
        "\n",
        "  #START Contrain each player to a single position per round\n",
        "  RU_Players_Position_Casting = RU_Players.copy()\n",
        "  RU_Players_Position_Casting['pl_pos_id'] = (RU_Players['id']+'_'+RU_Players['Position'])\n",
        "\n",
        "  Players_Position_Casting_Series = RU_Players_Position_Casting[['id','pl_pos_id','Round']].drop_duplicates().groupby(['id','Round'])['pl_pos_id'].apply(list).iteritems()\n",
        "\n",
        "  Players_Position_Casting = {}\n",
        "  for i,r in RU_Players_Position_Casting[['pl_pos_id']].drop_duplicates().iterrows():\n",
        "    Players_Position_Casting[r['pl_pos_id']] = LpVariable(r['pl_pos_id'], 0, 1, cat='Binary')\n",
        "\n",
        "  Players_Position_Casting = LpVariable.dicts(\"Players_Position_Casting\", Players_Position_Casting, 0, 1, cat='Binary')\n",
        "\n",
        "  for (p_id,round), pl_pos_ids in Players_Position_Casting_Series:\n",
        "      player_possible_positions = [Players_Position_Casting[pl_pos_id] for pl_pos_id  in pl_pos_ids] \n",
        "      prob += lpSum(player_possible_positions) <= player_contraints[p_id], f\"Must have only have equal to {p_id} (0 or 1) of {player_possible_positions} positions in round {round}\"\n",
        "  #END Contrain each player to a single position per round\n",
        "\n",
        "  # START max players from each position\n",
        "  # allowed_holds_per_position = {'DE': 8, \"MI\" : 10, 'RU' : 3, 'FO':9}\n",
        "  allowed_holds_per_position = {'DE': 5, \"MI\" : 1, 'RU' : 1, 'FO':1}\n",
        "\n",
        "  print('START max players from each position')\n",
        "  for (position,round), pl_pos_ids in RU_Players_Position_Casting[['pl_pos_id','Position','Round']].drop_duplicates().groupby(['Position', 'Round'])['pl_pos_id'].apply(list).iteritems():\n",
        "    prob += lpSum([Players_Position_Casting[pl_pos_id] for pl_pos_id in pl_pos_ids]) == allowed_holds_per_position[position], f\"Position: {position}, has less than {allowed_holds_per_position[position]} in round {round}\"\n",
        "    print('\\n')\n",
        "  # END max players from each position\n",
        "\n",
        "  print('done with pre-work')\n",
        "  return prob, transfer_contraints\n",
        "prob, transfer_contraints = getProblem(RU_Players)"
      ],
      "execution_count": 54,
      "outputs": [
        {
          "output_type": "error",
          "ename": "KeyboardInterrupt",
          "evalue": "",
          "traceback": [
            "\u001b[0;31m---------------------------------------------------------------------------\u001b[0m",
            "\u001b[0;31mKeyboardInterrupt\u001b[0m                         Traceback (most recent call last)",
            "\u001b[0;32m<ipython-input-54-c35eabde5ebc>\u001b[0m in \u001b[0;36m<module>\u001b[0;34m\u001b[0m\n\u001b[1;32m     75\u001b[0m   \u001b[0mprint\u001b[0m\u001b[0;34m(\u001b[0m\u001b[0;34m'done with pre-work'\u001b[0m\u001b[0;34m)\u001b[0m\u001b[0;34m\u001b[0m\u001b[0;34m\u001b[0m\u001b[0m\n\u001b[1;32m     76\u001b[0m   \u001b[0;32mreturn\u001b[0m \u001b[0mprob\u001b[0m\u001b[0;34m,\u001b[0m \u001b[0mtransfer_contraints\u001b[0m\u001b[0;34m\u001b[0m\u001b[0;34m\u001b[0m\u001b[0m\n\u001b[0;32m---> 77\u001b[0;31m \u001b[0mprob\u001b[0m\u001b[0;34m,\u001b[0m \u001b[0mtransfer_contraints\u001b[0m \u001b[0;34m=\u001b[0m \u001b[0mgetProblem\u001b[0m\u001b[0;34m(\u001b[0m\u001b[0mRU_Players\u001b[0m\u001b[0;34m)\u001b[0m\u001b[0;34m\u001b[0m\u001b[0;34m\u001b[0m\u001b[0m\n\u001b[0m",
            "\u001b[0;32m<ipython-input-54-c35eabde5ebc>\u001b[0m in \u001b[0;36mgetProblem\u001b[0;34m(RU_Players)\u001b[0m\n\u001b[1;32m     23\u001b[0m   \u001b[0;31m# Define transfer itermediaries\u001b[0m\u001b[0;34m\u001b[0m\u001b[0;34m\u001b[0m\u001b[0;34m\u001b[0m\u001b[0m\n\u001b[1;32m     24\u001b[0m   \u001b[0;32mfor\u001b[0m \u001b[0mi\u001b[0m\u001b[0;34m,\u001b[0m\u001b[0mt_id\u001b[0m \u001b[0;32min\u001b[0m \u001b[0mRU_transfers\u001b[0m\u001b[0;34m[\u001b[0m\u001b[0;34m'Transfer'\u001b[0m\u001b[0;34m]\u001b[0m\u001b[0;34m.\u001b[0m\u001b[0miteritems\u001b[0m\u001b[0;34m(\u001b[0m\u001b[0;34m)\u001b[0m\u001b[0;34m:\u001b[0m\u001b[0;34m\u001b[0m\u001b[0;34m\u001b[0m\u001b[0m\n\u001b[0;32m---> 25\u001b[0;31m     \u001b[0mtransfer_contraints\u001b[0m\u001b[0;34m[\u001b[0m\u001b[0mt_id\u001b[0m\u001b[0;34m]\u001b[0m \u001b[0;34m=\u001b[0m \u001b[0mLpVariable\u001b[0m\u001b[0;34m(\u001b[0m\u001b[0mt_id\u001b[0m\u001b[0;34m,\u001b[0m \u001b[0;36m0\u001b[0m\u001b[0;34m,\u001b[0m \u001b[0;36m1\u001b[0m\u001b[0;34m,\u001b[0m \u001b[0mcat\u001b[0m\u001b[0;34m=\u001b[0m\u001b[0;34m'Binary'\u001b[0m\u001b[0;34m)\u001b[0m\u001b[0;34m\u001b[0m\u001b[0;34m\u001b[0m\u001b[0m\n\u001b[0m\u001b[1;32m     26\u001b[0m \u001b[0;34m\u001b[0m\u001b[0m\n\u001b[1;32m     27\u001b[0m   \u001b[0mtransfer_contraints\u001b[0m \u001b[0;34m=\u001b[0m \u001b[0mLpVariable\u001b[0m\u001b[0;34m.\u001b[0m\u001b[0mdicts\u001b[0m\u001b[0;34m(\u001b[0m\u001b[0;34m\"TC\"\u001b[0m\u001b[0;34m,\u001b[0m \u001b[0mtransfer_contraints\u001b[0m\u001b[0;34m,\u001b[0m \u001b[0;36m0\u001b[0m\u001b[0;34m,\u001b[0m \u001b[0;36m1\u001b[0m\u001b[0;34m,\u001b[0m \u001b[0mcat\u001b[0m\u001b[0;34m=\u001b[0m\u001b[0;34m'Binary'\u001b[0m\u001b[0;34m)\u001b[0m\u001b[0;34m\u001b[0m\u001b[0;34m\u001b[0m\u001b[0m\n",
            "\u001b[0;32m~/miniconda3/envs/conrad/lib/python3.6/site-packages/pulp/pulp.py\u001b[0m in \u001b[0;36m__init__\u001b[0;34m(self, name, lowBound, upBound, cat, e)\u001b[0m\n\u001b[1;32m    241\u001b[0m     def __init__(self, name, lowBound = None, upBound = None,\n\u001b[1;32m    242\u001b[0m                   cat = const.LpContinuous, e = None):\n\u001b[0;32m--> 243\u001b[0;31m         \u001b[0mLpElement\u001b[0m\u001b[0;34m.\u001b[0m\u001b[0m__init__\u001b[0m\u001b[0;34m(\u001b[0m\u001b[0mself\u001b[0m\u001b[0;34m,\u001b[0m\u001b[0mname\u001b[0m\u001b[0;34m)\u001b[0m\u001b[0;34m\u001b[0m\u001b[0;34m\u001b[0m\u001b[0m\n\u001b[0m\u001b[1;32m    244\u001b[0m         \u001b[0mself\u001b[0m\u001b[0;34m.\u001b[0m\u001b[0m_lowbound_original\u001b[0m \u001b[0;34m=\u001b[0m \u001b[0mself\u001b[0m\u001b[0;34m.\u001b[0m\u001b[0mlowBound\u001b[0m \u001b[0;34m=\u001b[0m \u001b[0mlowBound\u001b[0m\u001b[0;34m\u001b[0m\u001b[0;34m\u001b[0m\u001b[0m\n\u001b[1;32m    245\u001b[0m         \u001b[0mself\u001b[0m\u001b[0;34m.\u001b[0m\u001b[0m_upbound_original\u001b[0m \u001b[0;34m=\u001b[0m \u001b[0mself\u001b[0m\u001b[0;34m.\u001b[0m\u001b[0mupBound\u001b[0m \u001b[0;34m=\u001b[0m \u001b[0mupBound\u001b[0m\u001b[0;34m\u001b[0m\u001b[0;34m\u001b[0m\u001b[0m\n",
            "\u001b[0;32m~/miniconda3/envs/conrad/lib/python3.6/site-packages/pulp/pulp.py\u001b[0m in \u001b[0;36m__init__\u001b[0;34m(self, name)\u001b[0m\n\u001b[1;32m    157\u001b[0m \u001b[0;34m\u001b[0m\u001b[0m\n\u001b[1;32m    158\u001b[0m     \u001b[0;32mdef\u001b[0m \u001b[0m__init__\u001b[0m\u001b[0;34m(\u001b[0m\u001b[0mself\u001b[0m\u001b[0;34m,\u001b[0m \u001b[0mname\u001b[0m\u001b[0;34m)\u001b[0m\u001b[0;34m:\u001b[0m\u001b[0;34m\u001b[0m\u001b[0;34m\u001b[0m\u001b[0m\n\u001b[0;32m--> 159\u001b[0;31m         \u001b[0mself\u001b[0m\u001b[0;34m.\u001b[0m\u001b[0mname\u001b[0m \u001b[0;34m=\u001b[0m \u001b[0mname\u001b[0m\u001b[0;34m\u001b[0m\u001b[0;34m\u001b[0m\u001b[0m\n\u001b[0m\u001b[1;32m    160\u001b[0m          \u001b[0;31m# self.hash MUST be different for each variable\u001b[0m\u001b[0;34m\u001b[0m\u001b[0;34m\u001b[0m\u001b[0;34m\u001b[0m\u001b[0m\n\u001b[1;32m    161\u001b[0m         \u001b[0;31m# else dict() will call the comparison operators that are overloaded\u001b[0m\u001b[0;34m\u001b[0m\u001b[0;34m\u001b[0m\u001b[0;34m\u001b[0m\u001b[0m\n",
            "\u001b[0;32m~/miniconda3/envs/conrad/lib/python3.6/site-packages/pulp/pulp.py\u001b[0m in \u001b[0;36msetName\u001b[0;34m(self, name)\u001b[0m\n\u001b[1;32m    149\u001b[0m             \u001b[0;32mif\u001b[0m \u001b[0mself\u001b[0m\u001b[0;34m.\u001b[0m\u001b[0mexpression\u001b[0m\u001b[0;34m.\u001b[0m\u001b[0mmatch\u001b[0m\u001b[0;34m(\u001b[0m\u001b[0mname\u001b[0m\u001b[0;34m)\u001b[0m\u001b[0;34m:\u001b[0m\u001b[0;34m\u001b[0m\u001b[0;34m\u001b[0m\u001b[0m\n\u001b[1;32m    150\u001b[0m                 \u001b[0mwarnings\u001b[0m\u001b[0;34m.\u001b[0m\u001b[0mwarn\u001b[0m\u001b[0;34m(\u001b[0m\u001b[0;34m\"The name {} has illegal characters that will be replaced by _\"\u001b[0m\u001b[0;34m.\u001b[0m\u001b[0mformat\u001b[0m\u001b[0;34m(\u001b[0m\u001b[0mname\u001b[0m\u001b[0;34m)\u001b[0m\u001b[0;34m)\u001b[0m\u001b[0;34m\u001b[0m\u001b[0;34m\u001b[0m\u001b[0m\n\u001b[0;32m--> 151\u001b[0;31m             \u001b[0mself\u001b[0m\u001b[0;34m.\u001b[0m\u001b[0m__name\u001b[0m \u001b[0;34m=\u001b[0m \u001b[0mstr\u001b[0m\u001b[0;34m(\u001b[0m\u001b[0mname\u001b[0m\u001b[0;34m)\u001b[0m\u001b[0;34m.\u001b[0m\u001b[0mtranslate\u001b[0m\u001b[0;34m(\u001b[0m\u001b[0mself\u001b[0m\u001b[0;34m.\u001b[0m\u001b[0mtrans\u001b[0m\u001b[0;34m)\u001b[0m\u001b[0;34m\u001b[0m\u001b[0;34m\u001b[0m\u001b[0m\n\u001b[0m\u001b[1;32m    152\u001b[0m         \u001b[0;32melse\u001b[0m\u001b[0;34m:\u001b[0m\u001b[0;34m\u001b[0m\u001b[0;34m\u001b[0m\u001b[0m\n\u001b[1;32m    153\u001b[0m             \u001b[0mself\u001b[0m\u001b[0;34m.\u001b[0m\u001b[0m__name\u001b[0m \u001b[0;34m=\u001b[0m \u001b[0;32mNone\u001b[0m\u001b[0;34m\u001b[0m\u001b[0;34m\u001b[0m\u001b[0m\n",
            "\u001b[0;31mKeyboardInterrupt\u001b[0m: "
          ]
        }
      ]
    },
    {
      "cell_type": "code",
      "metadata": {
        "colab": {
          "base_uri": "https://localhost:8080/"
        },
        "id": "l-HWpbAuTL_T",
        "outputId": "d7bb891d-552e-47d9-bdb9-d17b20102925"
      },
      "source": [
        "try:\n",
        "    solver = getSolver('COIN_CMD', timeLimit=200, msg=True,gapRel = 0.2)\n",
        "    prob.solve(solver)\n",
        "except:\n",
        "    print('USING INBUILT SOLVER!!  \\n'*100)\n",
        "    solver = getSolver('PULP_CBC_CMD')\n",
        "    prob.solve(solver)"
      ],
      "execution_count": null,
      "outputs": []
    },
    {
      "cell_type": "code",
      "execution_count": null,
      "metadata": {},
      "outputs": [],
      "source": [
        "prob"
      ]
    },
    {
      "cell_type": "code",
      "execution_count": null,
      "metadata": {},
      "outputs": [],
      "source": [
        "for i,v in transfer_contraints.items():\n",
        "\n",
        "    if v.value() != 0:\n",
        "        # print(v.value())\n",
        "        # print(i)\n",
        "        last_name = i[i.find(' ')+1: i.find('-')]\n",
        "        last_letters = i[-len(last_name):]\n",
        "        # print(last_name)\n",
        "        # print(last_letters)\n",
        "        # print\n",
        "        if not last_name == last_letters:\n",
        "            print(i)"
      ]
    },
    {
      "cell_type": "code",
      "execution_count": 30,
      "metadata": {},
      "outputs": [
        {
          "output_type": "stream",
          "name": "stdout",
          "text": [
            "Round  Position\n1      RU          1\n2      RU          1\n3      RU          1\nName: is_selected, dtype: int64\n"
          ]
        }
      ],
      "source": [
        "results = []\n",
        "for name, player_position in Players_Position_Casting.items():\n",
        "    if player_position.value() != 0:\n",
        "        results.append([name,1])\n",
        "Players_selected = pd.DataFrame(results, columns=['pl_pos_id', 'is_selected'])\n",
        "RU_Players_Position_Casting = RU_Players_Position_Casting.merge(Players_selected, on = ['pl_pos_id'])\n",
        "RU_Players_Position_Casting.to_csv('solution.csv')\n",
        "print(RU_Players_Position_Casting.groupby(['Round','Position']).sum()['is_selected'])"
      ]
    },
    {
      "cell_type": "code",
      "execution_count": 31,
      "metadata": {},
      "outputs": [
        {
          "output_type": "execute_result",
          "data": {
            "text/plain": [
              "   Round   Team 1    Team 2  Year  Score           Name     Team Position  \\\n",
              "0      1  Magpies  Bulldogs  2020  114.0  Brodie Grundy  Magpies       RU   \n",
              "1      2  Magpies    Tigers  2020   82.0  Brodie Grundy  Magpies       RU   \n",
              "2      3  Magpies    Saints  2020   99.0  Brodie Grundy  Magpies       RU   \n",
              "\n",
              "    Price                   id  Round_prev               pl_pos_id  \\\n",
              "0  867000  R:1_P:Brodie Grundy           0  R:1_P:Brodie Grundy_RU   \n",
              "1  867000  R:2_P:Brodie Grundy           1  R:2_P:Brodie Grundy_RU   \n",
              "2  867000  R:3_P:Brodie Grundy           2  R:3_P:Brodie Grundy_RU   \n",
              "\n",
              "   is_selected  \n",
              "0            1  \n",
              "1            1  \n",
              "2            1  "
            ],
            "text/html": "<div>\n<style scoped>\n    .dataframe tbody tr th:only-of-type {\n        vertical-align: middle;\n    }\n\n    .dataframe tbody tr th {\n        vertical-align: top;\n    }\n\n    .dataframe thead th {\n        text-align: right;\n    }\n</style>\n<table border=\"1\" class=\"dataframe\">\n  <thead>\n    <tr style=\"text-align: right;\">\n      <th></th>\n      <th>Round</th>\n      <th>Team 1</th>\n      <th>Team 2</th>\n      <th>Year</th>\n      <th>Score</th>\n      <th>Name</th>\n      <th>Team</th>\n      <th>Position</th>\n      <th>Price</th>\n      <th>id</th>\n      <th>Round_prev</th>\n      <th>pl_pos_id</th>\n      <th>is_selected</th>\n    </tr>\n  </thead>\n  <tbody>\n    <tr>\n      <th>0</th>\n      <td>1</td>\n      <td>Magpies</td>\n      <td>Bulldogs</td>\n      <td>2020</td>\n      <td>114.0</td>\n      <td>Brodie Grundy</td>\n      <td>Magpies</td>\n      <td>RU</td>\n      <td>867000</td>\n      <td>R:1_P:Brodie Grundy</td>\n      <td>0</td>\n      <td>R:1_P:Brodie Grundy_RU</td>\n      <td>1</td>\n    </tr>\n    <tr>\n      <th>1</th>\n      <td>2</td>\n      <td>Magpies</td>\n      <td>Tigers</td>\n      <td>2020</td>\n      <td>82.0</td>\n      <td>Brodie Grundy</td>\n      <td>Magpies</td>\n      <td>RU</td>\n      <td>867000</td>\n      <td>R:2_P:Brodie Grundy</td>\n      <td>1</td>\n      <td>R:2_P:Brodie Grundy_RU</td>\n      <td>1</td>\n    </tr>\n    <tr>\n      <th>2</th>\n      <td>3</td>\n      <td>Magpies</td>\n      <td>Saints</td>\n      <td>2020</td>\n      <td>99.0</td>\n      <td>Brodie Grundy</td>\n      <td>Magpies</td>\n      <td>RU</td>\n      <td>867000</td>\n      <td>R:3_P:Brodie Grundy</td>\n      <td>2</td>\n      <td>R:3_P:Brodie Grundy_RU</td>\n      <td>1</td>\n    </tr>\n  </tbody>\n</table>\n</div>"
          },
          "metadata": {},
          "execution_count": 31
        }
      ],
      "source": [
        "RU_Players_Position_Casting.sort_values(['Round'])"
      ]
    },
    {
      "cell_type": "code",
      "execution_count": 32,
      "metadata": {},
      "outputs": [],
      "source": [
        "for round in RU_Players_Position_Casting['Round'].unique():\n",
        "    assert RU_Players_Position_Casting[RU_Players_Position_Casting['Round']==round]['is_selected'].sum()"
      ]
    },
    {
      "cell_type": "code",
      "execution_count": null,
      "metadata": {},
      "outputs": [],
      "source": []
    },
    {
      "cell_type": "code",
      "execution_count": null,
      "metadata": {},
      "outputs": [],
      "source": []
    }
  ]
}