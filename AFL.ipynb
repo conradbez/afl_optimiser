{
  "nbformat": 4,
  "nbformat_minor": 0,
  "metadata": {
    "colab": {
      "name": "AFL.ipynb",
      "provenance": [],
      "collapsed_sections": []
    },
    "kernelspec": {
      "name": "python3",
      "display_name": "Python 3.8.5 64-bit ('miniconda3': virtualenv)",
      "metadata": {
        "interpreter": {
          "hash": "b68d3e4a8a27915f37b2d139700eb5283434b77c34d99eaf5ca6582ad00a6ab1"
        }
      }
    }
  },
  "cells": [
    {
      "cell_type": "code",
      "metadata": {
        "id": "c8cfL_UgRZhj"
      },
      "source": [
        "# !pip install pyomo\n",
        "# !pip install --upgrade --user ortools\n",
        "# !apt-get install -y glpk-utils\n",
        "# !sudo apt-get update -y\n",
        "# !sudo apt-get install -y coinor-cbc"
      ],
      "execution_count": null,
      "outputs": []
    },
    {
      "cell_type": "code",
      "execution_count": null,
      "metadata": {},
      "outputs": [],
      "source": [
        "!pip install -U git+https://github.com/coin-or/pulp\n",
        "!sudo pulptest"
      ]
    },
    {
      "cell_type": "code",
      "metadata": {
        "colab": {
          "base_uri": "https://localhost:8080/",
          "height": 395
        },
        "id": "E2GvnXxCQ2nl",
        "outputId": "d9521666-a081-4e49-b6b2-a8b6a604b618"
      },
      "source": [
        "import pandas as pd\n",
        "from pulp import *"
      ],
      "execution_count": 2,
      "outputs": []
    },
    {
      "cell_type": "code",
      "execution_count": 3,
      "metadata": {},
      "outputs": [],
      "source": [
        "# full_player_scores[full_player_scores['Score']<1 and ]"
      ]
    },
    {
      "cell_type": "code",
      "execution_count": 4,
      "metadata": {},
      "outputs": [],
      "source": [
        "# full_player_scores[(full_player_scores['Name']=='Zac Bailey')&(full_player_scores['Year']==2020)].sort_values('Round')"
      ]
    },
    {
      "cell_type": "code",
      "metadata": {
        "id": "sy6uwTvL0rQs"
      },
      "source": [
        "full_player_scores = pd.read_csv('full_players.csv', index_col=0)\n",
        "full_player_scores = full_player_scores.reset_index(drop=True)\n",
        "full_player_scores['Score'] = pd.to_numeric(full_player_scores['Score'], errors='coerce')\n",
        "# full_player_scores['Value'] = full_player_scores['Score']/full_player_scores['Price']\n",
        "full_player_scores = full_player_scores[full_player_scores['Year']==2020]\n",
        "\n",
        "player_num_games_played = full_player_scores[full_player_scores['Score']>0].groupby('Name')['Team 2'].transform('count')\n",
        "\n",
        "opponent_average_score = full_player_scores.groupby('Team 2')['Score'].transform('mean')\n",
        "player_average_score = full_player_scores.groupby('Name')['Score'].transform('mean')\n",
        "player_average_value = player_average_score/full_player_scores['Price']\n",
        "\n",
        "na_locs = full_player_scores['Score'].isna()\n",
        "\n",
        "full_player_scores.loc[na_locs,'Score'] = ((opponent_average_score+player_average_score)/2).loc[na_locs]\n",
        "\n",
        "# RU_Players = full_player_scores[(full_player_scores['Round']<=2)&(full_player_scores['Year']==2020)] # Only two rounds\n",
        "# RU_Players = full_player_scores[(full_player_scores['Round']<=5)&(full_player_scores['Position']=='RU')&(full_player_scores['Year']==2020)] # Only rucks\n",
        "# RU_Players = full_player_scores[(full_player_scores['Round']<=2)&(full_player_scores['Year']==2020)]\n",
        "RU_Players = full_player_scores[(full_player_scores['Year']==2020)]\n",
        "# RU_Players = full_player_scores[(full_player_scores['Position']=='RU')&(full_player_scores['Year']==2020)] # Only rucks\n",
        "\n",
        "RU_Players = RU_Players.sort_values('Score',ascending=False)\n",
        "RU_Players['id'] = \"Round:\"+RU_Players['Round'].astype(str)+\"_Player:\"+RU_Players['Name']\n",
        "# RU_Players = RU_Players[RU_Players['Round']<3]\n",
        "\n",
        "# Only take players in top quater of average values (score/price)\n",
        "# player_best_values = player_average_value.sort_values(ascending=False)[:int(len(player_average_value)/4)]\n",
        "# RU_Players = RU_Players.reindex(index=player_best_values.index.values).dropna(how='all') \n",
        "\n",
        "# Only take players who played more than 5 games\n",
        "# players_to_keep = player_num_games_played[player_num_games_played>5].index.values\n",
        "# RU_Players = RU_Players.reindex(index=players_to_keep).dropna(how='all') \n",
        "# RU_Players = RU_Players.head(400)"
      ],
      "execution_count": 58,
      "outputs": []
    },
    {
      "cell_type": "code",
      "metadata": {
        "colab": {
          "base_uri": "https://localhost:8080/"
        },
        "id": "3yLWwxpJ48TW",
        "outputId": "8b83ef68-43c6-48c6-ea54-0ba9b6d7c9e2",
        "tags": [
          "outputPrepend"
        ]
      },
      "source": [
        "trades_allowed = None\n",
        "player_contraints = {}\n",
        "prob = LpProblem(\"aflProblem\", LpMaximize)\n",
        "overall_score = LpVariable('OverallScore',0)\n",
        "for p_id,score in zip(RU_Players['id'].iteritems(),RU_Players['Score'].iteritems()):\n",
        "  p_id = p_id[1]\n",
        "  player_contraints[p_id] = LpVariable(p_id, 0, 1, cat='Binary')\n",
        "\n",
        "player_contraints = LpVariable.dicts(\"player_contraints\", player_contraints, 0, 1, cat='Binary')\n",
        "prob += lpSum([player_contraints[p_id[1]]*score[1] for p_id,score in zip(RU_Players['id'].iteritems(),RU_Players['Score'].iteritems())]), \"Total score is maximized\"\n",
        "\n",
        "# START TRANFERS\n",
        "RU_Players_prev_round = RU_Players\n",
        "RU_Players_prev_round['Round_prev'] = RU_Players_prev_round['Round'] - 1\n",
        "\n",
        "RU_transfers = RU_Players[['id','Position','Round','Name']].merge(RU_Players_prev_round[['id','Position','Round_prev','Name']],left_on=['Position','Round'],right_on=['Position','Round_prev'], suffixes = ('_prev','_next'))\n",
        "RU_transfers['Transfer'] = RU_transfers['id_prev']+'->'+RU_transfers['id_next']\n",
        "\n",
        "transfer_contraints = {}\n",
        "\n",
        "# Define transfer itermediaries\n",
        "for i,t_id in RU_transfers['Transfer'].iteritems():\n",
        "  transfer_contraints[t_id] = LpVariable(t_id, 0, 1, cat='Binary')\n",
        "\n",
        "transfer_contraints = LpVariable.dicts(\"transfer_contraints\", transfer_contraints, 0, 1, cat='Binary')\n",
        "\n",
        "# map rounds end to itermediary\n",
        "for prev_player,trans in RU_transfers.groupby(['id_prev'])['Transfer'].apply(list).iteritems():\n",
        "  prob += lpSum([transfer_contraints[t_id] for t_id in trans]) == player_contraints[prev_player], \"Previous player equals transfer intermediatary for \"+prev_player\n",
        "\n",
        "# map intermediary to next round\n",
        "for next_player,trans in RU_transfers.groupby(['id_next'])['Transfer'].apply(list).iteritems():\n",
        "  prob += lpSum([transfer_contraints[t_id] for t_id in trans]) == player_contraints[next_player], \"Next player equals transfer intermediatary for \"+next_player\n",
        "\n",
        "for round, transfers in RU_transfers[RU_transfers['Name_prev'] != RU_transfers['Name_next']].groupby(['Round'])['Transfer'].apply(list).iteritems():\n",
        "  print([transfer_contraints[t_id] for t_id in transfers])\n",
        "  # print([transfer_contraints[t_id] for t_id in transfers])\n",
        "  prob += lpSum([transfer_contraints[t_id] for t_id in transfers]) <= 4, f\"Round: {round}, has less than orequal to 4 transfers\"\n",
        "# END TRANFERS\n",
        "\n",
        "# START max players from each position\n",
        "allowed_holds_per_position = {'DE': 8, \"MI\" : 10, 'RU' : 3, 'FO':9}\n",
        "\n",
        "for (position,round), player in RU_Players[['id','Position','Round']].drop_duplicates().groupby(['Position', 'Round'])['id'].apply(list).iteritems():\n",
        "  prob += lpSum([player_contraints[p_id] for p_id in player]) <= allowed_holds_per_position[position], f\"Position: {position}, has less than {allowed_holds_per_position[position]} in round {round}\"\n",
        "\n",
        "# END max players from each position\n",
        "\n",
        "# START money contraint\n",
        "money = 13 * 10**6\n",
        "for round,player in RU_Players[['id','Price','Round']].drop_duplicates().groupby(['Round'])['id'].apply(list).iteritems():\n",
        "  prob += lpSum([player_contraints[p_id]*RU_Players[RU_Players['id']==p_id]['Price'].values[0] for p_id in player]) <= money, f\"Round: {round}, has less than ${money}\"\n",
        "# END money contraint\n",
        "\n",
        "print('solving')"
      ],
      "execution_count": 59,
      "outputs": [
        {
          "output_type": "stream",
          "name": "stdout",
          "text": [
            "transfer_contraints_Round:1_Player:Josh_Jenkins__Round:2_Player:Josh_Dunkley, transfer_contraints_Round:1_Player:Josh_Jenkins__Round:2_Player:Michael_Walters, transfer_contraints_Round:1_Player:Josh_Jenkins__Round:2_Player:Gryan_Miers, transfer_contraints_Round:1_Player:Josh_Jenkins__Round:2_Player:Tom_Phillips, transfer_contraints_Round:1_Player:Josh_Jenkins__Round:2_Player:Patrick_Dangerfield, transfer_contraints_Round:1_Player:Josh_Jenkins__Round:2_Player:Steven_Motlop, transfer_contraints_Round:1_Player:Josh_Jenkins__Round:2_Player:Charlie_Cameron, transfer_contraints_Round:1_Player:Josh_Jenkins__Round:2_Player:Brad_Ebert, transfer_contraints_Round:1_Player:Josh_Jenkins__Round:2_Player:Kyle_Langford, transfer_contraints_Round:1_Player:Josh_Jenkins__Round:2_Player:Sam_Day, transfer_contraints_Round:1_Player:Josh_Jenkins__Round:2_Player:Steele_Sidebottom, transfer_contraints_Round:1_Player:Josh_Jenkins__Round:2_Player:Daniel_Butler, transfer_contraints_Round:1_Player:Josh_Jenkins__Round:2_Player:Tom_Lynch, transfer_contraints_Round:1_Player:Josh_Jenkins__Round:2_Player:Jack_Lonie, transfer_contraints_Round:1_Player:Josh_Jenkins__Round:2_Player:Gary_Ablett, transfer_contraints_Round:1_Player:Josh_Jenkins__Round:2_Player:Jack_Higgins, transfer_contraints_Round:1_Player:Josh_Jenkins__Round:2_Player:Rowan_Marshall, transfer_contraints_Round:1_Player:Josh_Jenkins__Round:2_Player:Justin_Westhoff, transfer_contraints_Round:1_Player:Josh_Jenkins__Round:2_Player:Connor_Rozee, transfer_contraints_Round:1_Player:Josh_Jenkins__Round:2_Player:Michael_Gibbons, transfer_contraints_Round:1_Player:Josh_Jenkins__Round:2_Player:Shai_Bolton, transfer_contraints_Round:1_Player:Josh_Jenkins__Round:2_Player:Dustin_Martin, transfer_contraints_Round:1_Player:Josh_Jenkins__Round:2_Player:Dayne_Zorko, transfer_contraints_Round:1_Player:Josh_Jenkins__Round:2_Player:Chad_Wingard, transfer_contraints_Round:1_Player:Josh_Jenkins__Round:2_Player:Curtis_Taylor, transfer_contraints_Round:1_Player:Josh_Jenkins__Round:2_Player:Tim_Membrey, transfer_contraints_Round:1_Player:Josh_Jenkins__Round:2_Player:Tom_Lynch, transfer_contraints_Round:1_Player:Josh_Jenkins__Round:2_Player:Cameron_Zurhaar, transfer_contraints_Round:1_Player:Josh_Jenkins__Round:2_Player:Oscar_Allen, transfer_contraints_Round:1_Player:Josh_Jenkins__Round:2_Player:Jack_Ziebell, transfer_contraints_Round:1_Player:Josh_Jenkins__Round:2_Player:Bayley_Fritsch, transfer_contraints_Round:1_Player:Josh_Jenkins__Round:2_Player:Lewis_Taylor, transfer_contraints_Round:1_Player:Josh_Jenkins__Round:2_Player:Taylor_Duryea, transfer_contraints_Round:1_Player:Josh_Jenkins__Round:2_Player:Ed_Richards, transfer_contraints_Round:1_Player:Josh_Jenkins__Round:2_Player:Todd_Marshall, transfer_contraints_Round:1_Player:Josh_Jenkins__Round:2_Player:Jack_Steven, transfer_contraints_Round:1_Player:Josh_Jenkins__Round:2_Player:Lin_Jong, transfer_contraints_Round:1_Player:Josh_Jenkins__Round:2_Player:Ben_King, transfer_contraints_Round:1_Player:Josh_Jenkins__Round:2_Player:Matthew_Kennedy, transfer_contraints_Round:1_Player:Josh_Jenkins__Round:2_Player:Robbie_Gray, transfer_contraints_Round:1_Player:Josh_Jenkins__Round:2_Player:Ben_Ainsworth, transfer_contraints_Round:1_Player:Jack_Steven__Round:2_Player:Zak_Butters, transfer_contraints_Round:1_Player:Jack_Steven__Round:2_Player:Josh_Dunkley, transfer_contraints_Round:1_Player:Jack_Steven__Round:2_Player:Michael_Walters, transfer_contraints_Round:1_Player:Jack_Steven__Round:2_Player:Gryan_Miers, transfer_contraints_Round:1_Player:Jack_Steven__Round:2_Player:Tom_Phillips, transfer_contraints_Round:1_Player:Jack_Steven__Round:2_Player:Patrick_Dangerfield, transfer_contraints_Round:1_Player:Jack_Steven__Round:2_Player:Steven_Motlop, transfer_contraints_Round:1_Player:Jack_Steven__Round:2_Player:Charlie_Cameron, transfer_contraints_Round:1_Player:Jack_Steven__Round:2_Player:Brad_Ebert, transfer_contraints_Round:1_Player:Jack_Steven__Round:2_Player:Kyle_Langford, transfer_contraints_Round:1_Player:Jack_Steven__Round:2_Player:Sam_Day, transfer_contraints_Round:1_Player:Jack_Steven__Round:2_Player:Steele_Sidebottom, transfer_contraints_Round:1_Player:Jack_Steven__Round:2_Player:Daniel_Butler, transfer_contraints_Round:1_Player:Jack_Steven__Round:2_Player:Tom_Lynch, transfer_contraints_Round:1_Player:Jack_Steven__Round:2_Player:Jack_Lonie, transfer_contraints_Round:1_Player:Jack_Steven__Round:2_Player:Gary_Ablett, transfer_contraints_Round:1_Player:Jack_Steven__Round:2_Player:Jack_Higgins, transfer_contraints_Round:1_Player:Jack_Steven__Round:2_Player:Rowan_Marshall, transfer_contraints_Round:1_Player:Jack_Steven__Round:2_Player:Justin_Westhoff, transfer_contraints_Round:1_Player:Jack_Steven__Round:2_Player:Connor_Rozee, transfer_contraints_Round:1_Player:Jack_Steven__Round:2_Player:Michael_Gibbons, transfer_contraints_Round:1_Player:Jack_Steven__Round:2_Player:Shai_Bolton, transfer_contraints_Round:1_Player:Jack_Steven__Round:2_Player:Dustin_Martin, transfer_contraints_Round:1_Player:Jack_Steven__Round:2_Player:Dayne_Zorko, transfer_contraints_Round:1_Player:Jack_Steven__Round:2_Player:Chad_Wingard, transfer_contraints_Round:1_Player:Jack_Steven__Round:2_Player:Curtis_Taylor, transfer_contraints_Round:1_Player:Jack_Steven__Round:2_Player:Tim_Membrey, transfer_contraints_Round:1_Player:Jack_Steven__Round:2_Player:Tom_Lynch, transfer_contraints_Round:1_Player:Jack_Steven__Round:2_Player:Cameron_Zurhaar, transfer_contraints_Round:1_Player:Jack_Steven__Round:2_Player:Oscar_Allen, transfer_contraints_Round:1_Player:Jack_Steven__Round:2_Player:Jack_Ziebell, transfer_contraints_Round:1_Player:Jack_Steven__Round:2_Player:Bayley_Fritsch, transfer_contraints_Round:1_Player:Jack_Steven__Round:2_Player:Lewis_Taylor, transfer_contraints_Round:1_Player:Jack_Steven__Round:2_Player:Taylor_Duryea, transfer_contraints_Round:1_Player:Jack_Steven__Round:2_Player:Josh_Jenkins, transfer_contraints_Round:1_Player:Jack_Steven__Round:2_Player:Ed_Richards, transfer_contraints_Round:1_Player:Jack_Steven__Round:2_Player:Todd_Marshall, transfer_contraints_Round:1_Player:Jack_Steven__Round:2_Player:Lin_Jong, transfer_contraints_Round:1_Player:Jack_Steven__Round:2_Player:Ben_King, transfer_contraints_Round:1_Player:Jack_Steven__Round:2_Player:Matthew_Kennedy, transfer_contraints_Round:1_Player:Jack_Steven__Round:2_Player:Robbie_Gray, transfer_contraints_Round:1_Player:Jack_Steven__Round:2_Player:Ben_Ainsworth, transfer_contraints_Round:1_Player:Jarrod_Brander__Round:2_Player:Zak_Butters, transfer_contraints_Round:1_Player:Jarrod_Brander__Round:2_Player:Josh_Dunkley, transfer_contraints_Round:1_Player:Jarrod_Brander__Round:2_Player:Michael_Walters, transfer_contraints_Round:1_Player:Jarrod_Brander__Round:2_Player:Gryan_Miers, transfer_contraints_Round:1_Player:Jarrod_Brander__Round:2_Player:Tom_Phillips, transfer_contraints_Round:1_Player:Jarrod_Brander__Round:2_Player:Patrick_Dangerfield, transfer_contraints_Round:1_Player:Jarrod_Brander__Round:2_Player:Steven_Motlop, transfer_contraints_Round:1_Player:Jarrod_Brander__Round:2_Player:Charlie_Cameron, transfer_contraints_Round:1_Player:Jarrod_Brander__Round:2_Player:Brad_Ebert, transfer_contraints_Round:1_Player:Jarrod_Brander__Round:2_Player:Kyle_Langford, transfer_contraints_Round:1_Player:Jarrod_Brander__Round:2_Player:Sam_Day, transfer_contraints_Round:1_Player:Jarrod_Brander__Round:2_Player:Steele_Sidebottom, transfer_contraints_Round:1_Player:Jarrod_Brander__Round:2_Player:Daniel_Butler, transfer_contraints_Round:1_Player:Jarrod_Brander__Round:2_Player:Tom_Lynch, transfer_contraints_Round:1_Player:Jarrod_Brander__Round:2_Player:Jack_Lonie, transfer_contraints_Round:1_Player:Jarrod_Brander__Round:2_Player:Gary_Ablett, transfer_contraints_Round:1_Player:Jarrod_Brander__Round:2_Player:Jack_Higgins, transfer_contraints_Round:1_Player:Jarrod_Brander__Round:2_Player:Rowan_Marshall, transfer_contraints_Round:1_Player:Jarrod_Brander__Round:2_Player:Justin_Westhoff, transfer_contraints_Round:1_Player:Jarrod_Brander__Round:2_Player:Connor_Rozee, transfer_contraints_Round:1_Player:Jarrod_Brander__Round:2_Player:Michael_Gibbons, transfer_contraints_Round:1_Player:Jarrod_Brander__Round:2_Player:Shai_Bolton, transfer_contraints_Round:1_Player:Jarrod_Brander__Round:2_Player:Dustin_Martin, transfer_contraints_Round:1_Player:Jarrod_Brander__Round:2_Player:Dayne_Zorko, transfer_contraints_Round:1_Player:Jarrod_Brander__Round:2_Player:Chad_Wingard, transfer_contraints_Round:1_Player:Jarrod_Brander__Round:2_Player:Curtis_Taylor, transfer_contraints_Round:1_Player:Jarrod_Brander__Round:2_Player:Tim_Membrey, transfer_contraints_Round:1_Player:Jarrod_Brander__Round:2_Player:Tom_Lynch, transfer_contraints_Round:1_Player:Jarrod_Brander__Round:2_Player:Cameron_Zurhaar, transfer_contraints_Round:1_Player:Jarrod_Brander__Round:2_Player:Oscar_Allen, transfer_contraints_Round:1_Player:Jarrod_Brander__Round:2_Player:Jack_Ziebell, transfer_contraints_Round:1_Player:Jarrod_Brander__Round:2_Player:Bayley_Fritsch, transfer_contraints_Round:1_Player:Jarrod_Brander__Round:2_Player:Lewis_Taylor, transfer_contraints_Round:1_Player:Jarrod_Brander__Round:2_Player:Taylor_Duryea, transfer_contraints_Round:1_Player:Jarrod_Brander__Round:2_Player:Josh_Jenkins, transfer_contraints_Round:1_Player:Jarrod_Brander__Round:2_Player:Ed_Richards, transfer_contraints_Round:1_Player:Jarrod_Brander__Round:2_Player:Todd_Marshall, transfer_contraints_Round:1_Player:Jarrod_Brander__Round:2_Player:Jack_Steven, transfer_contraints_Round:1_Player:Jarrod_Brander__Round:2_Player:Lin_Jong, transfer_contraints_Round:1_Player:Jarrod_Brander__Round:2_Player:Ben_King, transfer_contraints_Round:1_Player:Jarrod_Brander__Round:2_Player:Matthew_Kennedy, transfer_contraints_Round:1_Player:Jarrod_Brander__Round:2_Player:Robbie_Gray, transfer_contraints_Round:1_Player:Jarrod_Brander__Round:2_Player:Ben_Ainsworth, transfer_contraints_Round:1_Player:Sam_Sturt__Round:2_Player:Zak_Butters, transfer_contraints_Round:1_Player:Sam_Sturt__Round:2_Player:Josh_Dunkley, transfer_contraints_Round:1_Player:Sam_Sturt__Round:2_Player:Michael_Walters, transfer_contraints_Round:1_Player:Sam_Sturt__Round:2_Player:Gryan_Miers, transfer_contraints_Round:1_Player:Sam_Sturt__Round:2_Player:Tom_Phillips, transfer_contraints_Round:1_Player:Sam_Sturt__Round:2_Player:Patrick_Dangerfield, transfer_contraints_Round:1_Player:Sam_Sturt__Round:2_Player:Steven_Motlop, transfer_contraints_Round:1_Player:Sam_Sturt__Round:2_Player:Charlie_Cameron, transfer_contraints_Round:1_Player:Sam_Sturt__Round:2_Player:Brad_Ebert, transfer_contraints_Round:1_Player:Sam_Sturt__Round:2_Player:Kyle_Langford, transfer_contraints_Round:1_Player:Sam_Sturt__Round:2_Player:Sam_Day, transfer_contraints_Round:1_Player:Sam_Sturt__Round:2_Player:Steele_Sidebottom, transfer_contraints_Round:1_Player:Sam_Sturt__Round:2_Player:Daniel_Butler, transfer_contraints_Round:1_Player:Sam_Sturt__Round:2_Player:Tom_Lynch, transfer_contraints_Round:1_Player:Sam_Sturt__Round:2_Player:Jack_Lonie, transfer_contraints_Round:1_Player:Sam_Sturt__Round:2_Player:Gary_Ablett, transfer_contraints_Round:1_Player:Sam_Sturt__Round:2_Player:Jack_Higgins, transfer_contraints_Round:1_Player:Sam_Sturt__Round:2_Player:Rowan_Marshall, transfer_contraints_Round:1_Player:Sam_Sturt__Round:2_Player:Justin_Westhoff, transfer_contraints_Round:1_Player:Sam_Sturt__Round:2_Player:Connor_Rozee, transfer_contraints_Round:1_Player:Sam_Sturt__Round:2_Player:Michael_Gibbons, transfer_contraints_Round:1_Player:Sam_Sturt__Round:2_Player:Shai_Bolton, transfer_contraints_Round:1_Player:Sam_Sturt__Round:2_Player:Dustin_Martin, transfer_contraints_Round:1_Player:Sam_Sturt__Round:2_Player:Dayne_Zorko, transfer_contraints_Round:1_Player:Sam_Sturt__Round:2_Player:Chad_Wingard, transfer_contraints_Round:1_Player:Sam_Sturt__Round:2_Player:Curtis_Taylor, transfer_contraints_Round:1_Player:Sam_Sturt__Round:2_Player:Tim_Membrey, transfer_contraints_Round:1_Player:Sam_Sturt__Round:2_Player:Tom_Lynch, transfer_contraints_Round:1_Player:Sam_Sturt__Round:2_Player:Cameron_Zurhaar, transfer_contraints_Round:1_Player:Sam_Sturt__Round:2_Player:Oscar_Allen, transfer_contraints_Round:1_Player:Sam_Sturt__Round:2_Player:Jack_Ziebell, transfer_contraints_Round:1_Player:Sam_Sturt__Round:2_Player:Bayley_Fritsch, transfer_contraints_Round:1_Player:Sam_Sturt__Round:2_Player:Lewis_Taylor, transfer_contraints_Round:1_Player:Sam_Sturt__Round:2_Player:Taylor_Duryea, transfer_contraints_Round:1_Player:Sam_Sturt__Round:2_Player:Josh_Jenkins, transfer_contraints_Round:1_Player:Sam_Sturt__Round:2_Player:Ed_Richards, transfer_contraints_Round:1_Player:Sam_Sturt__Round:2_Player:Todd_Marshall, transfer_contraints_Round:1_Player:Sam_Sturt__Round:2_Player:Jack_Steven, transfer_contraints_Round:1_Player:Sam_Sturt__Round:2_Player:Lin_Jong, transfer_contraints_Round:1_Player:Sam_Sturt__Round:2_Player:Ben_King, transfer_contraints_Round:1_Player:Sam_Sturt__Round:2_Player:Matthew_Kennedy, transfer_contraints_Round:1_Player:Sam_Sturt__Round:2_Player:Robbie_Gray, transfer_contraints_Round:1_Player:Sam_Sturt__Round:2_Player:Ben_Ainsworth, transfer_contraints_Round:1_Player:Jordan_De_Goey__Round:2_Player:Zak_Butters, transfer_contraints_Round:1_Player:Jordan_De_Goey__Round:2_Player:Josh_Dunkley, transfer_contraints_Round:1_Player:Jordan_De_Goey__Round:2_Player:Michael_Walters, transfer_contraints_Round:1_Player:Jordan_De_Goey__Round:2_Player:Gryan_Miers, transfer_contraints_Round:1_Player:Jordan_De_Goey__Round:2_Player:Tom_Phillips, transfer_contraints_Round:1_Player:Jordan_De_Goey__Round:2_Player:Patrick_Dangerfield, transfer_contraints_Round:1_Player:Jordan_De_Goey__Round:2_Player:Steven_Motlop, transfer_contraints_Round:1_Player:Jordan_De_Goey__Round:2_Player:Charlie_Cameron, transfer_contraints_Round:1_Player:Jordan_De_Goey__Round:2_Player:Brad_Ebert, transfer_contraints_Round:1_Player:Jordan_De_Goey__Round:2_Player:Kyle_Langford, transfer_contraints_Round:1_Player:Jordan_De_Goey__Round:2_Player:Sam_Day, transfer_contraints_Round:1_Player:Jordan_De_Goey__Round:2_Player:Steele_Sidebottom, transfer_contraints_Round:1_Player:Jordan_De_Goey__Round:2_Player:Daniel_Butler, transfer_contraints_Round:1_Player:Jordan_De_Goey__Round:2_Player:Tom_Lynch, transfer_contraints_Round:1_Player:Jordan_De_Goey__Round:2_Player:Jack_Lonie, transfer_contraints_Round:1_Player:Jordan_De_Goey__Round:2_Player:Gary_Ablett, transfer_contraints_Round:1_Player:Jordan_De_Goey__Round:2_Player:Jack_Higgins, transfer_contraints_Round:1_Player:Jordan_De_Goey__Round:2_Player:Rowan_Marshall, transfer_contraints_Round:1_Player:Jordan_De_Goey__Round:2_Player:Justin_Westhoff, transfer_contraints_Round:1_Player:Jordan_De_Goey__Round:2_Player:Connor_Rozee, transfer_contraints_Round:1_Player:Jordan_De_Goey__Round:2_Player:Michael_Gibbons, transfer_contraints_Round:1_Player:Jordan_De_Goey__Round:2_Player:Shai_Bolton, transfer_contraints_Round:1_Player:Jordan_De_Goey__Round:2_Player:Dustin_Martin, transfer_contraints_Round:1_Player:Jordan_De_Goey__Round:2_Player:Dayne_Zorko, transfer_contraints_Round:1_Player:Jordan_De_Goey__Round:2_Player:Chad_Wingard, transfer_contraints_Round:1_Player:Jordan_De_Goey__Round:2_Player:Curtis_Taylor, transfer_contraints_Round:1_Player:Jordan_De_Goey__Round:2_Player:Tim_Membrey, transfer_contraints_Round:1_Player:Jordan_De_Goey__Round:2_Player:Tom_Lynch, transfer_contraints_Round:1_Player:Jordan_De_Goey__Round:2_Player:Cameron_Zurhaar, transfer_contraints_Round:1_Player:Jordan_De_Goey__Round:2_Player:Oscar_Allen, transfer_contraints_Round:1_Player:Jordan_De_Goey__Round:2_Player:Jack_Ziebell, transfer_contraints_Round:1_Player:Jordan_De_Goey__Round:2_Player:Bayley_Fritsch, transfer_contraints_Round:1_Player:Jordan_De_Goey__Round:2_Player:Lewis_Taylor, transfer_contraints_Round:1_Player:Jordan_De_Goey__Round:2_Player:Taylor_Duryea, transfer_contraints_Round:1_Player:Jordan_De_Goey__Round:2_Player:Josh_Jenkins, transfer_contraints_Round:1_Player:Jordan_De_Goey__Round:2_Player:Ed_Richards, transfer_contraints_Round:1_Player:Jordan_De_Goey__Round:2_Player:Todd_Marshall, transfer_contraints_Round:1_Player:Jordan_De_Goey__Round:2_Player:Jack_Steven, transfer_contraints_Round:1_Player:Jordan_De_Goey__Round:2_Player:Lin_Jong, transfer_contraints_Round:1_Player:Jordan_De_Goey__Round:2_Player:Ben_King, transfer_contraints_Round:1_Player:Jordan_De_Goey__Round:2_Player:Matthew_Kennedy, transfer_contraints_Round:1_Player:Jordan_De_Goey__Round:2_Player:Robbie_Gray, transfer_contraints_Round:1_Player:Jordan_De_Goey__Round:2_Player:Ben_Ainsworth, transfer_contraints_Round:1_Player:Matthew_Kennedy__Round:2_Player:Zak_Butters, transfer_contraints_Round:1_Player:Matthew_Kennedy__Round:2_Player:Josh_Dunkley, transfer_contraints_Round:1_Player:Matthew_Kennedy__Round:2_Player:Michael_Walters, transfer_contraints_Round:1_Player:Matthew_Kennedy__Round:2_Player:Gryan_Miers, transfer_contraints_Round:1_Player:Matthew_Kennedy__Round:2_Player:Tom_Phillips, transfer_contraints_Round:1_Player:Matthew_Kennedy__Round:2_Player:Patrick_Dangerfield, transfer_contraints_Round:1_Player:Matthew_Kennedy__Round:2_Player:Steven_Motlop, transfer_contraints_Round:1_Player:Matthew_Kennedy__Round:2_Player:Charlie_Cameron, transfer_contraints_Round:1_Player:Matthew_Kennedy__Round:2_Player:Brad_Ebert, transfer_contraints_Round:1_Player:Matthew_Kennedy__Round:2_Player:Kyle_Langford, transfer_contraints_Round:1_Player:Matthew_Kennedy__Round:2_Player:Sam_Day, transfer_contraints_Round:1_Player:Matthew_Kennedy__Round:2_Player:Steele_Sidebottom, transfer_contraints_Round:1_Player:Matthew_Kennedy__Round:2_Player:Daniel_Butler, transfer_contraints_Round:1_Player:Matthew_Kennedy__Round:2_Player:Tom_Lynch, transfer_contraints_Round:1_Player:Matthew_Kennedy__Round:2_Player:Jack_Lonie, transfer_contraints_Round:1_Player:Matthew_Kennedy__Round:2_Player:Gary_Ablett, transfer_contraints_Round:1_Player:Matthew_Kennedy__Round:2_Player:Jack_Higgins, transfer_contraints_Round:1_Player:Matthew_Kennedy__Round:2_Player:Rowan_Marshall, transfer_contraints_Round:1_Player:Matthew_Kennedy__Round:2_Player:Justin_Westhoff, transfer_contraints_Round:1_Player:Matthew_Kennedy__Round:2_Player:Connor_Rozee, transfer_contraints_Round:1_Player:Matthew_Kennedy__Round:2_Player:Michael_Gibbons, transfer_contraints_Round:1_Player:Matthew_Kennedy__Round:2_Player:Shai_Bolton, transfer_contraints_Round:1_Player:Matthew_Kennedy__Round:2_Player:Dustin_Martin, transfer_contraints_Round:1_Player:Matthew_Kennedy__Round:2_Player:Dayne_Zorko, transfer_contraints_Round:1_Player:Matthew_Kennedy__Round:2_Player:Chad_Wingard, transfer_contraints_Round:1_Player:Matthew_Kennedy__Round:2_Player:Curtis_Taylor, transfer_contraints_Round:1_Player:Matthew_Kennedy__Round:2_Player:Tim_Membrey, transfer_contraints_Round:1_Player:Matthew_Kennedy__Round:2_Player:Tom_Lynch, transfer_contraints_Round:1_Player:Matthew_Kennedy__Round:2_Player:Cameron_Zurhaar, transfer_contraints_Round:1_Player:Matthew_Kennedy__Round:2_Player:Oscar_Allen, transfer_contraints_Round:1_Player:Matthew_Kennedy__Round:2_Player:Jack_Ziebell, transfer_contraints_Round:1_Player:Matthew_Kennedy__Round:2_Player:Bayley_Fritsch, transfer_contraints_Round:1_Player:Matthew_Kennedy__Round:2_Player:Lewis_Taylor, transfer_contraints_Round:1_Player:Matthew_Kennedy__Round:2_Player:Taylor_Duryea, transfer_contraints_Round:1_Player:Matthew_Kennedy__Round:2_Player:Josh_Jenkins, transfer_contraints_Round:1_Player:Matthew_Kennedy__Round:2_Player:Ed_Richards, transfer_contraints_Round:1_Player:Matthew_Kennedy__Round:2_Player:Todd_Marshall, transfer_contraints_Round:1_Player:Matthew_Kennedy__Round:2_Player:Jack_Steven, transfer_contraints_Round:1_Player:Matthew_Kennedy__Round:2_Player:Lin_Jong, transfer_contraints_Round:1_Player:Matthew_Kennedy__Round:2_Player:Ben_King, transfer_contraints_Round:1_Player:Matthew_Kennedy__Round:2_Player:Robbie_Gray, transfer_contraints_Round:1_Player:Matthew_Kennedy__Round:2_Player:Ben_Ainsworth]\n",
            "solving\n"
          ]
        }
      ]
    },
    {
      "cell_type": "code",
      "metadata": {
        "colab": {
          "base_uri": "https://localhost:8080/"
        },
        "id": "l-HWpbAuTL_T",
        "outputId": "d7bb891d-552e-47d9-bdb9-d17b20102925"
      },
      "source": [
        "solver = getSolver('COIN_CMD', maxSeconds=100, msg=True,)\n",
        "# solver = getSolver('COIN_CMD', msg=True, cuts=True)\n",
        "\n",
        "# prob.solve(pulp.PULP_CBC_CMD(msg=True, maxSeconds=10))\n",
        "# prob.solve(PULP_CBC_CMD(gapRel = 0.05))\n",
        "\n",
        "# solver = getSolver('GLPK_CMD')\n",
        "prob.solve(solver)\n",
        "\n",
        "# pulp.COIN(maxSeconds=your_time_limit))\n",
        "# prob.solve(solver)\n",
        "# list_solvers(onlyAvailable=True)"
      ],
      "execution_count": 60,
      "outputs": [
        {
          "output_type": "execute_result",
          "data": {
            "text/plain": [
              "1"
            ]
          },
          "metadata": {},
          "execution_count": 60
        }
      ]
    },
    {
      "cell_type": "code",
      "metadata": {
        "id": "1pkmlf2k4jOJ",
        "colab": {
          "base_uri": "https://localhost:8080/"
        },
        "outputId": "28ab202e-1bbb-4049-9873-d51b004cf6e3",
        "tags": []
      },
      "source": [
        "for v in prob.variables():\n",
        "  # if v.varValue != 0 and '10_' in v.name and not '11_' in v.name and not '9_' in v.name:\n",
        "  if v.varValue != 0:\n",
        "    print(v.name)\n",
        "    print(v.value())"
      ],
      "execution_count": 61,
      "outputs": [
        {
          "output_type": "stream",
          "name": "stdout",
          "text": [
            "player_contraints_Round:1_Player:Bailey_Smith\n1.0\nplayer_contraints_Round:1_Player:Brad_Ebert\n1.0\nplayer_contraints_Round:1_Player:Chad_Wingard\n1.0\nplayer_contraints_Round:1_Player:Connor_Rozee\n1.0\nplayer_contraints_Round:1_Player:Darcy_Byrne_Jones\n1.0\nplayer_contraints_Round:1_Player:Gary_Ablett\n1.0\nplayer_contraints_Round:1_Player:Ivan_SoldoI\n1.0\nplayer_contraints_Round:1_Player:Jack_Billings\n1.0\nplayer_contraints_Round:1_Player:Jeremy_Howe\n1.0\nplayer_contraints_Round:1_Player:Lewis_Jetta\n1.0\nplayer_contraints_Round:1_Player:Luke_Shuey\n1.0\nplayer_contraints_Round:1_Player:Matt_Rowell\n1.0\nplayer_contraints_Round:1_Player:Mitch_Robinson\n1.0\nplayer_contraints_Round:1_Player:Oliver_Florent\n1.0\nplayer_contraints_Round:1_Player:Rory_Lobb\n1.0\nplayer_contraints_Round:1_Player:Sam_Docherty\n1.0\nplayer_contraints_Round:1_Player:Sebastian_Ross\n1.0\nplayer_contraints_Round:1_Player:Steven_Motlop\n1.0\nplayer_contraints_Round:1_Player:Todd_Goldstein\n1.0\nplayer_contraints_Round:1_Player:Todd_Marshall\n1.0\nplayer_contraints_Round:1_Player:Xavier_Duursma\n1.0\nplayer_contraints_Round:1_Player:Zak_Jones\n1.0\nplayer_contraints_Round:2_Player:Bailey_Smith\n1.0\nplayer_contraints_Round:2_Player:Brad_Ebert\n1.0\nplayer_contraints_Round:2_Player:Chad_Wingard\n1.0\nplayer_contraints_Round:2_Player:Connor_Rozee\n1.0\nplayer_contraints_Round:2_Player:Darcy_Byrne_Jones\n1.0\nplayer_contraints_Round:2_Player:Gary_Ablett\n1.0\nplayer_contraints_Round:2_Player:Ivan_SoldoI\n1.0\nplayer_contraints_Round:2_Player:Jack_Billings\n1.0\nplayer_contraints_Round:2_Player:Jeremy_Howe\n1.0\nplayer_contraints_Round:2_Player:Lewis_Jetta\n1.0\nplayer_contraints_Round:2_Player:Luke_Shuey\n1.0\nplayer_contraints_Round:2_Player:Matt_Rowell\n1.0\nplayer_contraints_Round:2_Player:Mitch_Robinson\n1.0\nplayer_contraints_Round:2_Player:Oliver_Florent\n1.0\nplayer_contraints_Round:2_Player:Sam_Docherty\n1.0\nplayer_contraints_Round:2_Player:Sebastian_Ross\n1.0\nplayer_contraints_Round:2_Player:Steven_Motlop\n1.0\nplayer_contraints_Round:2_Player:Todd_Goldstein\n1.0\nplayer_contraints_Round:2_Player:Todd_Marshall\n1.0\nplayer_contraints_Round:2_Player:Tom_Phillips\n1.0\nplayer_contraints_Round:2_Player:Xavier_Duursma\n1.0\nplayer_contraints_Round:2_Player:Zak_Jones\n1.0\ntransfer_contraints_Round:1_Player:Bailey_Smith__Round:2_Player:Bailey_Smith\n1.0\ntransfer_contraints_Round:1_Player:Brad_Ebert__Round:2_Player:Brad_Ebert\n1.0\ntransfer_contraints_Round:1_Player:Chad_Wingard__Round:2_Player:Chad_Wingard\n1.0\ntransfer_contraints_Round:1_Player:Connor_Rozee__Round:2_Player:Connor_Rozee\n1.0\ntransfer_contraints_Round:1_Player:Darcy_Byrne_Jones__Round:2_Player:Darcy_Byrne_Jones\n1.0\ntransfer_contraints_Round:1_Player:Gary_Ablett__Round:2_Player:Gary_Ablett\n1.0\ntransfer_contraints_Round:1_Player:Ivan_SoldoI__Round:2_Player:Ivan_SoldoI\n1.0\ntransfer_contraints_Round:1_Player:Jack_Billings__Round:2_Player:Jack_Billings\n1.0\ntransfer_contraints_Round:1_Player:Jeremy_Howe__Round:2_Player:Jeremy_Howe\n1.0\ntransfer_contraints_Round:1_Player:Lewis_Jetta__Round:2_Player:Lewis_Jetta\n1.0\ntransfer_contraints_Round:1_Player:Luke_Shuey__Round:2_Player:Luke_Shuey\n1.0\ntransfer_contraints_Round:1_Player:Matt_Rowell__Round:2_Player:Matt_Rowell\n1.0\ntransfer_contraints_Round:1_Player:Mitch_Robinson__Round:2_Player:Mitch_Robinson\n1.0\ntransfer_contraints_Round:1_Player:Oliver_Florent__Round:2_Player:Oliver_Florent\n1.0\ntransfer_contraints_Round:1_Player:Rory_Lobb__Round:2_Player:Tom_Phillips\n1.0\ntransfer_contraints_Round:1_Player:Sam_Docherty__Round:2_Player:Sam_Docherty\n1.0\ntransfer_contraints_Round:1_Player:Sebastian_Ross__Round:2_Player:Sebastian_Ross\n1.0\ntransfer_contraints_Round:1_Player:Steven_Motlop__Round:2_Player:Steven_Motlop\n1.0\ntransfer_contraints_Round:1_Player:Todd_Goldstein__Round:2_Player:Todd_Goldstein\n1.0\ntransfer_contraints_Round:1_Player:Todd_Marshall__Round:2_Player:Todd_Marshall\n1.0\ntransfer_contraints_Round:1_Player:Xavier_Duursma__Round:2_Player:Xavier_Duursma\n1.0\ntransfer_contraints_Round:1_Player:Zak_Jones__Round:2_Player:Zak_Jones\n1.0\n"
          ]
        }
      ]
    },
    {
      "cell_type": "code",
      "execution_count": null,
      "metadata": {},
      "outputs": [],
      "source": []
    }
  ]
}