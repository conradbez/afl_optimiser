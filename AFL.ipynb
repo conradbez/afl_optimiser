{
  "nbformat": 4,
  "nbformat_minor": 0,
  "metadata": {
    "colab": {
      "name": "AFL.ipynb",
      "provenance": [],
      "collapsed_sections": []
    },
    "kernelspec": {
      "name": "python3",
      "display_name": "Python 3",
      "language": "python"
    }
  },
  "cells": [
    {
      "cell_type": "code",
      "execution_count": 1,
      "metadata": {},
      "outputs": [],
      "source": [
        "# !jupyter nbconvert --to script AFL.ipynb"
      ]
    },
    {
      "cell_type": "code",
      "metadata": {
        "id": "c8cfL_UgRZhj"
      },
      "source": [
        "# !pip install pyomo\n",
        "# !pip install --upgrade --user ortools\n",
        "# !apt-get install -y glpk-utils\n",
        "# !sudo apt-get update -y\n",
        "# !sudo apt-get install -y coinor-cbc"
      ],
      "execution_count": 2,
      "outputs": []
    },
    {
      "cell_type": "code",
      "execution_count": 3,
      "metadata": {},
      "outputs": [],
      "source": [
        "# !pip install -U git+https://github.com/coin-or/pulp\n",
        "# !sudo pulptest\n",
        "# !pip install pandas"
      ]
    },
    {
      "cell_type": "code",
      "execution_count": 4,
      "metadata": {},
      "outputs": [],
      "source": [
        "import numpy as np\n",
        "import pandas as pd\n",
        "from pulp import *"
      ]
    },
    {
      "cell_type": "code",
      "execution_count": 5,
      "metadata": {},
      "outputs": [],
      "source": [
        "def test1(test_df):\n",
        "    assert len(test_df[test_df['Name'].isna()])==0\n",
        "    for r in test_df['Round'].unique():\n",
        "        names = test_df[test_df['Round']==r]['Name'].unique()\n",
        "        try:    \n",
        "            assert len(test_df[~(test_df['Name'].isin(names))])==0\n",
        "        except AssertionError:\n",
        "            # print(r)\n",
        "            # print(test_df[~(test_df['Name'].isin(names))])\n",
        "            assert len(test_df[~(test_df['Name'].isin(names))])==0\n",
        "\n"
      ]
    },
    {
      "cell_type": "code",
      "metadata": {
        "id": "sy6uwTvL0rQs"
      },
      "source": [
        "\n",
        "def getPlayers(full_player_scores = pd.read_csv('full_players.csv', index_col=0)):\n",
        "    full_player_scores.dropna(subset=['Name'])\n",
        "    full_player_scores = full_player_scores.reset_index(drop=True)\n",
        "    full_player_scores['Score'] = pd.to_numeric(full_player_scores['Score'], errors='coerce')\n",
        "\n",
        "    # testfilter\n",
        "    # full_player_scores = full_player_scores[full_player_scores['Round']<4]\n",
        "    # players_to_keep = [\"Adam Tomlinson\", \"Max Gawn\"]\n",
        "    players_to_keep = full_player_scores.sort_values('Score',ascending=False)['Name'].unique()[:100]\n",
        "    full_player_scores = full_player_scores[full_player_scores['Name'].isin(players_to_keep)]\n",
        "\n",
        "\n",
        "    full_player_scores_2021 = full_player_scores[full_player_scores['Year']==2021]\n",
        "    full_player_scores = full_player_scores[full_player_scores['Year']==2020]\n",
        "\n",
        "    # Only keep players who are playing this season\n",
        "    full_player_scores = full_player_scores[full_player_scores['Name'].isin(full_player_scores_2021['Name'].unique())].dropna(how='all').dropna(how='all')\n",
        "\n",
        "    df = full_player_scores.copy()\n",
        "\n",
        "    df1 = df[['Name','Team','Position','Price', 'Team 1','Year']].drop_duplicates()\n",
        "    df2 = df[['Round']].drop_duplicates()\n",
        "    df1['key'] = 0\n",
        "    df2['key'] = 0\n",
        "    df = df1.merge(df2, how='outer', on=['key'])\n",
        "    df = df.sort_values('Round')\n",
        "    df = df.drop('key', axis=1)\n",
        "    full_player_scores = full_player_scores.merge(df, on=['Name', 'Team', 'Position','Round','Price', 'Team 1','Year'],how='right').reset_index(drop=True)\n",
        "    try:\n",
        "        test1(full_player_scores)\n",
        "    except AssertionError:\n",
        "        print('WARNING: failed a test')\n",
        "\n",
        "\n",
        "    player_num_games_played = full_player_scores[full_player_scores['Score']>0].groupby('Name')['Team 2'].transform('count')\n",
        "\n",
        "    opponent_average_score = full_player_scores.groupby('Team 2')['Score'].transform('mean')\n",
        "    player_average_score = full_player_scores.groupby('Name')['Score'].transform('mean')\n",
        "    player_average_value = player_average_score/full_player_scores['Price']\n",
        "\n",
        "    na_locs = full_player_scores['Score'].isna()\n",
        "\n",
        "    full_player_scores.loc[na_locs,'Score'] = ((opponent_average_score+player_average_score)/2).loc[na_locs]\n",
        "\n",
        "    na_locs = full_player_scores['Score'].isna()\n",
        "\n",
        "    full_player_scores.loc[na_locs,'Score'] = (player_average_score).loc[na_locs]\n",
        "\n",
        "    RU_Players = full_player_scores.copy()\n",
        "\n",
        "    assert list(full_player_scores['Year'].unique())==[2020]\n",
        "\n",
        "    RU_Players = RU_Players.sort_values('Score',ascending=False)\n",
        "\n",
        "    RU_Players = full_player_scores.copy()\n",
        "\n",
        "    assert list(full_player_scores['Year'].unique())==[2020]\n",
        "\n",
        "    RU_Players = RU_Players.sort_values('Score',ascending=False)\n",
        "    RU_Players['id'] = \"R:\"+RU_Players['Round'].astype(str)+\"_P:\"+RU_Players['Name']\n",
        "\n",
        "    # Only take players who played more than 5 games\n",
        "    # players_to_keep = player_num_games_played[player_num_games_played>5].index.values\n",
        "    # RU_Players = RU_Players.reindex(index=players_to_keep).dropna(how='all')\n",
        "\n",
        "    # Only take players in top quater of average values (score/price)\n",
        "    # player_best_values = player_average_value.sort_values(ascending=False)[:int(len(player_average_value)/4)]\n",
        "    # RU_Players = RU_Players.reindex(index=player_best_values.index.values).dropna(how='all') \n",
        "\n",
        "    try:\n",
        "        test1(RU_Players)\n",
        "    except AssertionError:\n",
        "        print('WARNING: failed a test')\n",
        "\n",
        "    RU_Players.groupby(['Round','Position']).count()\n",
        "    return RU_Players\n",
        "RU_Players = getPlayers()"
      ],
      "execution_count": 13,
      "outputs": []
    },
    {
      "cell_type": "code",
      "metadata": {
        "colab": {
          "base_uri": "https://localhost:8080/"
        },
        "id": "3yLWwxpJ48TW",
        "outputId": "8b83ef68-43c6-48c6-ea54-0ba9b6d7c9e2",
        "tags": []
      },
      "source": [
        "def getProblem(RU_Players):\n",
        "  player_contraints = {}\n",
        "  prob = LpProblem(\"aflProblem\", LpMaximize)\n",
        "  overall_score = LpVariable('OverallScore',0)\n",
        "  for p_id,score in zip(RU_Players['id'].iteritems(),RU_Players['Score'].iteritems()):\n",
        "    p_id = p_id[1]\n",
        "    player_contraints[p_id] = LpVariable(p_id, 0, 1, cat='Binary')\n",
        "\n",
        "  player_contraints = LpVariable.dicts(\"PC\", player_contraints, 0, 1, cat='Binary')\n",
        "  prob += lpSum([player_contraints[p_id[1]]*score[1] for p_id,score in zip(RU_Players['id'].iteritems(),RU_Players['Score'].iteritems())]), \"Total score is maximized\"\n",
        "\n",
        "  # START TRANFERS\n",
        "  RU_Players_prev_round = RU_Players\n",
        "  RU_Players_prev_round['Round_prev'] = RU_Players_prev_round['Round'] - 1\n",
        "\n",
        "  RU_transfers = RU_Players[['id','Position','Round','Name']].merge(RU_Players_prev_round[['id','Position','Round_prev','Name']],left_on=['Position','Round'],right_on=['Position','Round_prev'], suffixes = ('_prev','_next'))\n",
        "\n",
        "  RU_transfers['Transfer'] = RU_transfers['id_prev']+'-'+RU_transfers['id_next']\n",
        "  RU_transfers=RU_transfers[['id_prev',\t'Round',\t'Name_prev',\t'id_next',\t'Round_prev',\t'Name_next',\t'Transfer']].drop_duplicates()\n",
        "\n",
        "  transfer_contraints = {}\n",
        "\n",
        "  # Define transfer itermediaries\n",
        "  for i,t_id in RU_transfers['Transfer'].iteritems():\n",
        "    transfer_contraints[t_id] = LpVariable(t_id, 0, 1, cat='Binary')\n",
        "\n",
        "  transfer_contraints = LpVariable.dicts(\"TC\", transfer_contraints, 0, 1, cat='Binary')\n",
        "\n",
        "  # map rounds end to itermediary\n",
        "  for prev_player,trans in RU_transfers.groupby(['id_prev'])['Transfer'].apply(list).iteritems():\n",
        "    prob += lpSum([transfer_contraints[t_id] for t_id in trans]) == player_contraints[prev_player], f\"Previous player equals transfer intermediatary for {prev_player} equals {trans}\"\n",
        "\n",
        "  # map intermediary to next round\n",
        "  for next_player,trans in RU_transfers.groupby(['id_next'])['Transfer'].apply(list).iteritems():\n",
        "    prob += lpSum([transfer_contraints[t_id] for t_id in trans]) == player_contraints[next_player], f\"Next player equals transfer intermediatary for {next_player} equals {trans}\"\n",
        "\n",
        "  for round, transfers in RU_transfers[RU_transfers['Name_prev'] != RU_transfers['Name_next']][['Round','Transfer']].drop_duplicates().groupby(['Round'])['Transfer'].apply(list).iteritems():\n",
        "    prob += lpSum([transfer_contraints[t_id] for t_id in transfers]) <= 4, f\"Round: {round}, has less than or equal to 4 transfers\"\n",
        "    # print(f'{[transfer_contraints[t_id] for t_id in transfers]}) <= 4')\n",
        "  # END TRANFERS\n",
        "\n",
        "  # START money contraint\n",
        "  money = 13 * 10**6\n",
        "  for round,player in RU_Players[['id','Price','Round']].drop_duplicates().groupby(['Round'])['id'].apply(list).iteritems():\n",
        "    prob += lpSum([player_contraints[p_id]*RU_Players[RU_Players['id']==p_id]['Price'].values[0] for p_id in player]) <= money, f\"Round: {round}, has less than ${money}\"\n",
        "  # END money contraint\n",
        "\n",
        "  #START Contrain each player to a single position per round\n",
        "  RU_Players_Position_Casting = RU_Players.copy()\n",
        "  RU_Players_Position_Casting['pl_pos_id'] = (RU_Players['id']+'_'+RU_Players['Position'])\n",
        "\n",
        "  Players_Position_Casting_Series = RU_Players_Position_Casting[['id','pl_pos_id','Round']].drop_duplicates().groupby(['id','Round'])['pl_pos_id'].apply(list).iteritems()\n",
        "\n",
        "  Players_Position_Casting = {}\n",
        "  for i,r in RU_Players_Position_Casting[['pl_pos_id']].drop_duplicates().iterrows():\n",
        "    Players_Position_Casting[r['pl_pos_id']] = LpVariable(r['pl_pos_id'], 0, 1, cat='Binary')\n",
        "\n",
        "  Players_Position_Casting = LpVariable.dicts(\"Players_Position_Casting\", Players_Position_Casting, 0, 1, cat='Binary')\n",
        "\n",
        "  for (p_id,round), pl_pos_ids in Players_Position_Casting_Series:\n",
        "      player_possible_positions = [Players_Position_Casting[pl_pos_id] for pl_pos_id  in pl_pos_ids] \n",
        "      prob += lpSum(player_possible_positions) == player_contraints[p_id], f\"Must have only have equal to {p_id} (0 or 1) of {player_possible_positions} positions in round {round}\"\n",
        "  #END Contrain each player to a single position per round\n",
        "\n",
        "  # START max players from each position\n",
        "  allowed_holds_per_position = {'DE': 8, \"MI\" : 10, 'RU' : 3, 'FO':9}\n",
        "  # allowed_holds_per_position = {'DE': 1, \"MI\" : 1, 'RU' : 1, 'FO':1}\n",
        "\n",
        "  print('START max players from each position')\n",
        "  for (position,round), pl_pos_ids in RU_Players_Position_Casting[['pl_pos_id','Position','Round']].drop_duplicates().groupby(['Position', 'Round'])['pl_pos_id'].apply(list).iteritems():\n",
        "    prob += lpSum([Players_Position_Casting[pl_pos_id] for pl_pos_id in pl_pos_ids]) == allowed_holds_per_position[position], f\"Position: {position}, has less than {allowed_holds_per_position[position]} in round {round}\"\n",
        "    # print('\\n')\n",
        "  # END max players from each position\n",
        "\n",
        "  print('done with pre-work')\n",
        "  return prob, transfer_contraints, Players_Position_Casting, RU_Players_Position_Casting\n",
        "prob, transfer_contraints, Players_Position_Casting, RU_Players_Position_Casting = getProblem(RU_Players)"
      ],
      "execution_count": 30,
      "outputs": [
        {
          "output_type": "stream",
          "name": "stdout",
          "text": [
            "START max players from each position\ndone with pre-work\n"
          ]
        }
      ]
    },
    {
      "cell_type": "code",
      "metadata": {
        "colab": {
          "base_uri": "https://localhost:8080/"
        },
        "id": "l-HWpbAuTL_T",
        "outputId": "d7bb891d-552e-47d9-bdb9-d17b20102925"
      },
      "source": [
        "try:\n",
        "    solver = getSolver('COIN_CMD', timeLimit=2000, msg=True,gapRel = 0.2)\n",
        "    prob.solve(solver)\n",
        "except:\n",
        "    print('USING INBUILT SOLVER!!  \\n'*100)\n",
        "    solver = getSolver('PULP_CBC_CMD')\n",
        "    prob.solve(solver)"
      ],
      "execution_count": 32,
      "outputs": []
    },
    {
      "cell_type": "code",
      "execution_count": 33,
      "metadata": {},
      "outputs": [
        {
          "output_type": "execute_result",
          "data": {
            "text/plain": [
              "1"
            ]
          },
          "metadata": {},
          "execution_count": 33
        }
      ],
      "source": [
        "prob.status"
      ]
    },
    {
      "cell_type": "code",
      "execution_count": 34,
      "metadata": {
        "tags": []
      },
      "outputs": [
        {
          "output_type": "stream",
          "name": "stdout",
          "text": [
            "R:12_P:Liam Shiels-R:13_P:David Mundy\nR:12_P:Trent Cotchin-R:13_P:Zachary Merrett\nR:8_P:Zachary Merrett-R:9_P:Tom Rockliff\nR:8_P:Clayton Oliver-R:9_P:Tim Taranto\nR:8_P:Liam Shiels-R:9_P:Jackson Macrae\nR:1_P:Jack Viney-R:2_P:Elliot Yeo\nR:1_P:Luke Parker-R:2_P:Joel Selwood\nR:1_P:Christopher Mayne-R:2_P:Patrick Dangerfield\nR:5_P:Brodie Grundy-R:6_P:Josh Jenkins\nR:10_P:Tom Rockliff-R:11_P:Travis Boak\nR:10_P:Tim Taranto-R:11_P:Marcus Bontempelli\nR:10_P:Connor Blakely-R:11_P:Angus Brayshaw\nR:11_P:Jackson Macrae-R:12_P:Edward Curnow\nR:11_P:Clayton Oliver-R:12_P:Liam Shiels\nR:11_P:Callan Ward-R:12_P:Trent Cotchin\nR:3_P:Dayne Zorko-R:4_P:Joshua Kennedy\nR:3_P:Toby McLean-R:4_P:Tom Lynch\nR:13_P:Travis Boak-R:14_P:Bradley Hill\nR:13_P:Angus Brayshaw-R:14_P:Callan Ward\nR:16_P:Callan Ward-R:17_P:Christopher Mayne\nR:17_P:Marcus Bontempelli-R:18_P:Taylor Adams\nR:17_P:Michael Walters-R:18_P:Mitchell Duncan\nR:16_P:Tom Hawkins-R:17_P:Jack Riewoldt\nR:4_P:Lachie Neale-R:5_P:Dayne Zorko\nR:4_P:Bradley Hill-R:5_P:Adam Treloar\nR:12_P:Tom Hawkins-R:13_P:David Zaharakis\nR:12_P:Jack Darling-R:13_P:Mitchell Wallis\nR:14_P:Edward Curnow-R:15_P:Joel Selwood\nR:14_P:David Mundy-R:15_P:Scott Pendlebury\nR:14_P:Dustin Martin-R:15_P:Dion Prestia\nR:7_P:Adam Treloar-R:8_P:Zachary Merrett\nR:7_P:Luke Parker-R:8_P:Liam Shiels\nR:7_P:Josh Dunkley-R:8_P:Joshua Kelly\nR:9_P:Lachie Whitfield-R:10_P:Jake Carlisle\nR:9_P:Grant Birchall-R:10_P:Bryce Gibbs\nR:13_P:Jake Carlisle-R:14_P:Jack Crisp\nR:9_P:Joshua Kelly-R:10_P:Clayton Oliver\nR:5_P:Mitch Robinson-R:6_P:Clayton Oliver\nR:11_P:Joshua Kennedy-R:12_P:Isaac Smith\nR:1_P:Brodie Grundy-R:2_P:Todd Goldstein\nR:2_P:Jack Billings-R:3_P:Callan Ward\nR:2_P:Elliot Yeo-R:3_P:Bradley Hill\nR:2_P:Luke Shuey-R:3_P:Lachie Neale\nR:9_P:Taylor Walker-R:10_P:Tom Hawkins\nR:2_P:Stephen Hill-R:3_P:Jake Carlisle\nR:7_P:David Zaharakis-R:8_P:Josh Dunkley\nR:15_P:Scott Pendlebury-R:16_P:Mitch Robinson\nR:15_P:Zachary Merrett-R:16_P:Tom Rockliff\nR:6_P:Bryce Gibbs-R:7_P:Grant Birchall\nR:3_P:Jake Carlisle-R:4_P:Bryce Gibbs\nR:13_P:Mitchell Wallis-R:14_P:Jeremy Cameron\nR:5_P:Josh Jenkins-R:6_P:David Zaharakis\nR:6_P:Joel Selwood-R:7_P:Luke Parker\nR:6_P:Kane Lambert-R:7_P:Joshua Kennedy\nR:6_P:Tom Hawkins-R:7_P:Taylor Walker\nR:14_P:Jeremy Cameron-R:15_P:Toby Greene\nR:5_P:Sam Docherty-R:6_P:Lachie Whitfield\nR:17_P:Isaac Smith-R:18_P:Kane Lambert\nR:3_P:Todd Goldstein-R:4_P:Brodie Grundy\nR:10_P:Isaac Smith-R:11_P:Jack Darling\nR:4_P:Joshua Kennedy-R:5_P:Tom Hawkins\nR:4_P:Tom Lynch-R:5_P:Kane Lambert\nR:17_P:Bryce Gibbs-R:18_P:Grant Birchall\nR:15_P:Toby Greene-R:16_P:Dustin Martin\nR:15_P:David Zaharakis-R:16_P:Tom Hawkins\n"
          ]
        }
      ],
      "source": [
        "for i,v in transfer_contraints.items():\n",
        "    if v.value() != 0:\n",
        "        # print(v.value())\n",
        "        # print(i)\n",
        "        last_name = i[i.find(' ')+1: i.find('-')]\n",
        "        last_letters = i[-len(last_name):]\n",
        "        # print(last_name)\n",
        "        # print(last_letters)\n",
        "        if not last_name == last_letters:\n",
        "            print(i)"
      ]
    },
    {
      "cell_type": "code",
      "execution_count": 35,
      "metadata": {},
      "outputs": [
        {
          "output_type": "stream",
          "name": "stdout",
          "text": [
            "Round  Position\n1      DE          1\n       FO          1\n       MI          1\n       RU          1\n2      DE          1\n                  ..\n17     RU          1\n18     DE          3\n       FO          2\n       MI          3\n       RU          5\nName: is_selected, Length: 72, dtype: int64\n"
          ]
        }
      ],
      "source": [
        "results = []\n",
        "for name, player_position in Players_Position_Casting.items():\n",
        "    if player_position.value() != 0:\n",
        "        results.append([name,1])\n",
        "Players_selected = pd.DataFrame(results, columns=['pl_pos_id', 'is_selected'])\n",
        "RU_Players_Position_Casting = RU_Players_Position_Casting.merge(Players_selected, on = ['pl_pos_id'])\n",
        "RU_Players_Position_Casting.to_csv('solution.csv')\n",
        "print(RU_Players_Position_Casting.groupby(['Round','Position']).sum()['is_selected'])"
      ]
    },
    {
      "cell_type": "code",
      "execution_count": 38,
      "metadata": {},
      "outputs": [
        {
          "output_type": "execute_result",
          "data": {
            "text/plain": [
              "    Round   Team 1    Team 2  Year      Score             Name     Team  \\\n",
              "62      1   Demons    Eagles  2020  60.459936     Nathan Jones   Demons   \n",
              "5       1    Blues    Tigers  2020  95.000000     Sam Docherty    Blues   \n",
              "49      1     Cats    Giants  2020  68.458904     Josh Jenkins     Cats   \n",
              "14      1  Dockers   Bombers  2020  80.000000  Michael Walters  Dockers   \n",
              "23      2     Cats     Hawks  2020  73.157143     Josh Jenkins     Cats   \n",
              "..    ...      ...       ...   ...        ...              ...      ...   \n",
              "30     18     Cats     Lions  2020  70.969512     Josh Jenkins     Cats   \n",
              "31     18     Cats     Power  2020  70.712644     Josh Jenkins     Cats   \n",
              "32     18     Cats    Tigers  2020  70.489011     Josh Jenkins     Cats   \n",
              "67     18    Lions    Tigers  2020  59.000000   Grant Birchall    Lions   \n",
              "43     18   Saints  Bulldogs  2020  70.000000     Bradley Hill   Saints   \n",
              "\n",
              "   Position   Price                     id  Round_prev  \\\n",
              "62       FO  528000     R:1_P:Nathan Jones           0   \n",
              "5        DE  676000     R:1_P:Sam Docherty           0   \n",
              "49       RU  494000     R:1_P:Josh Jenkins           0   \n",
              "14       MI  698000  R:1_P:Michael Walters           0   \n",
              "23       RU  494000     R:2_P:Josh Jenkins           1   \n",
              "..      ...     ...                    ...         ...   \n",
              "30       RU  494000    R:18_P:Josh Jenkins          17   \n",
              "31       RU  494000    R:18_P:Josh Jenkins          17   \n",
              "32       RU  494000    R:18_P:Josh Jenkins          17   \n",
              "67       DE  510000  R:18_P:Grant Birchall          17   \n",
              "43       MI  557000    R:18_P:Bradley Hill          17   \n",
              "\n",
              "                   pl_pos_id  is_selected  \n",
              "62     R:1_P:Nathan Jones_FO            1  \n",
              "5      R:1_P:Sam Docherty_DE            1  \n",
              "49     R:1_P:Josh Jenkins_RU            1  \n",
              "14  R:1_P:Michael Walters_MI            1  \n",
              "23     R:2_P:Josh Jenkins_RU            1  \n",
              "..                       ...          ...  \n",
              "30    R:18_P:Josh Jenkins_RU            1  \n",
              "31    R:18_P:Josh Jenkins_RU            1  \n",
              "32    R:18_P:Josh Jenkins_RU            1  \n",
              "67  R:18_P:Grant Birchall_DE            1  \n",
              "43    R:18_P:Bradley Hill_MI            1  \n",
              "\n",
              "[81 rows x 13 columns]"
            ],
            "text/html": "<div>\n<style scoped>\n    .dataframe tbody tr th:only-of-type {\n        vertical-align: middle;\n    }\n\n    .dataframe tbody tr th {\n        vertical-align: top;\n    }\n\n    .dataframe thead th {\n        text-align: right;\n    }\n</style>\n<table border=\"1\" class=\"dataframe\">\n  <thead>\n    <tr style=\"text-align: right;\">\n      <th></th>\n      <th>Round</th>\n      <th>Team 1</th>\n      <th>Team 2</th>\n      <th>Year</th>\n      <th>Score</th>\n      <th>Name</th>\n      <th>Team</th>\n      <th>Position</th>\n      <th>Price</th>\n      <th>id</th>\n      <th>Round_prev</th>\n      <th>pl_pos_id</th>\n      <th>is_selected</th>\n    </tr>\n  </thead>\n  <tbody>\n    <tr>\n      <th>62</th>\n      <td>1</td>\n      <td>Demons</td>\n      <td>Eagles</td>\n      <td>2020</td>\n      <td>60.459936</td>\n      <td>Nathan Jones</td>\n      <td>Demons</td>\n      <td>FO</td>\n      <td>528000</td>\n      <td>R:1_P:Nathan Jones</td>\n      <td>0</td>\n      <td>R:1_P:Nathan Jones_FO</td>\n      <td>1</td>\n    </tr>\n    <tr>\n      <th>5</th>\n      <td>1</td>\n      <td>Blues</td>\n      <td>Tigers</td>\n      <td>2020</td>\n      <td>95.000000</td>\n      <td>Sam Docherty</td>\n      <td>Blues</td>\n      <td>DE</td>\n      <td>676000</td>\n      <td>R:1_P:Sam Docherty</td>\n      <td>0</td>\n      <td>R:1_P:Sam Docherty_DE</td>\n      <td>1</td>\n    </tr>\n    <tr>\n      <th>49</th>\n      <td>1</td>\n      <td>Cats</td>\n      <td>Giants</td>\n      <td>2020</td>\n      <td>68.458904</td>\n      <td>Josh Jenkins</td>\n      <td>Cats</td>\n      <td>RU</td>\n      <td>494000</td>\n      <td>R:1_P:Josh Jenkins</td>\n      <td>0</td>\n      <td>R:1_P:Josh Jenkins_RU</td>\n      <td>1</td>\n    </tr>\n    <tr>\n      <th>14</th>\n      <td>1</td>\n      <td>Dockers</td>\n      <td>Bombers</td>\n      <td>2020</td>\n      <td>80.000000</td>\n      <td>Michael Walters</td>\n      <td>Dockers</td>\n      <td>MI</td>\n      <td>698000</td>\n      <td>R:1_P:Michael Walters</td>\n      <td>0</td>\n      <td>R:1_P:Michael Walters_MI</td>\n      <td>1</td>\n    </tr>\n    <tr>\n      <th>23</th>\n      <td>2</td>\n      <td>Cats</td>\n      <td>Hawks</td>\n      <td>2020</td>\n      <td>73.157143</td>\n      <td>Josh Jenkins</td>\n      <td>Cats</td>\n      <td>RU</td>\n      <td>494000</td>\n      <td>R:2_P:Josh Jenkins</td>\n      <td>1</td>\n      <td>R:2_P:Josh Jenkins_RU</td>\n      <td>1</td>\n    </tr>\n    <tr>\n      <th>...</th>\n      <td>...</td>\n      <td>...</td>\n      <td>...</td>\n      <td>...</td>\n      <td>...</td>\n      <td>...</td>\n      <td>...</td>\n      <td>...</td>\n      <td>...</td>\n      <td>...</td>\n      <td>...</td>\n      <td>...</td>\n      <td>...</td>\n    </tr>\n    <tr>\n      <th>30</th>\n      <td>18</td>\n      <td>Cats</td>\n      <td>Lions</td>\n      <td>2020</td>\n      <td>70.969512</td>\n      <td>Josh Jenkins</td>\n      <td>Cats</td>\n      <td>RU</td>\n      <td>494000</td>\n      <td>R:18_P:Josh Jenkins</td>\n      <td>17</td>\n      <td>R:18_P:Josh Jenkins_RU</td>\n      <td>1</td>\n    </tr>\n    <tr>\n      <th>31</th>\n      <td>18</td>\n      <td>Cats</td>\n      <td>Power</td>\n      <td>2020</td>\n      <td>70.712644</td>\n      <td>Josh Jenkins</td>\n      <td>Cats</td>\n      <td>RU</td>\n      <td>494000</td>\n      <td>R:18_P:Josh Jenkins</td>\n      <td>17</td>\n      <td>R:18_P:Josh Jenkins_RU</td>\n      <td>1</td>\n    </tr>\n    <tr>\n      <th>32</th>\n      <td>18</td>\n      <td>Cats</td>\n      <td>Tigers</td>\n      <td>2020</td>\n      <td>70.489011</td>\n      <td>Josh Jenkins</td>\n      <td>Cats</td>\n      <td>RU</td>\n      <td>494000</td>\n      <td>R:18_P:Josh Jenkins</td>\n      <td>17</td>\n      <td>R:18_P:Josh Jenkins_RU</td>\n      <td>1</td>\n    </tr>\n    <tr>\n      <th>67</th>\n      <td>18</td>\n      <td>Lions</td>\n      <td>Tigers</td>\n      <td>2020</td>\n      <td>59.000000</td>\n      <td>Grant Birchall</td>\n      <td>Lions</td>\n      <td>DE</td>\n      <td>510000</td>\n      <td>R:18_P:Grant Birchall</td>\n      <td>17</td>\n      <td>R:18_P:Grant Birchall_DE</td>\n      <td>1</td>\n    </tr>\n    <tr>\n      <th>43</th>\n      <td>18</td>\n      <td>Saints</td>\n      <td>Bulldogs</td>\n      <td>2020</td>\n      <td>70.000000</td>\n      <td>Bradley Hill</td>\n      <td>Saints</td>\n      <td>MI</td>\n      <td>557000</td>\n      <td>R:18_P:Bradley Hill</td>\n      <td>17</td>\n      <td>R:18_P:Bradley Hill_MI</td>\n      <td>1</td>\n    </tr>\n  </tbody>\n</table>\n<p>81 rows × 13 columns</p>\n</div>"
          },
          "metadata": {},
          "execution_count": 38
        }
      ],
      "source": [
        "RU_Players_Position_Casting.sort_values(['Round'])"
      ]
    },
    {
      "cell_type": "code",
      "execution_count": 39,
      "metadata": {},
      "outputs": [],
      "source": [
        "for round in RU_Players_Position_Casting['Round'].unique():\n",
        "    assert RU_Players_Position_Casting[RU_Players_Position_Casting['Round']==round]['is_selected'].sum()"
      ]
    }
  ]
}