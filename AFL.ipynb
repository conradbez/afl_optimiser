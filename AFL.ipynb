{
  "nbformat": 4,
  "nbformat_minor": 0,
  "metadata": {
    "colab": {
      "name": "AFL.ipynb",
      "provenance": [],
      "collapsed_sections": []
    },
    "kernelspec": {
      "name": "python3",
      "display_name": "Python 3",
      "language": "python"
    }
  },
  "cells": [
    {
      "cell_type": "code",
      "execution_count": 1,
      "metadata": {},
      "outputs": [],
      "source": [
        "# !jupyter nbconvert --to script AFL.ipynb"
      ]
    },
    {
      "cell_type": "code",
      "metadata": {
        "id": "c8cfL_UgRZhj"
      },
      "source": [
        "# !pip install pyomo\n",
        "# !pip install --upgrade --user ortools\n",
        "# !apt-get install -y glpk-utils\n",
        "# !sudo apt-get update -y\n",
        "# !sudo apt-get install -y coinor-cbc"
      ],
      "execution_count": 2,
      "outputs": []
    },
    {
      "cell_type": "code",
      "execution_count": 3,
      "metadata": {},
      "outputs": [],
      "source": [
        "# !pip install -U git+https://github.com/coin-or/pulp\n",
        "# !sudo pulptest\n",
        "# !pip install pandas"
      ]
    },
    {
      "cell_type": "code",
      "execution_count": 13,
      "metadata": {},
      "outputs": [],
      "source": [
        "import numpy as np\n",
        "import pandas as pd\n",
        "from pulp import *"
      ]
    },
    {
      "cell_type": "code",
      "execution_count": 14,
      "metadata": {},
      "outputs": [],
      "source": [
        "def test1(test_df):\n",
        "    assert len(test_df[test_df['Name'].isna()])==0\n",
        "    for r in test_df['Round'].unique():\n",
        "        names = test_df[test_df['Round']==r]['Name'].unique()\n",
        "        try:    \n",
        "            assert len(test_df[~(test_df['Name'].isin(names))])==0\n",
        "        except AssertionError:\n",
        "            # print(r)\n",
        "            # print(test_df[~(test_df['Name'].isin(names))])\n",
        "            assert len(test_df[~(test_df['Name'].isin(names))])==0"
      ]
    },
    {
      "cell_type": "code",
      "metadata": {
        "id": "sy6uwTvL0rQs"
      },
      "source": [
        "def getPlayers(full_player_scores = pd.read_csv('full_players.csv', index_col=0)):\n",
        "    full_player_scores = pd.read_csv('full_players.csv')\n",
        "    full_player_scores = full_player_scores.dropna(subset=['Name'])\n",
        "    full_player_scores = full_player_scores.reset_index(drop=True)\n",
        "    full_player_scores['Score'] = pd.to_numeric(full_player_scores['Score'], errors='coerce')\n",
        "\n",
        "    # testfilter\n",
        "    full_player_scores = full_player_scores[full_player_scores['Round']<3]\n",
        "\n",
        "    full_player_scores[\"Value\"] = full_player_scores['Score']/full_player_scores['Price']\n",
        "    players_to_be_kept = full_player_scores.groupby('Name').mean()[['Score','Value']]\n",
        "\n",
        "    players_to_keep = []\n",
        "    # num_players_to_keep = int(len(players_to_be_kept)*0.2)\n",
        "    num_players_to_keep = int(len(players_to_be_kept)*0.1)\n",
        "    players_to_keep += list(players_to_be_kept.sort_values('Score', ascending = False).index[:num_players_to_keep])\n",
        "    players_to_keep += list(players_to_be_kept.sort_values('Value', ascending = False).index[:num_players_to_keep])\n",
        "\n",
        "    full_player_scores = full_player_scores[full_player_scores['Name'].isin(players_to_keep)]\n",
        "\n",
        "    full_player_scores_2021 = full_player_scores[full_player_scores['Year']==2021]\n",
        "    full_player_scores['Score'] = full_player_scores[['Name','Team 1', 'Team 2', 'Team', 'Position','Score']].groupby(['Name','Team 1', 'Team 2', 'Position']).transform('mean')\n",
        "    # full_player_scores = full_player_scores[full_player_scores['Year']==2020]\n",
        "\n",
        "    schedule = pd.read_csv('2021_schedule', index_col=0) \n",
        "    schedule = schedule.append(schedule.rename({'Team 1':\"Team 2\", \"Team 2\":\"Team 1\"},axis=1))\n",
        "    full_player_scores = schedule.merge(full_player_scores[['Team 1', 'Team 2', 'Position', 'Name', 'Score', 'Price']], on=['Team 1','Team 2'])\n",
        "    full_player_scores = full_player_scores.drop_duplicates()\n",
        "\n",
        "    # Only keep players who are playing this season\n",
        "    full_player_scores = full_player_scores[full_player_scores['Name'].isin(full_player_scores_2021['Name'].unique())].dropna(how='all').dropna(how='all')\n",
        "\n",
        "    df = full_player_scores.copy()\n",
        "\n",
        "    df1 = df[['Name','Team 1','Position']].drop_duplicates()\n",
        "    df2 = pd.DataFrame(range(1,23), columns=['Round'])\n",
        "    df1['key'] = 0\n",
        "    df2['key'] = 0\n",
        "    df = df1.merge(df2, how='outer', on=['key'])\n",
        "    df = df.sort_values('Round')\n",
        "    df = df.drop('key', axis=1)\n",
        "    full_player_scores = full_player_scores.merge(df, on=['Name', 'Team 1', 'Position','Round'],how='right').reset_index(drop=True)\n",
        "    try:\n",
        "        test1(full_player_scores)\n",
        "    except AssertionError:\n",
        "        print('WARNING: failed a test')\n",
        "\n",
        "    player_num_games_played = full_player_scores[full_player_scores['Score']>0].groupby('Name')['Team 2'].transform('count')\n",
        "\n",
        "    opponent_average_score = full_player_scores.groupby('Team 2')['Score'].transform('mean')\n",
        "    player_average_score = full_player_scores.groupby('Name')['Score'].transform('mean')\n",
        "    player_average_value = player_average_score/full_player_scores['Price']\n",
        "\n",
        "    na_locs = full_player_scores['Score'].isna()\n",
        "\n",
        "    full_player_scores.loc[na_locs,'Score'] = ((opponent_average_score+player_average_score)/2).loc[na_locs]\n",
        "\n",
        "    na_locs = full_player_scores['Score'].isna()\n",
        "\n",
        "    full_player_scores.loc[na_locs,'Score'] = (player_average_score).loc[na_locs]\n",
        "\n",
        "    RU_Players = full_player_scores.copy()\n",
        "\n",
        "\n",
        "    RU_Players = RU_Players.sort_values('Score',ascending=False)\n",
        "\n",
        "    RU_Players = full_player_scores.copy()\n",
        "\n",
        "\n",
        "    RU_Players = RU_Players.sort_values('Score',ascending=False)\n",
        "    RU_Players['id'] = \"R:\"+RU_Players['Round'].astype(str)+\"_P:\"+RU_Players['Name']\n",
        "\n",
        "    # Only take players who played more than 5 games\n",
        "    # players_to_keep = player_num_games_played[player_num_games_played>5].index.values\n",
        "    # RU_Players = RU_Players.reindex(index=players_to_keep).dropna(how='all')\n",
        "\n",
        "    try:\n",
        "        test1(RU_Players)\n",
        "    except AssertionError:\n",
        "        print('WARNING: failed a test')\n",
        "\n",
        "    RU_Players.groupby(['Round','Position']).count()\n",
        "    return RU_Players\n",
        "RU_Players = getPlayers()\n",
        "RU_Players = RU_Players.replace(np.nan, 0)"
      ],
      "execution_count": 15,
      "outputs": []
    },
    {
      "cell_type": "code",
      "metadata": {
        "colab": {
          "base_uri": "https://localhost:8080/"
        },
        "id": "3yLWwxpJ48TW",
        "outputId": "8b83ef68-43c6-48c6-ea54-0ba9b6d7c9e2",
        "tags": []
      },
      "source": [
        "def getProblem(RU_Players):\n",
        "  player_contraints = {}\n",
        "  prob = LpProblem(\"aflProblem\", LpMaximize)\n",
        "  overall_score = LpVariable('OverallScore',0)\n",
        "  for p_id,score in zip(RU_Players['id'].iteritems(),RU_Players['Score'].iteritems()):\n",
        "    p_id = p_id[1]\n",
        "    player_contraints[p_id] = LpVariable(p_id, 0, 1, cat='Binary')\n",
        "\n",
        "  player_contraints = LpVariable.dicts(\"PC\", player_contraints, 0, 1, cat='Binary')\n",
        "  prob += lpSum([player_contraints[p_id[1]]*score[1] for p_id,score in zip(RU_Players['id'].iteritems(),RU_Players['Score'].iteritems())]), \"Total score is maximized\"\n",
        "\n",
        "  # START TRANFERS\n",
        "  RU_Players_prev_round = RU_Players\n",
        "  RU_Players_prev_round['Round_prev'] = RU_Players_prev_round['Round'] - 1\n",
        "\n",
        "  RU_transfers = RU_Players[['id','Position','Round','Name']].merge(RU_Players_prev_round[['id','Position','Round_prev','Name']],left_on=['Position','Round'],right_on=['Position','Round_prev'], suffixes = ('_prev','_next'))\n",
        "\n",
        "  RU_transfers['Transfer'] = RU_transfers['id_prev']+'-'+RU_transfers['id_next']\n",
        "  RU_transfers=RU_transfers[['id_prev',\t'Round',\t'Name_prev',\t'id_next',\t'Round_prev',\t'Name_next',\t'Transfer']].drop_duplicates()\n",
        "\n",
        "  transfer_contraints = {}\n",
        "\n",
        "  # Define transfer itermediaries\n",
        "  for i,t_id in RU_transfers['Transfer'].iteritems():\n",
        "    transfer_contraints[t_id] = LpVariable(t_id, 0, 1, cat='Binary')\n",
        "\n",
        "  transfer_contraints = LpVariable.dicts(\"TC\", transfer_contraints, 0, 1, cat='Binary')\n",
        "\n",
        "  # map rounds end to itermediary\n",
        "  for prev_player,trans in RU_transfers.groupby(['id_prev'])['Transfer'].apply(list).iteritems():\n",
        "    prob += lpSum([transfer_contraints[t_id] for t_id in trans]) == player_contraints[prev_player], f\"Previous player equals transfer intermediatary for {prev_player} equals {trans}\"\n",
        "\n",
        "  # map intermediary to next round\n",
        "  for next_player,trans in RU_transfers.groupby(['id_next'])['Transfer'].apply(list).iteritems():\n",
        "    prob += lpSum([transfer_contraints[t_id] for t_id in trans]) == player_contraints[next_player], f\"Next player equals transfer intermediatary for {next_player} equals {trans}\"\n",
        "\n",
        "  for round, transfers in RU_transfers[RU_transfers['Name_prev'] != RU_transfers['Name_next']][['Round','Transfer']].drop_duplicates().groupby(['Round'])['Transfer'].apply(list).iteritems():\n",
        "    prob += lpSum([transfer_contraints[t_id] for t_id in transfers]) <= 2, f\"Round: {round}, has less than or equal to 4 transfers\"\n",
        "    # print(f'{[transfer_contraints[t_id] for t_id in transfers]}) <= 2')\n",
        "  # END TRANFERS\n",
        "\n",
        "  # START money contraint\n",
        "  money = 13 * 10**6\n",
        "  for round,player in RU_Players[['id','Price','Round']].drop_duplicates().groupby(['Round'])['id'].apply(list).iteritems():\n",
        "    prob += lpSum([player_contraints[p_id]*RU_Players[RU_Players['id']==p_id]['Price'].values[0] for p_id in player]) <= money, f\"Round: {round}, has less than ${money}\"\n",
        "  # END money contraint\n",
        "\n",
        "  #START Contrain each player to a single position per round\n",
        "  RU_Players_Position_Casting = RU_Players.copy()\n",
        "  RU_Players_Position_Casting['pl_pos_id'] = (RU_Players['id']+'_'+RU_Players['Position'])\n",
        "\n",
        "  Players_Position_Casting_Series = RU_Players_Position_Casting[['id','pl_pos_id','Round']].drop_duplicates().groupby(['id','Round'])['pl_pos_id'].apply(list).iteritems()\n",
        "\n",
        "  Players_Position_Casting = {}\n",
        "  for i,r in RU_Players_Position_Casting[['pl_pos_id']].drop_duplicates().iterrows():\n",
        "    Players_Position_Casting[r['pl_pos_id']] = LpVariable(r['pl_pos_id'], 0, 1, cat='Binary')\n",
        "\n",
        "  Players_Position_Casting = LpVariable.dicts(\"Players_Position_Casting\", Players_Position_Casting, 0, 1, cat='Binary')\n",
        "\n",
        "  for (p_id,round), pl_pos_ids in Players_Position_Casting_Series:\n",
        "      player_possible_positions = [Players_Position_Casting[pl_pos_id] for pl_pos_id  in pl_pos_ids] \n",
        "      prob += lpSum(player_possible_positions) <= player_contraints[p_id], f\"Must have only have equal to {p_id} (0 or 1) of {player_possible_positions} positions in round {round}\"\n",
        "  #END Contrain each player to a single position per round\n",
        "\n",
        "  # START max players from each position\n",
        "  allowed_holds_per_position = {'DE': 8, \"MI\" : 10, 'RU' : 3, 'FO':9}\n",
        "\n",
        "  print('START max players from each position')\n",
        "  for (position,round), pl_pos_ids in RU_Players_Position_Casting[['pl_pos_id','Position','Round']].drop_duplicates().groupby(['Position', 'Round'])['pl_pos_id'].apply(list).iteritems():\n",
        "    prob += lpSum([Players_Position_Casting[pl_pos_id] for pl_pos_id in pl_pos_ids]) == allowed_holds_per_position[position], f\"Position: {position}, has less than {allowed_holds_per_position[position]} in round {round}\"\n",
        "  # END max players from each position\n",
        "\n",
        "  print('done with pre-work')\n",
        "  return prob, transfer_contraints, Players_Position_Casting, RU_Players_Position_Casting\n",
        "prob, transfer_contraints,Players_Position_Casting, RU_Players_Position_Casting = getProblem(RU_Players)"
      ],
      "execution_count": 20,
      "outputs": [
        {
          "output_type": "stream",
          "name": "stdout",
          "text": [
            "START max players from each position\ndone with pre-work\n"
          ]
        }
      ]
    },
    {
      "cell_type": "code",
      "metadata": {
        "colab": {
          "base_uri": "https://localhost:8080/"
        },
        "id": "l-HWpbAuTL_T",
        "outputId": "d7bb891d-552e-47d9-bdb9-d17b20102925"
      },
      "source": [
        "try:\n",
        "    solver = getSolver('COIN_CMD', timeLimit=4000, msg=True,gapRel = 0.2)\n",
        "    prob.solve(solver)\n",
        "except:\n",
        "    print('USING INBUILT SOLVER!!  \\n')\n",
        "    solver = getSolver('PULP_CBC_CMD')\n",
        "    prob.solve(solver)"
      ],
      "execution_count": 21,
      "outputs": []
    },
    {
      "cell_type": "code",
      "execution_count": 22,
      "metadata": {},
      "outputs": [
        {
          "output_type": "execute_result",
          "data": {
            "text/plain": [
              "1"
            ]
          },
          "metadata": {},
          "execution_count": 22
        }
      ],
      "source": [
        "prob.status"
      ]
    },
    {
      "cell_type": "code",
      "execution_count": 23,
      "metadata": {
        "tags": []
      },
      "outputs": [
        {
          "output_type": "stream",
          "name": "stdout",
          "text": [
            "R:2_P:Dayne Zorko-R:3_P:Lachlan Hunter\nR:2_P:Shaun Higgins-R:3_P:Andrew Gaff\nR:1_P:Sebastian Ross-R:2_P:Scott Pendlebury\nR:1_P:Callan Ward-R:2_P:Jackson Macrae\n"
          ]
        }
      ],
      "source": [
        "for i,v in transfer_contraints.items():\n",
        "    if v.value() != 0:\n",
        "        last_name = i[i.find(' ')+1: i.find('-')]\n",
        "        last_letters = i[-len(last_name):]\n",
        "        if not last_name == last_letters:\n",
        "            print(i)"
      ]
    },
    {
      "cell_type": "code",
      "execution_count": 24,
      "metadata": {},
      "outputs": [
        {
          "output_type": "stream",
          "name": "stdout",
          "text": [
            "Round  Position\n1      DE           8\n       FO           9\n       MI          10\n       RU           3\n2      DE           8\n       FO           9\n       MI          10\n       RU           3\n3      DE           8\n       FO           9\n       MI          10\n       RU           3\nName: is_selected, dtype: int64\n"
          ]
        }
      ],
      "source": [
        "results = []\n",
        "for name, player_position in Players_Position_Casting.items():\n",
        "    if player_position.value() != 0:\n",
        "        results.append([name,1])\n",
        "Players_selected = pd.DataFrame(results, columns=['pl_pos_id', 'is_selected'])\n",
        "RU_Players_Position_Casting = RU_Players_Position_Casting.merge(Players_selected, on = ['pl_pos_id'])\n",
        "RU_Players_Position_Casting.to_csv('solution.csv')\n",
        "print(RU_Players_Position_Casting.groupby(['Round','Position']).sum()['is_selected'])"
      ]
    },
    {
      "cell_type": "code",
      "execution_count": 14,
      "metadata": {},
      "outputs": [
        {
          "output_type": "stream",
          "name": "stdout",
          "text": [
            "[main e609153] sol\n",
            " Committer: Ubuntu <ubuntu@ip-172-31-2-142.ap-southeast-2.compute.internal>\n",
            "Your name and email address were configured automatically based\n",
            "on your username and hostname. Please check that they are accurate.\n",
            "You can suppress this message by setting them explicitly. Run the\n",
            "following command and follow the instructions in your editor to edit\n",
            "your configuration file:\n",
            "\n",
            "    git config --global --edit\n",
            "\n",
            "After doing this, you may fix the identity used for this commit with:\n",
            "\n",
            "    git commit --amend --reset-author\n",
            "\n",
            " 1 file changed, 741 insertions(+), 545 deletions(-)\n",
            " rewrite solution.csv (98%)\n",
            "Username for 'https://github.com': ^C\n"
          ]
        }
      ],
      "source": [
        "# !git add solution.csv\n",
        "# !git commit -m \"sol\"\n",
        "# !git push"
      ]
    },
    {
      "cell_type": "code",
      "execution_count": 10,
      "metadata": {},
      "outputs": [
        {
          "output_type": "execute_result",
          "data": {
            "text/plain": [
              "     Round     Team 1 Team 2 Position             Name      Score  Price  \\\n",
              "581      1    Bombers      0       DE  Orazio Fantasia  65.666667    0.0   \n",
              "79       1       Cats      0       MI     Joel Selwood  97.695455    0.0   \n",
              "502      1     Demons      0       RU   Braydon Preuss  77.500000    0.0   \n",
              "616      1    Bombers      0       FO    Jake Stringer  63.476190    0.0   \n",
              "619      1      Hawks      0       DE    James Frawley  60.850000    0.0   \n",
              "..     ...        ...    ...      ...              ...        ...    ...   \n",
              "247     22  Kangaroos      0       RU   Todd Goldstein  89.200000    0.0   \n",
              "595     22  Kangaroos      0       FO    Taylor Garner  64.750000    0.0   \n",
              "593     22     Saints      0       DE     Jarryn Geary  64.750000    0.0   \n",
              "418     22      Hawks      0       DE      Daniel Howe  83.250000    0.0   \n",
              "348     22     Demons      0       MI     Nathan Jones  86.527273    0.0   \n",
              "\n",
              "                        id  Round_prev                 pl_pos_id  is_selected  \n",
              "581  R:1_P:Orazio Fantasia           0  R:1_P:Orazio Fantasia_DE            1  \n",
              "79      R:1_P:Joel Selwood           0     R:1_P:Joel Selwood_MI            1  \n",
              "502   R:1_P:Braydon Preuss           0   R:1_P:Braydon Preuss_RU            1  \n",
              "616    R:1_P:Jake Stringer           0    R:1_P:Jake Stringer_FO            1  \n",
              "619    R:1_P:James Frawley           0    R:1_P:James Frawley_DE            1  \n",
              "..                     ...         ...                       ...          ...  \n",
              "247  R:22_P:Todd Goldstein          21  R:22_P:Todd Goldstein_RU            1  \n",
              "595   R:22_P:Taylor Garner          21   R:22_P:Taylor Garner_FO            1  \n",
              "593    R:22_P:Jarryn Geary          21    R:22_P:Jarryn Geary_DE            1  \n",
              "418     R:22_P:Daniel Howe          21     R:22_P:Daniel Howe_DE            1  \n",
              "348    R:22_P:Nathan Jones          21    R:22_P:Nathan Jones_MI            1  \n",
              "\n",
              "[660 rows x 11 columns]"
            ],
            "text/html": "<div>\n<style scoped>\n    .dataframe tbody tr th:only-of-type {\n        vertical-align: middle;\n    }\n\n    .dataframe tbody tr th {\n        vertical-align: top;\n    }\n\n    .dataframe thead th {\n        text-align: right;\n    }\n</style>\n<table border=\"1\" class=\"dataframe\">\n  <thead>\n    <tr style=\"text-align: right;\">\n      <th></th>\n      <th>Round</th>\n      <th>Team 1</th>\n      <th>Team 2</th>\n      <th>Position</th>\n      <th>Name</th>\n      <th>Score</th>\n      <th>Price</th>\n      <th>id</th>\n      <th>Round_prev</th>\n      <th>pl_pos_id</th>\n      <th>is_selected</th>\n    </tr>\n  </thead>\n  <tbody>\n    <tr>\n      <th>581</th>\n      <td>1</td>\n      <td>Bombers</td>\n      <td>0</td>\n      <td>DE</td>\n      <td>Orazio Fantasia</td>\n      <td>65.666667</td>\n      <td>0.0</td>\n      <td>R:1_P:Orazio Fantasia</td>\n      <td>0</td>\n      <td>R:1_P:Orazio Fantasia_DE</td>\n      <td>1</td>\n    </tr>\n    <tr>\n      <th>79</th>\n      <td>1</td>\n      <td>Cats</td>\n      <td>0</td>\n      <td>MI</td>\n      <td>Joel Selwood</td>\n      <td>97.695455</td>\n      <td>0.0</td>\n      <td>R:1_P:Joel Selwood</td>\n      <td>0</td>\n      <td>R:1_P:Joel Selwood_MI</td>\n      <td>1</td>\n    </tr>\n    <tr>\n      <th>502</th>\n      <td>1</td>\n      <td>Demons</td>\n      <td>0</td>\n      <td>RU</td>\n      <td>Braydon Preuss</td>\n      <td>77.500000</td>\n      <td>0.0</td>\n      <td>R:1_P:Braydon Preuss</td>\n      <td>0</td>\n      <td>R:1_P:Braydon Preuss_RU</td>\n      <td>1</td>\n    </tr>\n    <tr>\n      <th>616</th>\n      <td>1</td>\n      <td>Bombers</td>\n      <td>0</td>\n      <td>FO</td>\n      <td>Jake Stringer</td>\n      <td>63.476190</td>\n      <td>0.0</td>\n      <td>R:1_P:Jake Stringer</td>\n      <td>0</td>\n      <td>R:1_P:Jake Stringer_FO</td>\n      <td>1</td>\n    </tr>\n    <tr>\n      <th>619</th>\n      <td>1</td>\n      <td>Hawks</td>\n      <td>0</td>\n      <td>DE</td>\n      <td>James Frawley</td>\n      <td>60.850000</td>\n      <td>0.0</td>\n      <td>R:1_P:James Frawley</td>\n      <td>0</td>\n      <td>R:1_P:James Frawley_DE</td>\n      <td>1</td>\n    </tr>\n    <tr>\n      <th>...</th>\n      <td>...</td>\n      <td>...</td>\n      <td>...</td>\n      <td>...</td>\n      <td>...</td>\n      <td>...</td>\n      <td>...</td>\n      <td>...</td>\n      <td>...</td>\n      <td>...</td>\n      <td>...</td>\n    </tr>\n    <tr>\n      <th>247</th>\n      <td>22</td>\n      <td>Kangaroos</td>\n      <td>0</td>\n      <td>RU</td>\n      <td>Todd Goldstein</td>\n      <td>89.200000</td>\n      <td>0.0</td>\n      <td>R:22_P:Todd Goldstein</td>\n      <td>21</td>\n      <td>R:22_P:Todd Goldstein_RU</td>\n      <td>1</td>\n    </tr>\n    <tr>\n      <th>595</th>\n      <td>22</td>\n      <td>Kangaroos</td>\n      <td>0</td>\n      <td>FO</td>\n      <td>Taylor Garner</td>\n      <td>64.750000</td>\n      <td>0.0</td>\n      <td>R:22_P:Taylor Garner</td>\n      <td>21</td>\n      <td>R:22_P:Taylor Garner_FO</td>\n      <td>1</td>\n    </tr>\n    <tr>\n      <th>593</th>\n      <td>22</td>\n      <td>Saints</td>\n      <td>0</td>\n      <td>DE</td>\n      <td>Jarryn Geary</td>\n      <td>64.750000</td>\n      <td>0.0</td>\n      <td>R:22_P:Jarryn Geary</td>\n      <td>21</td>\n      <td>R:22_P:Jarryn Geary_DE</td>\n      <td>1</td>\n    </tr>\n    <tr>\n      <th>418</th>\n      <td>22</td>\n      <td>Hawks</td>\n      <td>0</td>\n      <td>DE</td>\n      <td>Daniel Howe</td>\n      <td>83.250000</td>\n      <td>0.0</td>\n      <td>R:22_P:Daniel Howe</td>\n      <td>21</td>\n      <td>R:22_P:Daniel Howe_DE</td>\n      <td>1</td>\n    </tr>\n    <tr>\n      <th>348</th>\n      <td>22</td>\n      <td>Demons</td>\n      <td>0</td>\n      <td>MI</td>\n      <td>Nathan Jones</td>\n      <td>86.527273</td>\n      <td>0.0</td>\n      <td>R:22_P:Nathan Jones</td>\n      <td>21</td>\n      <td>R:22_P:Nathan Jones_MI</td>\n      <td>1</td>\n    </tr>\n  </tbody>\n</table>\n<p>660 rows × 11 columns</p>\n</div>"
          },
          "metadata": {},
          "execution_count": 10
        }
      ],
      "source": [
        "RU_Players_Position_Casting.sort_values(['Round'])"
      ]
    },
    {
      "cell_type": "code",
      "execution_count": 9,
      "metadata": {},
      "outputs": [],
      "source": [
        "for round in RU_Players_Position_Casting['Round'].unique():\n",
        "    assert RU_Players_Position_Casting[RU_Players_Position_Casting['Round']==round]['is_selected'].sum()"
      ]
    },
    {
      "cell_type": "code",
      "execution_count": null,
      "metadata": {},
      "outputs": [],
      "source": []
    }
  ]
}