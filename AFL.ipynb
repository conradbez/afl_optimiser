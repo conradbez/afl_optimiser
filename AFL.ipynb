{
  "nbformat": 4,
  "nbformat_minor": 0,
  "metadata": {
    "colab": {
      "name": "AFL.ipynb",
      "provenance": [],
      "collapsed_sections": []
    },
    "kernelspec": {
      "name": "python3",
      "display_name": "Python 3.6.12 64-bit ('conrad': conda)",
      "metadata": {
        "interpreter": {
          "hash": "b0a8ad1742c292f0dd76aa13940960e1de1d12e9dab8a0adbeff7d59cd3bed96"
        }
      }
    }
  },
  "cells": [
    {
      "cell_type": "code",
      "metadata": {
        "id": "c8cfL_UgRZhj"
      },
      "source": [
        "# !pip install pyomo\n",
        "# !pip install --upgrade --user ortools\n",
        "# !apt-get install -y glpk-utils\n",
        "# !sudo apt-get update -y\n",
        "# !sudo apt-get install -y coinor-cbc"
      ],
      "execution_count": 9,
      "outputs": []
    },
    {
      "cell_type": "code",
      "execution_count": 12,
      "metadata": {},
      "outputs": [
        {
          "output_type": "stream",
          "name": "stdout",
          "text": [
            "Collecting pandas\n",
            "  Downloading pandas-1.1.5-cp36-cp36m-macosx_10_9_x86_64.whl (10.2 MB)\n",
            "\u001b[K     |████████████████████████████████| 10.2 MB 9.1 MB/s \n",
            "\u001b[?25hRequirement already satisfied: python-dateutil>=2.7.3 in /Users/conrad/miniconda3/envs/conrad/lib/python3.6/site-packages (from pandas) (2.8.1)\n",
            "Collecting numpy>=1.15.4\n",
            "  Downloading numpy-1.19.5-cp36-cp36m-macosx_10_9_x86_64.whl (15.6 MB)\n",
            "\u001b[K     |████████████████████████████████| 15.6 MB 6.2 MB/s \n",
            "\u001b[?25hRequirement already satisfied: six>=1.5 in /Users/conrad/miniconda3/envs/conrad/lib/python3.6/site-packages (from python-dateutil>=2.7.3->pandas) (1.15.0)\n",
            "Collecting pytz>=2017.2\n",
            "  Downloading pytz-2021.1-py2.py3-none-any.whl (510 kB)\n",
            "\u001b[K     |████████████████████████████████| 510 kB 7.3 MB/s \n",
            "\u001b[?25hInstalling collected packages: pytz, numpy, pandas\n",
            "Successfully installed numpy-1.19.5 pandas-1.1.5 pytz-2021.1\n"
          ]
        }
      ],
      "source": [
        "# !pip install -U git+https://github.com/coin-or/pulp\n",
        "# !sudo pulptest\n",
        "!pip install pandas"
      ]
    },
    {
      "cell_type": "code",
      "metadata": {
        "id": "sy6uwTvL0rQs"
      },
      "source": [
        "import pandas as pd\n",
        "from pulp import *\n",
        "full_player_scores = pd.read_csv('full_players.csv', index_col=0)\n",
        "full_player_scores = full_player_scores.reset_index(drop=True)\n",
        "full_player_scores['Score'] = pd.to_numeric(full_player_scores['Score'], errors='coerce')\n",
        "# full_player_scores['Value'] = full_player_scores['Score']/full_player_scores['Price']\n",
        "\n",
        "full_player_scores_2021 = full_player_scores[full_player_scores['Year']==2021]\n",
        "full_player_scores = full_player_scores[full_player_scores['Year']==2020]\n",
        "\n",
        "# Only keep players who are playing this season\n",
        "full_player_scores[full_player_scores['Name'].isin(full_player_scores_2021['Name'].unique())].dropna(how='all').dropna(how='all')\n",
        "\n",
        "\n",
        "# full_player_scores = full_player_scores[full_player_scores.isin(full_player_scores_2021['Name'].unique())]['Name'].dropna(how='all')\n",
        "\n",
        "player_num_games_played = full_player_scores[full_player_scores['Score']>0].groupby('Name')['Team 2'].transform('count')\n",
        "\n",
        "opponent_average_score = full_player_scores.groupby('Team 2')['Score'].transform('mean')\n",
        "player_average_score = full_player_scores.groupby('Name')['Score'].transform('mean')\n",
        "player_average_value = player_average_score/full_player_scores['Price']\n",
        "\n",
        "na_locs = full_player_scores['Score'].isna()\n",
        "\n",
        "full_player_scores.loc[na_locs,'Score'] = ((opponent_average_score+player_average_score)/2).loc[na_locs]\n",
        "\n",
        "# RU_Players = full_player_scores[(full_player_scores['Round']<=2)&(full_player_scores['Year']==2020)] # Only two rounds\n",
        "# RU_Players = full_player_scores[(full_player_scores['Round']<=5)&(full_player_scores['Position']=='RU')&(full_player_scores['Year']==2020)] # Only rucks\n",
        "# RU_Players = full_player_scores[(full_player_scores['Round']<=2)&(full_player_scores['Year']==2020)]\n",
        "# RU_Players = full_player_scores[(full_player_scores['Position']=='RU')&(full_player_scores['Year']==2020)] # Only rucks\n",
        "\n",
        "RU_Players = full_player_scores[(full_player_scores['Year']==2020)]\n",
        "\n",
        "\n",
        "RU_Players = RU_Players.sort_values('Score',ascending=False)\n",
        "RU_Players['id'] = \"Round:\"+RU_Players['Round'].astype(str)+\"_Player:\"+RU_Players['Name']\n",
        "# RU_Players = RU_Players[RU_Players['Round']<3]\n",
        "\n",
        "# Only take players who played more than 5 games\n",
        "print(len(RU_Players['Name'].unique()))\n",
        "players_to_keep = player_num_games_played[player_num_games_played>5].index.values\n",
        "RU_Players = RU_Players.reindex(index=players_to_keep).dropna(how='all')\n",
        "print(len(RU_Players['Name'].unique()))\n",
        "\n",
        "\n",
        "# Only take players in top quater of average values (score/price)\n",
        "# print(len(RU_Players['Name'].unique()))\n",
        "# player_best_values = player_average_value.sort_values(ascending=False)[:int(len(player_average_value)/10)]\n",
        "# RU_Players = RU_Players.reindex(index=player_best_values.index.values).dropna(how='all') \n",
        "print(len(RU_Players['Name'].unique()))\n",
        "\n",
        "\n",
        "RU_Players = RU_Players.head(40)"
      ],
      "execution_count": 10,
      "outputs": [
        {
          "output_type": "stream",
          "name": "stdout",
          "text": [
            "652\n501\n501\n"
          ]
        }
      ]
    },
    {
      "cell_type": "code",
      "metadata": {
        "colab": {
          "base_uri": "https://localhost:8080/"
        },
        "id": "3yLWwxpJ48TW",
        "outputId": "8b83ef68-43c6-48c6-ea54-0ba9b6d7c9e2",
        "tags": []
      },
      "source": [
        "trades_allowed = None\n",
        "player_contraints = {}\n",
        "prob = LpProblem(\"aflProblem\", LpMaximize)\n",
        "overall_score = LpVariable('OverallScore',0)\n",
        "for p_id,score in zip(RU_Players['id'].iteritems(),RU_Players['Score'].iteritems()):\n",
        "  p_id = p_id[1]\n",
        "  player_contraints[p_id] = LpVariable(p_id, 0, 1, cat='Binary')\n",
        "\n",
        "player_contraints = LpVariable.dicts(\"player_contraints\", player_contraints, 0, 1, cat='Binary')\n",
        "prob += lpSum([player_contraints[p_id[1]]*score[1] for p_id,score in zip(RU_Players['id'].iteritems(),RU_Players['Score'].iteritems())]), \"Total score is maximized\"\n",
        "\n",
        "# START TRANFERS\n",
        "RU_Players_prev_round = RU_Players\n",
        "RU_Players_prev_round['Round_prev'] = RU_Players_prev_round['Round'] - 1\n",
        "\n",
        "RU_transfers = RU_Players[['id','Position','Round','Name']].merge(RU_Players_prev_round[['id','Position','Round_prev','Name']],left_on=['Position','Round'],right_on=['Position','Round_prev'], suffixes = ('_prev','_next'))\n",
        "RU_transfers['Transfer'] = RU_transfers['id_prev']+'->'+RU_transfers['id_next']\n",
        "\n",
        "transfer_contraints = {}\n",
        "\n",
        "# Define transfer itermediaries\n",
        "for i,t_id in RU_transfers['Transfer'].iteritems():\n",
        "  transfer_contraints[t_id] = LpVariable(t_id, 0, 1, cat='Binary')\n",
        "\n",
        "transfer_contraints = LpVariable.dicts(\"transfer_contraints\", transfer_contraints, 0, 1, cat='Binary')\n",
        "\n",
        "# map rounds end to itermediary\n",
        "for prev_player,trans in RU_transfers.groupby(['id_prev'])['Transfer'].apply(list).iteritems():\n",
        "  prob += lpSum([transfer_contraints[t_id] for t_id in trans]) == player_contraints[prev_player], \"Previous player equals transfer intermediatary for \"+prev_player\n",
        "\n",
        "# map intermediary to next round\n",
        "for next_player,trans in RU_transfers.groupby(['id_next'])['Transfer'].apply(list).iteritems():\n",
        "  prob += lpSum([transfer_contraints[t_id] for t_id in trans]) == player_contraints[next_player], \"Next player equals transfer intermediatary for \"+next_player\n",
        "\n",
        "for round, transfers in RU_transfers[RU_transfers['Name_prev'] != RU_transfers['Name_next']].groupby(['Round'])['Transfer'].apply(list).iteritems():\n",
        "  prob += lpSum([transfer_contraints[t_id] for t_id in transfers]) <= 4, f\"Round: {round}, has less than orequal to 4 transfers\"\n",
        "# END TRANFERS\n",
        "\n",
        "# START max players from each position\n",
        "allowed_holds_per_position = {'DE': 8, \"MI\" : 10, 'RU' : 3, 'FO':9}\n",
        "\n",
        "for (position,round), player in RU_Players[['id','Position','Round']].drop_duplicates().groupby(['Position', 'Round'])['id'].apply(list).iteritems():\n",
        "  prob += lpSum([player_contraints[p_id] for p_id in player]) == allowed_holds_per_position[position], f\"Position: {position}, has less than {allowed_holds_per_position[position]} in round {round}\"\n",
        "\n",
        "# END max players from each position\n",
        "\n",
        "\n",
        "# START total players \n",
        "for r, player in RU_Players[['id','Round']].drop_duplicates().groupby(['Round'])['id'].apply(list).iteritems():\n",
        "  print(player)\n",
        "  prob += lpSum([player_contraints[p_id] for p_id in player]) == 30, f\"Must have 30 players in round {r}\"\n",
        "\n",
        "# END total players \n",
        "\n",
        "\n",
        "# START money contraint\n",
        "money = 13 * 10**6\n",
        "for round,player in RU_Players[['id','Price','Round']].drop_duplicates().groupby(['Round'])['id'].apply(list).iteritems():\n",
        "  prob += lpSum([player_contraints[p_id]*RU_Players[RU_Players['id']==p_id]['Price'].values[0] for p_id in player]) <= money, f\"Round: {round}, has less than ${money}\"\n",
        "# END money contraint\n",
        "\n",
        "print('done with pre-work')\n",
        "solver = getSolver('COIN_CMD', maxSeconds=2000, msg=True,gapRel = 0.15, threads=100)\n"
      ],
      "execution_count": 11,
      "outputs": [
        {
          "output_type": "stream",
          "name": "stdout",
          "text": [
            "['Round:1_Player:Max Gawn', 'Round:1_Player:Brodie Grundy', \"Round:1_Player:Reilly O'Brien\"]\n['Round:2_Player:Max Gawn', 'Round:2_Player:Brodie Grundy']\n['Round:3_Player:Brodie Grundy']\n['Round:4_Player:Max Gawn', 'Round:4_Player:Brodie Grundy']\n['Round:5_Player:Max Gawn', 'Round:5_Player:Brodie Grundy', \"Round:5_Player:Reilly O'Brien\"]\n['Round:6_Player:Max Gawn', 'Round:6_Player:Brodie Grundy']\n['Round:7_Player:Max Gawn', 'Round:7_Player:Brodie Grundy', \"Round:7_Player:Reilly O'Brien\"]\n['Round:8_Player:Max Gawn', 'Round:8_Player:Brodie Grundy', \"Round:8_Player:Reilly O'Brien\"]\n['Round:9_Player:Max Gawn', 'Round:9_Player:Brodie Grundy']\n['Round:10_Player:Max Gawn', 'Round:10_Player:Brodie Grundy', \"Round:10_Player:Reilly O'Brien\"]\n['Round:11_Player:Brodie Grundy', \"Round:11_Player:Reilly O'Brien\"]\n['Round:12_Player:Brodie Grundy']\n['Round:13_Player:Brodie Grundy', \"Round:13_Player:Reilly O'Brien\"]\n['Round:14_Player:Max Gawn', 'Round:14_Player:Brodie Grundy']\n['Round:15_Player:Max Gawn', 'Round:15_Player:Brodie Grundy']\n['Round:16_Player:Max Gawn']\n['Round:17_Player:Max Gawn', 'Round:17_Player:Brodie Grundy']\n['Round:18_Player:Max Gawn', 'Round:18_Player:Brodie Grundy']\ndone with pre-work\n"
          ]
        }
      ]
    },
    {
      "cell_type": "code",
      "metadata": {
        "colab": {
          "base_uri": "https://localhost:8080/"
        },
        "id": "l-HWpbAuTL_T",
        "outputId": "d7bb891d-552e-47d9-bdb9-d17b20102925"
      },
      "source": [
        "# solver = getSolver('PULP_CBC_CMD', maxSeconds=100, msg=True,gapRel = 0.1, threads=100)\n",
        "# solver = getSolver('COIN_CMD', msg=True, cuts=True)\n",
        "prob.solve(pulp.PULP_CBC_CMD(msg=True, maxSeconds=10))\n",
        "# prob.solve(PULP_CBC_CMD(gapRel = 0.05))\n",
        "# solver = getSolver('GLPK_CMD')\n",
        "# prob.solve(solver)\n",
        "# pulp.COIN(maxSeconds=your_time_limit))\n",
        "# prob.solve(solver)\n",
        "list_solvers()"
      ],
      "execution_count": 23,
      "outputs": [
        {
          "output_type": "execute_result",
          "data": {
            "text/plain": [
              "['GLPK_CMD',\n",
              " 'PYGLPK',\n",
              " 'CPLEX_CMD',\n",
              " 'CPLEX_PY',\n",
              " 'CPLEX_DLL',\n",
              " 'GUROBI',\n",
              " 'GUROBI_CMD',\n",
              " 'MOSEK',\n",
              " 'XPRESS',\n",
              " 'PULP_CBC_CMD',\n",
              " 'COIN_CMD',\n",
              " 'COINMP_DLL',\n",
              " 'CHOCO_CMD',\n",
              " 'PULP_CHOCO_CMD',\n",
              " 'MIPCL_CMD',\n",
              " 'SCIP_CMD']"
            ]
          },
          "metadata": {},
          "execution_count": 23
        }
      ]
    },
    {
      "cell_type": "code",
      "metadata": {
        "id": "1pkmlf2k4jOJ",
        "colab": {
          "base_uri": "https://localhost:8080/"
        },
        "outputId": "28ab202e-1bbb-4049-9873-d51b004cf6e3",
        "tags": []
      },
      "source": [
        "roundplayers = {}\n",
        "roundchanges = {}\n",
        "for round in range(1,30):\n",
        "  roundplayers[round] = []\n",
        "  for n,t in player_contraints.items():\n",
        "      if t.value()>0.5:\n",
        "        if n[:len(f'Round:{round}_')] == f'Round:{round}_':\n",
        "          roundplayers[round].append(n[len(f'Round:{round}_Player:'):])\n",
        "  if not round == 1:\n",
        "    roundchanges[f'{round}_out'] = set(roundplayers[round-1]).difference(set(roundplayers[round]))\n",
        "    roundchanges[f'{round}_in'] = set(roundplayers[round]).difference(set(roundplayers[round-1]))\n",
        "\n",
        "\n",
        "print(roundchanges)\n",
        "print(roundplayers)\n"
      ],
      "execution_count": 21,
      "outputs": [
        {
          "output_type": "stream",
          "name": "stdout",
          "text": [
            "{'2_out': set(), '2_in': set(), '3_out': set(), '3_in': set(), '4_out': set(), '4_in': {'Max Gawn'}, '5_out': set(), '5_in': set(), '6_out': set(), '6_in': set(), '7_out': {'Max Gawn'}, '7_in': set(), '8_out': set(), '8_in': {'Max Gawn'}, '9_out': {'Max Gawn'}, '9_in': set(), '10_out': set(), '10_in': set(), '11_out': set(), '11_in': set(), '12_out': set(), '12_in': set(), '13_out': set(), '13_in': set(), '14_out': set(), '14_in': set(), '15_out': set(), '15_in': set(), '16_out': set(), '16_in': set(), '17_out': set(), '17_in': set(), '18_out': set(), '18_in': set(), '19_out': set(), '19_in': set(), '20_out': set(), '20_in': set(), '21_out': set(), '21_in': set(), '22_out': set(), '22_in': set(), '23_out': set(), '23_in': set(), '24_out': set(), '24_in': set(), '25_out': set(), '25_in': set(), '26_out': set(), '26_in': set(), '27_out': set(), '27_in': set(), '28_out': set(), '28_in': set(), '29_out': set(), '29_in': set()}\n{1: [], 2: [], 3: [], 4: ['Max Gawn'], 5: ['Max Gawn'], 6: ['Max Gawn'], 7: [], 8: ['Max Gawn'], 9: [], 10: [], 11: [], 12: [], 13: [], 14: [], 15: [], 16: [], 17: [], 18: [], 19: [], 20: [], 21: [], 22: [], 23: [], 24: [], 25: [], 26: [], 27: [], 28: [], 29: []}\n"
          ]
        }
      ]
    },
    {
      "cell_type": "code",
      "execution_count": 15,
      "metadata": {},
      "outputs": [],
      "source": [
        "print(roundchanges)\n",
        "print(roundplayers)\n"
      ]
    },
    {
      "cell_type": "code",
      "execution_count": 2,
      "metadata": {},
      "outputs": [],
      "source": [
        "roundplayers = {1: ['Todd Goldstein', 'Rowan Marshall', 'Rory Lobb', 'Rory Laird', 'Brayden Maynard', 'Sam Docherty', 'Nick Haynes', 'Adam Saad', 'Darcy Byrne-Jones', 'Lewis Jetta', 'Adam Tomlinson', 'Steele Sidebottom', 'Dustin Martin', 'Michael Walters', 'Kyle Langford', 'Isaac Smith', 'Brett Bewley', 'Justin Westhoff', 'Lachie Neale'], 2: ['Todd Goldstein', 'Rowan Marshall', 'Rory Lobb', 'Rory Laird', 'Brayden Maynard', 'Sam Docherty', 'Nick Haynes', 'Darcy Byrne-Jones', 'Lewis Jetta', 'Adam Tomlinson', 'Steele Sidebottom', 'Patrick Dangerfield', 'Josh Dunkley', 'Michael Walters', 'Kyle Langford', 'Tom Phillips', 'Justin Westhoff', 'Lachie Neale'], 3: ['Todd Goldstein', 'Rowan Marshall', 'Rory Lobb', 'Rory Laird', 'Brayden Maynard', 'Sam Docherty', 'Nick Haynes', 'Brodie Smith', 'Darcy Byrne-Jones', 'Heath Shaw', 'Steele Sidebottom', 'Patrick Dangerfield', 'Josh Dunkley', 'Michael Walters', 'Isaac Smith', 'Justin Westhoff', 'Jye Caldwell', 'Lachie Neale'], 4: ['Todd Goldstein', 'Rowan Marshall', 'Rory Lobb', 'Lachie Whitfield', 'Rory Laird', 'Brayden Maynard', 'Sam Docherty', 'Nick Haynes', 'Brodie Smith', 'Heath Shaw', 'Patrick Dangerfield', 'Michael Walters', 'Jack Steven', 'Isaac Smith', 'Justin Westhoff', 'Josh Battle', 'Lachie Neale'], 5: ['Max Gawn', 'Todd Goldstein', 'Rowan Marshall', 'Rory Lobb', 'Lachie Whitfield', 'Rory Laird', 'Sam Docherty', 'Nick Haynes', 'Bradley Sheppard', 'Brodie Smith', 'Heath Shaw', 'Patrick Dangerfield', 'Michael Walters', 'Jack Steven', 'Isaac Smith', 'Josh Battle', 'Laitham Vandermeer', 'Hugh Greenwood'], 6: ['Max Gawn', 'Todd Goldstein', 'Rowan Marshall', 'Rory Lobb', 'Lachie Whitfield', 'Rory Laird', 'Callum Mills', 'Nick Haynes', 'Bradley Sheppard', 'James Sicily', 'Brodie Smith', 'Heath Shaw', 'Patrick Dangerfield', 'Dayne Zorko', 'Michael Walters', 'Isaac Smith', 'Laitham Vandermeer', 'Kane Farrell', 'Hugh Greenwood'], 7: ['Max Gawn', 'Rowan Marshall', 'Peter Ladhams', 'Rory Lobb', 'Lachie Whitfield', 'Rory Laird', 'Callum Mills', 'Nick Haynes', 'Bradley Sheppard', 'James Sicily', 'Brodie Smith', 'Heath Shaw', 'Patrick Dangerfield', 'Dayne Zorko', 'Dustin Martin', 'Michael Walters', 'Zac Bailey', 'Joshua Kennedy', 'Kane Farrell', 'Clayton Oliver', 'Hugh Greenwood'], 8: ['Max Gawn', 'Rowan Marshall', 'Peter Ladhams', 'Lachie Whitfield', 'Rory Laird', 'Callum Mills', 'Nick Haynes', 'James Sicily', 'Brodie Smith', 'Mark Blicavs', 'Heath Shaw', 'Patrick Dangerfield', 'Dayne Zorko', 'Dustin Martin', 'Michael Walters', 'Matthew Kennedy', 'Zac Bailey', 'Joshua Kennedy', 'Clayton Oliver', 'Paul Seedsman'], 9: ['Max Gawn', 'Rowan Marshall', 'Peter Ladhams', 'Lachie Whitfield', 'Rory Laird', 'Alex Witherden', 'Luke McDonald', 'Nick Haynes', 'Brodie Smith', 'Mark Blicavs', 'Heath Shaw', 'Ben McKay', 'Steele Sidebottom', 'Patrick Dangerfield', 'Dayne Zorko', 'Dustin Martin', 'Zac Bailey', 'Sam Powell-Pepper', 'Joshua Kennedy', 'Clayton Oliver', 'Paul Seedsman'], 10: ['Rowan Marshall', 'Peter Ladhams', 'Oscar McInerney', 'Lachie Whitfield', 'Rory Laird', 'Alex Witherden', 'Luke McDonald', 'Nick Haynes', 'Bailey Williams', 'Mark Blicavs', 'Heath Shaw', 'Ben McKay', 'Steele Sidebottom', 'Patrick Dangerfield', 'Dayne Zorko', 'Dustin Martin', 'Tom Phillips', 'Zac Bailey', 'Sam Powell-Pepper', 'Zachary Merrett', 'Clayton Oliver'], 11: ['Rowan Marshall', 'Peter Ladhams', 'Oscar McInerney', 'Rory Laird', 'Alex Witherden', 'Jack Crisp', 'Luke McDonald', 'Bradley Sheppard', 'Brodie Smith', 'Bailey Williams', 'Mark Blicavs', 'Ben McKay', 'Steele Sidebottom', 'Patrick Dangerfield', 'Dayne Zorko', 'Dustin Martin', 'Tom Hawkins', 'Tom Phillips', 'Zac Bailey', 'Gary Rohan', 'Zachary Merrett'], 12: ['Rowan Marshall', 'Oscar McInerney', 'Ben McEvoy', 'Jake Lloyd', 'Rory Laird', 'Alex Witherden', 'Jack Crisp', 'Luke McDonald', 'Bradley Sheppard', 'Bailey Williams', 'Mark Blicavs', 'Steele Sidebottom', 'Patrick Dangerfield', 'Dayne Zorko', 'Dustin Martin', 'Tom Hawkins', 'Tom Phillips', 'Jamie Elliott', 'Gary Rohan', 'Nick Blakey', 'Zachary Merrett'], 13: ['Rowan Marshall', 'Oscar McInerney', 'Ben McEvoy', 'Jake Lloyd', 'Lachie Whitfield', 'Rory Laird', 'Jack Crisp', 'Luke McDonald', 'Bradley Sheppard', 'Mark Blicavs', 'Steele Sidebottom', 'Patrick Dangerfield', 'Dustin Martin', 'Tom Hawkins', 'Tom Phillips', 'Jack Newnes', 'Jamie Elliott', 'Lachlan Schultz', 'Nick Blakey', 'Zachary Merrett'], 14: ['Max Gawn', 'Rowan Marshall', 'Ben McEvoy', 'Jake Lloyd', 'Lachie Whitfield', 'Jack Crisp', 'Luke McDonald', 'Bradley Sheppard', 'Liam Duggan', 'Mark Blicavs', 'Patrick Dangerfield', 'Kyle Langford', 'Tom Phillips', 'Jack Newnes', 'Jamie Elliott', 'Lachlan Schultz', 'Nick Blakey', 'Tom Scully', 'Zachary Merrett'], 15: ['Max Gawn', 'Rory Lobb', 'Ben McEvoy', 'Jake Lloyd', 'Lachie Whitfield', 'Rory Laird', 'Jack Crisp', 'Bradley Sheppard', 'Liam Duggan', 'Daniel Rich', 'Dayne Zorko', 'Kyle Langford', 'Tom Phillips', 'Jack Newnes', 'Jamie Elliott', 'Lachlan Schultz', 'Nick Blakey', 'Tom Scully', 'Zachary Merrett'], 16: ['Max Gawn', 'Rowan Marshall', 'Rory Lobb', 'Jake Lloyd', 'Lachie Whitfield', 'Rory Laird', 'Thomas Stewart', 'Bradley Sheppard', 'Liam Duggan', 'Daniel Rich', 'Mark Blicavs', 'Patrick Dangerfield', 'Dayne Zorko', 'Kyle Langford', 'Jack Newnes', 'Lachlan Schultz', 'Nick Blakey', 'Tom Scully', 'Zachary Merrett'], 17: ['Rowan Marshall', 'Rory Lobb', 'Esava Ratugolea', 'Jake Lloyd', 'Rory Laird', 'Thomas Stewart', 'Bradley Sheppard', 'Liam Duggan', 'Daniel Rich', 'Mark Blicavs', 'Jake Kolodjashnij', 'Patrick Dangerfield', 'Dayne Zorko', 'Dustin Martin', 'Kyle Langford', 'Jack Newnes', 'Lachlan Schultz', 'Zachary Merrett', 'Cameron Guthrie'], 18: ['Rowan Marshall', 'Rory Lobb', 'Esava Ratugolea', 'Rory Laird', 'Thomas Stewart', 'Jayden Short', 'Bradley Sheppard', 'Liam Duggan', 'Daniel Rich', 'Mark Blicavs', 'Jake Kolodjashnij', 'Patrick Dangerfield', 'Dayne Zorko', 'Dustin Martin', 'Jack Steven', 'Kyle Langford', 'Kane Lambert', 'Cameron Guthrie', 'Sam Menegola'], 19: [], 20: [], 21: [], 22: [], 23: [], 24: [], 25: [], 26: [], 27: [], 28: [], 29: []}\n"
      ]
    },
    {
      "cell_type": "code",
      "execution_count": 3,
      "metadata": {},
      "outputs": [
        {
          "output_type": "execute_result",
          "data": {
            "text/plain": [
              "['Todd Goldstein',\n",
              " 'Rowan Marshall',\n",
              " 'Rory Lobb',\n",
              " 'Rory Laird',\n",
              " 'Brayden Maynard',\n",
              " 'Sam Docherty',\n",
              " 'Nick Haynes',\n",
              " 'Adam Saad',\n",
              " 'Darcy Byrne-Jones',\n",
              " 'Lewis Jetta',\n",
              " 'Adam Tomlinson',\n",
              " 'Steele Sidebottom',\n",
              " 'Dustin Martin',\n",
              " 'Michael Walters',\n",
              " 'Kyle Langford',\n",
              " 'Isaac Smith',\n",
              " 'Brett Bewley',\n",
              " 'Justin Westhoff',\n",
              " 'Lachie Neale']"
            ]
          },
          "metadata": {},
          "execution_count": 3
        }
      ],
      "source": [
        "roundplayers[1]"
      ]
    },
    {
      "cell_type": "code",
      "execution_count": null,
      "metadata": {},
      "outputs": [],
      "source": []
    }
  ]
}