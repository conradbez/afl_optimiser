{
  "nbformat": 4,
  "nbformat_minor": 0,
  "metadata": {
    "colab": {
      "name": "AFL.ipynb",
      "provenance": [],
      "collapsed_sections": []
    },
    "kernelspec": {
      "name": "python3",
      "display_name": "Python 3.6.12 64-bit ('conrad': conda)",
      "metadata": {
        "interpreter": {
          "hash": "b0a8ad1742c292f0dd76aa13940960e1de1d12e9dab8a0adbeff7d59cd3bed96"
        }
      }
    }
  },
  "cells": [
    {
      "cell_type": "code",
      "metadata": {
        "id": "c8cfL_UgRZhj"
      },
      "source": [
        "# !pip install pyomo\n",
        "# !pip install --upgrade --user ortools\n",
        "# !apt-get install -y glpk-utils\n",
        "# !sudo apt-get update -y\n",
        "# !sudo apt-get install -y coinor-cbc"
      ],
      "execution_count": null,
      "outputs": []
    },
    {
      "cell_type": "code",
      "metadata": {
        "colab": {
          "base_uri": "https://localhost:8080/",
          "height": 395
        },
        "id": "E2GvnXxCQ2nl",
        "outputId": "d9521666-a081-4e49-b6b2-a8b6a604b618"
      },
      "source": [
        "!pip install -U git+https://github.com/coin-or/pulp\n",
        "!sudo pulptest\n",
        "import pandas as pd\n",
        "from pulp import *"
      ],
      "execution_count": null,
      "outputs": []
    },
    {
      "cell_type": "code",
      "execution_count": 75,
      "metadata": {},
      "outputs": [],
      "source": [
        "# full_player_scores[full_player_scores['Score']<1 and ]"
      ]
    },
    {
      "cell_type": "code",
      "execution_count": 76,
      "metadata": {},
      "outputs": [],
      "source": [
        "# full_player_scores[(full_player_scores['Name']=='Zac Bailey')&(full_player_scores['Year']==2020)].sort_values('Round')"
      ]
    },
    {
      "cell_type": "code",
      "metadata": {
        "id": "sy6uwTvL0rQs"
      },
      "source": [
        "full_player_scores = pd.read_csv('full_players.csv', index_col=0)\n",
        "full_player_scores = full_player_scores.reset_index(drop=True)\n",
        "full_player_scores['Score'] = pd.to_numeric(full_player_scores['Score'], errors='coerce')\n",
        "# full_player_scores['Value'] = full_player_scores['Score']/full_player_scores['Price']\n",
        "full_player_scores = full_player_scores[full_player_scores['Year']==2020]\n",
        "player_num_games_played = full_player_scores[full_player_scores['Score']>0].groupby('Name')['Team 2'].transform('count')\n",
        "\n",
        "\n",
        "opponent_average_score = full_player_scores.groupby('Team 2')['Score'].transform('mean')\n",
        "player_average_score = full_player_scores.groupby('Name')['Score'].transform('mean')\n",
        "player_average_value = player_average_score/full_player_scores['Price']\n",
        "\n",
        "na_locs = full_player_scores['Score'].isna()\n",
        "\n",
        "full_player_scores.loc[na_locs,'Score'] = ((opponent_average_score+player_average_score)/2).loc[na_locs]\n",
        "\n",
        "# RU_Players = full_player_scores[(full_player_scores['Round']<=2)&(full_player_scores['Year']==2020)] # Only two rounds\n",
        "# RU_Players = full_player_scores[(full_player_scores['Round']<=5)&(full_player_scores['Position']=='RU')&(full_player_scores['Year']==2020)] # Only rucks\n",
        "# RU_Players = full_player_scores[(full_player_scores['Round']<=3)&(full_player_scores['Year']==2020)]\n",
        "RU_Players = full_player_scores[(full_player_scores['Year']==2020)]\n",
        "\n",
        "RU_Players = RU_Players.sort_values('Score',ascending=False)\n",
        "RU_Players['id'] = \"Round:\"+RU_Players['Round'].astype(str)+\"_Player:\"+RU_Players['Name']\n",
        "# RU_Players = RU_Players[RU_Players['Round']<3]\n",
        "\n",
        "RU_Players.Value = RU_Players['Score']/RU_Players['Price']\n",
        "\n",
        "# Only take players in top quater of average values (score/price)\n",
        "player_best_values = player_average_value.sort_values(ascending=False)[:int(len(player_average_value)/4)]\n",
        "RU_Players = RU_Players.reindex(index=player_best_values.index.values).dropna(how='all') \n",
        "\n",
        "# Only take players who played more than 5 games\n",
        "players_to_keep = player_num_games_played[player_num_games_played>5].index.values\n",
        "RU_Players = RU_Players.reindex(index=players_to_keep).dropna(how='all') \n",
        "RU_Players"
      ],
      "execution_count": 83,
      "outputs": [
        {
          "output_type": "execute_result",
          "data": {
            "text/plain": [
              "       Round  Team 1     Team 2    Year  Score               Name    Team  \\\n",
              "1520     2.0    Cats      Hawks  2020.0   83.0       Rhys Stanley    Cats   \n",
              "1531     3.0    Cats      Blues  2020.0   47.0       Rhys Stanley    Cats   \n",
              "1575    10.0    Cats  Kangaroos  2020.0   58.0       Rhys Stanley    Cats   \n",
              "1586    12.0    Cats      Power  2020.0   55.0       Rhys Stanley    Cats   \n",
              "1719    11.0    Cats     Saints  2020.0   72.0       Rhys Stanley    Cats   \n",
              "...      ...     ...        ...     ...    ...                ...     ...   \n",
              "78329   17.0  Eagles     Saints  2020.0   21.0  Brayden Ainsworth  Eagles   \n",
              "79139    7.0   Swans       Suns  2020.0   26.0      Elijah Taylor   Swans   \n",
              "79140    8.0   Swans      Hawks  2020.0   35.0      Elijah Taylor   Swans   \n",
              "79149    9.0   Swans     Saints  2020.0   27.0      Elijah Taylor   Swans   \n",
              "79150   10.0   Swans    Magpies  2020.0   17.0      Elijah Taylor   Swans   \n",
              "\n",
              "      Position     Price                                 id  \n",
              "1520        RU  573000.0        Round:2_Player:Rhys Stanley  \n",
              "1531        RU  573000.0        Round:3_Player:Rhys Stanley  \n",
              "1575        RU  573000.0       Round:10_Player:Rhys Stanley  \n",
              "1586        RU  573000.0       Round:12_Player:Rhys Stanley  \n",
              "1719        RU  573000.0       Round:11_Player:Rhys Stanley  \n",
              "...        ...       ...                                ...  \n",
              "78329       MI  336000.0  Round:17_Player:Brayden Ainsworth  \n",
              "79139       MI  222000.0       Round:7_Player:Elijah Taylor  \n",
              "79140       MI  222000.0       Round:8_Player:Elijah Taylor  \n",
              "79149       MI  222000.0       Round:9_Player:Elijah Taylor  \n",
              "79150       MI  222000.0      Round:10_Player:Elijah Taylor  \n",
              "\n",
              "[483 rows x 10 columns]"
            ],
            "text/html": "<div>\n<style scoped>\n    .dataframe tbody tr th:only-of-type {\n        vertical-align: middle;\n    }\n\n    .dataframe tbody tr th {\n        vertical-align: top;\n    }\n\n    .dataframe thead th {\n        text-align: right;\n    }\n</style>\n<table border=\"1\" class=\"dataframe\">\n  <thead>\n    <tr style=\"text-align: right;\">\n      <th></th>\n      <th>Round</th>\n      <th>Team 1</th>\n      <th>Team 2</th>\n      <th>Year</th>\n      <th>Score</th>\n      <th>Name</th>\n      <th>Team</th>\n      <th>Position</th>\n      <th>Price</th>\n      <th>id</th>\n    </tr>\n  </thead>\n  <tbody>\n    <tr>\n      <th>1520</th>\n      <td>2.0</td>\n      <td>Cats</td>\n      <td>Hawks</td>\n      <td>2020.0</td>\n      <td>83.0</td>\n      <td>Rhys Stanley</td>\n      <td>Cats</td>\n      <td>RU</td>\n      <td>573000.0</td>\n      <td>Round:2_Player:Rhys Stanley</td>\n    </tr>\n    <tr>\n      <th>1531</th>\n      <td>3.0</td>\n      <td>Cats</td>\n      <td>Blues</td>\n      <td>2020.0</td>\n      <td>47.0</td>\n      <td>Rhys Stanley</td>\n      <td>Cats</td>\n      <td>RU</td>\n      <td>573000.0</td>\n      <td>Round:3_Player:Rhys Stanley</td>\n    </tr>\n    <tr>\n      <th>1575</th>\n      <td>10.0</td>\n      <td>Cats</td>\n      <td>Kangaroos</td>\n      <td>2020.0</td>\n      <td>58.0</td>\n      <td>Rhys Stanley</td>\n      <td>Cats</td>\n      <td>RU</td>\n      <td>573000.0</td>\n      <td>Round:10_Player:Rhys Stanley</td>\n    </tr>\n    <tr>\n      <th>1586</th>\n      <td>12.0</td>\n      <td>Cats</td>\n      <td>Power</td>\n      <td>2020.0</td>\n      <td>55.0</td>\n      <td>Rhys Stanley</td>\n      <td>Cats</td>\n      <td>RU</td>\n      <td>573000.0</td>\n      <td>Round:12_Player:Rhys Stanley</td>\n    </tr>\n    <tr>\n      <th>1719</th>\n      <td>11.0</td>\n      <td>Cats</td>\n      <td>Saints</td>\n      <td>2020.0</td>\n      <td>72.0</td>\n      <td>Rhys Stanley</td>\n      <td>Cats</td>\n      <td>RU</td>\n      <td>573000.0</td>\n      <td>Round:11_Player:Rhys Stanley</td>\n    </tr>\n    <tr>\n      <th>...</th>\n      <td>...</td>\n      <td>...</td>\n      <td>...</td>\n      <td>...</td>\n      <td>...</td>\n      <td>...</td>\n      <td>...</td>\n      <td>...</td>\n      <td>...</td>\n      <td>...</td>\n    </tr>\n    <tr>\n      <th>78329</th>\n      <td>17.0</td>\n      <td>Eagles</td>\n      <td>Saints</td>\n      <td>2020.0</td>\n      <td>21.0</td>\n      <td>Brayden Ainsworth</td>\n      <td>Eagles</td>\n      <td>MI</td>\n      <td>336000.0</td>\n      <td>Round:17_Player:Brayden Ainsworth</td>\n    </tr>\n    <tr>\n      <th>79139</th>\n      <td>7.0</td>\n      <td>Swans</td>\n      <td>Suns</td>\n      <td>2020.0</td>\n      <td>26.0</td>\n      <td>Elijah Taylor</td>\n      <td>Swans</td>\n      <td>MI</td>\n      <td>222000.0</td>\n      <td>Round:7_Player:Elijah Taylor</td>\n    </tr>\n    <tr>\n      <th>79140</th>\n      <td>8.0</td>\n      <td>Swans</td>\n      <td>Hawks</td>\n      <td>2020.0</td>\n      <td>35.0</td>\n      <td>Elijah Taylor</td>\n      <td>Swans</td>\n      <td>MI</td>\n      <td>222000.0</td>\n      <td>Round:8_Player:Elijah Taylor</td>\n    </tr>\n    <tr>\n      <th>79149</th>\n      <td>9.0</td>\n      <td>Swans</td>\n      <td>Saints</td>\n      <td>2020.0</td>\n      <td>27.0</td>\n      <td>Elijah Taylor</td>\n      <td>Swans</td>\n      <td>MI</td>\n      <td>222000.0</td>\n      <td>Round:9_Player:Elijah Taylor</td>\n    </tr>\n    <tr>\n      <th>79150</th>\n      <td>10.0</td>\n      <td>Swans</td>\n      <td>Magpies</td>\n      <td>2020.0</td>\n      <td>17.0</td>\n      <td>Elijah Taylor</td>\n      <td>Swans</td>\n      <td>MI</td>\n      <td>222000.0</td>\n      <td>Round:10_Player:Elijah Taylor</td>\n    </tr>\n  </tbody>\n</table>\n<p>483 rows × 10 columns</p>\n</div>"
          },
          "metadata": {},
          "execution_count": 83
        }
      ]
    },
    {
      "cell_type": "code",
      "metadata": {
        "colab": {
          "base_uri": "https://localhost:8080/"
        },
        "id": "3yLWwxpJ48TW",
        "outputId": "8b83ef68-43c6-48c6-ea54-0ba9b6d7c9e2",
        "tags": []
      },
      "source": [
        "trades_allowed = 4\n",
        "player_contraints = {}\n",
        "prob = LpProblem(\"myProblem\", LpMaximize)\n",
        "overall_score = LpVariable('OverallScore',0)\n",
        "for p_id,score in zip(RU_Players['id'].iteritems(),RU_Players['Score'].iteritems()):\n",
        "  p_id = p_id[1]\n",
        "  score = score[1]\n",
        "  player_contraints[p_id] = LpVariable(p_id, 0, 1, cat='Binary')\n",
        "  prob += player_contraints[p_id]*score\n",
        "  overall_score += player_contraints[p_id]*score\n",
        "\n",
        "player_contraints = LpVariable.dicts(\"player_contraints\", player_contraints, 0, 1, cat='Binary')\n",
        "prob += lpSum([player_contraints[p_id[1]]*score[1] for p_id,score in zip(RU_Players['id'].iteritems(),RU_Players['Score'].iteritems())]), \"Total score is maximized\"\n",
        "\n",
        "# START TRANFERS\n",
        "RU_Players_prev_round = RU_Players\n",
        "RU_Players_prev_round['Round_prev'] = RU_Players_prev_round['Round'] - 1\n",
        "\n",
        "RU_transfers = RU_Players[['id','Position','Round']].merge(RU_Players_prev_round[['id','Position','Round_prev']],left_on=['Position','Round'],right_on=['Position','Round_prev'], suffixes = ('_prev','_next'))\n",
        "RU_transfers['Transfer'] = RU_transfers['id_prev']+'->'+RU_transfers['id_next']\n",
        "\n",
        "transfer_contraints = {}\n",
        "\n",
        "# Define transfer itermediaries\n",
        "for i,t_id in RU_transfers['Transfer'].iteritems():\n",
        "  transfer_contraints[t_id] = LpVariable(t_id, 0, 1, cat='Binary')\n",
        "\n",
        "transfer_contraints = LpVariable.dicts(\"player_contraints\", transfer_contraints, 0, 1, cat='Binary')\n",
        "\n",
        "# map rounds end to itermediary\n",
        "for prev_player,trans in RU_transfers.groupby(['id_prev'])['Transfer'].apply(list).iteritems():\n",
        "  prob += lpSum([transfer_contraints[t_id] for t_id in trans]) == player_contraints[prev_player], \"Previous player equals transfer intermediatary for \"+prev_player\n",
        "\n",
        "# map intermediary to next round\n",
        "for next_player,trans in RU_transfers.groupby(['id_next'])['Transfer'].apply(list).iteritems():\n",
        "  prob += lpSum([transfer_contraints[t_id] for t_id in trans]) == player_contraints[next_player], \"Next player equals transfer intermediatary for \"+next_player\n",
        "# END TRANFERS\n",
        "\n",
        "# START max players from each position\n",
        "allowed_holds_per_position = {'DE': 8, \"MI\" : 10, 'RU' : 3, 'FO':9}\n",
        "\n",
        "for (position,round), player in RU_Players[['id','Position','Round']].drop_duplicates().groupby(['Position', 'Round'])['id'].apply(list).iteritems():\n",
        "  # print(f\"Position: {position}, has less than {allowed_holds_per_position[position]} in round {round}\")\n",
        "  # print(player)\n",
        "  prob += lpSum([player_contraints[p_id] for p_id in player]) <= allowed_holds_per_position[position], f\"Position: {position}, has less than {allowed_holds_per_position[position]} in round {round}\"\n",
        "# END max players from each position\n",
        "\n",
        "# START money contraint\n",
        "money = 13 * 10**6\n",
        "for round,player in RU_Players[['id','Price','Round']].drop_duplicates().groupby(['Round'])['id'].apply(list).iteritems():\n",
        "  prob += lpSum([player_contraints[p_id]*RU_Players[RU_Players['id']==p_id]['Price'].values[0] for p_id in player]) <= money, f\"Round: {round}, has less than ${money}\"\n",
        "# END money contraint\n",
        "\n",
        "print('solving')"
      ],
      "execution_count": 84,
      "outputs": [
        {
          "output_type": "stream",
          "name": "stdout",
          "text": [
            "solving\n"
          ]
        }
      ]
    },
    {
      "cell_type": "code",
      "metadata": {
        "colab": {
          "base_uri": "https://localhost:8080/"
        },
        "id": "l-HWpbAuTL_T",
        "outputId": "d7bb891d-552e-47d9-bdb9-d17b20102925"
      },
      "source": [
        "\n",
        "# solver = getSolver('COIN_CMD', maxSeconds=10, msg=True,)\n",
        "solver = getSolver('COIN_CMD', msg=True)\n",
        "\n",
        "# prob.solve(pulp.PULP_CBC_CMD(msg=True, maxSeconds=10))\n",
        "# prob.solve(PULP_CBC_CMD(gapRel = 0.05))\n",
        "\n",
        "# solver = getSolver('GLPK_CMD')\n",
        "prob.solve(solver)\n",
        "\n",
        "# pulp.COIN(maxSeconds=your_time_limit))\n",
        "# prob.solve(solver)\n",
        "# list_solvers(onlyAvailable=True)"
      ],
      "execution_count": 85,
      "outputs": [
        {
          "output_type": "execute_result",
          "data": {
            "text/plain": [
              "1"
            ]
          },
          "metadata": {},
          "execution_count": 85
        }
      ]
    },
    {
      "cell_type": "code",
      "metadata": {
        "id": "1pkmlf2k4jOJ",
        "colab": {
          "base_uri": "https://localhost:8080/"
        },
        "outputId": "28ab202e-1bbb-4049-9873-d51b004cf6e3",
        "tags": []
      },
      "source": [
        "for v in prob.variables():\n",
        "  if v.varValue != 0 and \"Round:10_\" in v.name and not \"Round:11_\" in v.name and not \"Round:9_\" in v.name:\n",
        "    print(v.name)\n",
        "    print(v.value())"
      ],
      "execution_count": 87,
      "outputs": [
        {
          "output_type": "stream",
          "name": "stdout",
          "text": [
            "player_contraints_Round:10_Player:Alex_Witherden\n1.0\nplayer_contraints_Round:10_Player:Callan_Ward\n1.0\nplayer_contraints_Round:10_Player:Heath_Shaw\n1.0\nplayer_contraints_Round:10_Player:Jackson_Thurlow\n1.0\nplayer_contraints_Round:10_Player:Justin_Westhoff\n1.0\nplayer_contraints_Round:10_Player:Lachlan_Fogarty\n1.0\nplayer_contraints_Round:10_Player:Luke_Jackson\n1.0\nplayer_contraints_Round:10_Player:Sam_Wicks\n1.0\nplayer_contraints_Round:10_Player:Tom_Lynch\n1.0\nplayer_contraints_Round:10_Player:Zach_Guthrie\n1.0\n"
          ]
        }
      ]
    },
    {
      "cell_type": "code",
      "metadata": {
        "id": "1agMoCgsUSUt",
        "colab": {
          "base_uri": "https://localhost:8080/"
        },
        "outputId": "936d4faa-b3c8-47d9-b823-61d671a70495"
      },
      "source": [
        "# !glpsol\n",
        "# !sudo ldconfig\n",
        "!ldconfig\n"
      ],
      "execution_count": null,
      "outputs": []
    },
    {
      "cell_type": "code",
      "metadata": {
        "colab": {
          "base_uri": "https://localhost:8080/"
        },
        "id": "UC7xFlj1A1Ay",
        "outputId": "3145a732-a8ea-47b2-9335-d95e5ae0879f"
      },
      "source": [
        "import pulp\n",
        "pulp.pulpTestAll()"
      ],
      "execution_count": null,
      "outputs": []
    },
    {
      "cell_type": "code",
      "metadata": {
        "id": "7Qtzdc6yA3yU"
      },
      "source": [],
      "execution_count": null,
      "outputs": []
    }
  ]
}