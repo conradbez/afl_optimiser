{
  "nbformat": 4,
  "nbformat_minor": 0,
  "metadata": {
    "colab": {
      "name": "AFL.ipynb",
      "provenance": [],
      "collapsed_sections": []
    },
    "kernelspec": {
      "name": "python3",
      "display_name": "Python 3",
      "language": "python"
    }
  },
  "cells": [
    {
      "cell_type": "code",
      "execution_count": 179,
      "metadata": {},
      "outputs": [
        {
          "output_type": "stream",
          "name": "stdout",
          "text": [
            "[NbConvertApp] WARNING | Config option `kernel_spec_manager_class` not recognized by `NbConvertApp`.\n",
            "[NbConvertApp] Converting notebook AFL.ipynb to script\n",
            "[NbConvertApp] Writing 9309 bytes to AFL.txt\n"
          ]
        }
      ],
      "source": [
        "# !jupyter nbconvert --to script AFL.ipynb"
      ]
    },
    {
      "cell_type": "code",
      "metadata": {
        "id": "c8cfL_UgRZhj"
      },
      "source": [
        "# !pip install pyomo\n",
        "# !pip install --upgrade --user ortools\n",
        "# !apt-get install -y glpk-utils\n",
        "# !sudo apt-get update -y\n",
        "# !sudo apt-get install -y coinor-cbc"
      ],
      "execution_count": 6,
      "outputs": []
    },
    {
      "cell_type": "code",
      "execution_count": 7,
      "metadata": {},
      "outputs": [],
      "source": [
        "# !pip install -U git+https://github.com/coin-or/pulp\n",
        "# !sudo pulptest\n",
        "# !pip install pandas"
      ]
    },
    {
      "cell_type": "code",
      "execution_count": 167,
      "metadata": {},
      "outputs": [],
      "source": [
        "def test1(test_df):\n",
        "    assert len(test_df[test_df['Name'].isna()])==0\n",
        "    for r in test_df['Round'].unique():\n",
        "        names = test_df[test_df['Round']==r]['Name'].unique()\n",
        "        try:    \n",
        "            assert len(test_df[~(test_df['Name'].isin(names))])==0\n",
        "        except AssertionError:\n",
        "            print(r)\n",
        "            print(test_df[~(test_df['Name'].isin(names))])\n",
        "            assert len(test_df[~(test_df['Name'].isin(names))])==0"
      ]
    },
    {
      "cell_type": "code",
      "metadata": {
        "id": "sy6uwTvL0rQs"
      },
      "source": [
        "# players_to_keep = [\"Adam Tomlinson\", \"Max Gawn\"]\n",
        "# players_to_keep = [\"Adam Tomlinson\"]\n",
        "# Jack Viney, Todd Goldstein\n",
        "\n",
        "import numpy as np\n",
        "import pandas as pd\n",
        "from pulp import *\n",
        "full_player_scores = pd.read_csv('full_players.csv', index_col=0)\n",
        "full_player_scores.dropna(subset=['Name'])\n",
        "full_player_scores = full_player_scores.reset_index(drop=True)\n",
        "full_player_scores['Score'] = pd.to_numeric(full_player_scores['Score'], errors='coerce')\n",
        "\n",
        "# testfilter\n",
        "# full_player_scores = full_player_scores[full_player_scores['Round']<5]\n",
        "# players_to_keep = [\"Adam Tomlinson\", \"Max Gawn\"]\n",
        "# full_player_scores = full_player_scores[full_player_scores['Name'].isin(players_to_keep)]\n",
        "\n",
        "\n",
        "full_player_scores_2021 = full_player_scores[full_player_scores['Year']==2021]\n",
        "full_player_scores = full_player_scores[full_player_scores['Year']==2020]\n",
        "\n",
        "# Only keep players who are playing this season\n",
        "full_player_scores[full_player_scores['Name'].isin(full_player_scores_2021['Name'].unique())].dropna(how='all').dropna(how='all')\n",
        "\n",
        "df = full_player_scores.copy()\n",
        "\n",
        "df1 = df[['Name','Team','Position','Price', 'Team 1','Year']].drop_duplicates()\n",
        "df2 = df[['Round']].drop_duplicates()\n",
        "df1['key'] = 0\n",
        "df2['key'] = 0\n",
        "df = df1.merge(df2, how='outer', on=['key'])\n",
        "df = df.sort_values('Round')\n",
        "df = df.drop('key', axis=1)\n",
        "full_player_scores = full_player_scores.merge(df, on=['Name', 'Team', 'Position','Round','Price', 'Team 1','Year'],how='right').reset_index(drop=True)\n",
        "try:\n",
        "    test1(full_player_scores)\n",
        "except AssertionError:\n",
        "    print('WARNING: failed a test')\n",
        "\n",
        "\n",
        "player_num_games_played = full_player_scores[full_player_scores['Score']>0].groupby('Name')['Team 2'].transform('count')\n",
        "\n",
        "opponent_average_score = full_player_scores.groupby('Team 2')['Score'].transform('mean')\n",
        "player_average_score = full_player_scores.groupby('Name')['Score'].transform('mean')\n",
        "player_average_value = player_average_score/full_player_scores['Price']\n",
        "\n",
        "na_locs = full_player_scores['Score'].isna()\n",
        "\n",
        "full_player_scores.loc[na_locs,'Score'] = ((opponent_average_score+player_average_score)/2).loc[na_locs]\n",
        "\n",
        "na_locs = full_player_scores['Score'].isna()\n",
        "\n",
        "full_player_scores.loc[na_locs,'Score'] = (player_average_score).loc[na_locs]\n",
        "\n",
        "RU_Players = full_player_scores.copy()\n",
        "\n",
        "assert list(full_player_scores['Year'].unique())==[2020]\n",
        "\n",
        "RU_Players = RU_Players.sort_values('Score',ascending=False)\n",
        "\n",
        "RU_Players = full_player_scores.copy()\n",
        "\n",
        "assert list(full_player_scores['Year'].unique())==[2020]\n",
        "\n",
        "RU_Players = RU_Players.sort_values('Score',ascending=False)\n",
        "RU_Players['id'] = \"R:\"+RU_Players['Round'].astype(str)+\"_P:\"+RU_Players['Name']\n",
        "\n",
        "# Only take players who played more than 5 games\n",
        "# players_to_keep = player_num_games_played[player_num_games_played>5].index.values\n",
        "# RU_Players = RU_Players.reindex(index=players_to_keep).dropna(how='all')\n",
        "\n",
        "# Only take players in top quater of average values (score/price)\n",
        "player_best_values = player_average_value.sort_values(ascending=False)[:int(len(player_average_value)/2)]\n",
        "RU_Players = RU_Players.reindex(index=player_best_values.index.values).dropna(how='all') \n",
        "\n",
        "try:\n",
        "    test1(RU_Players)\n",
        "except AssertionError:\n",
        "    print('WARNING: failed a test')\n",
        "\n",
        "RU_Players.groupby(['Round','Position']).count()"
      ],
      "execution_count": 174,
      "outputs": [
        {
          "output_type": "stream",
          "name": "stdout",
          "text": [
            "2\n     Round  Team 1  Team 2  Year  Score         Name    Team Position   Price  \\\n487      1  Eagles  Demons  2020  107.0  Andrew Gaff  Eagles       MI  831000   \n\n                    id  \n487  R:1_P:Andrew Gaff  \nWARNING: failed a test\n"
          ]
        },
        {
          "output_type": "execute_result",
          "data": {
            "text/plain": [
              "                Team 1  Team 2  Year  Score  Name  Team  Price  id\n",
              "Round Position                                                    \n",
              "1     DE            27      27    27     27    27    27     27  27\n",
              "      FO            37      37    37     37    37    37     37  37\n",
              "      MI            23      23    23     23    23    23     23  23\n",
              "      RU             5       5     5      5     5     5      5   5\n",
              "2     DE            27      27    27     27    27    27     27  27\n",
              "      FO            37      37    37     37    37    37     37  37\n",
              "      MI            22      22    22     22    22    22     22  22\n",
              "      RU             5       5     5      5     5     5      5   5\n",
              "3     DE            27      20    27     27    27    27     27  27\n",
              "      FO            37      34    37     37    37    37     37  37\n",
              "      MI            22      20    22     22    22    22     22  22\n",
              "      RU             5       5     5      5     5     5      5   5\n",
              "4     DE            27      27    27     27    27    27     27  27\n",
              "      FO            37      37    37     37    37    37     37  37\n",
              "      MI            22      22    22     22    22    22     22  22\n",
              "      RU             5       5     5      5     5     5      5   5"
            ],
            "text/html": "<div>\n<style scoped>\n    .dataframe tbody tr th:only-of-type {\n        vertical-align: middle;\n    }\n\n    .dataframe tbody tr th {\n        vertical-align: top;\n    }\n\n    .dataframe thead th {\n        text-align: right;\n    }\n</style>\n<table border=\"1\" class=\"dataframe\">\n  <thead>\n    <tr style=\"text-align: right;\">\n      <th></th>\n      <th></th>\n      <th>Team 1</th>\n      <th>Team 2</th>\n      <th>Year</th>\n      <th>Score</th>\n      <th>Name</th>\n      <th>Team</th>\n      <th>Price</th>\n      <th>id</th>\n    </tr>\n    <tr>\n      <th>Round</th>\n      <th>Position</th>\n      <th></th>\n      <th></th>\n      <th></th>\n      <th></th>\n      <th></th>\n      <th></th>\n      <th></th>\n      <th></th>\n    </tr>\n  </thead>\n  <tbody>\n    <tr>\n      <th rowspan=\"4\" valign=\"top\">1</th>\n      <th>DE</th>\n      <td>27</td>\n      <td>27</td>\n      <td>27</td>\n      <td>27</td>\n      <td>27</td>\n      <td>27</td>\n      <td>27</td>\n      <td>27</td>\n    </tr>\n    <tr>\n      <th>FO</th>\n      <td>37</td>\n      <td>37</td>\n      <td>37</td>\n      <td>37</td>\n      <td>37</td>\n      <td>37</td>\n      <td>37</td>\n      <td>37</td>\n    </tr>\n    <tr>\n      <th>MI</th>\n      <td>23</td>\n      <td>23</td>\n      <td>23</td>\n      <td>23</td>\n      <td>23</td>\n      <td>23</td>\n      <td>23</td>\n      <td>23</td>\n    </tr>\n    <tr>\n      <th>RU</th>\n      <td>5</td>\n      <td>5</td>\n      <td>5</td>\n      <td>5</td>\n      <td>5</td>\n      <td>5</td>\n      <td>5</td>\n      <td>5</td>\n    </tr>\n    <tr>\n      <th rowspan=\"4\" valign=\"top\">2</th>\n      <th>DE</th>\n      <td>27</td>\n      <td>27</td>\n      <td>27</td>\n      <td>27</td>\n      <td>27</td>\n      <td>27</td>\n      <td>27</td>\n      <td>27</td>\n    </tr>\n    <tr>\n      <th>FO</th>\n      <td>37</td>\n      <td>37</td>\n      <td>37</td>\n      <td>37</td>\n      <td>37</td>\n      <td>37</td>\n      <td>37</td>\n      <td>37</td>\n    </tr>\n    <tr>\n      <th>MI</th>\n      <td>22</td>\n      <td>22</td>\n      <td>22</td>\n      <td>22</td>\n      <td>22</td>\n      <td>22</td>\n      <td>22</td>\n      <td>22</td>\n    </tr>\n    <tr>\n      <th>RU</th>\n      <td>5</td>\n      <td>5</td>\n      <td>5</td>\n      <td>5</td>\n      <td>5</td>\n      <td>5</td>\n      <td>5</td>\n      <td>5</td>\n    </tr>\n    <tr>\n      <th rowspan=\"4\" valign=\"top\">3</th>\n      <th>DE</th>\n      <td>27</td>\n      <td>20</td>\n      <td>27</td>\n      <td>27</td>\n      <td>27</td>\n      <td>27</td>\n      <td>27</td>\n      <td>27</td>\n    </tr>\n    <tr>\n      <th>FO</th>\n      <td>37</td>\n      <td>34</td>\n      <td>37</td>\n      <td>37</td>\n      <td>37</td>\n      <td>37</td>\n      <td>37</td>\n      <td>37</td>\n    </tr>\n    <tr>\n      <th>MI</th>\n      <td>22</td>\n      <td>20</td>\n      <td>22</td>\n      <td>22</td>\n      <td>22</td>\n      <td>22</td>\n      <td>22</td>\n      <td>22</td>\n    </tr>\n    <tr>\n      <th>RU</th>\n      <td>5</td>\n      <td>5</td>\n      <td>5</td>\n      <td>5</td>\n      <td>5</td>\n      <td>5</td>\n      <td>5</td>\n      <td>5</td>\n    </tr>\n    <tr>\n      <th rowspan=\"4\" valign=\"top\">4</th>\n      <th>DE</th>\n      <td>27</td>\n      <td>27</td>\n      <td>27</td>\n      <td>27</td>\n      <td>27</td>\n      <td>27</td>\n      <td>27</td>\n      <td>27</td>\n    </tr>\n    <tr>\n      <th>FO</th>\n      <td>37</td>\n      <td>37</td>\n      <td>37</td>\n      <td>37</td>\n      <td>37</td>\n      <td>37</td>\n      <td>37</td>\n      <td>37</td>\n    </tr>\n    <tr>\n      <th>MI</th>\n      <td>22</td>\n      <td>22</td>\n      <td>22</td>\n      <td>22</td>\n      <td>22</td>\n      <td>22</td>\n      <td>22</td>\n      <td>22</td>\n    </tr>\n    <tr>\n      <th>RU</th>\n      <td>5</td>\n      <td>5</td>\n      <td>5</td>\n      <td>5</td>\n      <td>5</td>\n      <td>5</td>\n      <td>5</td>\n      <td>5</td>\n    </tr>\n  </tbody>\n</table>\n</div>"
          },
          "metadata": {},
          "execution_count": 174
        }
      ]
    },
    {
      "cell_type": "code",
      "metadata": {
        "colab": {
          "base_uri": "https://localhost:8080/"
        },
        "id": "3yLWwxpJ48TW",
        "outputId": "8b83ef68-43c6-48c6-ea54-0ba9b6d7c9e2",
        "tags": [
          "outputPrepend"
        ]
      },
      "source": [
        "player_contraints = {}\n",
        "prob = LpProblem(\"aflProblem\", LpMaximize)\n",
        "overall_score = LpVariable('OverallScore',0)\n",
        "for p_id,score in zip(RU_Players['id'].iteritems(),RU_Players['Score'].iteritems()):\n",
        "  p_id = p_id[1]\n",
        "  player_contraints[p_id] = LpVariable(p_id, 0, 1, cat='Binary')\n",
        "\n",
        "player_contraints = LpVariable.dicts(\"PC\", player_contraints, 0, 1, cat='Binary')\n",
        "prob += lpSum([player_contraints[p_id[1]]*score[1] for p_id,score in zip(RU_Players['id'].iteritems(),RU_Players['Score'].iteritems())]), \"Total score is maximized\"\n",
        "\n",
        "# START TRANFERS\n",
        "RU_Players_prev_round = RU_Players\n",
        "RU_Players_prev_round['Round_prev'] = RU_Players_prev_round['Round'] - 1\n",
        "\n",
        "RU_transfers = RU_Players[['id','Position','Round','Name']].merge(RU_Players_prev_round[['id','Position','Round_prev','Name']],left_on=['Position','Round'],right_on=['Position','Round_prev'], suffixes = ('_prev','_next'))\n",
        "\n",
        "RU_transfers['Transfer'] = RU_transfers['id_prev']+'-'+RU_transfers['id_next']\n",
        "RU_transfers=RU_transfers[['id_prev',\t'Round',\t'Name_prev',\t'id_next',\t'Round_prev',\t'Name_next',\t'Transfer']].drop_duplicates()\n",
        "\n",
        "transfer_contraints = {}\n",
        "\n",
        "# Define transfer itermediaries\n",
        "for i,t_id in RU_transfers['Transfer'].iteritems():\n",
        "  transfer_contraints[t_id] = LpVariable(t_id, 0, 1, cat='Binary')\n",
        "\n",
        "transfer_contraints = LpVariable.dicts(\"TC\", transfer_contraints, 0, 1, cat='Binary')\n",
        "\n",
        "# map rounds end to itermediary\n",
        "for prev_player,trans in RU_transfers.groupby(['id_prev'])['Transfer'].apply(list).iteritems():\n",
        "  prob += lpSum([transfer_contraints[t_id] for t_id in trans]) == player_contraints[prev_player], f\"Previous player equals transfer intermediatary for {prev_player} equals {trans}\"\n",
        "\n",
        "# map intermediary to next round\n",
        "for next_player,trans in RU_transfers.groupby(['id_next'])['Transfer'].apply(list).iteritems():\n",
        "  prob += lpSum([transfer_contraints[t_id] for t_id in trans]) == player_contraints[next_player], f\"Next player equals transfer intermediatary for {next_player} equals {trans}\"\n",
        "  print(f'{[transfer_contraints[t_id] for t_id in trans]} == {player_contraints[next_player]}')\n",
        "\n",
        "for round, transfers in RU_transfers[RU_transfers['Name_prev'] != RU_transfers['Name_next']][['Round','Transfer']].drop_duplicates().groupby(['Round'])['Transfer'].apply(list).iteritems():\n",
        "  prob += lpSum([transfer_contraints[t_id] for t_id in transfers]) <= 4, f\"Round: {round}, has less than or equal to 4 transfers\"\n",
        "# END TRANFERS\n",
        "\n",
        "# START money contraint\n",
        "money = 13 * 10**6\n",
        "for round,player in RU_Players[['id','Price','Round']].drop_duplicates().groupby(['Round'])['id'].apply(list).iteritems():\n",
        "  prob += lpSum([player_contraints[p_id]*RU_Players[RU_Players['id']==p_id]['Price'].values[0] for p_id in player]) <= money, f\"Round: {round}, has less than ${money}\"\n",
        "# END money contraint\n",
        "\n",
        "#START Contrain each player to a single position per round\n",
        "RU_Players_Position_Casting = RU_Players.copy()\n",
        "RU_Players_Position_Casting['pl_pos_id'] = (RU_Players['id']+'_'+RU_Players['Position'])\n",
        "\n",
        "Players_Position_Casting_Series = RU_Players_Position_Casting[['id','pl_pos_id','Round']].drop_duplicates().groupby(['id','Round'])['pl_pos_id'].apply(list).iteritems()\n",
        "\n",
        "Players_Position_Casting = {}\n",
        "for i,r in RU_Players_Position_Casting[['pl_pos_id']].drop_duplicates().iterrows():\n",
        "  Players_Position_Casting[r['pl_pos_id']] = LpVariable(r['pl_pos_id'], 0, 1, cat='Binary')\n",
        "\n",
        "Players_Position_Casting = LpVariable.dicts(\"Players_Position_Casting\", Players_Position_Casting, 0, 1, cat='Binary')\n",
        "\n",
        "for (p_id,round), pl_pos_ids in Players_Position_Casting_Series:\n",
        "    player_possible_positions = [Players_Position_Casting[pl_pos_id] for pl_pos_id  in pl_pos_ids] \n",
        "    prob += lpSum(player_possible_positions) <= player_contraints[p_id], f\"Must have only have equal to {p_id} (0 or 1) of {player_possible_positions} positions in round {round}\"\n",
        "#END Contrain each player to a single position per round\n",
        "\n",
        "# START max players from each position\n",
        "allowed_holds_per_position = {'DE': 8, \"MI\" : 10, 'RU' : 3, 'FO':9}\n",
        "# allowed_holds_per_position = {'DE': 1, \"MI\" : 0, 'RU' : 0, 'FO':0}\n",
        "\n",
        "print('START max players from each position')\n",
        "for (position,round), pl_pos_ids in RU_Players_Position_Casting[['pl_pos_id','Position','Round']].drop_duplicates().groupby(['Position', 'Round'])['pl_pos_id'].apply(list).iteritems():\n",
        "  prob += lpSum([Players_Position_Casting[pl_pos_id] for pl_pos_id in pl_pos_ids]) == allowed_holds_per_position[position], f\"Position: {position}, has less than {allowed_holds_per_position[position]} in round {round}\"\n",
        "\n",
        "# END max players from each position\n",
        "\n",
        "print('done with pre-work')"
      ],
      "execution_count": 176,
      "outputs": [
        {
          "output_type": "stream",
          "name": "stdout",
          "text": [
            "Noah_Answerth_R:4_P:Ryan_Gardner, TC_R:3_P:Brandon_Starcevich_R:4_P:Ryan_Gardner, TC_R:3_P:Tom_Clurey_R:4_P:Ryan_Gardner, TC_R:3_P:Ryan_Gardner_R:4_P:Ryan_Gardner, TC_R:3_P:Joel_Smith_R:4_P:Ryan_Gardner, TC_R:3_P:Kaiden_Brand_R:4_P:Ryan_Gardner, TC_R:3_P:Connor_Budarick_R:4_P:Ryan_Gardner, TC_R:3_P:Adam_Tomlinson_R:4_P:Ryan_Gardner, TC_R:3_P:Martin_Gleeson_R:4_P:Ryan_Gardner, TC_R:3_P:Jake_Kolodjashnij_R:4_P:Ryan_Gardner, TC_R:3_P:Aaron_Francis_R:4_P:Ryan_Gardner, TC_R:3_P:Matthew_Suckling_R:4_P:Ryan_Gardner, TC_R:3_P:Marley_Williams_R:4_P:Ryan_Gardner, TC_R:3_P:Brandon_Zerk_Thatcher_R:4_P:Ryan_Gardner, TC_R:3_P:Sam_Frost_R:4_P:Ryan_Gardner, TC_R:3_P:Mason_Redman_R:4_P:Ryan_Gardner, TC_R:3_P:Jeremy_Howe_R:4_P:Ryan_Gardner, TC_R:3_P:Sam_Taylor_R:4_P:Ryan_Gardner, TC_R:3_P:Lewis_Jetta_R:4_P:Ryan_Gardner, TC_R:3_P:Zaine_Cordy_R:4_P:Ryan_Gardner, TC_R:3_P:Jasper_Pittard_R:4_P:Ryan_Gardner, TC_R:3_P:Aiden_Bonar_R:4_P:Ryan_Gardner] == PC_R:4_P:Ryan_Gardner\n",
            "[TC_R:3_P:Jonathon_Marsh_R:4_P:Sam_Docherty, TC_R:3_P:Oscar_McDonald_R:4_P:Sam_Docherty, TC_R:3_P:Harry_Taylor_R:4_P:Sam_Docherty, TC_R:3_P:Hayden_Young_R:4_P:Sam_Docherty, TC_R:3_P:Sam_Docherty_R:4_P:Sam_Docherty, TC_R:3_P:Noah_Answerth_R:4_P:Sam_Docherty, TC_R:3_P:Brandon_Starcevich_R:4_P:Sam_Docherty, TC_R:3_P:Tom_Clurey_R:4_P:Sam_Docherty, TC_R:3_P:Ryan_Gardner_R:4_P:Sam_Docherty, TC_R:3_P:Joel_Smith_R:4_P:Sam_Docherty, TC_R:3_P:Kaiden_Brand_R:4_P:Sam_Docherty, TC_R:3_P:Connor_Budarick_R:4_P:Sam_Docherty, TC_R:3_P:Adam_Tomlinson_R:4_P:Sam_Docherty, TC_R:3_P:Martin_Gleeson_R:4_P:Sam_Docherty, TC_R:3_P:Jake_Kolodjashnij_R:4_P:Sam_Docherty, TC_R:3_P:Aaron_Francis_R:4_P:Sam_Docherty, TC_R:3_P:Matthew_Suckling_R:4_P:Sam_Docherty, TC_R:3_P:Marley_Williams_R:4_P:Sam_Docherty, TC_R:3_P:Brandon_Zerk_Thatcher_R:4_P:Sam_Docherty, TC_R:3_P:Sam_Frost_R:4_P:Sam_Docherty, TC_R:3_P:Mason_Redman_R:4_P:Sam_Docherty, TC_R:3_P:Jeremy_Howe_R:4_P:Sam_Docherty, TC_R:3_P:Sam_Taylor_R:4_P:Sam_Docherty, TC_R:3_P:Lewis_Jetta_R:4_P:Sam_Docherty, TC_R:3_P:Zaine_Cordy_R:4_P:Sam_Docherty, TC_R:3_P:Jasper_Pittard_R:4_P:Sam_Docherty, TC_R:3_P:Aiden_Bonar_R:4_P:Sam_Docherty] == PC_R:4_P:Sam_Docherty\n",
            "[TC_R:3_P:Jonathon_Marsh_R:4_P:Sam_Frost, TC_R:3_P:Oscar_McDonald_R:4_P:Sam_Frost, TC_R:3_P:Harry_Taylor_R:4_P:Sam_Frost, TC_R:3_P:Hayden_Young_R:4_P:Sam_Frost, TC_R:3_P:Sam_Docherty_R:4_P:Sam_Frost, TC_R:3_P:Noah_Answerth_R:4_P:Sam_Frost, TC_R:3_P:Brandon_Starcevich_R:4_P:Sam_Frost, TC_R:3_P:Tom_Clurey_R:4_P:Sam_Frost, TC_R:3_P:Ryan_Gardner_R:4_P:Sam_Frost, TC_R:3_P:Joel_Smith_R:4_P:Sam_Frost, TC_R:3_P:Kaiden_Brand_R:4_P:Sam_Frost, TC_R:3_P:Connor_Budarick_R:4_P:Sam_Frost, TC_R:3_P:Adam_Tomlinson_R:4_P:Sam_Frost, TC_R:3_P:Martin_Gleeson_R:4_P:Sam_Frost, TC_R:3_P:Jake_Kolodjashnij_R:4_P:Sam_Frost, TC_R:3_P:Aaron_Francis_R:4_P:Sam_Frost, TC_R:3_P:Matthew_Suckling_R:4_P:Sam_Frost, TC_R:3_P:Marley_Williams_R:4_P:Sam_Frost, TC_R:3_P:Brandon_Zerk_Thatcher_R:4_P:Sam_Frost, TC_R:3_P:Sam_Frost_R:4_P:Sam_Frost, TC_R:3_P:Mason_Redman_R:4_P:Sam_Frost, TC_R:3_P:Jeremy_Howe_R:4_P:Sam_Frost, TC_R:3_P:Sam_Taylor_R:4_P:Sam_Frost, TC_R:3_P:Lewis_Jetta_R:4_P:Sam_Frost, TC_R:3_P:Zaine_Cordy_R:4_P:Sam_Frost, TC_R:3_P:Jasper_Pittard_R:4_P:Sam_Frost, TC_R:3_P:Aiden_Bonar_R:4_P:Sam_Frost] == PC_R:4_P:Sam_Frost\n",
            "[TC_R:3_P:Bailey_Williams_R:4_P:Sam_Naismith, TC_R:3_P:Sam_Naismith_R:4_P:Sam_Naismith, TC_R:3_P:Marc_Pittonet_R:4_P:Sam_Naismith, TC_R:3_P:Toby_Nankervis_R:4_P:Sam_Naismith, TC_R:3_P:Todd_Goldstein_R:4_P:Sam_Naismith] == PC_R:4_P:Sam_Naismith\n",
            "[TC_R:3_P:Bailey_Williams_R:4_P:Sam_Sturt, TC_R:3_P:Myles_Poholke_R:4_P:Sam_Sturt, TC_R:3_P:Justin_Westhoff_R:4_P:Sam_Sturt, TC_R:3_P:Brad_Ebert_R:4_P:Sam_Sturt, TC_R:3_P:Jonathon_Patton_R:4_P:Sam_Sturt, TC_R:3_P:Mitch_Georgiades_R:4_P:Sam_Sturt, TC_R:3_P:Lin_Jong_R:4_P:Sam_Sturt, TC_R:3_P:Ben_Ronke_R:4_P:Sam_Sturt, TC_R:3_P:Levi_Casboult_R:4_P:Sam_Sturt, TC_R:3_P:Tristan_Xerri_R:4_P:Sam_Sturt, TC_R:3_P:Ben_King_R:4_P:Sam_Sturt, TC_R:3_P:Deven_Robertson_R:4_P:Sam_Sturt, TC_R:3_P:Ben_Davis_R:4_P:Sam_Sturt, TC_R:3_P:Rhylee_West_R:4_P:Sam_Sturt, TC_R:3_P:Jake_Stringer_R:4_P:Sam_Sturt, TC_R:3_P:Ed_Richards_R:4_P:Sam_Sturt, TC_R:3_P:Billy_Frampton_R:4_P:Sam_Sturt, TC_R:3_P:Steven_Motlop_R:4_P:Sam_Sturt, TC_R:3_P:Chad_Wingard_R:4_P:Sam_Sturt, TC_R:3_P:Josh_Battle_R:4_P:Sam_Sturt, TC_R:3_P:Daniel_Butler_R:4_P:Sam_Sturt, TC_R:3_P:Mason_Cox_R:4_P:Sam_Sturt, TC_R:3_P:Tom_Papley_R:4_P:Sam_Sturt, TC_R:3_P:Todd_Marshall_R:4_P:Sam_Sturt, TC_R:3_P:Toby_Bedford_R:4_P:Sam_Sturt, TC_R:3_P:Jye_Caldwell_R:4_P:Sam_Sturt, TC_R:3_P:Sam_Sturt_R:4_P:Sam_Sturt, TC_R:3_P:Charlie_Dixon_R:4_P:Sam_Sturt, TC_R:3_P:Dean_Kent_R:4_P:Sam_Sturt, TC_R:3_P:Tom_Lynch_R:4_P:Sam_Sturt, TC_R:3_P:Shaun_McKernan_R:4_P:Sam_Sturt, TC_R:3_P:Isaac_Heeney_R:4_P:Sam_Sturt, TC_R:3_P:Gryan_Miers_R:4_P:Sam_Sturt, TC_R:3_P:Jack_Higgins_R:4_P:Sam_Sturt, TC_R:3_P:Mitch_McGovern_R:4_P:Sam_Sturt, TC_R:3_P:Gary_Ablett_R:4_P:Sam_Sturt, TC_R:3_P:Jarrod_Brander_R:4_P:Sam_Sturt] == PC_R:4_P:Sam_Sturt\n",
            "[TC_R:3_P:Jonathon_Marsh_R:4_P:Sam_Taylor, TC_R:3_P:Oscar_McDonald_R:4_P:Sam_Taylor, TC_R:3_P:Harry_Taylor_R:4_P:Sam_Taylor, TC_R:3_P:Hayden_Young_R:4_P:Sam_Taylor, TC_R:3_P:Sam_Docherty_R:4_P:Sam_Taylor, TC_R:3_P:Noah_Answerth_R:4_P:Sam_Taylor, TC_R:3_P:Brandon_Starcevich_R:4_P:Sam_Taylor, TC_R:3_P:Tom_Clurey_R:4_P:Sam_Taylor, TC_R:3_P:Ryan_Gardner_R:4_P:Sam_Taylor, TC_R:3_P:Joel_Smith_R:4_P:Sam_Taylor, TC_R:3_P:Kaiden_Brand_R:4_P:Sam_Taylor, TC_R:3_P:Connor_Budarick_R:4_P:Sam_Taylor, TC_R:3_P:Adam_Tomlinson_R:4_P:Sam_Taylor, TC_R:3_P:Martin_Gleeson_R:4_P:Sam_Taylor, TC_R:3_P:Jake_Kolodjashnij_R:4_P:Sam_Taylor, TC_R:3_P:Aaron_Francis_R:4_P:Sam_Taylor, TC_R:3_P:Matthew_Suckling_R:4_P:Sam_Taylor, TC_R:3_P:Marley_Williams_R:4_P:Sam_Taylor, TC_R:3_P:Brandon_Zerk_Thatcher_R:4_P:Sam_Taylor, TC_R:3_P:Sam_Frost_R:4_P:Sam_Taylor, TC_R:3_P:Mason_Redman_R:4_P:Sam_Taylor, TC_R:3_P:Jeremy_Howe_R:4_P:Sam_Taylor, TC_R:3_P:Sam_Taylor_R:4_P:Sam_Taylor, TC_R:3_P:Lewis_Jetta_R:4_P:Sam_Taylor, TC_R:3_P:Zaine_Cordy_R:4_P:Sam_Taylor, TC_R:3_P:Jasper_Pittard_R:4_P:Sam_Taylor, TC_R:3_P:Aiden_Bonar_R:4_P:Sam_Taylor] == PC_R:4_P:Sam_Taylor\n",
            "[TC_R:3_P:Bailey_Williams_R:4_P:Shaun_McKernan, TC_R:3_P:Myles_Poholke_R:4_P:Shaun_McKernan, TC_R:3_P:Justin_Westhoff_R:4_P:Shaun_McKernan, TC_R:3_P:Brad_Ebert_R:4_P:Shaun_McKernan, TC_R:3_P:Jonathon_Patton_R:4_P:Shaun_McKernan, TC_R:3_P:Mitch_Georgiades_R:4_P:Shaun_McKernan, TC_R:3_P:Lin_Jong_R:4_P:Shaun_McKernan, TC_R:3_P:Ben_Ronke_R:4_P:Shaun_McKernan, TC_R:3_P:Levi_Casboult_R:4_P:Shaun_McKernan, TC_R:3_P:Tristan_Xerri_R:4_P:Shaun_McKernan, TC_R:3_P:Ben_King_R:4_P:Shaun_McKernan, TC_R:3_P:Deven_Robertson_R:4_P:Shaun_McKernan, TC_R:3_P:Ben_Davis_R:4_P:Shaun_McKernan, TC_R:3_P:Rhylee_West_R:4_P:Shaun_McKernan, TC_R:3_P:Jake_Stringer_R:4_P:Shaun_McKernan, TC_R:3_P:Ed_Richards_R:4_P:Shaun_McKernan, TC_R:3_P:Billy_Frampton_R:4_P:Shaun_McKernan, TC_R:3_P:Steven_Motlop_R:4_P:Shaun_McKernan, TC_R:3_P:Chad_Wingard_R:4_P:Shaun_McKernan, TC_R:3_P:Josh_Battle_R:4_P:Shaun_McKernan, TC_R:3_P:Daniel_Butler_R:4_P:Shaun_McKernan, TC_R:3_P:Mason_Cox_R:4_P:Shaun_McKernan, TC_R:3_P:Tom_Papley_R:4_P:Shaun_McKernan, TC_R:3_P:Todd_Marshall_R:4_P:Shaun_McKernan, TC_R:3_P:Toby_Bedford_R:4_P:Shaun_McKernan, TC_R:3_P:Jye_Caldwell_R:4_P:Shaun_McKernan, TC_R:3_P:Sam_Sturt_R:4_P:Shaun_McKernan, TC_R:3_P:Charlie_Dixon_R:4_P:Shaun_McKernan, TC_R:3_P:Dean_Kent_R:4_P:Shaun_McKernan, TC_R:3_P:Tom_Lynch_R:4_P:Shaun_McKernan, TC_R:3_P:Shaun_McKernan_R:4_P:Shaun_McKernan, TC_R:3_P:Isaac_Heeney_R:4_P:Shaun_McKernan, TC_R:3_P:Gryan_Miers_R:4_P:Shaun_McKernan, TC_R:3_P:Jack_Higgins_R:4_P:Shaun_McKernan, TC_R:3_P:Mitch_McGovern_R:4_P:Shaun_McKernan, TC_R:3_P:Gary_Ablett_R:4_P:Shaun_McKernan, TC_R:3_P:Jarrod_Brander_R:4_P:Shaun_McKernan] == PC_R:4_P:Shaun_McKernan\n",
            "[TC_R:3_P:Bailey_Williams_R:4_P:Steven_Motlop, TC_R:3_P:Myles_Poholke_R:4_P:Steven_Motlop, TC_R:3_P:Justin_Westhoff_R:4_P:Steven_Motlop, TC_R:3_P:Brad_Ebert_R:4_P:Steven_Motlop, TC_R:3_P:Jonathon_Patton_R:4_P:Steven_Motlop, TC_R:3_P:Mitch_Georgiades_R:4_P:Steven_Motlop, TC_R:3_P:Lin_Jong_R:4_P:Steven_Motlop, TC_R:3_P:Ben_Ronke_R:4_P:Steven_Motlop, TC_R:3_P:Levi_Casboult_R:4_P:Steven_Motlop, TC_R:3_P:Tristan_Xerri_R:4_P:Steven_Motlop, TC_R:3_P:Ben_King_R:4_P:Steven_Motlop, TC_R:3_P:Deven_Robertson_R:4_P:Steven_Motlop, TC_R:3_P:Ben_Davis_R:4_P:Steven_Motlop, TC_R:3_P:Rhylee_West_R:4_P:Steven_Motlop, TC_R:3_P:Jake_Stringer_R:4_P:Steven_Motlop, TC_R:3_P:Ed_Richards_R:4_P:Steven_Motlop, TC_R:3_P:Billy_Frampton_R:4_P:Steven_Motlop, TC_R:3_P:Steven_Motlop_R:4_P:Steven_Motlop, TC_R:3_P:Chad_Wingard_R:4_P:Steven_Motlop, TC_R:3_P:Josh_Battle_R:4_P:Steven_Motlop, TC_R:3_P:Daniel_Butler_R:4_P:Steven_Motlop, TC_R:3_P:Mason_Cox_R:4_P:Steven_Motlop, TC_R:3_P:Tom_Papley_R:4_P:Steven_Motlop, TC_R:3_P:Todd_Marshall_R:4_P:Steven_Motlop, TC_R:3_P:Toby_Bedford_R:4_P:Steven_Motlop, TC_R:3_P:Jye_Caldwell_R:4_P:Steven_Motlop, TC_R:3_P:Sam_Sturt_R:4_P:Steven_Motlop, TC_R:3_P:Charlie_Dixon_R:4_P:Steven_Motlop, TC_R:3_P:Dean_Kent_R:4_P:Steven_Motlop, TC_R:3_P:Tom_Lynch_R:4_P:Steven_Motlop, TC_R:3_P:Shaun_McKernan_R:4_P:Steven_Motlop, TC_R:3_P:Isaac_Heeney_R:4_P:Steven_Motlop, TC_R:3_P:Gryan_Miers_R:4_P:Steven_Motlop, TC_R:3_P:Jack_Higgins_R:4_P:Steven_Motlop, TC_R:3_P:Mitch_McGovern_R:4_P:Steven_Motlop, TC_R:3_P:Gary_Ablett_R:4_P:Steven_Motlop, TC_R:3_P:Jarrod_Brander_R:4_P:Steven_Motlop] == PC_R:4_P:Steven_Motlop\n",
            "[TC_R:3_P:Bailey_Williams_R:4_P:Toby_Bedford, TC_R:3_P:Myles_Poholke_R:4_P:Toby_Bedford, TC_R:3_P:Justin_Westhoff_R:4_P:Toby_Bedford, TC_R:3_P:Brad_Ebert_R:4_P:Toby_Bedford, TC_R:3_P:Jonathon_Patton_R:4_P:Toby_Bedford, TC_R:3_P:Mitch_Georgiades_R:4_P:Toby_Bedford, TC_R:3_P:Lin_Jong_R:4_P:Toby_Bedford, TC_R:3_P:Ben_Ronke_R:4_P:Toby_Bedford, TC_R:3_P:Levi_Casboult_R:4_P:Toby_Bedford, TC_R:3_P:Tristan_Xerri_R:4_P:Toby_Bedford, TC_R:3_P:Ben_King_R:4_P:Toby_Bedford, TC_R:3_P:Deven_Robertson_R:4_P:Toby_Bedford, TC_R:3_P:Ben_Davis_R:4_P:Toby_Bedford, TC_R:3_P:Rhylee_West_R:4_P:Toby_Bedford, TC_R:3_P:Jake_Stringer_R:4_P:Toby_Bedford, TC_R:3_P:Ed_Richards_R:4_P:Toby_Bedford, TC_R:3_P:Billy_Frampton_R:4_P:Toby_Bedford, TC_R:3_P:Steven_Motlop_R:4_P:Toby_Bedford, TC_R:3_P:Chad_Wingard_R:4_P:Toby_Bedford, TC_R:3_P:Josh_Battle_R:4_P:Toby_Bedford, TC_R:3_P:Daniel_Butler_R:4_P:Toby_Bedford, TC_R:3_P:Mason_Cox_R:4_P:Toby_Bedford, TC_R:3_P:Tom_Papley_R:4_P:Toby_Bedford, TC_R:3_P:Todd_Marshall_R:4_P:Toby_Bedford, TC_R:3_P:Toby_Bedford_R:4_P:Toby_Bedford, TC_R:3_P:Jye_Caldwell_R:4_P:Toby_Bedford, TC_R:3_P:Sam_Sturt_R:4_P:Toby_Bedford, TC_R:3_P:Charlie_Dixon_R:4_P:Toby_Bedford, TC_R:3_P:Dean_Kent_R:4_P:Toby_Bedford, TC_R:3_P:Tom_Lynch_R:4_P:Toby_Bedford, TC_R:3_P:Shaun_McKernan_R:4_P:Toby_Bedford, TC_R:3_P:Isaac_Heeney_R:4_P:Toby_Bedford, TC_R:3_P:Gryan_Miers_R:4_P:Toby_Bedford, TC_R:3_P:Jack_Higgins_R:4_P:Toby_Bedford, TC_R:3_P:Mitch_McGovern_R:4_P:Toby_Bedford, TC_R:3_P:Gary_Ablett_R:4_P:Toby_Bedford, TC_R:3_P:Jarrod_Brander_R:4_P:Toby_Bedford] == PC_R:4_P:Toby_Bedford\n",
            "[TC_R:3_P:Bailey_Williams_R:4_P:Toby_Nankervis, TC_R:3_P:Sam_Naismith_R:4_P:Toby_Nankervis, TC_R:3_P:Marc_Pittonet_R:4_P:Toby_Nankervis, TC_R:3_P:Toby_Nankervis_R:4_P:Toby_Nankervis, TC_R:3_P:Todd_Goldstein_R:4_P:Toby_Nankervis] == PC_R:4_P:Toby_Nankervis\n",
            "[TC_R:3_P:Bailey_Williams_R:4_P:Todd_Goldstein, TC_R:3_P:Sam_Naismith_R:4_P:Todd_Goldstein, TC_R:3_P:Marc_Pittonet_R:4_P:Todd_Goldstein, TC_R:3_P:Toby_Nankervis_R:4_P:Todd_Goldstein, TC_R:3_P:Todd_Goldstein_R:4_P:Todd_Goldstein] == PC_R:4_P:Todd_Goldstein\n",
            "[TC_R:3_P:Bailey_Williams_R:4_P:Todd_Marshall, TC_R:3_P:Myles_Poholke_R:4_P:Todd_Marshall, TC_R:3_P:Justin_Westhoff_R:4_P:Todd_Marshall, TC_R:3_P:Brad_Ebert_R:4_P:Todd_Marshall, TC_R:3_P:Jonathon_Patton_R:4_P:Todd_Marshall, TC_R:3_P:Mitch_Georgiades_R:4_P:Todd_Marshall, TC_R:3_P:Lin_Jong_R:4_P:Todd_Marshall, TC_R:3_P:Ben_Ronke_R:4_P:Todd_Marshall, TC_R:3_P:Levi_Casboult_R:4_P:Todd_Marshall, TC_R:3_P:Tristan_Xerri_R:4_P:Todd_Marshall, TC_R:3_P:Ben_King_R:4_P:Todd_Marshall, TC_R:3_P:Deven_Robertson_R:4_P:Todd_Marshall, TC_R:3_P:Ben_Davis_R:4_P:Todd_Marshall, TC_R:3_P:Rhylee_West_R:4_P:Todd_Marshall, TC_R:3_P:Jake_Stringer_R:4_P:Todd_Marshall, TC_R:3_P:Ed_Richards_R:4_P:Todd_Marshall, TC_R:3_P:Billy_Frampton_R:4_P:Todd_Marshall, TC_R:3_P:Steven_Motlop_R:4_P:Todd_Marshall, TC_R:3_P:Chad_Wingard_R:4_P:Todd_Marshall, TC_R:3_P:Josh_Battle_R:4_P:Todd_Marshall, TC_R:3_P:Daniel_Butler_R:4_P:Todd_Marshall, TC_R:3_P:Mason_Cox_R:4_P:Todd_Marshall, TC_R:3_P:Tom_Papley_R:4_P:Todd_Marshall, TC_R:3_P:Todd_Marshall_R:4_P:Todd_Marshall, TC_R:3_P:Toby_Bedford_R:4_P:Todd_Marshall, TC_R:3_P:Jye_Caldwell_R:4_P:Todd_Marshall, TC_R:3_P:Sam_Sturt_R:4_P:Todd_Marshall, TC_R:3_P:Charlie_Dixon_R:4_P:Todd_Marshall, TC_R:3_P:Dean_Kent_R:4_P:Todd_Marshall, TC_R:3_P:Tom_Lynch_R:4_P:Todd_Marshall, TC_R:3_P:Shaun_McKernan_R:4_P:Todd_Marshall, TC_R:3_P:Isaac_Heeney_R:4_P:Todd_Marshall, TC_R:3_P:Gryan_Miers_R:4_P:Todd_Marshall, TC_R:3_P:Jack_Higgins_R:4_P:Todd_Marshall, TC_R:3_P:Mitch_McGovern_R:4_P:Todd_Marshall, TC_R:3_P:Gary_Ablett_R:4_P:Todd_Marshall, TC_R:3_P:Jarrod_Brander_R:4_P:Todd_Marshall] == PC_R:4_P:Todd_Marshall\n",
            "[TC_R:3_P:Jonathon_Marsh_R:4_P:Tom_Clurey, TC_R:3_P:Oscar_McDonald_R:4_P:Tom_Clurey, TC_R:3_P:Harry_Taylor_R:4_P:Tom_Clurey, TC_R:3_P:Hayden_Young_R:4_P:Tom_Clurey, TC_R:3_P:Sam_Docherty_R:4_P:Tom_Clurey, TC_R:3_P:Noah_Answerth_R:4_P:Tom_Clurey, TC_R:3_P:Brandon_Starcevich_R:4_P:Tom_Clurey, TC_R:3_P:Tom_Clurey_R:4_P:Tom_Clurey, TC_R:3_P:Ryan_Gardner_R:4_P:Tom_Clurey, TC_R:3_P:Joel_Smith_R:4_P:Tom_Clurey, TC_R:3_P:Kaiden_Brand_R:4_P:Tom_Clurey, TC_R:3_P:Connor_Budarick_R:4_P:Tom_Clurey, TC_R:3_P:Adam_Tomlinson_R:4_P:Tom_Clurey, TC_R:3_P:Martin_Gleeson_R:4_P:Tom_Clurey, TC_R:3_P:Jake_Kolodjashnij_R:4_P:Tom_Clurey, TC_R:3_P:Aaron_Francis_R:4_P:Tom_Clurey, TC_R:3_P:Matthew_Suckling_R:4_P:Tom_Clurey, TC_R:3_P:Marley_Williams_R:4_P:Tom_Clurey, TC_R:3_P:Brandon_Zerk_Thatcher_R:4_P:Tom_Clurey, TC_R:3_P:Sam_Frost_R:4_P:Tom_Clurey, TC_R:3_P:Mason_Redman_R:4_P:Tom_Clurey, TC_R:3_P:Jeremy_Howe_R:4_P:Tom_Clurey, TC_R:3_P:Sam_Taylor_R:4_P:Tom_Clurey, TC_R:3_P:Lewis_Jetta_R:4_P:Tom_Clurey, TC_R:3_P:Zaine_Cordy_R:4_P:Tom_Clurey, TC_R:3_P:Jasper_Pittard_R:4_P:Tom_Clurey, TC_R:3_P:Aiden_Bonar_R:4_P:Tom_Clurey] == PC_R:4_P:Tom_Clurey\n",
            "[TC_R:3_P:Bailey_Williams_R:4_P:Tom_Lynch, TC_R:3_P:Myles_Poholke_R:4_P:Tom_Lynch, TC_R:3_P:Justin_Westhoff_R:4_P:Tom_Lynch, TC_R:3_P:Brad_Ebert_R:4_P:Tom_Lynch, TC_R:3_P:Jonathon_Patton_R:4_P:Tom_Lynch, TC_R:3_P:Mitch_Georgiades_R:4_P:Tom_Lynch, TC_R:3_P:Lin_Jong_R:4_P:Tom_Lynch, TC_R:3_P:Ben_Ronke_R:4_P:Tom_Lynch, TC_R:3_P:Levi_Casboult_R:4_P:Tom_Lynch, TC_R:3_P:Tristan_Xerri_R:4_P:Tom_Lynch, TC_R:3_P:Ben_King_R:4_P:Tom_Lynch, TC_R:3_P:Deven_Robertson_R:4_P:Tom_Lynch, TC_R:3_P:Ben_Davis_R:4_P:Tom_Lynch, TC_R:3_P:Rhylee_West_R:4_P:Tom_Lynch, TC_R:3_P:Jake_Stringer_R:4_P:Tom_Lynch, TC_R:3_P:Ed_Richards_R:4_P:Tom_Lynch, TC_R:3_P:Billy_Frampton_R:4_P:Tom_Lynch, TC_R:3_P:Steven_Motlop_R:4_P:Tom_Lynch, TC_R:3_P:Chad_Wingard_R:4_P:Tom_Lynch, TC_R:3_P:Josh_Battle_R:4_P:Tom_Lynch, TC_R:3_P:Daniel_Butler_R:4_P:Tom_Lynch, TC_R:3_P:Mason_Cox_R:4_P:Tom_Lynch, TC_R:3_P:Tom_Papley_R:4_P:Tom_Lynch, TC_R:3_P:Todd_Marshall_R:4_P:Tom_Lynch, TC_R:3_P:Toby_Bedford_R:4_P:Tom_Lynch, TC_R:3_P:Jye_Caldwell_R:4_P:Tom_Lynch, TC_R:3_P:Sam_Sturt_R:4_P:Tom_Lynch, TC_R:3_P:Charlie_Dixon_R:4_P:Tom_Lynch, TC_R:3_P:Dean_Kent_R:4_P:Tom_Lynch, TC_R:3_P:Tom_Lynch_R:4_P:Tom_Lynch, TC_R:3_P:Shaun_McKernan_R:4_P:Tom_Lynch, TC_R:3_P:Isaac_Heeney_R:4_P:Tom_Lynch, TC_R:3_P:Gryan_Miers_R:4_P:Tom_Lynch, TC_R:3_P:Jack_Higgins_R:4_P:Tom_Lynch, TC_R:3_P:Mitch_McGovern_R:4_P:Tom_Lynch, TC_R:3_P:Gary_Ablett_R:4_P:Tom_Lynch, TC_R:3_P:Jarrod_Brander_R:4_P:Tom_Lynch] == PC_R:4_P:Tom_Lynch\n",
            "[TC_R:3_P:Bailey_Williams_R:4_P:Tom_Papley, TC_R:3_P:Myles_Poholke_R:4_P:Tom_Papley, TC_R:3_P:Justin_Westhoff_R:4_P:Tom_Papley, TC_R:3_P:Brad_Ebert_R:4_P:Tom_Papley, TC_R:3_P:Jonathon_Patton_R:4_P:Tom_Papley, TC_R:3_P:Mitch_Georgiades_R:4_P:Tom_Papley, TC_R:3_P:Lin_Jong_R:4_P:Tom_Papley, TC_R:3_P:Ben_Ronke_R:4_P:Tom_Papley, TC_R:3_P:Levi_Casboult_R:4_P:Tom_Papley, TC_R:3_P:Tristan_Xerri_R:4_P:Tom_Papley, TC_R:3_P:Ben_King_R:4_P:Tom_Papley, TC_R:3_P:Deven_Robertson_R:4_P:Tom_Papley, TC_R:3_P:Ben_Davis_R:4_P:Tom_Papley, TC_R:3_P:Rhylee_West_R:4_P:Tom_Papley, TC_R:3_P:Jake_Stringer_R:4_P:Tom_Papley, TC_R:3_P:Ed_Richards_R:4_P:Tom_Papley, TC_R:3_P:Billy_Frampton_R:4_P:Tom_Papley, TC_R:3_P:Steven_Motlop_R:4_P:Tom_Papley, TC_R:3_P:Chad_Wingard_R:4_P:Tom_Papley, TC_R:3_P:Josh_Battle_R:4_P:Tom_Papley, TC_R:3_P:Daniel_Butler_R:4_P:Tom_Papley, TC_R:3_P:Mason_Cox_R:4_P:Tom_Papley, TC_R:3_P:Tom_Papley_R:4_P:Tom_Papley, TC_R:3_P:Todd_Marshall_R:4_P:Tom_Papley, TC_R:3_P:Toby_Bedford_R:4_P:Tom_Papley, TC_R:3_P:Jye_Caldwell_R:4_P:Tom_Papley, TC_R:3_P:Sam_Sturt_R:4_P:Tom_Papley, TC_R:3_P:Charlie_Dixon_R:4_P:Tom_Papley, TC_R:3_P:Dean_Kent_R:4_P:Tom_Papley, TC_R:3_P:Tom_Lynch_R:4_P:Tom_Papley, TC_R:3_P:Shaun_McKernan_R:4_P:Tom_Papley, TC_R:3_P:Isaac_Heeney_R:4_P:Tom_Papley, TC_R:3_P:Gryan_Miers_R:4_P:Tom_Papley, TC_R:3_P:Jack_Higgins_R:4_P:Tom_Papley, TC_R:3_P:Mitch_McGovern_R:4_P:Tom_Papley, TC_R:3_P:Gary_Ablett_R:4_P:Tom_Papley, TC_R:3_P:Jarrod_Brander_R:4_P:Tom_Papley] == PC_R:4_P:Tom_Papley\n",
            "[TC_R:3_P:Bailey_Williams_R:4_P:Tristan_Xerri, TC_R:3_P:Myles_Poholke_R:4_P:Tristan_Xerri, TC_R:3_P:Justin_Westhoff_R:4_P:Tristan_Xerri, TC_R:3_P:Brad_Ebert_R:4_P:Tristan_Xerri, TC_R:3_P:Jonathon_Patton_R:4_P:Tristan_Xerri, TC_R:3_P:Mitch_Georgiades_R:4_P:Tristan_Xerri, TC_R:3_P:Lin_Jong_R:4_P:Tristan_Xerri, TC_R:3_P:Ben_Ronke_R:4_P:Tristan_Xerri, TC_R:3_P:Levi_Casboult_R:4_P:Tristan_Xerri, TC_R:3_P:Tristan_Xerri_R:4_P:Tristan_Xerri, TC_R:3_P:Ben_King_R:4_P:Tristan_Xerri, TC_R:3_P:Deven_Robertson_R:4_P:Tristan_Xerri, TC_R:3_P:Ben_Davis_R:4_P:Tristan_Xerri, TC_R:3_P:Rhylee_West_R:4_P:Tristan_Xerri, TC_R:3_P:Jake_Stringer_R:4_P:Tristan_Xerri, TC_R:3_P:Ed_Richards_R:4_P:Tristan_Xerri, TC_R:3_P:Billy_Frampton_R:4_P:Tristan_Xerri, TC_R:3_P:Steven_Motlop_R:4_P:Tristan_Xerri, TC_R:3_P:Chad_Wingard_R:4_P:Tristan_Xerri, TC_R:3_P:Josh_Battle_R:4_P:Tristan_Xerri, TC_R:3_P:Daniel_Butler_R:4_P:Tristan_Xerri, TC_R:3_P:Mason_Cox_R:4_P:Tristan_Xerri, TC_R:3_P:Tom_Papley_R:4_P:Tristan_Xerri, TC_R:3_P:Todd_Marshall_R:4_P:Tristan_Xerri, TC_R:3_P:Toby_Bedford_R:4_P:Tristan_Xerri, TC_R:3_P:Jye_Caldwell_R:4_P:Tristan_Xerri, TC_R:3_P:Sam_Sturt_R:4_P:Tristan_Xerri, TC_R:3_P:Charlie_Dixon_R:4_P:Tristan_Xerri, TC_R:3_P:Dean_Kent_R:4_P:Tristan_Xerri, TC_R:3_P:Tom_Lynch_R:4_P:Tristan_Xerri, TC_R:3_P:Shaun_McKernan_R:4_P:Tristan_Xerri, TC_R:3_P:Isaac_Heeney_R:4_P:Tristan_Xerri, TC_R:3_P:Gryan_Miers_R:4_P:Tristan_Xerri, TC_R:3_P:Jack_Higgins_R:4_P:Tristan_Xerri, TC_R:3_P:Mitch_McGovern_R:4_P:Tristan_Xerri, TC_R:3_P:Gary_Ablett_R:4_P:Tristan_Xerri, TC_R:3_P:Jarrod_Brander_R:4_P:Tristan_Xerri] == PC_R:4_P:Tristan_Xerri\n",
            "[TC_R:3_P:Jonathon_Marsh_R:4_P:Zaine_Cordy, TC_R:3_P:Oscar_McDonald_R:4_P:Zaine_Cordy, TC_R:3_P:Harry_Taylor_R:4_P:Zaine_Cordy, TC_R:3_P:Hayden_Young_R:4_P:Zaine_Cordy, TC_R:3_P:Sam_Docherty_R:4_P:Zaine_Cordy, TC_R:3_P:Noah_Answerth_R:4_P:Zaine_Cordy, TC_R:3_P:Brandon_Starcevich_R:4_P:Zaine_Cordy, TC_R:3_P:Tom_Clurey_R:4_P:Zaine_Cordy, TC_R:3_P:Ryan_Gardner_R:4_P:Zaine_Cordy, TC_R:3_P:Joel_Smith_R:4_P:Zaine_Cordy, TC_R:3_P:Kaiden_Brand_R:4_P:Zaine_Cordy, TC_R:3_P:Connor_Budarick_R:4_P:Zaine_Cordy, TC_R:3_P:Adam_Tomlinson_R:4_P:Zaine_Cordy, TC_R:3_P:Martin_Gleeson_R:4_P:Zaine_Cordy, TC_R:3_P:Jake_Kolodjashnij_R:4_P:Zaine_Cordy, TC_R:3_P:Aaron_Francis_R:4_P:Zaine_Cordy, TC_R:3_P:Matthew_Suckling_R:4_P:Zaine_Cordy, TC_R:3_P:Marley_Williams_R:4_P:Zaine_Cordy, TC_R:3_P:Brandon_Zerk_Thatcher_R:4_P:Zaine_Cordy, TC_R:3_P:Sam_Frost_R:4_P:Zaine_Cordy, TC_R:3_P:Mason_Redman_R:4_P:Zaine_Cordy, TC_R:3_P:Jeremy_Howe_R:4_P:Zaine_Cordy, TC_R:3_P:Sam_Taylor_R:4_P:Zaine_Cordy, TC_R:3_P:Lewis_Jetta_R:4_P:Zaine_Cordy, TC_R:3_P:Zaine_Cordy_R:4_P:Zaine_Cordy, TC_R:3_P:Jasper_Pittard_R:4_P:Zaine_Cordy, TC_R:3_P:Aiden_Bonar_R:4_P:Zaine_Cordy] == PC_R:4_P:Zaine_Cordy\n",
            "START max players from each position\n",
            "done with pre-work\n"
          ]
        }
      ]
    },
    {
      "cell_type": "code",
      "metadata": {
        "colab": {
          "base_uri": "https://localhost:8080/"
        },
        "id": "l-HWpbAuTL_T",
        "outputId": "d7bb891d-552e-47d9-bdb9-d17b20102925"
      },
      "source": [
        "# try:\n",
        "#     solver = getSolver('COIN_CMD', timeLimit=2000, msg=True,gapRel = 0.15)\n",
        "#     prob.solve(solver)\n",
        "# except:\n",
        "\n",
        "solver = getSolver('PULP_CBC_CMD')\n",
        "prob.solve(solver)"
      ],
      "execution_count": 177,
      "outputs": [
        {
          "output_type": "execute_result",
          "data": {
            "text/plain": [
              "1"
            ]
          },
          "metadata": {},
          "execution_count": 177
        }
      ]
    },
    {
      "cell_type": "code",
      "execution_count": 178,
      "metadata": {},
      "outputs": [
        {
          "output_type": "stream",
          "name": "stdout",
          "text": [
            "Round  Position\n1      DE           8\n       FO           9\n       MI          10\n       RU           3\n2      DE           8\n       FO           9\n       MI          10\n       RU           3\n3      DE           8\n       FO           9\n       MI          10\n       RU           3\n4      DE           8\n       FO           9\n       MI          10\n       RU           3\nName: is_selected, dtype: int64\n"
          ]
        }
      ],
      "source": [
        "results = []\n",
        "for name, player_position in Players_Position_Casting.items():\n",
        "    if player_position.value() != 0:\n",
        "        results.append([name,1])\n",
        "Players_selected = pd.DataFrame(results, columns=['pl_pos_id', 'is_selected'])\n",
        "RU_Players_Position_Casting = RU_Players_Position_Casting.merge(Players_selected, on = ['pl_pos_id'])\n",
        "RU_Players_Position_Casting.to_csv('solution.csv')\n",
        "RU_Players_Position_Casting\n",
        "print(RU_Players_Position_Casting.groupby(['Round','Position']).sum()['is_selected'])"
      ]
    },
    {
      "cell_type": "code",
      "execution_count": null,
      "metadata": {},
      "outputs": [],
      "source": [
        "RU_Players_Position_Casting.sort_values(['Round'])"
      ]
    },
    {
      "cell_type": "code",
      "execution_count": 17,
      "metadata": {},
      "outputs": [],
      "source": [
        "for round in RU_Players_Position_Casting['Round'].unique():\n",
        "    assert RU_Players_Position_Casting[RU_Players_Position_Casting['Round']==round]['is_selected'].sum()"
      ]
    }
  ]
}