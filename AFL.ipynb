{
  "nbformat": 4,
  "nbformat_minor": 0,
  "metadata": {
    "colab": {
      "name": "AFL.ipynb",
      "provenance": [],
      "collapsed_sections": []
    },
    "kernelspec": {
      "name": "python3",
      "display_name": "Python 3",
      "language": "python"
    }
  },
  "cells": [
    {
      "cell_type": "code",
      "metadata": {
        "id": "c8cfL_UgRZhj"
      },
      "source": [
        "# !pip install pyomo\n",
        "# !pip install --upgrade --user ortools\n",
        "# !apt-get install -y glpk-utils\n",
        "# !sudo apt-get update -y\n",
        "# !sudo apt-get install -y coinor-cbc"
      ],
      "execution_count": 2,
      "outputs": []
    },
    {
      "cell_type": "code",
      "execution_count": 20,
      "metadata": {},
      "outputs": [],
      "source": [
        "# !pip install -U git+https://github.com/coin-or/pulp\n",
        "# !sudo pulptest\n",
        "# !pip install pandas"
      ]
    },
    {
      "cell_type": "code",
      "metadata": {
        "id": "sy6uwTvL0rQs"
      },
      "source": [
        "import pandas as pd\n",
        "from pulp import *\n",
        "full_player_scores = pd.read_csv('full_players.csv', index_col=0)\n",
        "full_player_scores = full_player_scores.reset_index(drop=True)\n",
        "full_player_scores['Score'] = pd.to_numeric(full_player_scores['Score'], errors='coerce')\n",
        "# full_player_scores['Value'] = full_player_scores['Score']/full_player_scores['Price']\n",
        "\n",
        "full_player_scores_2021 = full_player_scores[full_player_scores['Year']==2021]\n",
        "full_player_scores = full_player_scores[full_player_scores['Year']==2020]\n",
        "\n",
        "# Only keep players who are playing this season\n",
        "full_player_scores[full_player_scores['Name'].isin(full_player_scores_2021['Name'].unique())].dropna(how='all').dropna(how='all')\n",
        "\n",
        "# full_player_scores = full_player_scores[full_player_scores.isin(full_player_scores_2021['Name'].unique())]['Name'].dropna(how='all')\n",
        "\n",
        "player_num_games_played = full_player_scores[full_player_scores['Score']>0].groupby('Name')['Team 2'].transform('count')\n",
        "\n",
        "opponent_average_score = full_player_scores.groupby('Team 2')['Score'].transform('mean')\n",
        "player_average_score = full_player_scores.groupby('Name')['Score'].transform('mean')\n",
        "player_average_value = player_average_score/full_player_scores['Price']\n",
        "\n",
        "na_locs = full_player_scores['Score'].isna()\n",
        "\n",
        "full_player_scores.loc[na_locs,'Score'] = ((opponent_average_score+player_average_score)/2).loc[na_locs]\n",
        "\n",
        "RU_Players = full_player_scores[(full_player_scores['Year']==2020)]\n",
        "\n",
        "RU_Players = RU_Players.sort_values('Score',ascending=False)\n",
        "RU_Players['id'] = \"Round:\"+RU_Players['Round'].astype(str)+\"_Player:\"+RU_Players['Name']\n",
        "\n",
        "# Only take players who played more than 5 games\n",
        "# print(len(RU_Players['Name'].unique()))\n",
        "# players_to_keep = player_num_games_played[player_num_games_played>5].index.values\n",
        "# RU_Players = RU_Players.reindex(index=players_to_keep).dropna(how='all')\n",
        "# print(len(RU_Players['Name'].unique()))\n",
        "\n",
        "# Only take players in top quater of average values (score/price)\n",
        "# player_best_values = player_average_value.sort_values(ascending=False)[:int(len(player_average_value)/2)]\n",
        "# RU_Players = RU_Players.reindex(index=player_best_values.index.values).dropna(how='all') \n",
        "# print(len(RU_Players['Name'].unique()))\n",
        "\n",
        "# RU_Players = RU_Players[RU_Players['Round']<4]"
      ],
      "execution_count": 190,
      "outputs": [
        {
          "output_type": "stream",
          "name": "stdout",
          "text": [
            "323\n"
          ]
        }
      ]
    },
    {
      "cell_type": "code",
      "metadata": {
        "colab": {
          "base_uri": "https://localhost:8080/"
        },
        "id": "3yLWwxpJ48TW",
        "outputId": "8b83ef68-43c6-48c6-ea54-0ba9b6d7c9e2",
        "tags": []
      },
      "source": [
        "player_contraints = {}\n",
        "prob = LpProblem(\"aflProblem\", LpMaximize)\n",
        "overall_score = LpVariable('OverallScore',0)\n",
        "for p_id,score in zip(RU_Players['id'].iteritems(),RU_Players['Score'].iteritems()):\n",
        "  p_id = p_id[1]\n",
        "  player_contraints[p_id] = LpVariable(p_id, 0, 1, cat='Binary')\n",
        "\n",
        "player_contraints = LpVariable.dicts(\"player_contraints\", player_contraints, 0, 1, cat='Binary')\n",
        "prob += lpSum([player_contraints[p_id[1]]*score[1] for p_id,score in zip(RU_Players['id'].iteritems(),RU_Players['Score'].iteritems())]), \"Total score is maximized\"\n",
        "\n",
        "# START TRANFERS\n",
        "RU_Players_prev_round = RU_Players\n",
        "RU_Players_prev_round['Round_prev'] = RU_Players_prev_round['Round'] - 1\n",
        "\n",
        "RU_transfers = RU_Players[['id','Position','Round','Name']].merge(RU_Players_prev_round[['id','Position','Round_prev','Name']],left_on=['Position','Round'],right_on=['Position','Round_prev'], suffixes = ('_prev','_next'))\n",
        "RU_transfers['Transfer'] = RU_transfers['id_prev']+'->'+RU_transfers['id_next']\n",
        "\n",
        "transfer_contraints = {}\n",
        "\n",
        "# Define transfer itermediaries\n",
        "for i,t_id in RU_transfers['Transfer'].iteritems():\n",
        "  transfer_contraints[t_id] = LpVariable(t_id, 0, 1, cat='Binary')\n",
        "\n",
        "transfer_contraints = LpVariable.dicts(\"transfer_contraints\", transfer_contraints, 0, 1, cat='Binary')\n",
        "\n",
        "# map rounds end to itermediary\n",
        "for prev_player,trans in RU_transfers.groupby(['id_prev'])['Transfer'].apply(list).iteritems():\n",
        "  prob += lpSum([transfer_contraints[t_id] for t_id in trans]) == player_contraints[prev_player], f\"Previous player equals transfer intermediatary for {prev_player} equals {trans}\"\n",
        "\n",
        "# map intermediary to next round\n",
        "for next_player,trans in RU_transfers.groupby(['id_next'])['Transfer'].apply(list).iteritems():\n",
        "  prob += lpSum([transfer_contraints[t_id] for t_id in trans]) == player_contraints[next_player], f\"Next player equals transfer intermediatary for {next_player} equals {trans}\"\n",
        "\n",
        "for round, transfers in RU_transfers[RU_transfers['Name_prev'] != RU_transfers['Name_next']][['Round','Transfer']].drop_duplicates().groupby(['Round'])['Transfer'].apply(list).iteritems():\n",
        "  prob += lpSum([transfer_contraints[t_id] for t_id in transfers]) <= 4, f\"Round: {round}, has less than or equal to 4 transfers\"\n",
        "# END TRANFERS\n",
        "\n",
        "# START money contraint\n",
        "money = 13 * 10**6\n",
        "for round,player in RU_Players[['id','Price','Round']].drop_duplicates().groupby(['Round'])['id'].apply(list).iteritems():\n",
        "  prob += lpSum([player_contraints[p_id]*RU_Players[RU_Players['id']==p_id]['Price'].values[0] for p_id in player]) <= money, f\"Round: {round}, has less than ${money}\"\n",
        "# END money contraint\n",
        "\n",
        "#START Contrain each player to a single position per round\n",
        "RU_Players_Position_Casting = RU_Players.copy()\n",
        "RU_Players_Position_Casting['pl_pos_id'] = (RU_Players['id']+'_'+RU_Players['Position'])\n",
        "\n",
        "Players_Position_Casting_Series = RU_Players_Position_Casting[['id','pl_pos_id','Round']].drop_duplicates().groupby(['id' ])['pl_pos_id'].apply(list).iteritems()\n",
        "\n",
        "Players_Position_Casting = {}\n",
        "for i,r in RU_Players_Position_Casting[['pl_pos_id']].drop_duplicates().iterrows():\n",
        "  Players_Position_Casting[r['pl_pos_id']] = LpVariable(r['pl_pos_id'], 0, 1, cat='Binary')\n",
        "Players_Position_Casting = LpVariable.dicts(\"Players_Position_Casting\", Players_Position_Casting, 0, 1, cat='Binary')\n",
        "\n",
        "\n",
        "for p_id, pl_pos_ids in Players_Position_Casting_Series:\n",
        "    player_possible_positions = [Players_Position_Casting[pl_pos_id] for pl_pos_id  in pl_pos_ids] \n",
        "    prob += lpSum(player_possible_positions) == player_contraints[p_id], f\"Must have only have equal to {p_id} (0 or 1) of {player_possible_positions} positions in round\"\n",
        "#END Contrain each player to a single position per round\n",
        "\n",
        "# START max players from each position\n",
        "allowed_holds_per_position = {'DE': 8, \"MI\" : 10, 'RU' : 3, 'FO':9}\n",
        "# allowed_holds_per_position = {'DE': 1, \"MI\" : 0, 'RU' : 0, 'FO':0}\n",
        "\n",
        "for (position,round), pl_pos_ids in RU_Players_Position_Casting[['pl_pos_id','Position','Round']].drop_duplicates().groupby(['Position', 'Round'])['pl_pos_id'].apply(list).iteritems():\n",
        "  prob += lpSum([Players_Position_Casting[pl_pos_id] for pl_pos_id in pl_pos_ids]) == allowed_holds_per_position[position], f\"Position: {position}, has less than {allowed_holds_per_position[position]} in round {round}\"\n",
        "\n",
        "# END max players from each position\n",
        "\n",
        "print('done with pre-work')"
      ],
      "execution_count": 191,
      "outputs": [
        {
          "output_type": "stream",
          "name": "stdout",
          "text": [
            "done with pre-work\n"
          ]
        }
      ]
    },
    {
      "cell_type": "code",
      "metadata": {
        "colab": {
          "base_uri": "https://localhost:8080/"
        },
        "id": "l-HWpbAuTL_T",
        "outputId": "d7bb891d-552e-47d9-bdb9-d17b20102925"
      },
      "source": [
        "solver = getSolver('COIN_CMD', timeLimit=2000, msg=True,gapRel = 0.9)\n",
        "prob.solve(solver)"
      ],
      "execution_count": 198,
      "outputs": []
    },
    {
      "cell_type": "code",
      "execution_count": 193,
      "metadata": {},
      "outputs": [],
      "source": [
        "results = []\n",
        "for name, player_position in Players_Position_Casting.items():\n",
        "    if player_position.value() != 0:\n",
        "        results.append([name,1])\n",
        "Players_selected = pd.DataFrame(results, columns=['pl_pos_id', 'is_selected'])\n",
        "RU_Players_Position_Casting = RU_Players_Position_Casting.merge(Players_selected, on = ['pl_pos_id'])\n",
        "RU_Players_Position_Casting.to_csv('solution.csv')"
      ]
    },
    {
      "cell_type": "code",
      "execution_count": 195,
      "metadata": {},
      "outputs": [
        {
          "output_type": "execute_result",
          "data": {
            "text/plain": [
              "Round  Position\n",
              "1      DE           8\n",
              "       FO           9\n",
              "       MI          10\n",
              "       RU           3\n",
              "2      DE           8\n",
              "       FO           9\n",
              "       MI          10\n",
              "       RU           3\n",
              "3      DE           8\n",
              "       FO           9\n",
              "       MI          10\n",
              "       RU           3\n",
              "Name: is_selected, dtype: int64"
            ]
          },
          "metadata": {},
          "execution_count": 195
        }
      ],
      "source": [
        "print(RU_Players_Position_Casting.groupby(['Round','Position']).sum()['is_selected'])"
      ]
    },
    {
      "cell_type": "code",
      "execution_count": 17,
      "metadata": {},
      "outputs": [],
      "source": [
        "for round in RU_Players_Position_Casting['Round'].unique():\n",
        "    assert RU_Players_Position_Casting[RU_Players_Position_Casting['Round']==round]['is_selected'].sum()"
      ]
    }
  ]
}