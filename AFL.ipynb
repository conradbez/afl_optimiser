{
  "nbformat": 4,
  "nbformat_minor": 0,
  "metadata": {
    "colab": {
      "name": "AFL.ipynb",
      "provenance": [],
      "collapsed_sections": []
    },
    "kernelspec": {
      "name": "python3",
      "display_name": "Python 3",
      "language": "python"
    }
  },
  "cells": [
    {
      "cell_type": "code",
      "metadata": {
        "id": "c8cfL_UgRZhj"
      },
      "source": [
        "# !pip install pyomo\n",
        "# !pip install --upgrade --user ortools\n",
        "# !apt-get install -y glpk-utils\n",
        "# !sudo apt-get update -y\n",
        "# !sudo apt-get install -y coinor-cbc"
      ],
      "execution_count": 2,
      "outputs": []
    },
    {
      "cell_type": "code",
      "execution_count": 3,
      "metadata": {},
      "outputs": [
        {
          "output_type": "stream",
          "name": "stdout",
          "text": [
            "Defaulting to user installation because normal site-packages is not writeable\n",
            "Requirement already satisfied: pandas in /home/conradbez/.local/lib/python3.8/site-packages (1.2.2)\n",
            "Requirement already satisfied: python-dateutil>=2.7.3 in /home/conradbez/.local/lib/python3.8/site-packages (from pandas) (2.8.1)\n",
            "Requirement already satisfied: pytz>=2017.3 in /home/conradbez/.local/lib/python3.8/site-packages (from pandas) (2021.1)\n",
            "Requirement already satisfied: numpy>=1.16.5 in /home/conradbez/.local/lib/python3.8/site-packages (from pandas) (1.20.1)\n",
            "Requirement already satisfied: six>=1.5 in /usr/lib/python3/dist-packages (from python-dateutil>=2.7.3->pandas) (1.14.0)\n"
          ]
        }
      ],
      "source": [
        "# !pip install -U git+https://github.com/coin-or/pulp\n",
        "# !sudo pulptest\n",
        "!pip install pandas"
      ]
    },
    {
      "cell_type": "code",
      "metadata": {
        "id": "sy6uwTvL0rQs"
      },
      "source": [
        "import pandas as pd\n",
        "from pulp import *\n",
        "full_player_scores = pd.read_csv('full_players.csv', index_col=0)\n",
        "full_player_scores = full_player_scores.reset_index(drop=True)\n",
        "full_player_scores['Score'] = pd.to_numeric(full_player_scores['Score'], errors='coerce')\n",
        "# full_player_scores['Value'] = full_player_scores['Score']/full_player_scores['Price']\n",
        "\n",
        "full_player_scores_2021 = full_player_scores[full_player_scores['Year']==2021]\n",
        "full_player_scores = full_player_scores[full_player_scores['Year']==2020]\n",
        "\n",
        "# Only keep players who are playing this season\n",
        "full_player_scores[full_player_scores['Name'].isin(full_player_scores_2021['Name'].unique())].dropna(how='all').dropna(how='all')\n",
        "\n",
        "\n",
        "# full_player_scores = full_player_scores[full_player_scores.isin(full_player_scores_2021['Name'].unique())]['Name'].dropna(how='all')\n",
        "\n",
        "player_num_games_played = full_player_scores[full_player_scores['Score']>0].groupby('Name')['Team 2'].transform('count')\n",
        "\n",
        "opponent_average_score = full_player_scores.groupby('Team 2')['Score'].transform('mean')\n",
        "player_average_score = full_player_scores.groupby('Name')['Score'].transform('mean')\n",
        "player_average_value = player_average_score/full_player_scores['Price']\n",
        "\n",
        "na_locs = full_player_scores['Score'].isna()\n",
        "\n",
        "full_player_scores.loc[na_locs,'Score'] = ((opponent_average_score+player_average_score)/2).loc[na_locs]\n",
        "\n",
        "\n",
        "RU_Players = full_player_scores[(full_player_scores['Year']==2020)]\n",
        "\n",
        "RU_Players = RU_Players.sort_values('Score',ascending=False)\n",
        "RU_Players['id'] = \"Round:\"+RU_Players['Round'].astype(str)+\"_Player:\"+RU_Players['Name']\n",
        "\n",
        "\n",
        "# Only take players who played more than 5 games\n",
        "print(len(RU_Players['Name'].unique()))\n",
        "players_to_keep = player_num_games_played[player_num_games_played>5].index.values\n",
        "RU_Players = RU_Players.reindex(index=players_to_keep).dropna(how='all')\n",
        "print(len(RU_Players['Name'].unique()))\n",
        "\n",
        "\n",
        "# Only take players in top quater of average values (score/price)\n",
        "player_best_values = player_average_value.sort_values(ascending=False)[:int(len(player_average_value)/2)]\n",
        "RU_Players = RU_Players.reindex(index=player_best_values.index.values).dropna(how='all') \n",
        "print(len(RU_Players['Name'].unique()))\n",
        "\n",
        "RU_Players = RU_Players[RU_Players['Round']<4]\n",
        "# RU_Players = RU_Players.head(40)\n",
        "RU_Players.groupby('Position').count()['Name']"
      ],
      "execution_count": 9,
      "outputs": [
        {
          "output_type": "stream",
          "name": "stdout",
          "text": [
            "652\n501\n212\n"
          ]
        },
        {
          "output_type": "execute_result",
          "data": {
            "text/plain": [
              "Position\n",
              "DE    155\n",
              "FO    147\n",
              "MI    122\n",
              "RU     22\n",
              "Name: Name, dtype: int64"
            ]
          },
          "metadata": {},
          "execution_count": 9
        }
      ]
    },
    {
      "cell_type": "code",
      "metadata": {
        "colab": {
          "base_uri": "https://localhost:8080/"
        },
        "id": "3yLWwxpJ48TW",
        "outputId": "8b83ef68-43c6-48c6-ea54-0ba9b6d7c9e2",
        "tags": []
      },
      "source": [
        "trades_allowed = None\n",
        "player_contraints = {}\n",
        "prob = LpProblem(\"aflProblem\", LpMaximize)\n",
        "overall_score = LpVariable('OverallScore',0)\n",
        "for p_id,score in zip(RU_Players['id'].iteritems(),RU_Players['Score'].iteritems()):\n",
        "  p_id = p_id[1]\n",
        "  player_contraints[p_id] = LpVariable(p_id, 0, 1, cat='Binary')\n",
        "\n",
        "player_contraints = LpVariable.dicts(\"player_contraints\", player_contraints, 0, 1, cat='Binary')\n",
        "prob += lpSum([player_contraints[p_id[1]]*score[1] for p_id,score in zip(RU_Players['id'].iteritems(),RU_Players['Score'].iteritems())]), \"Total score is maximized\"\n",
        "\n",
        "# START TRANFERS\n",
        "RU_Players_prev_round = RU_Players\n",
        "RU_Players_prev_round['Round_prev'] = RU_Players_prev_round['Round'] - 1\n",
        "\n",
        "RU_transfers = RU_Players[['id','Position','Round','Name']].merge(RU_Players_prev_round[['id','Position','Round_prev','Name']],left_on=['Position','Round'],right_on=['Position','Round_prev'], suffixes = ('_prev','_next'))\n",
        "RU_transfers['Transfer'] = RU_transfers['id_prev']+'->'+RU_transfers['id_next']\n",
        "\n",
        "transfer_contraints = {}\n",
        "\n",
        "# Define transfer itermediaries\n",
        "for i,t_id in RU_transfers['Transfer'].iteritems():\n",
        "  transfer_contraints[t_id] = LpVariable(t_id, 0, 1, cat='Binary')\n",
        "\n",
        "transfer_contraints = LpVariable.dicts(\"transfer_contraints\", transfer_contraints, 0, 1, cat='Binary')\n",
        "\n",
        "# map rounds end to itermediary\n",
        "for prev_player,trans in RU_transfers.groupby(['id_prev'])['Transfer'].apply(list).iteritems():\n",
        "  prob += lpSum([transfer_contraints[t_id] for t_id in trans]) == player_contraints[prev_player], \"Previous player equals transfer intermediatary for \"+prev_player\n",
        "\n",
        "# map intermediary to next round\n",
        "for next_player,trans in RU_transfers.groupby(['id_next'])['Transfer'].apply(list).iteritems():\n",
        "  prob += lpSum([transfer_contraints[t_id] for t_id in trans]) == player_contraints[next_player], \"Next player equals transfer intermediatary for \"+next_player\n",
        "\n",
        "for round, transfers in RU_transfers[RU_transfers['Name_prev'] != RU_transfers['Name_next']].groupby(['Round'])['Transfer'].apply(list).iteritems():\n",
        "  prob += lpSum([transfer_contraints[t_id] for t_id in transfers]) <= 4, f\"Round: {round}, has less than orequal to 4 transfers\"\n",
        "# END TRANFERS\n",
        "\n",
        "\n",
        "\n",
        "\n",
        "# START total players \n",
        "for r, player in RU_Players[['id','Round']].drop_duplicates().groupby(['Round'])['id'].apply(list).iteritems():\n",
        "  prob += lpSum([player_contraints[p_id] for p_id in player]) == 30, f\"Must have 30 players in round {r}\"\n",
        "# END total players \n",
        "\n",
        "\n",
        "\n",
        "\n",
        "# START money contraint\n",
        "money = 13 * 10**6\n",
        "for round,player in RU_Players[['id','Price','Round']].drop_duplicates().groupby(['Round'])['id'].apply(list).iteritems():\n",
        "  prob += lpSum([player_contraints[p_id]*RU_Players[RU_Players['id']==p_id]['Price'].values[0] for p_id in player]) <= money, f\"Round: {round}, has less than ${money}\"\n",
        "# END money contraint\n",
        "\n",
        "#START Contrain each player to a single position per round\n",
        "RU_Players_Position_Casting = RU_Players.copy()\n",
        "RU_Players_Position_Casting['pl_pos_id'] = (RU_Players['id']+'_'+RU_Players['Position'])\n",
        "\n",
        "Players_Position_Casting_Series = RU_Players_Position_Casting[['id','pl_pos_id','Round']].drop_duplicates().groupby(['Round','id' ])['pl_pos_id'].apply(list).iteritems()\n",
        "\n",
        "Players_Position_Casting = {}\n",
        "for i,r in RU_Players_Position_Casting.iterrows():\n",
        "  Players_Position_Casting[r['pl_pos_id']] = LpVariable(r['pl_pos_id'], 0, 1, cat='Binary')\n",
        "\n",
        "for (round, p_id), pl_pos_ids in Players_Position_Casting_Series:\n",
        "    #   Players_Position_Casting[p_id] = [LpVariable(p_id, 0, 1, cat='Binary' for p_id  in pl_pos_id)] \n",
        "    player_possible_positions = [Players_Position_Casting[pl_pos_id] for pl_pos_id  in pl_pos_ids] \n",
        "    # print(p_id)\n",
        "    prob += lpSum(player_possible_positions) == player_contraints[p_id], f\"Must have only have equal to {p_id} (0 or 1) of {player_possible_positions} positions in round {round}\"\n",
        "#END Contrain each player to a single position per round\n",
        "\n",
        "# START max players from each position\n",
        "allowed_holds_per_position = {'DE': 8, \"MI\" : 10, 'RU' : 3, 'FO':9}\n",
        "\n",
        "for (position,round), pl_pos_ids in RU_Players_Position_Casting[['pl_pos_id','Position','Round']].drop_duplicates().groupby(['Position', 'Round'])['pl_pos_id'].apply(list).iteritems():\n",
        "  prob += lpSum([player_contraints[p_id] for pl_pos_id in pl_pos_ids]) >= allowed_holds_per_position[position], f\"Position: {position}, has less than {allowed_holds_per_position[position]} in round {round}\"\n",
        "\n",
        "# END max players from each position\n",
        "\n",
        "\n",
        "print('done with pre-work')\n"
      ],
      "execution_count": 10,
      "outputs": [
        {
          "output_type": "stream",
          "name": "stdout",
          "text": [
            "done with pre-work\n"
          ]
        }
      ]
    },
    {
      "cell_type": "code",
      "metadata": {
        "colab": {
          "base_uri": "https://localhost:8080/"
        },
        "id": "l-HWpbAuTL_T",
        "outputId": "d7bb891d-552e-47d9-bdb9-d17b20102925"
      },
      "source": [
        "# prob.solve(pulp.PULP_CBC_CMD(msg=True, maxSeconds=200))\n",
        "\n",
        "solver = getSolver('COIN_CMD', maxSeconds=200, msg=True,gapRel = 0.15, threads=100)\n",
        "prob.solve(solver)\n"
      ],
      "execution_count": 11,
      "outputs": [
        {
          "output_type": "execute_result",
          "data": {
            "text/plain": [
              "1"
            ]
          },
          "metadata": {},
          "execution_count": 11
        }
      ]
    },
    {
      "cell_type": "code",
      "execution_count": 67,
      "metadata": {},
      "outputs": [],
      "source": [
        "results = []\n",
        "for player_position in Players_Position_Casting.values():\n",
        "    if player_position.value() != 0:\n",
        "        results.append([player_position.name,1])\n",
        "Players_selected = pd.DataFrame(results, columns=['pl_pos_id', 'is_selected'])\n",
        "RU_Players_Position_Casting['pl_pos_id'] = RU_Players_Position_Casting['pl_pos_id'].str.replace(' ', '_')\n",
        "RU_Players_Position_Casting = RU_Players_Position_Casting.merge(Players_selected, on = ['pl_pos_id'])\n",
        "RU_Players_Position_Casting.to_csv('solution.csv')"
      ]
    },
    {
      "cell_type": "code",
      "execution_count": 6,
      "metadata": {},
      "outputs": [],
      "source": [
        "roundplayers = {1: ['Rory Lobb', 'Ben McEvoy', 'Jordan Clark', 'Adam Tomlinson', 'Harry Taylor', 'Brandon Starcevich', 'Orazio Fantasia', 'Connor Budarick', 'Daniel Talia', 'Phil Davis', 'Benjamin Stratton', 'James Frawley', 'Fischer McAsey', 'Ryan Gardner', 'Michael Walters', 'Kyle Langford', 'Shai Bolton', 'Isaac Smith', 'Tom Phillips', 'Sam Powell-Pepper', 'Brett Bewley', 'Justin Westhoff', 'Jarrod Brander', 'Nick Blakey', 'Tom Scully', 'Steven Motlop', 'Ben King', 'Paddy Dow', 'Jonathon Patton', 'Chayce Jones'], 2: ['Rory Lobb', 'Ben McEvoy', 'Adam Tomlinson', 'Harry Taylor', 'Brandon Starcevich', 'Connor Budarick', 'Daniel Talia', 'Phil Davis', 'Benjamin Stratton', 'James Frawley', 'Fischer McAsey', 'Ryan Gardner', 'Michael Walters', 'Kyle Langford', 'Isaac Smith', 'Tom Phillips', 'Sam Powell-Pepper', 'Brett Bewley', 'Justin Westhoff', 'Jye Caldwell', 'Jarrod Brander', 'Lin Jong', 'Nick Blakey', 'Tom Scully', 'Laitham Vandermeer', 'Steven Motlop', 'Ed Richards', 'Ben King', 'Jonathon Patton', 'Chayce Jones'], 3: ['Rory Lobb', 'Ben McEvoy', 'Esava Ratugolea', 'Brodie Smith', 'Harry Taylor', 'Brandon Starcevich', 'Paul Ahern', 'Connor Budarick', 'Daniel Talia', 'Phil Davis', 'Benjamin Stratton', 'Will Hamill', 'James Frawley', 'Fischer McAsey', 'Michael Walters', 'Isaac Smith', 'Tom Phillips', 'Sam Powell-Pepper', 'Brett Bewley', 'Justin Westhoff', 'Jye Caldwell', 'Jarrod Brander', 'Lin Jong', 'Nick Blakey', 'Tom Scully', 'Laitham Vandermeer', 'Ed Richards', 'Ben King', 'Jonathon Patton', 'Chayce Jones'], 4: ['Rory Lobb', 'Ben McEvoy', 'Esava Ratugolea', 'Brodie Smith', 'Brandon Starcevich', 'Orazio Fantasia', 'Paul Ahern', 'Connor Budarick', 'Daniel Talia', 'Phil Davis', 'Benjamin Stratton', 'Will Hamill', 'James Frawley', 'Fischer McAsey', 'Joel Smith', 'Michael Walters', 'Isaac Smith', 'Tom Phillips', 'Sam Powell-Pepper', 'Brett Bewley', 'Justin Westhoff', 'Josh Battle', 'Jarrod Brander', 'Nick Blakey', 'Tom Scully', 'Laitham Vandermeer', 'Kane Farrell', 'Ed Richards', 'Ben King', 'Chayce Jones'], 5: ['Rory Lobb', 'Ben McEvoy', 'Esava Ratugolea', 'Mabior Chol', 'Brodie Smith', 'Mark Blicavs', 'Harry Taylor', 'Orazio Fantasia', 'Connor Budarick', 'Daniel Talia', 'Phil Davis', 'Benjamin Stratton', 'Will Hamill', 'James Frawley', 'Joel Smith', 'Michael Walters', 'Isaac Smith', 'Tom Phillips', 'Sam Powell-Pepper', 'Brett Bewley', 'Justin Westhoff', 'Josh Battle', 'Nick Blakey', 'Tom Scully', 'Laitham Vandermeer', 'Kane Farrell', 'Ed Richards', 'Ben King', 'Jack Mahony', 'Chayce Jones'], 6: ['Rory Lobb', 'Ben McEvoy', 'Esava Ratugolea', 'Mabior Chol', 'Brodie Smith', 'Mark Blicavs', 'Harry Taylor', 'Orazio Fantasia', 'Connor Budarick', 'Daniel Talia', 'Benjamin Stratton', 'Will Hamill', 'James Frawley', 'Fischer McAsey', 'Michael Walters', 'Isaac Smith', 'Tom Phillips', 'Sam Powell-Pepper', 'Brett Bewley', 'Justin Westhoff', 'Josh Battle', 'Nick Blakey', 'Laitham Vandermeer', 'Kane Farrell', 'Ed Richards', 'Sam Weideman', 'Brayden Ainsworth', 'Jack Mahony', 'Chayce Jones'], 7: ['Peter Ladhams', 'Rory Lobb', 'Ben McEvoy', 'Esava Ratugolea', 'Mabior Chol', 'Mark Blicavs', 'Harry Taylor', 'Connor Budarick', 'Daniel Talia', 'Benjamin Stratton', 'Will Hamill', 'James Frawley', 'Fischer McAsey', 'Dustin Martin', 'Michael Walters', 'Tom Phillips', 'Zac Bailey', 'Sam Powell-Pepper', 'Brett Bewley', 'Justin Westhoff', 'Nick Blakey', 'Laitham Vandermeer', 'Kane Farrell', 'Ed Richards', 'Sam Weideman', 'Brayden Ainsworth', 'Jack Mahony', 'Elijah Taylor'], 8: ['Peter Ladhams', 'Ben McEvoy', 'Esava Ratugolea', 'Mabior Chol', 'Mark Blicavs', 'Jake Lever', 'Harry Taylor', 'Ben McKay', 'Connor Budarick', 'Daniel Talia', 'Will Hamill', 'James Frawley', 'Fischer McAsey', 'Dustin Martin', 'Michael Walters', 'Shai Bolton', 'Tom Phillips', 'Zac Bailey', 'Sam Powell-Pepper', 'Justin Westhoff', 'Bailey Scott', 'Nick Blakey', 'Laitham Vandermeer', 'Kane Farrell', 'Jake Melksham', 'Ed Richards', 'Sam Weideman', 'Brayden Ainsworth', 'Jack Mahony', 'Elijah Taylor'], 9: ['Peter Ladhams', 'Ben McEvoy', 'Esava Ratugolea', 'Mabior Chol', 'Mark Blicavs', 'Jake Lever', 'Harry Taylor', 'Ben McKay', 'Connor Budarick', 'Daniel Talia', 'Aiden Bonar', 'Will Hamill', 'Dustin Martin', 'Shai Bolton', 'Tom Phillips', 'Zac Bailey', 'Sam Powell-Pepper', 'Justin Westhoff', 'Josh Battle', 'Bailey Scott', 'Laitham Vandermeer', 'Kane Farrell', 'Jake Melksham', 'Josh Thomas', 'Ed Richards', 'James Stewart', 'Sam Weideman', 'Brayden Ainsworth', 'Jack Mahony', 'Elijah Taylor'], 10: ['Peter Ladhams', 'Mabior Chol', 'Mark Blicavs', 'Adam Tomlinson', 'Matt Guelfi', 'Jake Lever', 'Harry Taylor', 'Ben McKay', 'Connor Budarick', 'Daniel Talia', 'Aiden Bonar', 'Will Hamill', 'Fischer McAsey', 'Dustin Martin', 'Shai Bolton', 'Tom Phillips', 'Zac Bailey', 'Sam Powell-Pepper', 'Justin Westhoff', 'Josh Battle', 'Bailey Scott', 'Anthony McDonald-Tipungwuti', 'Laitham Vandermeer', 'Kane Farrell', 'Jake Melksham', 'Josh Thomas', 'Ed Richards', 'James Stewart', 'Sam Weideman', 'Jack Mahony'], 11: ['Peter Ladhams', 'Mabior Chol', 'Mark Blicavs', 'Adam Tomlinson', 'Matt Guelfi', 'Jake Lever', 'Harry Taylor', 'Martin Gleeson', 'Liam Jones', 'Ben McKay', 'Connor Budarick', 'Aiden Bonar', 'Fischer McAsey', 'Shai Bolton', 'Tom Phillips', 'Zac Bailey', 'Sam Powell-Pepper', 'Josh Battle', 'Bailey Scott', 'Anthony McDonald-Tipungwuti', 'Laitham Vandermeer', 'Kane Farrell', 'Jake Melksham', 'Dylan Clarke', 'Josh Thomas', 'Ed Richards', \"Tim O'Brien\", 'James Stewart', 'Sam Weideman', 'Jack Mahony'], 12: ['Ben McEvoy', 'Mabior Chol', 'Mark Blicavs', 'Adam Tomlinson', 'Matt Guelfi', 'Jake Lever', 'Harry Taylor', 'Martin Gleeson', 'Liam Jones', 'Ben McKay', 'Lewis Melican', 'Connor Budarick', 'Fischer McAsey', 'Shai Bolton', 'Tom Phillips', 'Sam Powell-Pepper', 'Jack Newnes', 'Josh Battle', 'Bailey Scott', 'Nick Blakey', 'Anthony McDonald-Tipungwuti', 'Kane Farrell', 'Jake Melksham', 'Dylan Clarke', 'Josh Thomas', 'Ed Richards', \"Tim O'Brien\", 'James Stewart', 'Sam Weideman', 'Jack Mahony'], 13: ['Ben McEvoy', 'Mabior Chol', 'Mark Blicavs', 'Adam Tomlinson', 'Matt Guelfi', 'Jake Lever', 'Daniel Howe', 'Martin Gleeson', 'Liam Jones', 'Ben McKay', 'Lewis Melican', 'Connor Budarick', 'Lachlan Keeffe', 'Shai Bolton', 'Tom Phillips', 'Sam Powell-Pepper', 'Jack Newnes', 'Josh Battle', 'Bailey Scott', 'Nick Blakey', 'Anthony McDonald-Tipungwuti', 'Tom Scully', 'Jake Melksham', 'Dylan Clarke', 'Josh Thomas', 'Ed Richards', \"Tim O'Brien\", 'James Stewart', 'Sam Weideman', \"Xavier O'Neill\"], 14: ['Ben McEvoy', 'Adam Tomlinson', 'Matt Guelfi', 'Jake Lever', 'Daniel Howe', 'Martin Gleeson', 'Liam Jones', 'Lewis Melican', 'Connor Budarick', 'Lachlan Keeffe', 'Brandon Zerk-Thatcher', 'Kyle Langford', 'Shai Bolton', 'Tom Phillips', 'Sam Powell-Pepper', 'Jack Newnes', 'Bailey Scott', 'Nick Blakey', 'Anthony McDonald-Tipungwuti', 'Tom Scully', 'Jake Melksham', 'Dylan Clarke', 'Josh Thomas', 'Ed Richards', \"Tim O'Brien\", 'James Stewart', 'Sam Weideman', 'Tom McCartin', \"Xavier O'Neill\", 'Mark Hutchings'], 15: ['Ben McEvoy', 'Rory Laird', 'Adam Tomlinson', 'Lachlan Sholl', 'Matt Guelfi', 'Jake Lever', 'Daniel Howe', 'Martin Gleeson', 'Liam Jones', 'Lewis Melican', 'Lachlan Keeffe', 'Brandon Zerk-Thatcher', 'Joel Smith', 'Kyle Langford', 'Shai Bolton', 'Tom Phillips', 'Jack Newnes', 'Keidean Coleman', 'Nick Blakey', 'Anthony McDonald-Tipungwuti', 'Tom Scully', 'Jake Melksham', 'Dylan Clarke', 'Josh Thomas', \"Tim O'Brien\", 'James Stewart', 'Sam Weideman', 'Tom McCartin', \"Xavier O'Neill\", 'Mark Hutchings'], 16: ['Rory Laird', 'Mark Blicavs', 'Adam Tomlinson', 'Lachlan Sholl', 'Matt Guelfi', 'Jake Lever', 'Daniel Howe', 'Martin Gleeson', 'Liam Jones', 'Lewis Melican', 'Lachlan Keeffe', 'Brandon Zerk-Thatcher', 'Joel Smith', 'Patrick Dangerfield', 'Kyle Langford', 'Jack Newnes', 'Keidean Coleman', 'Nick Blakey', 'Anthony McDonald-Tipungwuti', 'Tom Scully', 'Jake Melksham', 'Dylan Clarke', \"Tim O'Brien\", 'James Stewart', 'Sam Weideman', 'Tom McCartin', \"Xavier O'Neill\", 'Roarke Smith', 'Brayden Ainsworth', 'Mark Hutchings'], 17: ['Esava Ratugolea', 'Mark Blicavs', 'Adam Tomlinson', 'Lachlan Sholl', 'Matt Guelfi', 'Jake Lever', 'Daniel Howe', 'Martin Gleeson', 'Liam Jones', 'Lewis Melican', 'Lachlan Keeffe', 'Brandon Zerk-Thatcher', 'Joel Smith', 'Patrick Dangerfield', 'Dustin Martin', 'Jack Newnes', 'Keidean Coleman', 'Jack Riewoldt', 'Nick Blakey', 'Jake Melksham', 'Dylan Clarke', \"Tim O'Brien\", 'James Stewart', 'Sam Weideman', 'Tom McCartin', \"Xavier O'Neill\", 'Roarke Smith', 'Brayden Ainsworth'], 18: ['Esava Ratugolea', 'Mabior Chol', 'Mark Blicavs', 'Adam Tomlinson', 'Lachlan Sholl', 'Jake Kolodjashnij', 'Matt Guelfi', 'Jake Lever', 'Jed Bews', 'Martin Gleeson', 'Liam Jones', 'Lewis Melican', 'Lachlan Keeffe', 'Brandon Zerk-Thatcher', 'Joel Smith', 'Patrick Dangerfield', 'Dustin Martin', 'Jack Steven', 'Keidean Coleman', 'Jack Riewoldt', 'Nick Blakey', 'Jake Melksham', 'Dylan Clarke', \"Tim O'Brien\", 'James Stewart', 'Sam Weideman', 'Tom McCartin', 'Roarke Smith', 'Brayden Ainsworth'], 19: [], 20: [], 21: [], 22: [], 23: [], 24: [], 25: [], 26: [], 27: [], 28: [], 29: []}\n"
      ]
    },
    {
      "cell_type": "code",
      "execution_count": 8,
      "metadata": {},
      "outputs": [
        {
          "output_type": "execute_result",
          "data": {
            "text/plain": [
              "['Rory Lobb',\n",
              " 'Ben McEvoy',\n",
              " 'Jordan Clark',\n",
              " 'Adam Tomlinson',\n",
              " 'Harry Taylor',\n",
              " 'Brandon Starcevich',\n",
              " 'Orazio Fantasia',\n",
              " 'Connor Budarick',\n",
              " 'Daniel Talia',\n",
              " 'Phil Davis',\n",
              " 'Benjamin Stratton',\n",
              " 'James Frawley',\n",
              " 'Fischer McAsey',\n",
              " 'Ryan Gardner',\n",
              " 'Michael Walters',\n",
              " 'Kyle Langford',\n",
              " 'Shai Bolton',\n",
              " 'Isaac Smith',\n",
              " 'Tom Phillips',\n",
              " 'Sam Powell-Pepper',\n",
              " 'Brett Bewley',\n",
              " 'Justin Westhoff',\n",
              " 'Jarrod Brander',\n",
              " 'Nick Blakey',\n",
              " 'Tom Scully',\n",
              " 'Steven Motlop',\n",
              " 'Ben King',\n",
              " 'Paddy Dow',\n",
              " 'Jonathon Patton',\n",
              " 'Chayce Jones']"
            ]
          },
          "metadata": {},
          "execution_count": 8
        }
      ],
      "source": [
        "roundplayers[1]"
      ]
    },
    {
      "cell_type": "code",
      "execution_count": null,
      "metadata": {},
      "outputs": [],
      "source": []
    }
  ]
}