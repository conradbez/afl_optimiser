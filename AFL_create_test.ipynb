{
 "metadata": {
  "language_info": {
   "codemirror_mode": {
    "name": "ipython",
    "version": 3
   },
   "file_extension": ".py",
   "mimetype": "text/x-python",
   "name": "python",
   "nbconvert_exporter": "python",
   "pygments_lexer": "ipython3",
   "version": "3.8.5-final"
  },
  "orig_nbformat": 2,
  "kernelspec": {
   "name": "python3",
   "display_name": "Python 3.8.5 64-bit",
   "metadata": {
    "interpreter": {
     "hash": "31f2aee4e71d21fbe5cf8b01ff0e069b9275f58929596ceb00d14d90e3e16cd6"
    }
   }
  }
 },
 "nbformat": 4,
 "nbformat_minor": 2,
 "cells": [
  {
   "cell_type": "code",
   "execution_count": 2,
   "metadata": {},
   "outputs": [
    {
     "output_type": "error",
     "ename": "NameError",
     "evalue": "name 'test_values' is not defined",
     "traceback": [
      "\u001b[0;31m---------------------------------------------------------------------------\u001b[0m",
      "\u001b[0;31mNameError\u001b[0m                                 Traceback (most recent call last)",
      "\u001b[0;32m<ipython-input-2-016bc1baa5be>\u001b[0m in \u001b[0;36m<module>\u001b[0;34m\u001b[0m\n\u001b[1;32m     20\u001b[0m         \u001b[0;31m# reattach first competitor\u001b[0m\u001b[0;34m\u001b[0m\u001b[0;34m\u001b[0m\u001b[0;34m\u001b[0m\u001b[0m\n\u001b[1;32m     21\u001b[0m         \u001b[0mdq1\u001b[0m\u001b[0;34m.\u001b[0m\u001b[0mappendleft\u001b[0m\u001b[0;34m(\u001b[0m\u001b[0mstart\u001b[0m\u001b[0;34m)\u001b[0m\u001b[0;34m\u001b[0m\u001b[0;34m\u001b[0m\u001b[0m\n\u001b[0;32m---> 22\u001b[0;31m \u001b[0mP\u001b[0m \u001b[0;34m=\u001b[0m \u001b[0mpd\u001b[0m\u001b[0;34m.\u001b[0m\u001b[0mDataFrame\u001b[0m\u001b[0;34m(\u001b[0m\u001b[0mtest_values\u001b[0m\u001b[0;34m,\u001b[0m\u001b[0mcolumns\u001b[0m\u001b[0;34m=\u001b[0m\u001b[0;34m[\u001b[0m\u001b[0;34m'Name'\u001b[0m\u001b[0;34m,\u001b[0m \u001b[0;34m'Team 1'\u001b[0m\u001b[0;34m,\u001b[0m\u001b[0;34m'Team 2'\u001b[0m\u001b[0;34m,\u001b[0m\u001b[0;34m'Position'\u001b[0m\u001b[0;34m,\u001b[0m \u001b[0;34m'Price'\u001b[0m\u001b[0;34m,\u001b[0m  \u001b[0;34m'Score'\u001b[0m\u001b[0;34m]\u001b[0m\u001b[0;34m)\u001b[0m\u001b[0;34m\u001b[0m\u001b[0;34m\u001b[0m\u001b[0m\n\u001b[0m\u001b[1;32m     23\u001b[0m \u001b[0;32mfor\u001b[0m \u001b[0mround\u001b[0m\u001b[0;34m,\u001b[0m \u001b[0mmatchups\u001b[0m \u001b[0;32min\u001b[0m \u001b[0menumerate\u001b[0m\u001b[0;34m(\u001b[0m\u001b[0mfixtures\u001b[0m\u001b[0;34m(\u001b[0m\u001b[0;34m[\u001b[0m\u001b[0;34m'A'\u001b[0m\u001b[0;34m,\u001b[0m\u001b[0;34m'B'\u001b[0m\u001b[0;34m,\u001b[0m\u001b[0;34m'C'\u001b[0m\u001b[0;34m,\u001b[0m\u001b[0;34m'D'\u001b[0m\u001b[0;34m]\u001b[0m\u001b[0;34m)\u001b[0m\u001b[0;34m)\u001b[0m\u001b[0;34m:\u001b[0m\u001b[0;34m\u001b[0m\u001b[0;34m\u001b[0m\u001b[0m\n\u001b[1;32m     24\u001b[0m     \u001b[0;32mfor\u001b[0m \u001b[0mteam1\u001b[0m\u001b[0;34m,\u001b[0m \u001b[0mteam2\u001b[0m \u001b[0;32min\u001b[0m \u001b[0mmatchups\u001b[0m\u001b[0;34m:\u001b[0m\u001b[0;34m\u001b[0m\u001b[0;34m\u001b[0m\u001b[0m\n",
      "\u001b[0;31mNameError\u001b[0m: name 'test_values' is not defined"
     ]
    }
   ],
   "source": [
    "import pandas as pd\n",
    "from collections import deque\n",
    "from itertools import islice\n",
    "import itertools\n",
    "def fixtures(teams):\n",
    "    if len(teams) % 2:\n",
    "        teams.append(\"Bye\")\n",
    "\n",
    "    ln = len(teams) // 2\n",
    "    dq1, dq2 = deque(islice(teams, None, ln)), deque(islice(teams, ln, None))\n",
    "    for _ in range(len(teams)-1):\n",
    "        yield zip(dq1, dq2) # list(zip.. python3\n",
    "        #  pop off first deque's left element to \n",
    "        # \"fix one of the competitors in the first column\"\n",
    "        start = dq1.popleft() \n",
    "        # rotate the others clockwise one position\n",
    "        # by swapping elements \n",
    "        dq1.appendleft(dq2.popleft())\n",
    "        dq2.append(dq1.pop())\n",
    "        # reattach first competitor\n",
    "        dq1.appendleft(start)\n",
    "P = pd.DataFrame(test_values,columns=['Name', 'Team 1','Team 2','Position', 'Price',  'Score'])\n",
    "for round, matchups in enumerate(fixtures(['A','B','C','D'])):\n",
    "    for team1, team2 in matchups:\n",
    "        P = P.append()\n",
    "        print(round)\n",
    "        print(team1 + team2)\n",
    "# unit_tests\n",
    "test_values = [[team1, 'Team'+team1, 'Team'+team2, 'DE', 0,100] for team1, team2 in fixtures(['A','B','C','D'])]\n",
    "P = pd.DataFrame(test_values,columns=['Name', 'Team 1','Team 2','Position', 'Price',  'Score'])\n",
    "P['Round'] = P.groupby('Team 1').cumcount()+1\n",
    "P"
   ]
  },
  {
   "cell_type": "code",
   "execution_count": null,
   "metadata": {},
   "outputs": [],
   "source": []
  }
 ]
}