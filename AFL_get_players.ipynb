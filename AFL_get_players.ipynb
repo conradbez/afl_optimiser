{
  "nbformat": 4,
  "nbformat_minor": 0,
  "metadata": {
    "colab": {
      "name": "AFL_get_players.ipynb",
      "provenance": [],
      "collapsed_sections": []
    },
    "kernelspec": {
      "display_name": "Python 3",
      "name": "python3",
      "language": "python"
    }
  },
  "cells": [
    {
      "cell_type": "code",
      "execution_count": 6,
      "metadata": {},
      "outputs": [
        {
          "output_type": "stream",
          "name": "stdout",
          "text": [
            "Collecting lxml\n",
            "  Downloading https://files.pythonhosted.org/packages/bd/78/56a7c88a57d0d14945472535d0df9fb4bbad7d34ede658ec7961635c790e/lxml-4.6.2-cp36-cp36m-manylinux1_x86_64.whl (5.5MB)\n",
            "\u001b[K    100% |████████████████████████████████| 5.5MB 309kB/s \n",
            "\u001b[?25hInstalling collected packages: lxml\n",
            "Successfully installed lxml-4.6.2\n"
          ]
        }
      ],
      "source": [
        "!pip3 install lxml"
      ]
    },
    {
      "cell_type": "code",
      "metadata": {
        "id": "E2GvnXxCQ2nl"
      },
      "source": [
        "import pandas as pd\n",
        "import re\n",
        "import requests\n",
        "import bs4 as bs"
      ],
      "execution_count": 1,
      "outputs": []
    },
    {
      "cell_type": "code",
      "metadata": {
        "colab": {
          "base_uri": "https://localhost:8080/",
          "height": 419
        },
        "id": "oBnBHtKeJilb",
        "outputId": "5ffc96c7-0d51-480c-e2cd-6cd45efdc2ff"
      },
      "source": [
        "points_table = pd.DataFrame()\n",
        "for round in range(1,18):\n",
        "  round_points_table  =pd.read_html(f'https://www.footywire.com/afl/footy/dream_team_round?year=2020&round={round}&p=&s=T')[9]\n",
        "\n",
        "  round_points_table['Round'] = f'Round {round}'\n",
        "  points_table = points_table.append(round_points_table)\n",
        "\n",
        "points_table.columns = points_table.iloc[0]\n",
        "points_table = points_table.rename({'Round 1':'Round'},axis=1)\n",
        "points_table = points_table[['Player', 'Team',\"2020 R1Score\",'Round']]\n",
        "points_table"
      ],
      "execution_count": 2,
      "outputs": [
        {
          "output_type": "execute_result",
          "data": {
            "text/plain": [
              "0                   Player       Team  2020 R1Score     Round\n",
              "0                   Player       Team  2020 R1Score   Round 1\n",
              "1               Jack Viney     Demons           132   Round 1\n",
              "2              Dylan Shiel    Bombers           122   Round 1\n",
              "3           Ben Cunnington  Kangaroos           117   Round 1\n",
              "4               Luke Shuey     Eagles           116   Round 1\n",
              "..                     ...        ...           ...       ...\n",
              "392  Brandon Zerk-Thatcher    Bombers            12  Round 17\n",
              "393           Sam Docherty      Blues            11  Round 17\n",
              "394            Toby McLean   Bulldogs            10  Round 17\n",
              "395           Lewis Taylor      Swans             0  Round 17\n",
              "396           Sean Lemmens       Suns             0  Round 17\n",
              "\n",
              "[6353 rows x 4 columns]"
            ],
            "text/html": "<div>\n<style scoped>\n    .dataframe tbody tr th:only-of-type {\n        vertical-align: middle;\n    }\n\n    .dataframe tbody tr th {\n        vertical-align: top;\n    }\n\n    .dataframe thead th {\n        text-align: right;\n    }\n</style>\n<table border=\"1\" class=\"dataframe\">\n  <thead>\n    <tr style=\"text-align: right;\">\n      <th></th>\n      <th>Player</th>\n      <th>Team</th>\n      <th>2020 R1Score</th>\n      <th>Round</th>\n    </tr>\n  </thead>\n  <tbody>\n    <tr>\n      <th>0</th>\n      <td>Player</td>\n      <td>Team</td>\n      <td>2020 R1Score</td>\n      <td>Round 1</td>\n    </tr>\n    <tr>\n      <th>1</th>\n      <td>Jack Viney</td>\n      <td>Demons</td>\n      <td>132</td>\n      <td>Round 1</td>\n    </tr>\n    <tr>\n      <th>2</th>\n      <td>Dylan Shiel</td>\n      <td>Bombers</td>\n      <td>122</td>\n      <td>Round 1</td>\n    </tr>\n    <tr>\n      <th>3</th>\n      <td>Ben Cunnington</td>\n      <td>Kangaroos</td>\n      <td>117</td>\n      <td>Round 1</td>\n    </tr>\n    <tr>\n      <th>4</th>\n      <td>Luke Shuey</td>\n      <td>Eagles</td>\n      <td>116</td>\n      <td>Round 1</td>\n    </tr>\n    <tr>\n      <th>...</th>\n      <td>...</td>\n      <td>...</td>\n      <td>...</td>\n      <td>...</td>\n    </tr>\n    <tr>\n      <th>392</th>\n      <td>Brandon Zerk-Thatcher</td>\n      <td>Bombers</td>\n      <td>12</td>\n      <td>Round 17</td>\n    </tr>\n    <tr>\n      <th>393</th>\n      <td>Sam Docherty</td>\n      <td>Blues</td>\n      <td>11</td>\n      <td>Round 17</td>\n    </tr>\n    <tr>\n      <th>394</th>\n      <td>Toby McLean</td>\n      <td>Bulldogs</td>\n      <td>10</td>\n      <td>Round 17</td>\n    </tr>\n    <tr>\n      <th>395</th>\n      <td>Lewis Taylor</td>\n      <td>Swans</td>\n      <td>0</td>\n      <td>Round 17</td>\n    </tr>\n    <tr>\n      <th>396</th>\n      <td>Sean Lemmens</td>\n      <td>Suns</td>\n      <td>0</td>\n      <td>Round 17</td>\n    </tr>\n  </tbody>\n</table>\n<p>6353 rows × 4 columns</p>\n</div>"
          },
          "metadata": {},
          "execution_count": 2
        }
      ]
    },
    {
      "cell_type": "code",
      "metadata": {
        "id": "Q7kf5PRtTmsN"
      },
      "source": [
        "replace_team_names =   {\"Adelaide\":\"Crows\",   \"Brisbane\":\"Lions\",\"Carlton\":\"Blues\",   \"Collingwood\":\"Magpies\",   \"Essendon\":\"Bombers\",   \"Fremantle\":\"Dockers\",   \"GWS\":\"Giants\",   \"Geelong\":\"Cats\",   \"Gold Coast\":\"Suns\",   \"Hawthorn\":\"Hawks\",   \"Melbourne\":\"Demons\",   \"North Melbourne\":\"Kangaroos\",   \"Port Adelaide\":\"Power\",   \"Richmond\":\"Tigers\",   \"St Kilda\":\"Saints\",   \"Sydney\":\"Swans\",   \"West Coast\":\"Eagles\",   \"Western Bulldogs\":\"Bulldogs\"}"
      ],
      "execution_count": 4,
      "outputs": []
    },
    {
      "cell_type": "code",
      "metadata": {
        "colab": {
          "base_uri": "https://localhost:8080/",
          "height": 691
        },
        "id": "8Q2NzG4ML2rG",
        "outputId": "65787ddd-8c4c-4055-98f3-89e108c4c74b"
      },
      "source": [
        "def getRounds(r=2020):\n",
        "  rounds = pd.read_html(f'https://www.footywire.com/afl/footy/ft_match_list?year={r}')[8]\n",
        "  rounds['Round_Num'] = rounds [0].str.extract(r'(Round \\d{1,2})')\n",
        "  rounds['Round_Num'] = rounds['Round_Num'].ffill()\n",
        "  rounds['Team 1'] = rounds[1].str.split(' v ',expand=True)[0]\n",
        "  rounds['Team 2'] = rounds[1].str.split(' v ',expand=True)[1]\n",
        "  rounds = rounds.dropna(subset=['Team 2'])\n",
        "  rounds.columns = rounds.iloc[0]\n",
        "  rounds = rounds[rounds['Home'] != 'Home']\n",
        "  rounds = rounds[['Round 1',\t'Home',\t'Away Teams']]\n",
        "  rounds = rounds.replace(replace_team_names)\n",
        "  home_teams = rounds['Home'].unique()\n",
        "  for t in points_table['Team']:\n",
        "    if t not in home_teams:\n",
        "      print(t)\n",
        "      print('are the team mismatches')\n",
        "  rounds = rounds.append(rounds.rename({'Home': 'Away Teams', 'Away Teams':'Home'},axis=1))\n",
        "  rounds = rounds.reset_index(drop=True).rename({'Home': 'Team 1', 'Away Teams':'Team 2'},axis=1)\n",
        "  rounds = rounds.rename({'Round 1': 'Round'},axis=1)\n",
        "  rounds['Round'] = rounds['Round'].str.slice(start=6)\n",
        "  return rounds\n",
        "rounds = getRounds(2020)\n",
        "nextRounds = getRounds(2021)\n",
        "nextRounds.to_csv('2021_schedule')"
      ],
      "execution_count": 5,
      "outputs": [
        {
          "output_type": "stream",
          "name": "stdout",
          "text": [
            "Team\n",
            "are the team mismatches\n",
            "Team\n",
            "are the team mismatches\n",
            "Team\n",
            "are the team mismatches\n",
            "Team\n",
            "are the team mismatches\n",
            "Team\n",
            "are the team mismatches\n",
            "Team\n",
            "are the team mismatches\n",
            "Team\n",
            "are the team mismatches\n",
            "Team\n",
            "are the team mismatches\n",
            "Team\n",
            "are the team mismatches\n",
            "Team\n",
            "are the team mismatches\n",
            "Team\n",
            "are the team mismatches\n",
            "Team\n",
            "are the team mismatches\n",
            "Team\n",
            "are the team mismatches\n",
            "Team\n",
            "are the team mismatches\n",
            "Team\n",
            "are the team mismatches\n",
            "Team\n",
            "are the team mismatches\n",
            "Team\n",
            "are the team mismatches\n",
            "Team\n",
            "are the team mismatches\n",
            "Team\n",
            "are the team mismatches\n",
            "Team\n",
            "are the team mismatches\n",
            "Team\n",
            "are the team mismatches\n",
            "Team\n",
            "are the team mismatches\n",
            "Team\n",
            "are the team mismatches\n",
            "Team\n",
            "are the team mismatches\n",
            "Team\n",
            "are the team mismatches\n",
            "Team\n",
            "are the team mismatches\n",
            "Team\n",
            "are the team mismatches\n",
            "Team\n",
            "are the team mismatches\n",
            "Team\n",
            "are the team mismatches\n",
            "Team\n",
            "are the team mismatches\n",
            "Team\n",
            "are the team mismatches\n",
            "Team\n",
            "are the team mismatches\n",
            "Team\n",
            "are the team mismatches\n",
            "Team\n",
            "are the team mismatches\n"
          ]
        },
        {
          "output_type": "execute_result",
          "data": {
            "text/plain": [
              "    Round     Team 1    Team 2\n",
              "0       1     Tigers     Blues\n",
              "1       1    Magpies  Bulldogs\n",
              "2       1     Demons   Dockers\n",
              "3       1      Crows      Cats\n",
              "4       1      Lions     Swans\n",
              "..    ...        ...       ...\n",
              "391    23      Hawks    Tigers\n",
              "392    23    Dockers    Saints\n",
              "393    23       Suns     Swans\n",
              "394    23      Power  Bulldogs\n",
              "395    23  Kangaroos     Crows\n",
              "\n",
              "[396 rows x 3 columns]"
            ],
            "text/html": "<div>\n<style scoped>\n    .dataframe tbody tr th:only-of-type {\n        vertical-align: middle;\n    }\n\n    .dataframe tbody tr th {\n        vertical-align: top;\n    }\n\n    .dataframe thead th {\n        text-align: right;\n    }\n</style>\n<table border=\"1\" class=\"dataframe\">\n  <thead>\n    <tr style=\"text-align: right;\">\n      <th></th>\n      <th>Round</th>\n      <th>Team 1</th>\n      <th>Team 2</th>\n    </tr>\n  </thead>\n  <tbody>\n    <tr>\n      <th>0</th>\n      <td>1</td>\n      <td>Tigers</td>\n      <td>Blues</td>\n    </tr>\n    <tr>\n      <th>1</th>\n      <td>1</td>\n      <td>Magpies</td>\n      <td>Bulldogs</td>\n    </tr>\n    <tr>\n      <th>2</th>\n      <td>1</td>\n      <td>Demons</td>\n      <td>Dockers</td>\n    </tr>\n    <tr>\n      <th>3</th>\n      <td>1</td>\n      <td>Crows</td>\n      <td>Cats</td>\n    </tr>\n    <tr>\n      <th>4</th>\n      <td>1</td>\n      <td>Lions</td>\n      <td>Swans</td>\n    </tr>\n    <tr>\n      <th>...</th>\n      <td>...</td>\n      <td>...</td>\n      <td>...</td>\n    </tr>\n    <tr>\n      <th>391</th>\n      <td>23</td>\n      <td>Hawks</td>\n      <td>Tigers</td>\n    </tr>\n    <tr>\n      <th>392</th>\n      <td>23</td>\n      <td>Dockers</td>\n      <td>Saints</td>\n    </tr>\n    <tr>\n      <th>393</th>\n      <td>23</td>\n      <td>Suns</td>\n      <td>Swans</td>\n    </tr>\n    <tr>\n      <th>394</th>\n      <td>23</td>\n      <td>Power</td>\n      <td>Bulldogs</td>\n    </tr>\n    <tr>\n      <th>395</th>\n      <td>23</td>\n      <td>Kangaroos</td>\n      <td>Crows</td>\n    </tr>\n  </tbody>\n</table>\n<p>396 rows × 3 columns</p>\n</div>"
          },
          "metadata": {},
          "execution_count": 5
        }
      ]
    },
    {
      "cell_type": "code",
      "metadata": {
        "id": "-DM83NAgRAwp"
      },
      "source": [
        "Players = points_table.merge(rounds, left_on=['Team', 'Round'], right_on=['Team 1', 'Round'])"
      ],
      "execution_count": null,
      "outputs": []
    },
    {
      "cell_type": "code",
      "metadata": {
        "colab": {
          "base_uri": "https://localhost:8080/",
          "height": 419
        },
        "id": "zHgOz3U-NFRw",
        "outputId": "6ae968ea-f5bf-48ed-f4f7-a688b97ca30a"
      },
      "source": [
        "Players = pd.DataFrame()\n",
        "position = 'RU'\n",
        "for position in ['RU','DE','FO','MI']:\n",
        "  f = requests.get(f\"https://www.footywire.com/afl/footy/dream_team_season?p={position}\").text\n",
        "  soup = bs.BeautifulSoup(f, 'lxml')\n",
        "  table = soup.find_all('table')[8] \n",
        "  parsed_table = soup.find_all('table')[8] \n",
        "  data = [[td.a['href'] if td.find('a') else \n",
        "            ''.join(td.stripped_strings)\n",
        "            for td in row.find_all('td')]\n",
        "          for row in parsed_table.find_all('tr')]\n",
        "  data2 = [[''.join(td.stripped_strings)\n",
        "            for td in row.find_all('td')]\n",
        "          for row in parsed_table.find_all('tr')]\n",
        "  df = pd.DataFrame(data[1:], columns=data[0])\n",
        "  df2 = pd.DataFrame(data2[1:], columns=data2[0])\n",
        "  player_info = df2.join(df['Player'],rsuffix='_url')\n",
        "  player_info['Position'] = position\n",
        "  Players = Players.append(player_info)\n",
        "Players"
      ],
      "execution_count": null,
      "outputs": [
        {
          "output_type": "execute_result",
          "data": {
            "text/html": [
              "<div>\n",
              "<style scoped>\n",
              "    .dataframe tbody tr th:only-of-type {\n",
              "        vertical-align: middle;\n",
              "    }\n",
              "\n",
              "    .dataframe tbody tr th {\n",
              "        vertical-align: top;\n",
              "    }\n",
              "\n",
              "    .dataframe thead th {\n",
              "        text-align: right;\n",
              "    }\n",
              "</style>\n",
              "<table border=\"1\" class=\"dataframe\">\n",
              "  <thead>\n",
              "    <tr style=\"text-align: right;\">\n",
              "      <th></th>\n",
              "      <th>Rank</th>\n",
              "      <th>Player</th>\n",
              "      <th>Team</th>\n",
              "      <th>Games</th>\n",
              "      <th>Price</th>\n",
              "      <th>TotalScore</th>\n",
              "      <th>AverageScore</th>\n",
              "      <th>*Value</th>\n",
              "      <th>Player_url</th>\n",
              "      <th>Position</th>\n",
              "    </tr>\n",
              "  </thead>\n",
              "  <tbody>\n",
              "    <tr>\n",
              "      <th>0</th>\n",
              "      <td>1</td>\n",
              "      <td>Max Gawn</td>\n",
              "      <td>Demons</td>\n",
              "      <td>14</td>\n",
              "      <td>$944,000</td>\n",
              "      <td>1,385</td>\n",
              "      <td>98.9</td>\n",
              "      <td>10.5</td>\n",
              "      <td>pr-melbourne-demons--max-gawn</td>\n",
              "      <td>RU</td>\n",
              "    </tr>\n",
              "    <tr>\n",
              "      <th>1</th>\n",
              "      <td>2</td>\n",
              "      <td>Brodie Grundy</td>\n",
              "      <td>Magpies</td>\n",
              "      <td>17</td>\n",
              "      <td>$867,000</td>\n",
              "      <td>1,546</td>\n",
              "      <td>90.9</td>\n",
              "      <td>10.5</td>\n",
              "      <td>pr-collingwood-magpies--brodie-grundy</td>\n",
              "      <td>RU</td>\n",
              "    </tr>\n",
              "    <tr>\n",
              "      <th>2</th>\n",
              "      <td>3</td>\n",
              "      <td>Reilly O'Brien</td>\n",
              "      <td>Crows</td>\n",
              "      <td>17</td>\n",
              "      <td>$828,000</td>\n",
              "      <td>1,475</td>\n",
              "      <td>86.8</td>\n",
              "      <td>10.5</td>\n",
              "      <td>pr-adelaide-crows--reilly-o-brien</td>\n",
              "      <td>RU</td>\n",
              "    </tr>\n",
              "    <tr>\n",
              "      <th>3</th>\n",
              "      <td>4</td>\n",
              "      <td>Todd Goldstein</td>\n",
              "      <td>Kangaroos</td>\n",
              "      <td>17</td>\n",
              "      <td>$760,000</td>\n",
              "      <td>1,353</td>\n",
              "      <td>79.6</td>\n",
              "      <td>10.5</td>\n",
              "      <td>pr-kangaroos--todd-goldstein</td>\n",
              "      <td>RU</td>\n",
              "    </tr>\n",
              "    <tr>\n",
              "      <th>4</th>\n",
              "      <td>5</td>\n",
              "      <td>Rowan Marshall</td>\n",
              "      <td>Saints</td>\n",
              "      <td>17</td>\n",
              "      <td>$738,000</td>\n",
              "      <td>1,314</td>\n",
              "      <td>77.3</td>\n",
              "      <td>10.5</td>\n",
              "      <td>pr-st-kilda-saints--rowan-marshall</td>\n",
              "      <td>RU</td>\n",
              "    </tr>\n",
              "    <tr>\n",
              "      <th>...</th>\n",
              "      <td>...</td>\n",
              "      <td>...</td>\n",
              "      <td>...</td>\n",
              "      <td>...</td>\n",
              "      <td>...</td>\n",
              "      <td>...</td>\n",
              "      <td>...</td>\n",
              "      <td>...</td>\n",
              "      <td>...</td>\n",
              "      <td>...</td>\n",
              "    </tr>\n",
              "    <tr>\n",
              "      <th>204</th>\n",
              "      <td>204</td>\n",
              "      <td>Deven Robertson</td>\n",
              "      <td>Lions</td>\n",
              "      <td>1</td>\n",
              "      <td>$186,000</td>\n",
              "      <td>26</td>\n",
              "      <td>26.0</td>\n",
              "      <td>14.0</td>\n",
              "      <td>pr-brisbane-lions--deven-robertson</td>\n",
              "      <td>MI</td>\n",
              "    </tr>\n",
              "    <tr>\n",
              "      <th>205</th>\n",
              "      <td>206</td>\n",
              "      <td>Josh Honey</td>\n",
              "      <td>Blues</td>\n",
              "      <td>1</td>\n",
              "      <td>$170,000</td>\n",
              "      <td>22</td>\n",
              "      <td>22.0</td>\n",
              "      <td>12.9</td>\n",
              "      <td>pr-carlton-blues--josh-honey</td>\n",
              "      <td>MI</td>\n",
              "    </tr>\n",
              "    <tr>\n",
              "      <th>206</th>\n",
              "      <td>206</td>\n",
              "      <td>Hamish Brayshaw</td>\n",
              "      <td>Eagles</td>\n",
              "      <td>1</td>\n",
              "      <td>$172,000</td>\n",
              "      <td>22</td>\n",
              "      <td>22.0</td>\n",
              "      <td>12.8</td>\n",
              "      <td>pr-west-coast-eagles--hamish-brayshaw</td>\n",
              "      <td>MI</td>\n",
              "    </tr>\n",
              "    <tr>\n",
              "      <th>207</th>\n",
              "      <td>206</td>\n",
              "      <td>Timothy Broomhead</td>\n",
              "      <td>Magpies</td>\n",
              "      <td>1</td>\n",
              "      <td>$298,000</td>\n",
              "      <td>22</td>\n",
              "      <td>22.0</td>\n",
              "      <td>7.4</td>\n",
              "      <td>pr-collingwood-magpies--timothy-broomhead</td>\n",
              "      <td>MI</td>\n",
              "    </tr>\n",
              "    <tr>\n",
              "      <th>208</th>\n",
              "      <td>209</td>\n",
              "      <td>Ryan Byrnes</td>\n",
              "      <td>Saints</td>\n",
              "      <td>1</td>\n",
              "      <td>$170,000</td>\n",
              "      <td>21</td>\n",
              "      <td>21.0</td>\n",
              "      <td>12.4</td>\n",
              "      <td>pr-st-kilda-saints--ryan-byrnes</td>\n",
              "      <td>MI</td>\n",
              "    </tr>\n",
              "  </tbody>\n",
              "</table>\n",
              "<p>730 rows × 10 columns</p>\n",
              "</div>"
            ],
            "text/plain": [
              "    Rank             Player  ...                                 Player_url Position\n",
              "0      1           Max Gawn  ...              pr-melbourne-demons--max-gawn       RU\n",
              "1      2      Brodie Grundy  ...      pr-collingwood-magpies--brodie-grundy       RU\n",
              "2      3     Reilly O'Brien  ...          pr-adelaide-crows--reilly-o-brien       RU\n",
              "3      4     Todd Goldstein  ...               pr-kangaroos--todd-goldstein       RU\n",
              "4      5     Rowan Marshall  ...         pr-st-kilda-saints--rowan-marshall       RU\n",
              "..   ...                ...  ...                                        ...      ...\n",
              "204  204    Deven Robertson  ...         pr-brisbane-lions--deven-robertson       MI\n",
              "205  206         Josh Honey  ...               pr-carlton-blues--josh-honey       MI\n",
              "206  206    Hamish Brayshaw  ...      pr-west-coast-eagles--hamish-brayshaw       MI\n",
              "207  206  Timothy Broomhead  ...  pr-collingwood-magpies--timothy-broomhead       MI\n",
              "208  209        Ryan Byrnes  ...            pr-st-kilda-saints--ryan-byrnes       MI\n",
              "\n",
              "[730 rows x 10 columns]"
            ]
          },
          "metadata": {
            "tags": []
          },
          "execution_count": 9
        }
      ]
    },
    {
      "cell_type": "code",
      "metadata": {
        "id": "h8a2ez0C79sA"
      },
      "source": [
        "def getPlayerScores(pu):\n",
        "  pu = \"https://www.footywire.com/afl/footy/\"+pu\n",
        "  fantasy_points = pd.read_html(pu)\n",
        "  playerTable = pd.DataFrame()\n",
        "  for n,g in enumerate(fantasy_points):\n",
        "    if \"AFL Fantasy Stats\" in str(g.iloc[0,0]):\n",
        "      tempplayerTable = fantasy_points[n+1]\n",
        "      tempplayerTable['Year'] = g.iloc[0,0]\n",
        "      playerTable = playerTable.append(tempplayerTable)\n",
        "  playerTable = playerTable.rename({0:\"Round\",2:'Score'},axis=1)[['Round','Year','Score']]\n",
        "  playerTable = playerTable[playerTable['Round'].str.len()<=2]\n",
        "  playerTable['Year'] = playerTable['Year'].str.slice(stop=4)\n",
        "  return playerTable"
      ],
      "execution_count": null,
      "outputs": []
    },
    {
      "cell_type": "code",
      "metadata": {
        "colab": {
          "base_uri": "https://localhost:8080/",
          "height": 232
        },
        "id": "1er0sBlH4OTu",
        "outputId": "037a884e-0206-49fc-9f23-0258124a3051"
      },
      "source": [
        "full_player_scores = pd.DataFrame()\n",
        "for index, row in Players.iterrows():\n",
        "  playerScore = getPlayerScores(row['Player_url'])\n",
        "  playerScore['Name'] = row['Player']\n",
        "  playerScore['Team'] = row['Team']\n",
        "  playerScore['Position'] = row['Position']\n",
        "  playerScore['Price'] = int(row['Price'].replace(',', '').replace('$', ''))\n",
        "  full_player_scores = full_player_scores.append(rounds.merge(playerScore,left_on=['Team 1','Round'], right_on=['Team', 'Round']))\n",
        "full_player_scores\n",
        "full_player_scores.to_csv('full_players.csv')"
      ],
      "execution_count": null,
      "outputs": [
        {
          "output_type": "error",
          "ename": "NameError",
          "evalue": "ignored",
          "traceback": [
            "\u001b[0;31m---------------------------------------------------------------------------\u001b[0m",
            "\u001b[0;31mNameError\u001b[0m                                 Traceback (most recent call last)",
            "\u001b[0;32m<ipython-input-33-0ee78e867265>\u001b[0m in \u001b[0;36m<module>\u001b[0;34m()\u001b[0m\n\u001b[1;32m      1\u001b[0m \u001b[0mfull_player_scores\u001b[0m \u001b[0;34m=\u001b[0m \u001b[0mpd\u001b[0m\u001b[0;34m.\u001b[0m\u001b[0mDataFrame\u001b[0m\u001b[0;34m(\u001b[0m\u001b[0;34m)\u001b[0m\u001b[0;34m\u001b[0m\u001b[0;34m\u001b[0m\u001b[0m\n\u001b[0;32m----> 2\u001b[0;31m \u001b[0;32mfor\u001b[0m \u001b[0mindex\u001b[0m\u001b[0;34m,\u001b[0m \u001b[0mrow\u001b[0m \u001b[0;32min\u001b[0m \u001b[0mPlayers\u001b[0m\u001b[0;34m.\u001b[0m\u001b[0miterrows\u001b[0m\u001b[0;34m(\u001b[0m\u001b[0;34m)\u001b[0m\u001b[0;34m:\u001b[0m\u001b[0;34m\u001b[0m\u001b[0;34m\u001b[0m\u001b[0m\n\u001b[0m\u001b[1;32m      3\u001b[0m   \u001b[0mplayerScore\u001b[0m \u001b[0;34m=\u001b[0m \u001b[0mgetPlayerScores\u001b[0m\u001b[0;34m(\u001b[0m\u001b[0mrow\u001b[0m\u001b[0;34m[\u001b[0m\u001b[0;34m'Player_url'\u001b[0m\u001b[0;34m]\u001b[0m\u001b[0;34m)\u001b[0m\u001b[0;34m\u001b[0m\u001b[0;34m\u001b[0m\u001b[0m\n\u001b[1;32m      4\u001b[0m   \u001b[0mplayerScore\u001b[0m\u001b[0;34m[\u001b[0m\u001b[0;34m'Name'\u001b[0m\u001b[0;34m]\u001b[0m \u001b[0;34m=\u001b[0m \u001b[0mrow\u001b[0m\u001b[0;34m[\u001b[0m\u001b[0;34m'Player'\u001b[0m\u001b[0;34m]\u001b[0m\u001b[0;34m\u001b[0m\u001b[0;34m\u001b[0m\u001b[0m\n\u001b[1;32m      5\u001b[0m   \u001b[0mplayerScore\u001b[0m\u001b[0;34m[\u001b[0m\u001b[0;34m'Team'\u001b[0m\u001b[0;34m]\u001b[0m \u001b[0;34m=\u001b[0m \u001b[0mrow\u001b[0m\u001b[0;34m[\u001b[0m\u001b[0;34m'Team'\u001b[0m\u001b[0;34m]\u001b[0m\u001b[0;34m\u001b[0m\u001b[0;34m\u001b[0m\u001b[0m\n",
            "\u001b[0;31mNameError\u001b[0m: name 'Players' is not defined"
          ]
        }
      ]
    },
    {
      "cell_type": "code",
      "metadata": {
        "id": "sy6uwTvL0rQs"
      },
      "source": [],
      "execution_count": null,
      "outputs": []
    },
    {
      "cell_type": "code",
      "metadata": {
        "id": "3yLWwxpJ48TW"
      },
      "source": [],
      "execution_count": null,
      "outputs": []
    },
    {
      "cell_type": "code",
      "metadata": {
        "colab": {
          "background_save": true,
          "base_uri": "https://localhost:8080/"
        },
        "id": "l-HWpbAuTL_T",
        "outputId": "35f3c3d0-2fbe-4cd2-de6c-309e88578356"
      },
      "source": [],
      "execution_count": null,
      "outputs": [
        {
          "output_type": "stream",
          "text": [
            "/usr/local/lib/python3.6/dist-packages/pulp/apis/coin_api.py:77: UserWarning: Parameter maxSeconds is being depreciated for timeLimit\n",
            "  warnings.warn(\"Parameter maxSeconds is being depreciated for timeLimit\")\n"
          ],
          "name": "stderr"
        },
        {
          "output_type": "execute_result",
          "data": {
            "text/plain": [
              "0"
            ]
          },
          "metadata": {
            "tags": []
          },
          "execution_count": 0
        }
      ]
    },
    {
      "cell_type": "code",
      "metadata": {
        "id": "1pkmlf2k4jOJ"
      },
      "source": [],
      "execution_count": null,
      "outputs": []
    },
    {
      "cell_type": "code",
      "metadata": {
        "colab": {
          "base_uri": "https://localhost:8080/"
        },
        "id": "1agMoCgsUSUt",
        "outputId": "936d4faa-b3c8-47d9-b823-61d671a70495"
      },
      "source": [],
      "execution_count": null,
      "outputs": [
        {
          "output_type": "stream",
          "text": [
            "/sbin/ldconfig.real: /usr/local/lib/python3.6/dist-packages/ideep4py/lib/libmkldnn.so.0 is not a symbolic link\n",
            "\n"
          ],
          "name": "stdout"
        }
      ]
    },
    {
      "cell_type": "code",
      "metadata": {
        "id": "UC7xFlj1A1Ay"
      },
      "source": [],
      "execution_count": null,
      "outputs": []
    },
    {
      "cell_type": "code",
      "metadata": {
        "id": "7Qtzdc6yA3yU"
      },
      "source": [],
      "execution_count": null,
      "outputs": []
    }
  ]
}