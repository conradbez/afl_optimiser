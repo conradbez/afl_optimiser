{
  "nbformat": 4,
  "nbformat_minor": 0,
  "metadata": {
    "colab": {
      "name": "AFL_get_players.ipynb",
      "provenance": [],
      "collapsed_sections": []
    },
    "kernelspec": {
      "display_name": "Python 3",
      "name": "python3",
      "language": "python"
    }
  },
  "cells": [
    {
      "cell_type": "code",
      "metadata": {
        "id": "E2GvnXxCQ2nl"
      },
      "source": [
        "import pandas as pd\n",
        "import re\n",
        "import requests\n",
        "import bs4 as bs\n",
        "import dateparser\n",
        "import dateparser"
      ],
      "execution_count": 31,
      "outputs": []
    },
    {
      "cell_type": "code",
      "metadata": {
        "colab": {
          "base_uri": "https://localhost:8080/",
          "height": 419
        },
        "id": "oBnBHtKeJilb",
        "outputId": "5ffc96c7-0d51-480c-e2cd-6cd45efdc2ff"
      },
      "source": [
        "points_table = pd.DataFrame()\n",
        "for round in range(1,18):\n",
        "  round_points_table  =pd.read_html(f'https://www.footywire.com/afl/footy/dream_team_round?year=2020&round={round}&p=&s=T')[9]\n",
        "\n",
        "  round_points_table['Round'] = f'Round {round}'\n",
        "  points_table = points_table.append(round_points_table)\n",
        "\n",
        "points_table.columns = points_table.iloc[0]\n",
        "points_table = points_table.rename({'Round 1':'Round'},axis=1)\n",
        "points_table = points_table[['Player', 'Team',\"2020 R1Score\",'Round']]\n",
        "points_table"
      ],
      "execution_count": 2,
      "outputs": [
        {
          "output_type": "execute_result",
          "data": {
            "text/plain": [
              "0                   Player       Team  2020 R1Score     Round\n",
              "0                   Player       Team  2020 R1Score   Round 1\n",
              "1      Jack Viney  Injured     Demons           132   Round 1\n",
              "2              Dylan Shiel    Bombers           122   Round 1\n",
              "3           Ben Cunnington  Kangaroos           117   Round 1\n",
              "4      Luke Shuey  Injured     Eagles           116   Round 1\n",
              "..                     ...        ...           ...       ...\n",
              "392  Brandon Zerk-Thatcher    Bombers            12  Round 17\n",
              "393           Sam Docherty      Blues            11  Round 17\n",
              "394   Toby McLean  Injured   Bulldogs            10  Round 17\n",
              "395           Lewis Taylor      Swans             0  Round 17\n",
              "396           Sean Lemmens       Suns             0  Round 17\n",
              "\n",
              "[6353 rows x 4 columns]"
            ],
            "text/html": "<div>\n<style scoped>\n    .dataframe tbody tr th:only-of-type {\n        vertical-align: middle;\n    }\n\n    .dataframe tbody tr th {\n        vertical-align: top;\n    }\n\n    .dataframe thead th {\n        text-align: right;\n    }\n</style>\n<table border=\"1\" class=\"dataframe\">\n  <thead>\n    <tr style=\"text-align: right;\">\n      <th></th>\n      <th>Player</th>\n      <th>Team</th>\n      <th>2020 R1Score</th>\n      <th>Round</th>\n    </tr>\n  </thead>\n  <tbody>\n    <tr>\n      <th>0</th>\n      <td>Player</td>\n      <td>Team</td>\n      <td>2020 R1Score</td>\n      <td>Round 1</td>\n    </tr>\n    <tr>\n      <th>1</th>\n      <td>Jack Viney  Injured</td>\n      <td>Demons</td>\n      <td>132</td>\n      <td>Round 1</td>\n    </tr>\n    <tr>\n      <th>2</th>\n      <td>Dylan Shiel</td>\n      <td>Bombers</td>\n      <td>122</td>\n      <td>Round 1</td>\n    </tr>\n    <tr>\n      <th>3</th>\n      <td>Ben Cunnington</td>\n      <td>Kangaroos</td>\n      <td>117</td>\n      <td>Round 1</td>\n    </tr>\n    <tr>\n      <th>4</th>\n      <td>Luke Shuey  Injured</td>\n      <td>Eagles</td>\n      <td>116</td>\n      <td>Round 1</td>\n    </tr>\n    <tr>\n      <th>...</th>\n      <td>...</td>\n      <td>...</td>\n      <td>...</td>\n      <td>...</td>\n    </tr>\n    <tr>\n      <th>392</th>\n      <td>Brandon Zerk-Thatcher</td>\n      <td>Bombers</td>\n      <td>12</td>\n      <td>Round 17</td>\n    </tr>\n    <tr>\n      <th>393</th>\n      <td>Sam Docherty</td>\n      <td>Blues</td>\n      <td>11</td>\n      <td>Round 17</td>\n    </tr>\n    <tr>\n      <th>394</th>\n      <td>Toby McLean  Injured</td>\n      <td>Bulldogs</td>\n      <td>10</td>\n      <td>Round 17</td>\n    </tr>\n    <tr>\n      <th>395</th>\n      <td>Lewis Taylor</td>\n      <td>Swans</td>\n      <td>0</td>\n      <td>Round 17</td>\n    </tr>\n    <tr>\n      <th>396</th>\n      <td>Sean Lemmens</td>\n      <td>Suns</td>\n      <td>0</td>\n      <td>Round 17</td>\n    </tr>\n  </tbody>\n</table>\n<p>6353 rows × 4 columns</p>\n</div>"
          },
          "metadata": {},
          "execution_count": 2
        }
      ]
    },
    {
      "cell_type": "code",
      "metadata": {
        "id": "Q7kf5PRtTmsN"
      },
      "source": [
        "replace_team_names =   {\"Adelaide\":\"Crows\",   \"Brisbane\":\"Lions\",\"Carlton\":\"Blues\",   \"Collingwood\":\"Magpies\",   \"Essendon\":\"Bombers\",   \"Fremantle\":\"Dockers\",   \"GWS\":\"Giants\",   \"Geelong\":\"Cats\",   \"Gold Coast\":\"Suns\",   \"Hawthorn\":\"Hawks\",   \"Melbourne\":\"Demons\",   \"North Melbourne\":\"Kangaroos\",   \"Port Adelaide\":\"Power\",   \"Richmond\":\"Tigers\",   \"St Kilda\":\"Saints\",   \"Sydney\":\"Swans\",   \"West Coast\":\"Eagles\",   \"Western Bulldogs\":\"Bulldogs\"}"
      ],
      "execution_count": 3,
      "outputs": []
    },
    {
      "cell_type": "code",
      "metadata": {
        "colab": {
          "base_uri": "https://localhost:8080/",
          "height": 691
        },
        "id": "8Q2NzG4ML2rG",
        "outputId": "65787ddd-8c4c-4055-98f3-89e108c4c74b"
      },
      "source": [
        "def getRounds(r=2020):\n",
        "  rounds = pd.read_html(f'https://www.footywire.com/afl/footy/ft_match_list?year={r}')[8]\n",
        "  rounds['Round_Num'] = rounds [0].str.extract(r'(Round \\d{1,2})')\n",
        "  rounds['Round_Num'] = rounds['Round_Num'].ffill()\n",
        "  rounds['Team 1'] = rounds[1].str.split(' v ',expand=True)[0]\n",
        "  rounds['Team 2'] = rounds[1].str.split(' v ',expand=True)[1]\n",
        "  rounds = rounds.dropna(subset=['Team 2'])\n",
        "  rounds.columns = rounds.iloc[0]\n",
        "  rounds = rounds[rounds['Home'] != 'Home']\n",
        "  rounds = rounds[['Round 1',\t'Home',\t'Away Teams', 'Date']]\n",
        "  rounds = rounds.replace(replace_team_names)\n",
        "  home_teams = rounds['Home'].unique()\n",
        "  for t in points_table['Team']:\n",
        "    if t not in home_teams:\n",
        "      print(t)\n",
        "      print('are the team mismatches')\n",
        "  rounds = rounds.append(rounds.rename({'Home': 'Away Teams', 'Away Teams':'Home'},axis=1))\n",
        "  rounds = rounds.reset_index(drop=True).rename({'Home': 'Team 1', 'Away Teams':'Team 2'},axis=1)\n",
        "  rounds = rounds.rename({'Round 1': 'Round'},axis=1)\n",
        "  rounds['Round'] = rounds['Round'].str.slice(start=6)\n",
        "  rounds['Date'] = rounds['Date'].apply(\n",
        "    lambda x: dateparser.parse(x)\n",
        "    )\n",
        "  return rounds\n",
        "rounds = getRounds(2020)\n",
        "nextRounds = getRounds(2021)\n",
        "nextRounds.to_csv('2021_schedule')"
      ],
      "execution_count": 29,
      "outputs": [
        {
          "output_type": "stream",
          "name": "stdout",
          "text": [
            "Team\n",
            "are the team mismatches\n",
            "Team\n",
            "are the team mismatches\n",
            "Team\n",
            "are the team mismatches\n",
            "Team\n",
            "are the team mismatches\n",
            "Team\n",
            "are the team mismatches\n",
            "Team\n",
            "are the team mismatches\n",
            "Team\n",
            "are the team mismatches\n",
            "Team\n",
            "are the team mismatches\n",
            "Team\n",
            "are the team mismatches\n",
            "Team\n",
            "are the team mismatches\n",
            "Team\n",
            "are the team mismatches\n",
            "Team\n",
            "are the team mismatches\n",
            "Team\n",
            "are the team mismatches\n",
            "Team\n",
            "are the team mismatches\n",
            "Team\n",
            "are the team mismatches\n",
            "Team\n",
            "are the team mismatches\n",
            "Team\n",
            "are the team mismatches\n",
            "Team\n",
            "are the team mismatches\n",
            "Team\n",
            "are the team mismatches\n",
            "Team\n",
            "are the team mismatches\n",
            "Team\n",
            "are the team mismatches\n",
            "Team\n",
            "are the team mismatches\n",
            "Team\n",
            "are the team mismatches\n",
            "Team\n",
            "are the team mismatches\n",
            "Team\n",
            "are the team mismatches\n",
            "Team\n",
            "are the team mismatches\n",
            "Team\n",
            "are the team mismatches\n",
            "Team\n",
            "are the team mismatches\n",
            "Team\n",
            "are the team mismatches\n",
            "Team\n",
            "are the team mismatches\n",
            "Team\n",
            "are the team mismatches\n",
            "Team\n",
            "are the team mismatches\n",
            "Team\n",
            "are the team mismatches\n",
            "Team\n",
            "are the team mismatches\n"
          ]
        }
      ]
    },
    {
      "cell_type": "code",
      "execution_count": 30,
      "metadata": {},
      "outputs": [
        {
          "output_type": "execute_result",
          "data": {
            "text/plain": [
              "1   Round     Team 1    Team 2                Date\n",
              "0       1     Tigers     Blues 2021-03-18 19:25:00\n",
              "1       1    Magpies  Bulldogs 2021-03-19 19:50:00\n",
              "2       1     Demons   Dockers 2021-03-20 13:45:00\n",
              "3       1      Crows      Cats 2021-03-20 16:05:00\n",
              "4       1      Lions     Swans 2021-03-20 18:45:00\n",
              "..    ...        ...       ...                 ...\n",
              "391    23      Hawks    Tigers 2021-08-21 12:00:00\n",
              "392    23    Dockers    Saints 2021-08-21 12:00:00\n",
              "393    23       Suns     Swans 2021-08-21 12:00:00\n",
              "394    23      Power  Bulldogs 2021-08-21 12:00:00\n",
              "395    23  Kangaroos     Crows 2021-08-21 12:00:00\n",
              "\n",
              "[396 rows x 4 columns]"
            ],
            "text/html": "<div>\n<style scoped>\n    .dataframe tbody tr th:only-of-type {\n        vertical-align: middle;\n    }\n\n    .dataframe tbody tr th {\n        vertical-align: top;\n    }\n\n    .dataframe thead th {\n        text-align: right;\n    }\n</style>\n<table border=\"1\" class=\"dataframe\">\n  <thead>\n    <tr style=\"text-align: right;\">\n      <th>1</th>\n      <th>Round</th>\n      <th>Team 1</th>\n      <th>Team 2</th>\n      <th>Date</th>\n    </tr>\n  </thead>\n  <tbody>\n    <tr>\n      <th>0</th>\n      <td>1</td>\n      <td>Tigers</td>\n      <td>Blues</td>\n      <td>2021-03-18 19:25:00</td>\n    </tr>\n    <tr>\n      <th>1</th>\n      <td>1</td>\n      <td>Magpies</td>\n      <td>Bulldogs</td>\n      <td>2021-03-19 19:50:00</td>\n    </tr>\n    <tr>\n      <th>2</th>\n      <td>1</td>\n      <td>Demons</td>\n      <td>Dockers</td>\n      <td>2021-03-20 13:45:00</td>\n    </tr>\n    <tr>\n      <th>3</th>\n      <td>1</td>\n      <td>Crows</td>\n      <td>Cats</td>\n      <td>2021-03-20 16:05:00</td>\n    </tr>\n    <tr>\n      <th>4</th>\n      <td>1</td>\n      <td>Lions</td>\n      <td>Swans</td>\n      <td>2021-03-20 18:45:00</td>\n    </tr>\n    <tr>\n      <th>...</th>\n      <td>...</td>\n      <td>...</td>\n      <td>...</td>\n      <td>...</td>\n    </tr>\n    <tr>\n      <th>391</th>\n      <td>23</td>\n      <td>Hawks</td>\n      <td>Tigers</td>\n      <td>2021-08-21 12:00:00</td>\n    </tr>\n    <tr>\n      <th>392</th>\n      <td>23</td>\n      <td>Dockers</td>\n      <td>Saints</td>\n      <td>2021-08-21 12:00:00</td>\n    </tr>\n    <tr>\n      <th>393</th>\n      <td>23</td>\n      <td>Suns</td>\n      <td>Swans</td>\n      <td>2021-08-21 12:00:00</td>\n    </tr>\n    <tr>\n      <th>394</th>\n      <td>23</td>\n      <td>Power</td>\n      <td>Bulldogs</td>\n      <td>2021-08-21 12:00:00</td>\n    </tr>\n    <tr>\n      <th>395</th>\n      <td>23</td>\n      <td>Kangaroos</td>\n      <td>Crows</td>\n      <td>2021-08-21 12:00:00</td>\n    </tr>\n  </tbody>\n</table>\n<p>396 rows × 4 columns</p>\n</div>"
          },
          "metadata": {},
          "execution_count": 30
        }
      ],
      "source": [
        "nextRounds"
      ]
    },
    {
      "cell_type": "code",
      "metadata": {
        "colab": {
          "base_uri": "https://localhost:8080/",
          "height": 419
        },
        "id": "zHgOz3U-NFRw",
        "outputId": "6ae968ea-f5bf-48ed-f4f7-a688b97ca30a"
      },
      "source": [
        "Players = pd.DataFrame()\n",
        "position = 'RU'\n",
        "for position in ['RU','DE','FO','MI']:\n",
        "  f = requests.get(f\"https://www.footywire.com/afl/footy/dream_team_season?p={position}\").text\n",
        "  soup = bs.BeautifulSoup(f, 'lxml')\n",
        "  table = soup.find_all('table')[8] \n",
        "  parsed_table = soup.find_all('table')[8] \n",
        "  data = [[td.a['href'] if td.find('a') else \n",
        "            ''.join(td.stripped_strings)\n",
        "            for td in row.find_all('td')]\n",
        "          for row in parsed_table.find_all('tr')]\n",
        "  data2 = [[''.join(td.stripped_strings)\n",
        "            for td in row.find_all('td')]\n",
        "          for row in parsed_table.find_all('tr')]\n",
        "  df = pd.DataFrame(data[1:], columns=data[0])\n",
        "  df2 = pd.DataFrame(data2[1:], columns=data2[0])\n",
        "  player_info = df2.join(df['Player'],rsuffix='_url')\n",
        "  player_info['Position'] = position\n",
        "  Players = Players.append(player_info)\n",
        "Players"
      ],
      "execution_count": 6,
      "outputs": [
        {
          "output_type": "execute_result",
          "data": {
            "text/plain": [
              "    Rank             Player       Team Games     Price TotalScore  \\\n",
              "0      1      Matthew Flynn     Giants     1  $219,000         99   \n",
              "1      2         Tom Hickey      Swans     1  $442,000         92   \n",
              "2      3     Todd Goldstein  Kangaroos     1  $754,000         90   \n",
              "3      4       Scott Lycett      Power     1  $633,000         88   \n",
              "4      4         Ben McEvoy      Hawks     1  $493,000         88   \n",
              "..   ...                ...        ...   ...       ...        ...   \n",
              "144  145     Lachlan McNeil   Bulldogs     1  $172,000         26   \n",
              "145  146  Charlie Constable       Cats     1  $460,000         25   \n",
              "146  147        Josh Daicos    Magpies     1  $621,000         19   \n",
              "147  148       Matt RowellI       Suns     1  $536,000         16   \n",
              "148  149    Charlie Lazzaro  Kangaroos     1  $190,000         10   \n",
              "\n",
              "    AverageScore *Value                                       Player_url  \\\n",
              "0           99.0   45.2  pr-greater-western-sydney-giants--matthew-flynn   \n",
              "1           92.0   20.8                      pr-sydney-swans--tom-hickey   \n",
              "2           90.0   11.9                     pr-kangaroos--todd-goldstein   \n",
              "3           88.0   13.9             pr-port-adelaide-power--scott-lycett   \n",
              "4           88.0   17.8                    pr-hawthorn-hawks--ben-mcevoy   \n",
              "..           ...    ...                                              ...   \n",
              "144         26.0   15.1              pr-western-bulldogs--lachlan-mcneil   \n",
              "145         25.0    5.4               pr-geelong-cats--charlie-constable   \n",
              "146         19.0    3.1              pr-collingwood-magpies--josh-daicos   \n",
              "147         16.0    3.0                  pr-gold-coast-suns--matt-rowell   \n",
              "148         10.0    5.3                    pr-kangaroos--charlie-lazzaro   \n",
              "\n",
              "    Position  \n",
              "0         RU  \n",
              "1         RU  \n",
              "2         RU  \n",
              "3         RU  \n",
              "4         RU  \n",
              "..       ...  \n",
              "144       MI  \n",
              "145       MI  \n",
              "146       MI  \n",
              "147       MI  \n",
              "148       MI  \n",
              "\n",
              "[447 rows x 10 columns]"
            ],
            "text/html": "<div>\n<style scoped>\n    .dataframe tbody tr th:only-of-type {\n        vertical-align: middle;\n    }\n\n    .dataframe tbody tr th {\n        vertical-align: top;\n    }\n\n    .dataframe thead th {\n        text-align: right;\n    }\n</style>\n<table border=\"1\" class=\"dataframe\">\n  <thead>\n    <tr style=\"text-align: right;\">\n      <th></th>\n      <th>Rank</th>\n      <th>Player</th>\n      <th>Team</th>\n      <th>Games</th>\n      <th>Price</th>\n      <th>TotalScore</th>\n      <th>AverageScore</th>\n      <th>*Value</th>\n      <th>Player_url</th>\n      <th>Position</th>\n    </tr>\n  </thead>\n  <tbody>\n    <tr>\n      <th>0</th>\n      <td>1</td>\n      <td>Matthew Flynn</td>\n      <td>Giants</td>\n      <td>1</td>\n      <td>$219,000</td>\n      <td>99</td>\n      <td>99.0</td>\n      <td>45.2</td>\n      <td>pr-greater-western-sydney-giants--matthew-flynn</td>\n      <td>RU</td>\n    </tr>\n    <tr>\n      <th>1</th>\n      <td>2</td>\n      <td>Tom Hickey</td>\n      <td>Swans</td>\n      <td>1</td>\n      <td>$442,000</td>\n      <td>92</td>\n      <td>92.0</td>\n      <td>20.8</td>\n      <td>pr-sydney-swans--tom-hickey</td>\n      <td>RU</td>\n    </tr>\n    <tr>\n      <th>2</th>\n      <td>3</td>\n      <td>Todd Goldstein</td>\n      <td>Kangaroos</td>\n      <td>1</td>\n      <td>$754,000</td>\n      <td>90</td>\n      <td>90.0</td>\n      <td>11.9</td>\n      <td>pr-kangaroos--todd-goldstein</td>\n      <td>RU</td>\n    </tr>\n    <tr>\n      <th>3</th>\n      <td>4</td>\n      <td>Scott Lycett</td>\n      <td>Power</td>\n      <td>1</td>\n      <td>$633,000</td>\n      <td>88</td>\n      <td>88.0</td>\n      <td>13.9</td>\n      <td>pr-port-adelaide-power--scott-lycett</td>\n      <td>RU</td>\n    </tr>\n    <tr>\n      <th>4</th>\n      <td>4</td>\n      <td>Ben McEvoy</td>\n      <td>Hawks</td>\n      <td>1</td>\n      <td>$493,000</td>\n      <td>88</td>\n      <td>88.0</td>\n      <td>17.8</td>\n      <td>pr-hawthorn-hawks--ben-mcevoy</td>\n      <td>RU</td>\n    </tr>\n    <tr>\n      <th>...</th>\n      <td>...</td>\n      <td>...</td>\n      <td>...</td>\n      <td>...</td>\n      <td>...</td>\n      <td>...</td>\n      <td>...</td>\n      <td>...</td>\n      <td>...</td>\n      <td>...</td>\n    </tr>\n    <tr>\n      <th>144</th>\n      <td>145</td>\n      <td>Lachlan McNeil</td>\n      <td>Bulldogs</td>\n      <td>1</td>\n      <td>$172,000</td>\n      <td>26</td>\n      <td>26.0</td>\n      <td>15.1</td>\n      <td>pr-western-bulldogs--lachlan-mcneil</td>\n      <td>MI</td>\n    </tr>\n    <tr>\n      <th>145</th>\n      <td>146</td>\n      <td>Charlie Constable</td>\n      <td>Cats</td>\n      <td>1</td>\n      <td>$460,000</td>\n      <td>25</td>\n      <td>25.0</td>\n      <td>5.4</td>\n      <td>pr-geelong-cats--charlie-constable</td>\n      <td>MI</td>\n    </tr>\n    <tr>\n      <th>146</th>\n      <td>147</td>\n      <td>Josh Daicos</td>\n      <td>Magpies</td>\n      <td>1</td>\n      <td>$621,000</td>\n      <td>19</td>\n      <td>19.0</td>\n      <td>3.1</td>\n      <td>pr-collingwood-magpies--josh-daicos</td>\n      <td>MI</td>\n    </tr>\n    <tr>\n      <th>147</th>\n      <td>148</td>\n      <td>Matt RowellI</td>\n      <td>Suns</td>\n      <td>1</td>\n      <td>$536,000</td>\n      <td>16</td>\n      <td>16.0</td>\n      <td>3.0</td>\n      <td>pr-gold-coast-suns--matt-rowell</td>\n      <td>MI</td>\n    </tr>\n    <tr>\n      <th>148</th>\n      <td>149</td>\n      <td>Charlie Lazzaro</td>\n      <td>Kangaroos</td>\n      <td>1</td>\n      <td>$190,000</td>\n      <td>10</td>\n      <td>10.0</td>\n      <td>5.3</td>\n      <td>pr-kangaroos--charlie-lazzaro</td>\n      <td>MI</td>\n    </tr>\n  </tbody>\n</table>\n<p>447 rows × 10 columns</p>\n</div>"
          },
          "metadata": {},
          "execution_count": 6
        }
      ]
    },
    {
      "cell_type": "code",
      "metadata": {
        "id": "h8a2ez0C79sA"
      },
      "source": [
        "def getPlayerScores(pu):\n",
        "  pu = \"https://www.footywire.com/afl/footy/\"+pu\n",
        "  fantasy_points = pd.read_html(pu)\n",
        "  playerTable = pd.DataFrame()\n",
        "  for n,g in enumerate(fantasy_points):\n",
        "    if \"AFL Fantasy Stats\" in str(g.iloc[0,0]):\n",
        "      tempplayerTable = fantasy_points[n+1]\n",
        "      tempplayerTable['Year'] = g.iloc[0,0]\n",
        "      playerTable = playerTable.append(tempplayerTable)\n",
        "  playerTable = playerTable.rename({0:\"Round\",2:'Score'},axis=1)[['Round','Year','Score']]\n",
        "  playerTable = playerTable[playerTable['Round'].str.len()<=2]\n",
        "  playerTable['Year'] = playerTable['Year'].str.slice(stop=4)\n",
        "  return playerTable"
      ],
      "execution_count": 7,
      "outputs": []
    },
    {
      "cell_type": "code",
      "metadata": {
        "colab": {
          "base_uri": "https://localhost:8080/",
          "height": 232
        },
        "id": "1er0sBlH4OTu",
        "outputId": "037a884e-0206-49fc-9f23-0258124a3051"
      },
      "source": [
        "full_player_scores = pd.DataFrame()\n",
        "for index, row in Players.iterrows():\n",
        "  playerScore = getPlayerScores(row['Player_url'])\n",
        "  playerScore['Name'] = row['Player']\n",
        "  playerScore['Team'] = row['Team']\n",
        "  playerScore['Position'] = row['Position']\n",
        "  playerScore['Price'] = int(row['Price'].replace(',', '').replace('$', ''))\n",
        "  full_player_scores = full_player_scores.append(rounds.merge(playerScore,left_on=['Team 1','Round'], right_on=['Team', 'Round']))\n",
        "full_player_scores\n",
        "full_player_scores.to_csv('full_players.csv')"
      ],
      "execution_count": 8,
      "outputs": [
        {
          "output_type": "error",
          "ename": "KeyboardInterrupt",
          "evalue": "",
          "traceback": [
            "\u001b[0;31m---------------------------------------------------------------------------\u001b[0m",
            "\u001b[0;31mKeyboardInterrupt\u001b[0m                         Traceback (most recent call last)",
            "\u001b[0;32m<ipython-input-8-0ee78e867265>\u001b[0m in \u001b[0;36m<module>\u001b[0;34m\u001b[0m\n\u001b[1;32m      1\u001b[0m \u001b[0mfull_player_scores\u001b[0m \u001b[0;34m=\u001b[0m \u001b[0mpd\u001b[0m\u001b[0;34m.\u001b[0m\u001b[0mDataFrame\u001b[0m\u001b[0;34m(\u001b[0m\u001b[0;34m)\u001b[0m\u001b[0;34m\u001b[0m\u001b[0;34m\u001b[0m\u001b[0m\n\u001b[1;32m      2\u001b[0m \u001b[0;32mfor\u001b[0m \u001b[0mindex\u001b[0m\u001b[0;34m,\u001b[0m \u001b[0mrow\u001b[0m \u001b[0;32min\u001b[0m \u001b[0mPlayers\u001b[0m\u001b[0;34m.\u001b[0m\u001b[0miterrows\u001b[0m\u001b[0;34m(\u001b[0m\u001b[0;34m)\u001b[0m\u001b[0;34m:\u001b[0m\u001b[0;34m\u001b[0m\u001b[0;34m\u001b[0m\u001b[0m\n\u001b[0;32m----> 3\u001b[0;31m   \u001b[0mplayerScore\u001b[0m \u001b[0;34m=\u001b[0m \u001b[0mgetPlayerScores\u001b[0m\u001b[0;34m(\u001b[0m\u001b[0mrow\u001b[0m\u001b[0;34m[\u001b[0m\u001b[0;34m'Player_url'\u001b[0m\u001b[0;34m]\u001b[0m\u001b[0;34m)\u001b[0m\u001b[0;34m\u001b[0m\u001b[0;34m\u001b[0m\u001b[0m\n\u001b[0m\u001b[1;32m      4\u001b[0m   \u001b[0mplayerScore\u001b[0m\u001b[0;34m[\u001b[0m\u001b[0;34m'Name'\u001b[0m\u001b[0;34m]\u001b[0m \u001b[0;34m=\u001b[0m \u001b[0mrow\u001b[0m\u001b[0;34m[\u001b[0m\u001b[0;34m'Player'\u001b[0m\u001b[0;34m]\u001b[0m\u001b[0;34m\u001b[0m\u001b[0;34m\u001b[0m\u001b[0m\n\u001b[1;32m      5\u001b[0m   \u001b[0mplayerScore\u001b[0m\u001b[0;34m[\u001b[0m\u001b[0;34m'Team'\u001b[0m\u001b[0;34m]\u001b[0m \u001b[0;34m=\u001b[0m \u001b[0mrow\u001b[0m\u001b[0;34m[\u001b[0m\u001b[0;34m'Team'\u001b[0m\u001b[0;34m]\u001b[0m\u001b[0;34m\u001b[0m\u001b[0;34m\u001b[0m\u001b[0m\n",
            "\u001b[0;32m<ipython-input-7-29bc8bf8c517>\u001b[0m in \u001b[0;36mgetPlayerScores\u001b[0;34m(pu)\u001b[0m\n\u001b[1;32m      1\u001b[0m \u001b[0;32mdef\u001b[0m \u001b[0mgetPlayerScores\u001b[0m\u001b[0;34m(\u001b[0m\u001b[0mpu\u001b[0m\u001b[0;34m)\u001b[0m\u001b[0;34m:\u001b[0m\u001b[0;34m\u001b[0m\u001b[0;34m\u001b[0m\u001b[0m\n\u001b[1;32m      2\u001b[0m   \u001b[0mpu\u001b[0m \u001b[0;34m=\u001b[0m \u001b[0;34m\"https://www.footywire.com/afl/footy/\"\u001b[0m\u001b[0;34m+\u001b[0m\u001b[0mpu\u001b[0m\u001b[0;34m\u001b[0m\u001b[0;34m\u001b[0m\u001b[0m\n\u001b[0;32m----> 3\u001b[0;31m   \u001b[0mfantasy_points\u001b[0m \u001b[0;34m=\u001b[0m \u001b[0mpd\u001b[0m\u001b[0;34m.\u001b[0m\u001b[0mread_html\u001b[0m\u001b[0;34m(\u001b[0m\u001b[0mpu\u001b[0m\u001b[0;34m)\u001b[0m\u001b[0;34m\u001b[0m\u001b[0;34m\u001b[0m\u001b[0m\n\u001b[0m\u001b[1;32m      4\u001b[0m   \u001b[0mplayerTable\u001b[0m \u001b[0;34m=\u001b[0m \u001b[0mpd\u001b[0m\u001b[0;34m.\u001b[0m\u001b[0mDataFrame\u001b[0m\u001b[0;34m(\u001b[0m\u001b[0;34m)\u001b[0m\u001b[0;34m\u001b[0m\u001b[0;34m\u001b[0m\u001b[0m\n\u001b[1;32m      5\u001b[0m   \u001b[0;32mfor\u001b[0m \u001b[0mn\u001b[0m\u001b[0;34m,\u001b[0m\u001b[0mg\u001b[0m \u001b[0;32min\u001b[0m \u001b[0menumerate\u001b[0m\u001b[0;34m(\u001b[0m\u001b[0mfantasy_points\u001b[0m\u001b[0;34m)\u001b[0m\u001b[0;34m:\u001b[0m\u001b[0;34m\u001b[0m\u001b[0;34m\u001b[0m\u001b[0m\n",
            "\u001b[0;32m~/.local/lib/python3.8/site-packages/pandas/util/_decorators.py\u001b[0m in \u001b[0;36mwrapper\u001b[0;34m(*args, **kwargs)\u001b[0m\n\u001b[1;32m    297\u001b[0m                 )\n\u001b[1;32m    298\u001b[0m                 \u001b[0mwarnings\u001b[0m\u001b[0;34m.\u001b[0m\u001b[0mwarn\u001b[0m\u001b[0;34m(\u001b[0m\u001b[0mmsg\u001b[0m\u001b[0;34m,\u001b[0m \u001b[0mFutureWarning\u001b[0m\u001b[0;34m,\u001b[0m \u001b[0mstacklevel\u001b[0m\u001b[0;34m=\u001b[0m\u001b[0mstacklevel\u001b[0m\u001b[0;34m)\u001b[0m\u001b[0;34m\u001b[0m\u001b[0;34m\u001b[0m\u001b[0m\n\u001b[0;32m--> 299\u001b[0;31m             \u001b[0;32mreturn\u001b[0m \u001b[0mfunc\u001b[0m\u001b[0;34m(\u001b[0m\u001b[0;34m*\u001b[0m\u001b[0margs\u001b[0m\u001b[0;34m,\u001b[0m \u001b[0;34m**\u001b[0m\u001b[0mkwargs\u001b[0m\u001b[0;34m)\u001b[0m\u001b[0;34m\u001b[0m\u001b[0;34m\u001b[0m\u001b[0m\n\u001b[0m\u001b[1;32m    300\u001b[0m \u001b[0;34m\u001b[0m\u001b[0m\n\u001b[1;32m    301\u001b[0m         \u001b[0;32mreturn\u001b[0m \u001b[0mwrapper\u001b[0m\u001b[0;34m\u001b[0m\u001b[0;34m\u001b[0m\u001b[0m\n",
            "\u001b[0;32m~/.local/lib/python3.8/site-packages/pandas/io/html.py\u001b[0m in \u001b[0;36mread_html\u001b[0;34m(io, match, flavor, header, index_col, skiprows, attrs, parse_dates, thousands, encoding, decimal, converters, na_values, keep_default_na, displayed_only)\u001b[0m\n\u001b[1;32m   1083\u001b[0m     \u001b[0mio\u001b[0m \u001b[0;34m=\u001b[0m \u001b[0mstringify_path\u001b[0m\u001b[0;34m(\u001b[0m\u001b[0mio\u001b[0m\u001b[0;34m)\u001b[0m\u001b[0;34m\u001b[0m\u001b[0;34m\u001b[0m\u001b[0m\n\u001b[1;32m   1084\u001b[0m \u001b[0;34m\u001b[0m\u001b[0m\n\u001b[0;32m-> 1085\u001b[0;31m     return _parse(\n\u001b[0m\u001b[1;32m   1086\u001b[0m         \u001b[0mflavor\u001b[0m\u001b[0;34m=\u001b[0m\u001b[0mflavor\u001b[0m\u001b[0;34m,\u001b[0m\u001b[0;34m\u001b[0m\u001b[0;34m\u001b[0m\u001b[0m\n\u001b[1;32m   1087\u001b[0m         \u001b[0mio\u001b[0m\u001b[0;34m=\u001b[0m\u001b[0mio\u001b[0m\u001b[0;34m,\u001b[0m\u001b[0;34m\u001b[0m\u001b[0;34m\u001b[0m\u001b[0m\n",
            "\u001b[0;32m~/.local/lib/python3.8/site-packages/pandas/io/html.py\u001b[0m in \u001b[0;36m_parse\u001b[0;34m(flavor, io, match, attrs, encoding, displayed_only, **kwargs)\u001b[0m\n\u001b[1;32m    891\u001b[0m \u001b[0;34m\u001b[0m\u001b[0m\n\u001b[1;32m    892\u001b[0m         \u001b[0;32mtry\u001b[0m\u001b[0;34m:\u001b[0m\u001b[0;34m\u001b[0m\u001b[0;34m\u001b[0m\u001b[0m\n\u001b[0;32m--> 893\u001b[0;31m             \u001b[0mtables\u001b[0m \u001b[0;34m=\u001b[0m \u001b[0mp\u001b[0m\u001b[0;34m.\u001b[0m\u001b[0mparse_tables\u001b[0m\u001b[0;34m(\u001b[0m\u001b[0;34m)\u001b[0m\u001b[0;34m\u001b[0m\u001b[0;34m\u001b[0m\u001b[0m\n\u001b[0m\u001b[1;32m    894\u001b[0m         \u001b[0;32mexcept\u001b[0m \u001b[0mValueError\u001b[0m \u001b[0;32mas\u001b[0m \u001b[0mcaught\u001b[0m\u001b[0;34m:\u001b[0m\u001b[0;34m\u001b[0m\u001b[0;34m\u001b[0m\u001b[0m\n\u001b[1;32m    895\u001b[0m             \u001b[0;31m# if `io` is an io-like object, check if it's seekable\u001b[0m\u001b[0;34m\u001b[0m\u001b[0;34m\u001b[0m\u001b[0;34m\u001b[0m\u001b[0m\n",
            "\u001b[0;32m~/.local/lib/python3.8/site-packages/pandas/io/html.py\u001b[0m in \u001b[0;36mparse_tables\u001b[0;34m(self)\u001b[0m\n\u001b[1;32m    211\u001b[0m         \u001b[0mlist\u001b[0m \u001b[0mof\u001b[0m \u001b[0mparsed\u001b[0m \u001b[0;34m(\u001b[0m\u001b[0mheader\u001b[0m\u001b[0;34m,\u001b[0m \u001b[0mbody\u001b[0m\u001b[0;34m,\u001b[0m \u001b[0mfooter\u001b[0m\u001b[0;34m)\u001b[0m \u001b[0mtuples\u001b[0m \u001b[0;32mfrom\u001b[0m \u001b[0mtables\u001b[0m\u001b[0;34m.\u001b[0m\u001b[0;34m\u001b[0m\u001b[0;34m\u001b[0m\u001b[0m\n\u001b[1;32m    212\u001b[0m         \"\"\"\n\u001b[0;32m--> 213\u001b[0;31m         \u001b[0mtables\u001b[0m \u001b[0;34m=\u001b[0m \u001b[0mself\u001b[0m\u001b[0;34m.\u001b[0m\u001b[0m_parse_tables\u001b[0m\u001b[0;34m(\u001b[0m\u001b[0mself\u001b[0m\u001b[0;34m.\u001b[0m\u001b[0m_build_doc\u001b[0m\u001b[0;34m(\u001b[0m\u001b[0;34m)\u001b[0m\u001b[0;34m,\u001b[0m \u001b[0mself\u001b[0m\u001b[0;34m.\u001b[0m\u001b[0mmatch\u001b[0m\u001b[0;34m,\u001b[0m \u001b[0mself\u001b[0m\u001b[0;34m.\u001b[0m\u001b[0mattrs\u001b[0m\u001b[0;34m)\u001b[0m\u001b[0;34m\u001b[0m\u001b[0;34m\u001b[0m\u001b[0m\n\u001b[0m\u001b[1;32m    214\u001b[0m         \u001b[0;32mreturn\u001b[0m \u001b[0;34m(\u001b[0m\u001b[0mself\u001b[0m\u001b[0;34m.\u001b[0m\u001b[0m_parse_thead_tbody_tfoot\u001b[0m\u001b[0;34m(\u001b[0m\u001b[0mtable\u001b[0m\u001b[0;34m)\u001b[0m \u001b[0;32mfor\u001b[0m \u001b[0mtable\u001b[0m \u001b[0;32min\u001b[0m \u001b[0mtables\u001b[0m\u001b[0;34m)\u001b[0m\u001b[0;34m\u001b[0m\u001b[0;34m\u001b[0m\u001b[0m\n\u001b[1;32m    215\u001b[0m \u001b[0;34m\u001b[0m\u001b[0m\n",
            "\u001b[0;32m~/.local/lib/python3.8/site-packages/pandas/io/html.py\u001b[0m in \u001b[0;36m_build_doc\u001b[0;34m(self)\u001b[0m\n\u001b[1;32m    711\u001b[0m         \u001b[0;32mtry\u001b[0m\u001b[0;34m:\u001b[0m\u001b[0;34m\u001b[0m\u001b[0;34m\u001b[0m\u001b[0m\n\u001b[1;32m    712\u001b[0m             \u001b[0;32mif\u001b[0m \u001b[0mis_url\u001b[0m\u001b[0;34m(\u001b[0m\u001b[0mself\u001b[0m\u001b[0;34m.\u001b[0m\u001b[0mio\u001b[0m\u001b[0;34m)\u001b[0m\u001b[0;34m:\u001b[0m\u001b[0;34m\u001b[0m\u001b[0;34m\u001b[0m\u001b[0m\n\u001b[0;32m--> 713\u001b[0;31m                 \u001b[0;32mwith\u001b[0m \u001b[0murlopen\u001b[0m\u001b[0;34m(\u001b[0m\u001b[0mself\u001b[0m\u001b[0;34m.\u001b[0m\u001b[0mio\u001b[0m\u001b[0;34m)\u001b[0m \u001b[0;32mas\u001b[0m \u001b[0mf\u001b[0m\u001b[0;34m:\u001b[0m\u001b[0;34m\u001b[0m\u001b[0;34m\u001b[0m\u001b[0m\n\u001b[0m\u001b[1;32m    714\u001b[0m                     \u001b[0mr\u001b[0m \u001b[0;34m=\u001b[0m \u001b[0mparse\u001b[0m\u001b[0;34m(\u001b[0m\u001b[0mf\u001b[0m\u001b[0;34m,\u001b[0m \u001b[0mparser\u001b[0m\u001b[0;34m=\u001b[0m\u001b[0mparser\u001b[0m\u001b[0;34m)\u001b[0m\u001b[0;34m\u001b[0m\u001b[0;34m\u001b[0m\u001b[0m\n\u001b[1;32m    715\u001b[0m             \u001b[0;32melse\u001b[0m\u001b[0;34m:\u001b[0m\u001b[0;34m\u001b[0m\u001b[0;34m\u001b[0m\u001b[0m\n",
            "\u001b[0;32m~/.local/lib/python3.8/site-packages/pandas/io/common.py\u001b[0m in \u001b[0;36murlopen\u001b[0;34m(*args, **kwargs)\u001b[0m\n\u001b[1;32m    192\u001b[0m     \u001b[0;32mimport\u001b[0m \u001b[0murllib\u001b[0m\u001b[0;34m.\u001b[0m\u001b[0mrequest\u001b[0m\u001b[0;34m\u001b[0m\u001b[0;34m\u001b[0m\u001b[0m\n\u001b[1;32m    193\u001b[0m \u001b[0;34m\u001b[0m\u001b[0m\n\u001b[0;32m--> 194\u001b[0;31m     \u001b[0;32mreturn\u001b[0m \u001b[0murllib\u001b[0m\u001b[0;34m.\u001b[0m\u001b[0mrequest\u001b[0m\u001b[0;34m.\u001b[0m\u001b[0murlopen\u001b[0m\u001b[0;34m(\u001b[0m\u001b[0;34m*\u001b[0m\u001b[0margs\u001b[0m\u001b[0;34m,\u001b[0m \u001b[0;34m**\u001b[0m\u001b[0mkwargs\u001b[0m\u001b[0;34m)\u001b[0m\u001b[0;34m\u001b[0m\u001b[0;34m\u001b[0m\u001b[0m\n\u001b[0m\u001b[1;32m    195\u001b[0m \u001b[0;34m\u001b[0m\u001b[0m\n\u001b[1;32m    196\u001b[0m \u001b[0;34m\u001b[0m\u001b[0m\n",
            "\u001b[0;32m/usr/lib/python3.8/urllib/request.py\u001b[0m in \u001b[0;36murlopen\u001b[0;34m(url, data, timeout, cafile, capath, cadefault, context)\u001b[0m\n\u001b[1;32m    220\u001b[0m     \u001b[0;32melse\u001b[0m\u001b[0;34m:\u001b[0m\u001b[0;34m\u001b[0m\u001b[0;34m\u001b[0m\u001b[0m\n\u001b[1;32m    221\u001b[0m         \u001b[0mopener\u001b[0m \u001b[0;34m=\u001b[0m \u001b[0m_opener\u001b[0m\u001b[0;34m\u001b[0m\u001b[0;34m\u001b[0m\u001b[0m\n\u001b[0;32m--> 222\u001b[0;31m     \u001b[0;32mreturn\u001b[0m \u001b[0mopener\u001b[0m\u001b[0;34m.\u001b[0m\u001b[0mopen\u001b[0m\u001b[0;34m(\u001b[0m\u001b[0murl\u001b[0m\u001b[0;34m,\u001b[0m \u001b[0mdata\u001b[0m\u001b[0;34m,\u001b[0m \u001b[0mtimeout\u001b[0m\u001b[0;34m)\u001b[0m\u001b[0;34m\u001b[0m\u001b[0;34m\u001b[0m\u001b[0m\n\u001b[0m\u001b[1;32m    223\u001b[0m \u001b[0;34m\u001b[0m\u001b[0m\n\u001b[1;32m    224\u001b[0m \u001b[0;32mdef\u001b[0m \u001b[0minstall_opener\u001b[0m\u001b[0;34m(\u001b[0m\u001b[0mopener\u001b[0m\u001b[0;34m)\u001b[0m\u001b[0;34m:\u001b[0m\u001b[0;34m\u001b[0m\u001b[0;34m\u001b[0m\u001b[0m\n",
            "\u001b[0;32m/usr/lib/python3.8/urllib/request.py\u001b[0m in \u001b[0;36mopen\u001b[0;34m(self, fullurl, data, timeout)\u001b[0m\n\u001b[1;32m    523\u001b[0m \u001b[0;34m\u001b[0m\u001b[0m\n\u001b[1;32m    524\u001b[0m         \u001b[0msys\u001b[0m\u001b[0;34m.\u001b[0m\u001b[0maudit\u001b[0m\u001b[0;34m(\u001b[0m\u001b[0;34m'urllib.Request'\u001b[0m\u001b[0;34m,\u001b[0m \u001b[0mreq\u001b[0m\u001b[0;34m.\u001b[0m\u001b[0mfull_url\u001b[0m\u001b[0;34m,\u001b[0m \u001b[0mreq\u001b[0m\u001b[0;34m.\u001b[0m\u001b[0mdata\u001b[0m\u001b[0;34m,\u001b[0m \u001b[0mreq\u001b[0m\u001b[0;34m.\u001b[0m\u001b[0mheaders\u001b[0m\u001b[0;34m,\u001b[0m \u001b[0mreq\u001b[0m\u001b[0;34m.\u001b[0m\u001b[0mget_method\u001b[0m\u001b[0;34m(\u001b[0m\u001b[0;34m)\u001b[0m\u001b[0;34m)\u001b[0m\u001b[0;34m\u001b[0m\u001b[0;34m\u001b[0m\u001b[0m\n\u001b[0;32m--> 525\u001b[0;31m         \u001b[0mresponse\u001b[0m \u001b[0;34m=\u001b[0m \u001b[0mself\u001b[0m\u001b[0;34m.\u001b[0m\u001b[0m_open\u001b[0m\u001b[0;34m(\u001b[0m\u001b[0mreq\u001b[0m\u001b[0;34m,\u001b[0m \u001b[0mdata\u001b[0m\u001b[0;34m)\u001b[0m\u001b[0;34m\u001b[0m\u001b[0;34m\u001b[0m\u001b[0m\n\u001b[0m\u001b[1;32m    526\u001b[0m \u001b[0;34m\u001b[0m\u001b[0m\n\u001b[1;32m    527\u001b[0m         \u001b[0;31m# post-process response\u001b[0m\u001b[0;34m\u001b[0m\u001b[0;34m\u001b[0m\u001b[0;34m\u001b[0m\u001b[0m\n",
            "\u001b[0;32m/usr/lib/python3.8/urllib/request.py\u001b[0m in \u001b[0;36m_open\u001b[0;34m(self, req, data)\u001b[0m\n\u001b[1;32m    540\u001b[0m \u001b[0;34m\u001b[0m\u001b[0m\n\u001b[1;32m    541\u001b[0m         \u001b[0mprotocol\u001b[0m \u001b[0;34m=\u001b[0m \u001b[0mreq\u001b[0m\u001b[0;34m.\u001b[0m\u001b[0mtype\u001b[0m\u001b[0;34m\u001b[0m\u001b[0;34m\u001b[0m\u001b[0m\n\u001b[0;32m--> 542\u001b[0;31m         result = self._call_chain(self.handle_open, protocol, protocol +\n\u001b[0m\u001b[1;32m    543\u001b[0m                                   '_open', req)\n\u001b[1;32m    544\u001b[0m         \u001b[0;32mif\u001b[0m \u001b[0mresult\u001b[0m\u001b[0;34m:\u001b[0m\u001b[0;34m\u001b[0m\u001b[0;34m\u001b[0m\u001b[0m\n",
            "\u001b[0;32m/usr/lib/python3.8/urllib/request.py\u001b[0m in \u001b[0;36m_call_chain\u001b[0;34m(self, chain, kind, meth_name, *args)\u001b[0m\n\u001b[1;32m    500\u001b[0m         \u001b[0;32mfor\u001b[0m \u001b[0mhandler\u001b[0m \u001b[0;32min\u001b[0m \u001b[0mhandlers\u001b[0m\u001b[0;34m:\u001b[0m\u001b[0;34m\u001b[0m\u001b[0;34m\u001b[0m\u001b[0m\n\u001b[1;32m    501\u001b[0m             \u001b[0mfunc\u001b[0m \u001b[0;34m=\u001b[0m \u001b[0mgetattr\u001b[0m\u001b[0;34m(\u001b[0m\u001b[0mhandler\u001b[0m\u001b[0;34m,\u001b[0m \u001b[0mmeth_name\u001b[0m\u001b[0;34m)\u001b[0m\u001b[0;34m\u001b[0m\u001b[0;34m\u001b[0m\u001b[0m\n\u001b[0;32m--> 502\u001b[0;31m             \u001b[0mresult\u001b[0m \u001b[0;34m=\u001b[0m \u001b[0mfunc\u001b[0m\u001b[0;34m(\u001b[0m\u001b[0;34m*\u001b[0m\u001b[0margs\u001b[0m\u001b[0;34m)\u001b[0m\u001b[0;34m\u001b[0m\u001b[0;34m\u001b[0m\u001b[0m\n\u001b[0m\u001b[1;32m    503\u001b[0m             \u001b[0;32mif\u001b[0m \u001b[0mresult\u001b[0m \u001b[0;32mis\u001b[0m \u001b[0;32mnot\u001b[0m \u001b[0;32mNone\u001b[0m\u001b[0;34m:\u001b[0m\u001b[0;34m\u001b[0m\u001b[0;34m\u001b[0m\u001b[0m\n\u001b[1;32m    504\u001b[0m                 \u001b[0;32mreturn\u001b[0m \u001b[0mresult\u001b[0m\u001b[0;34m\u001b[0m\u001b[0;34m\u001b[0m\u001b[0m\n",
            "\u001b[0;32m/usr/lib/python3.8/urllib/request.py\u001b[0m in \u001b[0;36mhttps_open\u001b[0;34m(self, req)\u001b[0m\n\u001b[1;32m   1391\u001b[0m \u001b[0;34m\u001b[0m\u001b[0m\n\u001b[1;32m   1392\u001b[0m         \u001b[0;32mdef\u001b[0m \u001b[0mhttps_open\u001b[0m\u001b[0;34m(\u001b[0m\u001b[0mself\u001b[0m\u001b[0;34m,\u001b[0m \u001b[0mreq\u001b[0m\u001b[0;34m)\u001b[0m\u001b[0;34m:\u001b[0m\u001b[0;34m\u001b[0m\u001b[0;34m\u001b[0m\u001b[0m\n\u001b[0;32m-> 1393\u001b[0;31m             return self.do_open(http.client.HTTPSConnection, req,\n\u001b[0m\u001b[1;32m   1394\u001b[0m                 context=self._context, check_hostname=self._check_hostname)\n\u001b[1;32m   1395\u001b[0m \u001b[0;34m\u001b[0m\u001b[0m\n",
            "\u001b[0;32m/usr/lib/python3.8/urllib/request.py\u001b[0m in \u001b[0;36mdo_open\u001b[0;34m(self, http_class, req, **http_conn_args)\u001b[0m\n\u001b[1;32m   1352\u001b[0m             \u001b[0;32mexcept\u001b[0m \u001b[0mOSError\u001b[0m \u001b[0;32mas\u001b[0m \u001b[0merr\u001b[0m\u001b[0;34m:\u001b[0m \u001b[0;31m# timeout error\u001b[0m\u001b[0;34m\u001b[0m\u001b[0;34m\u001b[0m\u001b[0m\n\u001b[1;32m   1353\u001b[0m                 \u001b[0;32mraise\u001b[0m \u001b[0mURLError\u001b[0m\u001b[0;34m(\u001b[0m\u001b[0merr\u001b[0m\u001b[0;34m)\u001b[0m\u001b[0;34m\u001b[0m\u001b[0;34m\u001b[0m\u001b[0m\n\u001b[0;32m-> 1354\u001b[0;31m             \u001b[0mr\u001b[0m \u001b[0;34m=\u001b[0m \u001b[0mh\u001b[0m\u001b[0;34m.\u001b[0m\u001b[0mgetresponse\u001b[0m\u001b[0;34m(\u001b[0m\u001b[0;34m)\u001b[0m\u001b[0;34m\u001b[0m\u001b[0;34m\u001b[0m\u001b[0m\n\u001b[0m\u001b[1;32m   1355\u001b[0m         \u001b[0;32mexcept\u001b[0m\u001b[0;34m:\u001b[0m\u001b[0;34m\u001b[0m\u001b[0;34m\u001b[0m\u001b[0m\n\u001b[1;32m   1356\u001b[0m             \u001b[0mh\u001b[0m\u001b[0;34m.\u001b[0m\u001b[0mclose\u001b[0m\u001b[0;34m(\u001b[0m\u001b[0;34m)\u001b[0m\u001b[0;34m\u001b[0m\u001b[0;34m\u001b[0m\u001b[0m\n",
            "\u001b[0;32m/usr/lib/python3.8/http/client.py\u001b[0m in \u001b[0;36mgetresponse\u001b[0;34m(self)\u001b[0m\n\u001b[1;32m   1345\u001b[0m         \u001b[0;32mtry\u001b[0m\u001b[0;34m:\u001b[0m\u001b[0;34m\u001b[0m\u001b[0;34m\u001b[0m\u001b[0m\n\u001b[1;32m   1346\u001b[0m             \u001b[0;32mtry\u001b[0m\u001b[0;34m:\u001b[0m\u001b[0;34m\u001b[0m\u001b[0;34m\u001b[0m\u001b[0m\n\u001b[0;32m-> 1347\u001b[0;31m                 \u001b[0mresponse\u001b[0m\u001b[0;34m.\u001b[0m\u001b[0mbegin\u001b[0m\u001b[0;34m(\u001b[0m\u001b[0;34m)\u001b[0m\u001b[0;34m\u001b[0m\u001b[0;34m\u001b[0m\u001b[0m\n\u001b[0m\u001b[1;32m   1348\u001b[0m             \u001b[0;32mexcept\u001b[0m \u001b[0mConnectionError\u001b[0m\u001b[0;34m:\u001b[0m\u001b[0;34m\u001b[0m\u001b[0;34m\u001b[0m\u001b[0m\n\u001b[1;32m   1349\u001b[0m                 \u001b[0mself\u001b[0m\u001b[0;34m.\u001b[0m\u001b[0mclose\u001b[0m\u001b[0;34m(\u001b[0m\u001b[0;34m)\u001b[0m\u001b[0;34m\u001b[0m\u001b[0;34m\u001b[0m\u001b[0m\n",
            "\u001b[0;32m/usr/lib/python3.8/http/client.py\u001b[0m in \u001b[0;36mbegin\u001b[0;34m(self)\u001b[0m\n\u001b[1;32m    305\u001b[0m         \u001b[0;31m# read until we get a non-100 response\u001b[0m\u001b[0;34m\u001b[0m\u001b[0;34m\u001b[0m\u001b[0;34m\u001b[0m\u001b[0m\n\u001b[1;32m    306\u001b[0m         \u001b[0;32mwhile\u001b[0m \u001b[0;32mTrue\u001b[0m\u001b[0;34m:\u001b[0m\u001b[0;34m\u001b[0m\u001b[0;34m\u001b[0m\u001b[0m\n\u001b[0;32m--> 307\u001b[0;31m             \u001b[0mversion\u001b[0m\u001b[0;34m,\u001b[0m \u001b[0mstatus\u001b[0m\u001b[0;34m,\u001b[0m \u001b[0mreason\u001b[0m \u001b[0;34m=\u001b[0m \u001b[0mself\u001b[0m\u001b[0;34m.\u001b[0m\u001b[0m_read_status\u001b[0m\u001b[0;34m(\u001b[0m\u001b[0;34m)\u001b[0m\u001b[0;34m\u001b[0m\u001b[0;34m\u001b[0m\u001b[0m\n\u001b[0m\u001b[1;32m    308\u001b[0m             \u001b[0;32mif\u001b[0m \u001b[0mstatus\u001b[0m \u001b[0;34m!=\u001b[0m \u001b[0mCONTINUE\u001b[0m\u001b[0;34m:\u001b[0m\u001b[0;34m\u001b[0m\u001b[0;34m\u001b[0m\u001b[0m\n\u001b[1;32m    309\u001b[0m                 \u001b[0;32mbreak\u001b[0m\u001b[0;34m\u001b[0m\u001b[0;34m\u001b[0m\u001b[0m\n",
            "\u001b[0;32m/usr/lib/python3.8/http/client.py\u001b[0m in \u001b[0;36m_read_status\u001b[0;34m(self)\u001b[0m\n\u001b[1;32m    266\u001b[0m \u001b[0;34m\u001b[0m\u001b[0m\n\u001b[1;32m    267\u001b[0m     \u001b[0;32mdef\u001b[0m \u001b[0m_read_status\u001b[0m\u001b[0;34m(\u001b[0m\u001b[0mself\u001b[0m\u001b[0;34m)\u001b[0m\u001b[0;34m:\u001b[0m\u001b[0;34m\u001b[0m\u001b[0;34m\u001b[0m\u001b[0m\n\u001b[0;32m--> 268\u001b[0;31m         \u001b[0mline\u001b[0m \u001b[0;34m=\u001b[0m \u001b[0mstr\u001b[0m\u001b[0;34m(\u001b[0m\u001b[0mself\u001b[0m\u001b[0;34m.\u001b[0m\u001b[0mfp\u001b[0m\u001b[0;34m.\u001b[0m\u001b[0mreadline\u001b[0m\u001b[0;34m(\u001b[0m\u001b[0m_MAXLINE\u001b[0m \u001b[0;34m+\u001b[0m \u001b[0;36m1\u001b[0m\u001b[0;34m)\u001b[0m\u001b[0;34m,\u001b[0m \u001b[0;34m\"iso-8859-1\"\u001b[0m\u001b[0;34m)\u001b[0m\u001b[0;34m\u001b[0m\u001b[0;34m\u001b[0m\u001b[0m\n\u001b[0m\u001b[1;32m    269\u001b[0m         \u001b[0;32mif\u001b[0m \u001b[0mlen\u001b[0m\u001b[0;34m(\u001b[0m\u001b[0mline\u001b[0m\u001b[0;34m)\u001b[0m \u001b[0;34m>\u001b[0m \u001b[0m_MAXLINE\u001b[0m\u001b[0;34m:\u001b[0m\u001b[0;34m\u001b[0m\u001b[0;34m\u001b[0m\u001b[0m\n\u001b[1;32m    270\u001b[0m             \u001b[0;32mraise\u001b[0m \u001b[0mLineTooLong\u001b[0m\u001b[0;34m(\u001b[0m\u001b[0;34m\"status line\"\u001b[0m\u001b[0;34m)\u001b[0m\u001b[0;34m\u001b[0m\u001b[0;34m\u001b[0m\u001b[0m\n",
            "\u001b[0;32m/usr/lib/python3.8/socket.py\u001b[0m in \u001b[0;36mreadinto\u001b[0;34m(self, b)\u001b[0m\n\u001b[1;32m    667\u001b[0m         \u001b[0;32mwhile\u001b[0m \u001b[0;32mTrue\u001b[0m\u001b[0;34m:\u001b[0m\u001b[0;34m\u001b[0m\u001b[0;34m\u001b[0m\u001b[0m\n\u001b[1;32m    668\u001b[0m             \u001b[0;32mtry\u001b[0m\u001b[0;34m:\u001b[0m\u001b[0;34m\u001b[0m\u001b[0;34m\u001b[0m\u001b[0m\n\u001b[0;32m--> 669\u001b[0;31m                 \u001b[0;32mreturn\u001b[0m \u001b[0mself\u001b[0m\u001b[0;34m.\u001b[0m\u001b[0m_sock\u001b[0m\u001b[0;34m.\u001b[0m\u001b[0mrecv_into\u001b[0m\u001b[0;34m(\u001b[0m\u001b[0mb\u001b[0m\u001b[0;34m)\u001b[0m\u001b[0;34m\u001b[0m\u001b[0;34m\u001b[0m\u001b[0m\n\u001b[0m\u001b[1;32m    670\u001b[0m             \u001b[0;32mexcept\u001b[0m \u001b[0mtimeout\u001b[0m\u001b[0;34m:\u001b[0m\u001b[0;34m\u001b[0m\u001b[0;34m\u001b[0m\u001b[0m\n\u001b[1;32m    671\u001b[0m                 \u001b[0mself\u001b[0m\u001b[0;34m.\u001b[0m\u001b[0m_timeout_occurred\u001b[0m \u001b[0;34m=\u001b[0m \u001b[0;32mTrue\u001b[0m\u001b[0;34m\u001b[0m\u001b[0;34m\u001b[0m\u001b[0m\n",
            "\u001b[0;32m/usr/lib/python3.8/ssl.py\u001b[0m in \u001b[0;36mrecv_into\u001b[0;34m(self, buffer, nbytes, flags)\u001b[0m\n\u001b[1;32m   1239\u001b[0m                   \u001b[0;34m\"non-zero flags not allowed in calls to recv_into() on %s\"\u001b[0m \u001b[0;34m%\u001b[0m\u001b[0;34m\u001b[0m\u001b[0;34m\u001b[0m\u001b[0m\n\u001b[1;32m   1240\u001b[0m                   self.__class__)\n\u001b[0;32m-> 1241\u001b[0;31m             \u001b[0;32mreturn\u001b[0m \u001b[0mself\u001b[0m\u001b[0;34m.\u001b[0m\u001b[0mread\u001b[0m\u001b[0;34m(\u001b[0m\u001b[0mnbytes\u001b[0m\u001b[0;34m,\u001b[0m \u001b[0mbuffer\u001b[0m\u001b[0;34m)\u001b[0m\u001b[0;34m\u001b[0m\u001b[0;34m\u001b[0m\u001b[0m\n\u001b[0m\u001b[1;32m   1242\u001b[0m         \u001b[0;32melse\u001b[0m\u001b[0;34m:\u001b[0m\u001b[0;34m\u001b[0m\u001b[0;34m\u001b[0m\u001b[0m\n\u001b[1;32m   1243\u001b[0m             \u001b[0;32mreturn\u001b[0m \u001b[0msuper\u001b[0m\u001b[0;34m(\u001b[0m\u001b[0;34m)\u001b[0m\u001b[0;34m.\u001b[0m\u001b[0mrecv_into\u001b[0m\u001b[0;34m(\u001b[0m\u001b[0mbuffer\u001b[0m\u001b[0;34m,\u001b[0m \u001b[0mnbytes\u001b[0m\u001b[0;34m,\u001b[0m \u001b[0mflags\u001b[0m\u001b[0;34m)\u001b[0m\u001b[0;34m\u001b[0m\u001b[0;34m\u001b[0m\u001b[0m\n",
            "\u001b[0;32m/usr/lib/python3.8/ssl.py\u001b[0m in \u001b[0;36mread\u001b[0;34m(self, len, buffer)\u001b[0m\n\u001b[1;32m   1097\u001b[0m         \u001b[0;32mtry\u001b[0m\u001b[0;34m:\u001b[0m\u001b[0;34m\u001b[0m\u001b[0;34m\u001b[0m\u001b[0m\n\u001b[1;32m   1098\u001b[0m             \u001b[0;32mif\u001b[0m \u001b[0mbuffer\u001b[0m \u001b[0;32mis\u001b[0m \u001b[0;32mnot\u001b[0m \u001b[0;32mNone\u001b[0m\u001b[0;34m:\u001b[0m\u001b[0;34m\u001b[0m\u001b[0;34m\u001b[0m\u001b[0m\n\u001b[0;32m-> 1099\u001b[0;31m                 \u001b[0;32mreturn\u001b[0m \u001b[0mself\u001b[0m\u001b[0;34m.\u001b[0m\u001b[0m_sslobj\u001b[0m\u001b[0;34m.\u001b[0m\u001b[0mread\u001b[0m\u001b[0;34m(\u001b[0m\u001b[0mlen\u001b[0m\u001b[0;34m,\u001b[0m \u001b[0mbuffer\u001b[0m\u001b[0;34m)\u001b[0m\u001b[0;34m\u001b[0m\u001b[0;34m\u001b[0m\u001b[0m\n\u001b[0m\u001b[1;32m   1100\u001b[0m             \u001b[0;32melse\u001b[0m\u001b[0;34m:\u001b[0m\u001b[0;34m\u001b[0m\u001b[0;34m\u001b[0m\u001b[0m\n\u001b[1;32m   1101\u001b[0m                 \u001b[0;32mreturn\u001b[0m \u001b[0mself\u001b[0m\u001b[0;34m.\u001b[0m\u001b[0m_sslobj\u001b[0m\u001b[0;34m.\u001b[0m\u001b[0mread\u001b[0m\u001b[0;34m(\u001b[0m\u001b[0mlen\u001b[0m\u001b[0;34m)\u001b[0m\u001b[0;34m\u001b[0m\u001b[0;34m\u001b[0m\u001b[0m\n",
            "\u001b[0;31mKeyboardInterrupt\u001b[0m: "
          ]
        }
      ]
    },
    {
      "cell_type": "code",
      "execution_count": null,
      "metadata": {},
      "outputs": [],
      "source": []
    }
  ]
}