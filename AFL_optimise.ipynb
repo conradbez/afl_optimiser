{
 "metadata": {
  "language_info": {
   "codemirror_mode": {
    "name": "ipython",
    "version": 3
   },
   "file_extension": ".py",
   "mimetype": "text/x-python",
   "name": "python",
   "nbconvert_exporter": "python",
   "pygments_lexer": "ipython3",
   "version": "3.8.5-final"
  },
  "orig_nbformat": 2,
  "kernelspec": {
   "name": "python3",
   "display_name": "Python 3.8.5 64-bit",
   "metadata": {
    "interpreter": {
     "hash": "31f2aee4e71d21fbe5cf8b01ff0e069b9275f58929596ceb00d14d90e3e16cd6"
    }
   }
  }
 },
 "nbformat": 4,
 "nbformat_minor": 2,
 "cells": [
  {
   "cell_type": "code",
   "execution_count": 10,
   "metadata": {},
   "outputs": [],
   "source": [
    "import pandas as pd\n",
    "# import pdpipe as pdp\n",
    "from pulp import *"
   ]
  },
  {
   "cell_type": "code",
   "execution_count": 11,
   "metadata": {},
   "outputs": [],
   "source": [
    "full_players = pd.read_csv('full_players.csv', index_col=0).reset_index(drop=True)\n",
    "# full_players = full_players[::10]\n",
    "\n",
    "full_players['Score'] = pd.to_numeric(full_players['Score'].replace('-',0))\n",
    "schedule = pd.read_csv('2021_schedule', index_col=0) \n",
    "\n",
    "players_2021 = full_players[full_players['Year']==2021][['Name','Price','Team 1', 'Position']]\n",
    "player_prev = full_players[full_players['Name'].isin(players_2021['Name'].unique())]\n",
    "player_prev = player_prev.groupby(['Name','Team 2']).mean()['Score']\n",
    "\n",
    "players_schedule_2021 = players_2021.merge(schedule, on=['Team 1'])\n",
    "players_schedule_score_2021 = players_schedule_2021.merge(player_prev, on = ['Name','Team 2'])\n",
    "\n",
    "P = players_schedule_score_2021\n",
    "P['id'] = \"R:\"+P['Round'].astype(str)+\"_P:\"+P['Name']\n",
    "P = P[P['Round']<4]"
   ]
  },
  {
   "cell_type": "code",
   "execution_count": 12,
   "metadata": {},
   "outputs": [],
   "source": [
    "# full_players = pd.read_csv('full_players.csv', index_col=0).reset_index(drop=True)\n",
    "# len(full_players['Name'].unique())\n",
    "# # len(full_players[full_players['Year']==2021]['Name'].unique())\n",
    "# # len(P['Name'].unique())"
   ]
  },
  {
   "cell_type": "code",
   "execution_count": 13,
   "metadata": {},
   "outputs": [],
   "source": [
    "player_contraints = {}\n",
    "prob = LpProblem(\"aflProblem\", LpMaximize)\n",
    "\n",
    "overall_score = LpVariable('OverallScore',0)\n",
    "player_contraints = LpVariable.dicts(\"Player Contraints\", P['id'].unique(), 0, 1, cat='Binary')\n",
    "# prob += lpSum([player_contraints[p_id[1]]*score[1] for p_id,score in zip(P['id'].iteritems(),P['Score'].iteritems())]), \"Total score is maximized\""
   ]
  },
  {
   "cell_type": "code",
   "execution_count": 14,
   "metadata": {},
   "outputs": [],
   "source": [
    "P_prev_round = P.copy()\n",
    "P_prev_round['Round_prev'] = P_prev_round['Round'] - 1\n",
    "\n",
    "P_transfers = P[['id','Position','Round','Name']].merge(P_prev_round[['id','Position','Round_prev','Name']],left_on=['Position','Round'],right_on=['Position','Round_prev'], suffixes = ('_prev','_next'))\n",
    "\n",
    "P_transfers['Transfer'] = P_transfers['id_prev']+'-'+P_transfers['id_next']\n",
    "P_transfers=P_transfers[['id_prev',\t'Round',\t'Name_prev',\t'id_next',\t'Round_prev',\t'Name_next',\t'Transfer']].drop_duplicates()\n",
    "\n",
    "transfer_contraints = LpVariable.dicts(\"Transfer contraints\", P_transfers['Transfer'], 0, 1, cat='Binary')\n",
    "\n",
    "# map rounds end to itermediary\n",
    "for prev_player,trans in P_transfers.groupby(['id_prev'])['Transfer'].apply(list).iteritems():\n",
    "    prob += lpSum([transfer_contraints[t_id] for t_id in trans]) == player_contraints[prev_player], f\"Previous player equals transfer intermediatary for {prev_player} equals {trans}\"\n",
    "\n",
    "# map intermediary to next round\n",
    "for next_player,trans in P_transfers.groupby(['id_next'])['Transfer'].apply(list).iteritems():\n",
    "    prob += lpSum([transfer_contraints[t_id] for t_id in trans]) == player_contraints[next_player], f\"Next player equals transfer intermediatary for {next_player} equals {trans}\"\n",
    "\n",
    "for round, transfers in P_transfers[P_transfers['Name_prev'] != P_transfers['Name_next']][['Round','Transfer']].drop_duplicates().groupby(['Round'])['Transfer'].apply(list).iteritems():\n",
    "    prob += lpSum([transfer_contraints[t_id] for t_id in transfers]) <= 2, f\"Round: {round}, has less than or equal to 4 transfers\"\n",
    "\n",
    "# # END TRANFERS"
   ]
  },
  {
   "cell_type": "code",
   "execution_count": 15,
   "metadata": {},
   "outputs": [],
   "source": [
    "# START money contraint\n",
    "money = 13 * 10**6\n",
    "for round,player in P[['id','Price','Round']].drop_duplicates().groupby(['Round'])['id'].apply(list).iteritems():\n",
    "    prob += lpSum([player_contraints[p_id]*P[P['id']==p_id]['Price'].values[0] for p_id in player]) <= money, f\"Round: {round}, has less than ${money}\"\n",
    "# # END money contraint"
   ]
  },
  {
   "cell_type": "code",
   "execution_count": 16,
   "metadata": {},
   "outputs": [],
   "source": [
    "#START Contrain each player to a single position per round\n",
    "P_Position_Casting = P.copy()\n",
    "P_Position_Casting['pl_pos_id'] = (P['id']+'_'+P['Position'])\n",
    "P_Position_Casting = P_Position_Casting[['id','pl_pos_id','Round','Position']].drop_duplicates()\n",
    "\n",
    "Players_Position_Casting = LpVariable.dicts(\"Players_Position_Casting\", P_Position_Casting['pl_pos_id'], 0, 1, cat='Binary')\n",
    "\n",
    "Players_Position_Casting_Series = P_Position_Casting[['id','pl_pos_id','Round']].drop_duplicates().groupby(['id','Round'])['pl_pos_id'].apply(list).iteritems()\n",
    "\n",
    "for (p_id,round), pl_pos_ids in Players_Position_Casting_Series:\n",
    "    player_possible_positions = [Players_Position_Casting[pl_pos_id] for pl_pos_id  in pl_pos_ids] \n",
    "    prob += lpSum(player_possible_positions) <= player_contraints[p_id], f\"Must have only have equal to {p_id} (0 or 1) of {player_possible_positions} positions in round {round}\"\n",
    "  #END Contrain each player to a single position per round"
   ]
  },
  {
   "cell_type": "code",
   "execution_count": 17,
   "metadata": {},
   "outputs": [],
   "source": [
    "# # START max players from each position\n",
    "allowed_holds_per_position = {'DE': 8, \"MI\" : 10, 'RU' : 3, 'FO':9}\n",
    "# allowed_holds_per_position = {'DE': 1, \"MI\" : 0, 'RU' : 0, 'FO':0}\n",
    "for (position,round), pl_pos_ids in P_Position_Casting[['pl_pos_id','Position','Round']].drop_duplicates().groupby(['Position', 'Round'])['pl_pos_id'].apply(list).iteritems():\n",
    "    prob += lpSum([Players_Position_Casting[pl_pos_id] for pl_pos_id in pl_pos_ids]) == allowed_holds_per_position[position], f\"Position: {position}, has less than {allowed_holds_per_position[position]} in round {round}\"\n",
    "# END max players from each position"
   ]
  },
  {
   "cell_type": "code",
   "execution_count": 9,
   "metadata": {},
   "outputs": [
    {
     "output_type": "stream",
     "name": "stdout",
     "text": [
      "USING INBUILT SOLVER!!  \n\n"
     ]
    },
    {
     "output_type": "error",
     "ename": "NameError",
     "evalue": "name 'prob' is not defined",
     "traceback": [
      "\u001b[0;31m---------------------------------------------------------------------------\u001b[0m",
      "\u001b[0;31mNameError\u001b[0m                                 Traceback (most recent call last)",
      "\u001b[0;32m<ipython-input-9-72f01ddd3ef8>\u001b[0m in \u001b[0;36m<module>\u001b[0;34m\u001b[0m\n\u001b[1;32m      2\u001b[0m     \u001b[0msolver\u001b[0m \u001b[0;34m=\u001b[0m \u001b[0mgetSolver\u001b[0m\u001b[0;34m(\u001b[0m\u001b[0;34m'COIN_CMD'\u001b[0m\u001b[0;34m,\u001b[0m \u001b[0mtimeLimit\u001b[0m\u001b[0;34m=\u001b[0m\u001b[0;36m4000\u001b[0m\u001b[0;34m,\u001b[0m \u001b[0mmsg\u001b[0m\u001b[0;34m=\u001b[0m\u001b[0;32mTrue\u001b[0m\u001b[0;34m,\u001b[0m\u001b[0mgapRel\u001b[0m \u001b[0;34m=\u001b[0m \u001b[0;36m0.2\u001b[0m\u001b[0;34m)\u001b[0m\u001b[0;34m\u001b[0m\u001b[0;34m\u001b[0m\u001b[0m\n\u001b[0;32m----> 3\u001b[0;31m     \u001b[0mprob\u001b[0m\u001b[0;34m.\u001b[0m\u001b[0msolve\u001b[0m\u001b[0;34m(\u001b[0m\u001b[0msolver\u001b[0m\u001b[0;34m)\u001b[0m\u001b[0;34m\u001b[0m\u001b[0;34m\u001b[0m\u001b[0m\n\u001b[0m\u001b[1;32m      4\u001b[0m \u001b[0;32mexcept\u001b[0m\u001b[0;34m:\u001b[0m\u001b[0;34m\u001b[0m\u001b[0;34m\u001b[0m\u001b[0m\n",
      "\u001b[0;31mNameError\u001b[0m: name 'prob' is not defined",
      "\nDuring handling of the above exception, another exception occurred:\n",
      "\u001b[0;31mNameError\u001b[0m                                 Traceback (most recent call last)",
      "\u001b[0;32m<ipython-input-9-72f01ddd3ef8>\u001b[0m in \u001b[0;36m<module>\u001b[0;34m\u001b[0m\n\u001b[1;32m      5\u001b[0m     \u001b[0mprint\u001b[0m\u001b[0;34m(\u001b[0m\u001b[0;34m'USING INBUILT SOLVER!!  \\n'\u001b[0m\u001b[0;34m)\u001b[0m\u001b[0;34m\u001b[0m\u001b[0;34m\u001b[0m\u001b[0m\n\u001b[1;32m      6\u001b[0m     \u001b[0msolver\u001b[0m \u001b[0;34m=\u001b[0m \u001b[0mgetSolver\u001b[0m\u001b[0;34m(\u001b[0m\u001b[0;34m'PULP_CBC_CMD'\u001b[0m\u001b[0;34m)\u001b[0m\u001b[0;34m\u001b[0m\u001b[0;34m\u001b[0m\u001b[0m\n\u001b[0;32m----> 7\u001b[0;31m     \u001b[0mprob\u001b[0m\u001b[0;34m.\u001b[0m\u001b[0msolve\u001b[0m\u001b[0;34m(\u001b[0m\u001b[0msolver\u001b[0m\u001b[0;34m)\u001b[0m\u001b[0;34m\u001b[0m\u001b[0;34m\u001b[0m\u001b[0m\n\u001b[0m",
      "\u001b[0;31mNameError\u001b[0m: name 'prob' is not defined"
     ]
    }
   ],
   "source": [
    "try:\n",
    "    solver = getSolver('COIN_CMD', timeLimit=4000, msg=True,gapRel = 0.2)\n",
    "    prob.solve(solver)\n",
    "except:\n",
    "    print('USING INBUILT SOLVER!!  \\n')\n",
    "    solver = getSolver('PULP_CBC_CMD')\n",
    "    prob.solve(solver)"
   ]
  },
  {
   "cell_type": "code",
   "execution_count": null,
   "metadata": {},
   "outputs": [],
   "source": [
    "P.groupby(['Position','Round']).count()"
   ]
  },
  {
   "cell_type": "code",
   "execution_count": null,
   "metadata": {},
   "outputs": [],
   "source": [
    "prob.status"
   ]
  },
  {
   "cell_type": "code",
   "execution_count": null,
   "metadata": {},
   "outputs": [],
   "source": [
    "results = []\n",
    "for name, player_position in Players_Position_Casting.items():\n",
    "    if player_position.value() != 0:\n",
    "        results.append([name,1])\n",
    "Players_selected = pd.DataFrame(results, columns=['pl_pos_id', 'is_selected'])\n",
    "P_Position_Casting = P_Position_Casting.merge(Players_selected, on = ['pl_pos_id'])\n",
    "P_Position_Casting.to_csv('solution.csv')\n",
    "print(P_Position_Casting.groupby(['Round','Position']).sum()['is_selected'])"
   ]
  },
  {
   "cell_type": "code",
   "execution_count": null,
   "metadata": {},
   "outputs": [],
   "source": []
  }
 ]
}