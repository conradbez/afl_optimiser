{
 "metadata": {
  "language_info": {
   "codemirror_mode": {
    "name": "ipython",
    "version": 3
   },
   "file_extension": ".py",
   "mimetype": "text/x-python",
   "name": "python",
   "nbconvert_exporter": "python",
   "pygments_lexer": "ipython3",
   "version": "3.8.5-final"
  },
  "orig_nbformat": 2,
  "kernelspec": {
   "name": "python3",
   "display_name": "Python 3.8.5 64-bit ('base': conda)",
   "metadata": {
    "interpreter": {
     "hash": "b68d3e4a8a27915f37b2d139700eb5283434b77c34d99eaf5ca6582ad00a6ab1"
    }
   }
  }
 },
 "nbformat": 4,
 "nbformat_minor": 2,
 "cells": [
  {
   "cell_type": "code",
   "execution_count": 1,
   "metadata": {},
   "outputs": [],
   "source": [
    "import pandas as pd\n",
    "import numpy as np\n",
    "from pulp import *"
   ]
  },
  {
   "cell_type": "code",
   "execution_count": 2,
   "metadata": {},
   "outputs": [
    {
     "output_type": "stream",
     "name": "stderr",
     "text": [
      "<ipython-input-2-0a8ee3af6671>:49: SettingWithCopyWarning: \nA value is trying to be set on a copy of a slice from a DataFrame.\nTry using .loc[row_indexer,col_indexer] = value instead\n\nSee the caveats in the documentation: https://pandas.pydata.org/pandas-docs/stable/user_guide/indexing.html#returning-a-view-versus-a-copy\n  P['Score'] = P['Score'].replace(np.nan,0)\n"
     ]
    }
   ],
   "source": [
    "FILENAME = 'Test_data/test - 1'\n",
    "FILENAME = 'Test_data/test - 2'\n",
    "FILENAME = 'Test_data/test - 3'\n",
    "FILENAME = 'full_players'\n",
    "\n",
    "full_players = pd.read_csv('full_players.csv', index_col=0).reset_index(drop=True)\n",
    "\n",
    "\n",
    "full_players = pd.read_csv(FILENAME+'.csv', index_col=0).reset_index(drop=True)\n",
    "\n",
    "full_players['Score'] = pd.to_numeric(full_players['Score'].replace('-',0))\n",
    "schedule = pd.read_csv('2021_schedule', index_col=0) \n",
    "\n",
    "players_2021 = full_players[full_players['Year']==2021][['Name','Price','Team 1', 'Position']]\n",
    "player_prev = full_players[full_players['Name'].isin(players_2021['Name'].unique())]\n",
    "player_prev = player_prev.groupby(['Name','Team 2']).mean()['Score']\n",
    "\n",
    "players_schedule_2021 = players_2021.merge(schedule, on=['Team 1'])\n",
    "players_schedule_score_2021 = players_schedule_2021.merge(player_prev, on = ['Name','Team 2'], how = 'left')\n",
    "\n",
    "# add bye's\n",
    "all_players_list = players_schedule_score_2021[['Name','Price','Position', 'Team 1']].drop_duplicates()\n",
    "all_players_list['key'] = 1\n",
    "all_rounds_list =  players_schedule_score_2021[['Round']].drop_duplicates()\n",
    "all_rounds_list['key'] = 1\n",
    "all_players_list = all_players_list.merge(all_rounds_list, on=['key']).drop('key',1)\n",
    "current_players_list = players_schedule_score_2021.copy()\n",
    "missing_players = all_players_list.merge(current_players_list, how='outer',indicator=True)\n",
    "missing_players = missing_players[missing_players['_merge'] == 'left_only'].drop('_merge',1)\n",
    "missing_players['Score']=0\n",
    "missing_players['Team 2'] = '_BYE'\n",
    "\n",
    "players_schedule_score_2021 = players_schedule_score_2021.append(missing_players).reset_index(drop=True)\n",
    "# end add bye's\n",
    "\n",
    "P = players_schedule_score_2021\n",
    "\n",
    "players_to_be_kept = P.copy()\n",
    "players_to_be_kept[\"Value\"] = players_to_be_kept['Score']/players_to_be_kept['Price']\n",
    "players_to_be_kept = players_to_be_kept.groupby('Name').mean()[['Score','Value']]\n",
    "\n",
    "players_to_keep = []\n",
    "num_players_to_keep = int(len(players_to_be_kept)*0.2)\n",
    "players_to_keep += list(players_to_be_kept.sort_values('Score', ascending = False).index[:num_players_to_keep])\n",
    "players_to_keep += list(players_to_be_kept.sort_values('Value', ascending = False).index[:num_players_to_keep])\n",
    "\n",
    "P = P[P['Name'].isin(players_to_keep)]\n",
    "\n",
    "P['Score'] = P['Score'].replace(np.nan,0)\n",
    "# P = P[P['Round']<=2]"
   ]
  },
  {
   "cell_type": "code",
   "execution_count": 3,
   "metadata": {},
   "outputs": [
    {
     "output_type": "stream",
     "name": "stderr",
     "text": [
      "<ipython-input-3-ea1a457abf5b>:1: SettingWithCopyWarning: \nA value is trying to be set on a copy of a slice from a DataFrame.\nTry using .loc[row_indexer,col_indexer] = value instead\n\nSee the caveats in the documentation: https://pandas.pydata.org/pandas-docs/stable/user_guide/indexing.html#returning-a-view-versus-a-copy\n  P['id'] = \"R:\"+P['Round'].astype(str)+\"_P:\"+P['Name']\n<ipython-input-3-ea1a457abf5b>:2: SettingWithCopyWarning: \nA value is trying to be set on a copy of a slice from a DataFrame.\nTry using .loc[row_indexer,col_indexer] = value instead\n\nSee the caveats in the documentation: https://pandas.pydata.org/pandas-docs/stable/user_guide/indexing.html#returning-a-view-versus-a-copy\n  P['pl_pos_id'] = (P['id']+'_'+P['Position'])\n<ipython-input-3-ea1a457abf5b>:3: SettingWithCopyWarning: \nA value is trying to be set on a copy of a slice from a DataFrame.\nTry using .loc[row_indexer,col_indexer] = value instead\n\nSee the caveats in the documentation: https://pandas.pydata.org/pandas-docs/stable/user_guide/indexing.html#returning-a-view-versus-a-copy\n  P['id'] = P['pl_pos_id']\n"
     ]
    }
   ],
   "source": [
    "P['id'] = \"R:\"+P['Round'].astype(str)+\"_P:\"+P['Name']\n",
    "P['pl_pos_id'] = (P['id']+'_'+P['Position'])\n",
    "P['id'] = P['pl_pos_id']\n",
    "player_contraints = {}\n",
    "prob = LpProblem(\"aflProblem\", LpMaximize)\n",
    "\n",
    "overall_score = LpVariable('OverallScore',0)\n",
    "player_contraints = LpVariable.dicts(\"Player Contraints\", P['pl_pos_id'].unique(), 0, 1, cat='Binary')\n",
    "prob += lpSum([player_contraints[p_id[1]]*score[1] for p_id,score in zip(P['pl_pos_id'].iteritems(),P['Score'].iteritems())]), \"Total score is maximized\"\n"
   ]
  },
  {
   "cell_type": "code",
   "execution_count": 4,
   "metadata": {},
   "outputs": [],
   "source": [
    "P_prev_round = P.copy()\n",
    "P_prev_round['Round_prev'] = P_prev_round['Round'] - 1\n",
    "\n",
    "P_transfers = P[['id','Position','Round','Name']].merge(P_prev_round[['id','Position','Round_prev','Name']],left_on=['Position','Round'],right_on=['Position','Round_prev'], suffixes = ('_prev','_next'))\n",
    "\n",
    "P_transfers['Transfer'] = P_transfers['id_prev']+'-'+P_transfers['id_next']\n",
    "P_transfers=P_transfers[['id_prev',\t'Round',\t'Name_prev',\t'id_next',\t'Round_prev',\t'Name_next',\t'Transfer']].drop_duplicates()\n",
    "\n",
    "transfer_contraints = LpVariable.dicts(\"Transfer contraints\", P_transfers['Transfer'], 0, 1, cat='Binary')\n",
    "\n",
    "# map rounds end to itermediary\n",
    "for prev_player,trans in P_transfers.groupby(['id_prev'])['Transfer'].apply(list).iteritems():\n",
    "    prob += lpSum([transfer_contraints[t_id] for t_id in trans]) == player_contraints[prev_player], f\"Previous player equals transfer intermediatary for {prev_player} equals {trans}\"\n",
    "\n",
    "# map intermediary to next round\n",
    "for next_player,trans in P_transfers.groupby(['id_next'])['Transfer'].apply(list).iteritems():\n",
    "    prob += lpSum([transfer_contraints[t_id] for t_id in trans]) == player_contraints[next_player], f\"Next player equals transfer intermediatary for {next_player} equals {trans}\"\n",
    "\n",
    "for round, transfers in P_transfers[P_transfers['Name_prev'] != P_transfers['Name_next']][['Round','Transfer']].drop_duplicates().groupby(['Round'])['Transfer'].apply(list).iteritems():\n",
    "    prob += lpSum([transfer_contraints[t_id] for t_id in transfers]) <= 2, f\"Round: {round}, has less than or equal to 4 transfers\"\n",
    "\n",
    "# # END TRANFERS"
   ]
  },
  {
   "cell_type": "code",
   "execution_count": 5,
   "metadata": {},
   "outputs": [],
   "source": [
    "# START money contraint\n",
    "money = 13 * 10**6\n",
    "for round,player in P[['pl_pos_id','Price','Round']].drop_duplicates().groupby(['Round'])['pl_pos_id'].apply(list).iteritems():\n",
    "    prob += lpSum([player_contraints[p_id]*P[P['pl_pos_id']==p_id]['Price'].values[0] for p_id in player]) <= money, f\"Round: {round}, has less than ${money}\"\n",
    "# # END money contraint"
   ]
  },
  {
   "cell_type": "code",
   "execution_count": 6,
   "metadata": {},
   "outputs": [],
   "source": [
    "#START Contrain each player to a single position per round\n",
    "P_Position_Casting = P.copy()\n",
    "# P_Position_Casting['pl_pos_id'] = (P['id']+'_'+P['Position'])\n",
    "P_Position_Casting = P_Position_Casting[['id','pl_pos_id','Round','Position']].drop_duplicates()\n",
    "\n",
    "# Players_Position_Casting = LpVariable.dicts(\"Players_Position_Casting\", P_Position_Casting['pl_pos_id'], 0, 1, cat='Binary')\n",
    "\n",
    "# Players_Position_Casting_Series = P_Position_Casting[['id','pl_pos_id','Round']].drop_duplicates().groupby(['id','Round'])['pl_pos_id'].apply(list).iteritems()\n",
    "\n",
    "# for (p_id,round), pl_pos_ids in Players_Position_Casting_Series:\n",
    "#     player_possible_positions = [Players_Position_Casting[pl_pos_id] for pl_pos_id  in pl_pos_ids] \n",
    "#     prob += lpSum(player_possible_positions) == player_contraints[p_id], f\"Must have only have equal to {p_id} (0 or 1) of {player_possible_positions} positions in round {round}\"\n",
    "  #END Contrain each player to a single position per round"
   ]
  },
  {
   "cell_type": "code",
   "execution_count": 7,
   "metadata": {},
   "outputs": [
    {
     "output_type": "stream",
     "name": "stdout",
     "text": [
      "Position: DE, has less than 8 in round 1\nPosition: DE, has less than 8 in round 2\nPosition: DE, has less than 8 in round 3\nPosition: DE, has less than 8 in round 4\nPosition: DE, has less than 8 in round 5\nPosition: DE, has less than 8 in round 6\nPosition: DE, has less than 8 in round 7\nPosition: DE, has less than 8 in round 8\nPosition: DE, has less than 8 in round 9\nPosition: DE, has less than 8 in round 10\nPosition: DE, has less than 8 in round 11\nPosition: DE, has less than 8 in round 12\nPosition: DE, has less than 8 in round 13\nPosition: DE, has less than 8 in round 14\nPosition: DE, has less than 8 in round 15\nPosition: DE, has less than 8 in round 16\nPosition: DE, has less than 8 in round 17\nPosition: DE, has less than 8 in round 18\nPosition: DE, has less than 8 in round 19\nPosition: DE, has less than 8 in round 20\nPosition: DE, has less than 8 in round 21\nPosition: DE, has less than 8 in round 22\nPosition: DE, has less than 8 in round 23\nPosition: FO, has less than 9 in round 1\nPosition: FO, has less than 9 in round 2\nPosition: FO, has less than 9 in round 3\nPosition: FO, has less than 9 in round 4\nPosition: FO, has less than 9 in round 5\nPosition: FO, has less than 9 in round 6\nPosition: FO, has less than 9 in round 7\nPosition: FO, has less than 9 in round 8\nPosition: FO, has less than 9 in round 9\nPosition: FO, has less than 9 in round 10\nPosition: FO, has less than 9 in round 11\nPosition: FO, has less than 9 in round 12\nPosition: FO, has less than 9 in round 13\nPosition: FO, has less than 9 in round 14\nPosition: FO, has less than 9 in round 15\nPosition: FO, has less than 9 in round 16\nPosition: FO, has less than 9 in round 17\nPosition: FO, has less than 9 in round 18\nPosition: FO, has less than 9 in round 19\nPosition: FO, has less than 9 in round 20\nPosition: FO, has less than 9 in round 21\nPosition: FO, has less than 9 in round 22\nPosition: FO, has less than 9 in round 23\nPosition: MI, has less than 10 in round 1\nPosition: MI, has less than 10 in round 2\nPosition: MI, has less than 10 in round 3\nPosition: MI, has less than 10 in round 4\nPosition: MI, has less than 10 in round 5\nPosition: MI, has less than 10 in round 6\nPosition: MI, has less than 10 in round 7\nPosition: MI, has less than 10 in round 8\nPosition: MI, has less than 10 in round 9\nPosition: MI, has less than 10 in round 10\nPosition: MI, has less than 10 in round 11\nPosition: MI, has less than 10 in round 12\nPosition: MI, has less than 10 in round 13\nPosition: MI, has less than 10 in round 14\nPosition: MI, has less than 10 in round 15\nPosition: MI, has less than 10 in round 16\nPosition: MI, has less than 10 in round 17\nPosition: MI, has less than 10 in round 18\nPosition: MI, has less than 10 in round 19\nPosition: MI, has less than 10 in round 20\nPosition: MI, has less than 10 in round 21\nPosition: MI, has less than 10 in round 22\nPosition: MI, has less than 10 in round 23\nPosition: RU, has less than 3 in round 1\nPosition: RU, has less than 3 in round 2\nPosition: RU, has less than 3 in round 3\nPosition: RU, has less than 3 in round 4\nPosition: RU, has less than 3 in round 5\nPosition: RU, has less than 3 in round 6\nPosition: RU, has less than 3 in round 7\nPosition: RU, has less than 3 in round 8\nPosition: RU, has less than 3 in round 9\nPosition: RU, has less than 3 in round 10\nPosition: RU, has less than 3 in round 11\nPosition: RU, has less than 3 in round 12\nPosition: RU, has less than 3 in round 13\nPosition: RU, has less than 3 in round 14\nPosition: RU, has less than 3 in round 15\nPosition: RU, has less than 3 in round 16\nPosition: RU, has less than 3 in round 17\nPosition: RU, has less than 3 in round 18\nPosition: RU, has less than 3 in round 19\nPosition: RU, has less than 3 in round 20\nPosition: RU, has less than 3 in round 21\nPosition: RU, has less than 3 in round 22\nPosition: RU, has less than 3 in round 23\n"
     ]
    }
   ],
   "source": [
    "# # START max players from each position\n",
    "allowed_holds_per_position = {'DE': 8, \"MI\" : 10, 'RU' : 3, 'FO':9}\n",
    "# allowed_holds_per_position = {'DE': 1, \"MI\" : 0, 'RU' : 1, 'FO':0}\n",
    "for (position,round), pl_pos_ids in P[['pl_pos_id','Position','Round']].drop_duplicates().groupby(['Position', 'Round'])['pl_pos_id'].apply(list).iteritems():\n",
    "    prob += lpSum([player_contraints[pl_pos_id] for pl_pos_id in pl_pos_ids]) == allowed_holds_per_position[position], f\"Position: {position}, has less than {allowed_holds_per_position[position]} in round {round}\"\n",
    "    print(f\"Position: {position}, has less than {allowed_holds_per_position[position]} in round {round}\")\n",
    "# END max players from each position"
   ]
  },
  {
   "cell_type": "code",
   "execution_count": 8,
   "metadata": {},
   "outputs": [
    {
     "output_type": "error",
     "ename": "PulpSolverError",
     "evalue": "Pulp: Error while trying to execute, use msg=True for more detailscbc",
     "traceback": [
      "\u001b[0;31m---------------------------------------------------------------------------\u001b[0m",
      "\u001b[0;31mPulpSolverError\u001b[0m                           Traceback (most recent call last)",
      "\u001b[0;32m<ipython-input-8-b3b24e7e072a>\u001b[0m in \u001b[0;36m<module>\u001b[0;34m\u001b[0m\n\u001b[1;32m      1\u001b[0m \u001b[0msolver\u001b[0m \u001b[0;34m=\u001b[0m \u001b[0mgetSolver\u001b[0m\u001b[0;34m(\u001b[0m\u001b[0;34m'COIN_CMD'\u001b[0m\u001b[0;34m,\u001b[0m \u001b[0mtimeLimit\u001b[0m\u001b[0;34m=\u001b[0m\u001b[0;36m4000\u001b[0m\u001b[0;34m,\u001b[0m \u001b[0mmsg\u001b[0m\u001b[0;34m=\u001b[0m\u001b[0;32mTrue\u001b[0m\u001b[0;34m,\u001b[0m\u001b[0mgapRel\u001b[0m \u001b[0;34m=\u001b[0m \u001b[0;36m0.2\u001b[0m\u001b[0;34m)\u001b[0m\u001b[0;34m\u001b[0m\u001b[0;34m\u001b[0m\u001b[0m\n\u001b[0;32m----> 2\u001b[0;31m \u001b[0mprob\u001b[0m\u001b[0;34m.\u001b[0m\u001b[0msolve\u001b[0m\u001b[0;34m(\u001b[0m\u001b[0msolver\u001b[0m\u001b[0;34m)\u001b[0m\u001b[0;34m\u001b[0m\u001b[0;34m\u001b[0m\u001b[0m\n\u001b[0m\u001b[1;32m      3\u001b[0m \u001b[0;34m\u001b[0m\u001b[0m\n\u001b[1;32m      4\u001b[0m \u001b[0;31m# solver = getSolver('PULP_CBC_CMD')\u001b[0m\u001b[0;34m\u001b[0m\u001b[0;34m\u001b[0m\u001b[0;34m\u001b[0m\u001b[0m\n\u001b[1;32m      5\u001b[0m \u001b[0;31m# prob.solve(solver)\u001b[0m\u001b[0;34m\u001b[0m\u001b[0;34m\u001b[0m\u001b[0;34m\u001b[0m\u001b[0m\n",
      "\u001b[0;32m~/miniconda3/lib/python3.8/site-packages/pulp/pulp.py\u001b[0m in \u001b[0;36msolve\u001b[0;34m(self, solver, **kwargs)\u001b[0m\n\u001b[1;32m   1735\u001b[0m         \u001b[0;31m#time it\u001b[0m\u001b[0;34m\u001b[0m\u001b[0;34m\u001b[0m\u001b[0;34m\u001b[0m\u001b[0m\n\u001b[1;32m   1736\u001b[0m         \u001b[0mself\u001b[0m\u001b[0;34m.\u001b[0m\u001b[0msolutionTime\u001b[0m \u001b[0;34m=\u001b[0m \u001b[0;34m-\u001b[0m\u001b[0mclock\u001b[0m\u001b[0;34m(\u001b[0m\u001b[0;34m)\u001b[0m\u001b[0;34m\u001b[0m\u001b[0;34m\u001b[0m\u001b[0m\n\u001b[0;32m-> 1737\u001b[0;31m         \u001b[0mstatus\u001b[0m \u001b[0;34m=\u001b[0m \u001b[0msolver\u001b[0m\u001b[0;34m.\u001b[0m\u001b[0mactualSolve\u001b[0m\u001b[0;34m(\u001b[0m\u001b[0mself\u001b[0m\u001b[0;34m,\u001b[0m \u001b[0;34m**\u001b[0m\u001b[0mkwargs\u001b[0m\u001b[0;34m)\u001b[0m\u001b[0;34m\u001b[0m\u001b[0;34m\u001b[0m\u001b[0m\n\u001b[0m\u001b[1;32m   1738\u001b[0m         \u001b[0mself\u001b[0m\u001b[0;34m.\u001b[0m\u001b[0msolutionTime\u001b[0m \u001b[0;34m+=\u001b[0m \u001b[0mclock\u001b[0m\u001b[0;34m(\u001b[0m\u001b[0;34m)\u001b[0m\u001b[0;34m\u001b[0m\u001b[0;34m\u001b[0m\u001b[0m\n\u001b[1;32m   1739\u001b[0m         \u001b[0mself\u001b[0m\u001b[0;34m.\u001b[0m\u001b[0mrestoreObjective\u001b[0m\u001b[0;34m(\u001b[0m\u001b[0mwasNone\u001b[0m\u001b[0;34m,\u001b[0m \u001b[0mdummyVar\u001b[0m\u001b[0;34m)\u001b[0m\u001b[0;34m\u001b[0m\u001b[0;34m\u001b[0m\u001b[0m\n",
      "\u001b[0;32m~/miniconda3/lib/python3.8/site-packages/pulp/apis/coin_api.py\u001b[0m in \u001b[0;36mactualSolve\u001b[0;34m(self, lp, **kwargs)\u001b[0m\n\u001b[1;32m     99\u001b[0m     \u001b[0;32mdef\u001b[0m \u001b[0mactualSolve\u001b[0m\u001b[0;34m(\u001b[0m\u001b[0mself\u001b[0m\u001b[0;34m,\u001b[0m \u001b[0mlp\u001b[0m\u001b[0;34m,\u001b[0m \u001b[0;34m**\u001b[0m\u001b[0mkwargs\u001b[0m\u001b[0;34m)\u001b[0m\u001b[0;34m:\u001b[0m\u001b[0;34m\u001b[0m\u001b[0;34m\u001b[0m\u001b[0m\n\u001b[1;32m    100\u001b[0m         \u001b[0;34m\"\"\"Solve a well formulated lp problem\"\"\"\u001b[0m\u001b[0;34m\u001b[0m\u001b[0;34m\u001b[0m\u001b[0m\n\u001b[0;32m--> 101\u001b[0;31m         \u001b[0;32mreturn\u001b[0m \u001b[0mself\u001b[0m\u001b[0;34m.\u001b[0m\u001b[0msolve_CBC\u001b[0m\u001b[0;34m(\u001b[0m\u001b[0mlp\u001b[0m\u001b[0;34m,\u001b[0m \u001b[0;34m**\u001b[0m\u001b[0mkwargs\u001b[0m\u001b[0;34m)\u001b[0m\u001b[0;34m\u001b[0m\u001b[0;34m\u001b[0m\u001b[0m\n\u001b[0m\u001b[1;32m    102\u001b[0m \u001b[0;34m\u001b[0m\u001b[0m\n\u001b[1;32m    103\u001b[0m     \u001b[0;32mdef\u001b[0m \u001b[0mavailable\u001b[0m\u001b[0;34m(\u001b[0m\u001b[0mself\u001b[0m\u001b[0;34m)\u001b[0m\u001b[0;34m:\u001b[0m\u001b[0;34m\u001b[0m\u001b[0;34m\u001b[0m\u001b[0m\n",
      "\u001b[0;32m~/miniconda3/lib/python3.8/site-packages/pulp/apis/coin_api.py\u001b[0m in \u001b[0;36msolve_CBC\u001b[0;34m(self, lp, use_mps)\u001b[0m\n\u001b[1;32m    152\u001b[0m         \u001b[0mcbc\u001b[0m \u001b[0;34m=\u001b[0m \u001b[0msubprocess\u001b[0m\u001b[0;34m.\u001b[0m\u001b[0mPopen\u001b[0m\u001b[0;34m(\u001b[0m\u001b[0margs\u001b[0m\u001b[0;34m,\u001b[0m \u001b[0mstdout\u001b[0m \u001b[0;34m=\u001b[0m \u001b[0mpipe\u001b[0m\u001b[0;34m,\u001b[0m \u001b[0mstderr\u001b[0m \u001b[0;34m=\u001b[0m \u001b[0mpipe\u001b[0m\u001b[0;34m,\u001b[0m \u001b[0mstdin\u001b[0m\u001b[0;34m=\u001b[0m\u001b[0mdevnull\u001b[0m\u001b[0;34m)\u001b[0m\u001b[0;34m\u001b[0m\u001b[0;34m\u001b[0m\u001b[0m\n\u001b[1;32m    153\u001b[0m         \u001b[0;32mif\u001b[0m \u001b[0mcbc\u001b[0m\u001b[0;34m.\u001b[0m\u001b[0mwait\u001b[0m\u001b[0;34m(\u001b[0m\u001b[0;34m)\u001b[0m \u001b[0;34m!=\u001b[0m \u001b[0;36m0\u001b[0m\u001b[0;34m:\u001b[0m\u001b[0;34m\u001b[0m\u001b[0;34m\u001b[0m\u001b[0m\n\u001b[0;32m--> 154\u001b[0;31m             raise PulpSolverError(\"Pulp: Error while trying to execute, use msg=True for more details\" +  \\\n\u001b[0m\u001b[1;32m    155\u001b[0m                                     self.path)\n\u001b[1;32m    156\u001b[0m         \u001b[0;32mif\u001b[0m \u001b[0mpipe\u001b[0m\u001b[0;34m:\u001b[0m\u001b[0;34m\u001b[0m\u001b[0;34m\u001b[0m\u001b[0m\n",
      "\u001b[0;31mPulpSolverError\u001b[0m: Pulp: Error while trying to execute, use msg=True for more detailscbc"
     ]
    }
   ],
   "source": [
    "solver = getSolver('COIN_CMD', timeLimit=4000, msg=True,gapRel = 0.2)\n",
    "prob.solve(solver)\n",
    "\n",
    "# solver = getSolver('PULP_CBC_CMD')\n",
    "# prob.solve(solver)\n",
    "prob.status"
   ]
  },
  {
   "cell_type": "code",
   "execution_count": null,
   "metadata": {},
   "outputs": [],
   "source": [
    "for k,v in player_contraints.items():\n",
    "    if v.value():\n",
    "        print(k)\n",
    "        print(v.value())"
   ]
  },
  {
   "cell_type": "code",
   "execution_count": null,
   "metadata": {},
   "outputs": [],
   "source": [
    "results = []\n",
    "for name, player_position in Players_Position_Casting.items():\n",
    "    if player_position.value() != 0:\n",
    "        results.append([name,1])\n",
    "        # print('here')\n",
    "Players_selected = pd.DataFrame(results, columns=['pl_pos_id', 'is_selected'])\n",
    "P_Position_Casting = P_Position_Casting.merge(Players_selected, on = ['pl_pos_id'])\n",
    "P_Position_Casting.to_csv(FILENAME+'_solution.csv')\n",
    "P_Position_Casting.sort_values('Round')\n",
    "# print(P_Position_Casting.groupby(['Round','Position']).sum()['is_selected'])"
   ]
  },
  {
   "cell_type": "code",
   "execution_count": null,
   "metadata": {},
   "outputs": [],
   "source": []
  }
 ]
}