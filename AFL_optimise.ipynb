{
 "metadata": {
  "language_info": {
   "codemirror_mode": {
    "name": "ipython",
    "version": 3
   },
   "file_extension": ".py",
   "mimetype": "text/x-python",
   "name": "python",
   "nbconvert_exporter": "python",
   "pygments_lexer": "ipython3",
   "version": "3.8.5-final"
  },
  "orig_nbformat": 2,
  "kernelspec": {
   "name": "python3",
   "display_name": "Python 3",
   "language": "python"
  }
 },
 "nbformat": 4,
 "nbformat_minor": 2,
 "cells": [
  {
   "cell_type": "code",
   "execution_count": 28,
   "metadata": {},
   "outputs": [],
   "source": [
    "import pandas as pd\n",
    "import numpy as np\n",
    "from pulp import *"
   ]
  },
  {
   "cell_type": "code",
   "execution_count": 29,
   "metadata": {},
   "outputs": [],
   "source": [
    "FILENAME = 'Test_data/test - 1'\n",
    "FILENAME = 'Test_data/test - 2'\n",
    "FILENAME = 'Test_data/test - 3'\n",
    "FILENAME = 'full_players'\n",
    "\n",
    "full_players = pd.read_csv('full_players.csv', index_col=0).reset_index(drop=True)\n",
    "\n",
    "\n",
    "full_players = pd.read_csv(FILENAME+'.csv', index_col=0).reset_index(drop=True)\n",
    "\n",
    "full_players['Score'] = pd.to_numeric(full_players['Score'].replace('-',0))\n",
    "schedule = pd.read_csv('2021_schedule', index_col=0) \n",
    "\n",
    "players_2021 = full_players[full_players['Year']==2021][['Name','Price','Team 1', 'Position']]\n",
    "player_prev = full_players[full_players['Name'].isin(players_2021['Name'].unique())]\n",
    "player_prev = player_prev.groupby(['Name','Team 2']).mean()['Score']\n",
    "\n",
    "players_schedule_2021 = players_2021.merge(schedule, on=['Team 1'])\n",
    "players_schedule_score_2021 = players_schedule_2021.merge(player_prev, on = ['Name','Team 2'], how = 'left')\n",
    "\n",
    "# add bye's\n",
    "all_players_list = players_schedule_score_2021[['Name','Price','Position', 'Team 1']].drop_duplicates()\n",
    "all_players_list['key'] = 1\n",
    "all_rounds_list =  players_schedule_score_2021[['Round']].drop_duplicates()\n",
    "all_rounds_list['key'] = 1\n",
    "all_players_list = all_players_list.merge(all_rounds_list, on=['key']).drop('key',1)\n",
    "current_players_list = players_schedule_score_2021.copy()\n",
    "missing_players = all_players_list.merge(current_players_list, how='outer',indicator=True)\n",
    "missing_players = missing_players[missing_players['_merge'] == 'left_only'].drop('_merge',1)\n",
    "missing_players['Score']=0\n",
    "missing_players['Team 2'] = '_BYE'\n",
    "\n",
    "players_schedule_score_2021 = players_schedule_score_2021.append(missing_players).reset_index(drop=True)\n",
    "# end add bye's\n",
    "\n",
    "P = players_schedule_score_2021\n",
    "\n",
    "players_to_be_kept = P.copy()\n",
    "players_to_be_kept[\"Value\"] = players_to_be_kept['Score']/players_to_be_kept['Price']\n",
    "players_to_be_kept = players_to_be_kept.groupby('Name').mean()[['Score','Value']]\n",
    "\n",
    "# players_to_keep = []\n",
    "# num_players_to_keep = int(len(players_to_be_kept)*1)\n",
    "# players_to_keep += list(players_to_be_kept.sort_values('Score', ascending = False).index[:num_players_to_keep])\n",
    "# players_to_keep += list(players_to_be_kept.sort_values('Value', ascending = False).index[:num_players_to_keep])\n",
    "\n",
    "# P = P[P['Name'].isin(players_to_keep)]\n",
    "\n",
    "P['Score'] = P['Score'].replace(np.nan,0)\n",
    "# P = P[P['Round']<=2]\n",
    "P['id'] = \"R:\"+P['Round'].astype(str)+\"_P:\"+P['Name']\n",
    "P['pl_pos_id'] = (P['id']+'_'+P['Position'])"
   ]
  },
  {
   "cell_type": "code",
   "execution_count": 30,
   "metadata": {},
   "outputs": [],
   "source": [
    "player_contraints = {}\n",
    "prob = LpProblem(\"aflProblem\", LpMaximize)\n",
    "\n",
    "player_contraints = LpVariable.dicts(\"Player Contraints\", P['pl_pos_id'].unique(), 0, 1, cat='Binary')"
   ]
  },
  {
   "cell_type": "code",
   "execution_count": 17,
   "metadata": {},
   "outputs": [],
   "source": [
    "P_prev_round = P.copy()\n",
    "P_prev_round['Round_prev'] = P_prev_round['Round'] - 1\n",
    "\n",
    "P_transfers = P[['pl_pos_id','Position','Round','Name']].merge(P_prev_round[['pl_pos_id','Position','Round_prev','Name']],left_on=['Position','Round'],right_on=['Position','Round_prev'], suffixes = ('_prev','_next'))\n",
    "\n",
    "P_transfers['Transfer'] = P_transfers['pl_pos_id_prev']+'-'+P_transfers['pl_pos_id_next']\n",
    "P_transfers=P_transfers[['pl_pos_id_prev',\t'Round',\t'Name_prev',\t'pl_pos_id_next',\t'Round_prev',\t'Name_next',\t'Transfer']].drop_duplicates()\n",
    "\n",
    "transfer_contraints = LpVariable.dicts(\"Transfer contraints\", P_transfers['Transfer'], 0, 1, cat='Binary')\n",
    "\n",
    "# map rounds end to itermediary\n",
    "for prev_player,trans in P_transfers.groupby(['pl_pos_id_prev'])['Transfer'].apply(list).iteritems():\n",
    "    prob += lpSum([transfer_contraints[t_id] for t_id in trans]) == player_contraints[prev_player], f\"Previous player equals transfer intermediatary for {prev_player} equals {trans}\"\n",
    "\n",
    "# map intermediary to next round\n",
    "for next_player,trans in P_transfers.groupby(['pl_pos_id_next'])['Transfer'].apply(list).iteritems():\n",
    "    prob += lpSum([transfer_contraints[t_id] for t_id in trans]) == player_contraints[next_player], f\"Next player equals transfer intermediatary for {next_player} equals {trans}\"\n",
    "\n",
    "for round, transfers in P_transfers[P_transfers['Name_prev'] != P_transfers['Name_next']][['Round','Transfer']].drop_duplicates().groupby(['Round'])['Transfer'].apply(list).iteritems():\n",
    "    prob += lpSum([transfer_contraints[t_id] for t_id in transfers]) <= 2, f\"Round: {round}, has less than or equal to 4 transfers\"\n",
    "\n",
    "# # END TRANFERS"
   ]
  },
  {
   "cell_type": "code",
   "execution_count": 18,
   "metadata": {},
   "outputs": [],
   "source": [
    "# START money contraint\n",
    "money = 13 * 10**6\n",
    "for round,player in P[['pl_pos_id','Price','Round']].drop_duplicates().groupby(['Round'])['pl_pos_id'].apply(list).iteritems():\n",
    "    prob += lpSum([player_contraints[p_id]*P[P['pl_pos_id']==p_id]['Price'].values[0] for p_id in player]) <= money, f\"Round: {round}, has less than ${money}\"\n",
    "# # END money contraint"
   ]
  },
  {
   "cell_type": "code",
   "execution_count": 19,
   "metadata": {
    "tags": []
   },
   "outputs": [
    {
     "output_type": "stream",
     "name": "stdout",
     "text": [
      "Player_Contraints_R:2_P:Ed_Richards_FO, Player_Contraints_R:2_P:Ed_Richards_MI] positions in round 2\nMust have only have less than or equal to 1 of [Player_Contraints_R:2_P:Isaac_Smith_FO, Player_Contraints_R:2_P:Isaac_Smith_MI] positions in round 2\nMust have only have less than or equal to 1 of [Player_Contraints_R:2_P:Jack_Newnes_FO, Player_Contraints_R:2_P:Jack_Newnes_MI] positions in round 2\nMust have only have less than or equal to 1 of [Player_Contraints_R:2_P:Mark_Blicavs_DE, Player_Contraints_R:2_P:Mark_Blicavs_MI] positions in round 2\nMust have only have less than or equal to 1 of [Player_Contraints_R:2_P:Mark_Hutchings_FO, Player_Contraints_R:2_P:Mark_Hutchings_MI] positions in round 2\nMust have only have less than or equal to 1 of [Player_Contraints_R:2_P:Nathan_Jones_FO, Player_Contraints_R:2_P:Nathan_Jones_MI] positions in round 2\nMust have only have less than or equal to 1 of [Player_Contraints_R:2_P:Paddy_Dow_FO, Player_Contraints_R:2_P:Paddy_Dow_MI] positions in round 2\nMust have only have less than or equal to 1 of [Player_Contraints_R:2_P:Patrick_Dangerfield_FO, Player_Contraints_R:2_P:Patrick_Dangerfield_MI] positions in round 2\nMust have only have less than or equal to 1 of [Player_Contraints_R:2_P:Rory_Laird_DE, Player_Contraints_R:2_P:Rory_Laird_MI] positions in round 2\nMust have only have less than or equal to 1 of [Player_Contraints_R:2_P:Sam_Powell_Pepper_FO, Player_Contraints_R:2_P:Sam_Powell_Pepper_MI] positions in round 2\nMust have only have less than or equal to 1 of [Player_Contraints_R:2_P:Steele_Sidebottom_FO, Player_Contraints_R:2_P:Steele_Sidebottom_MI] positions in round 2\nMust have only have less than or equal to 1 of [Player_Contraints_R:2_P:Tom_Phillips_FO, Player_Contraints_R:2_P:Tom_Phillips_MI] positions in round 2\nMust have only have less than or equal to 1 of [Player_Contraints_R:2_P:Tom_Scully_FO, Player_Contraints_R:2_P:Tom_Scully_MI] positions in round 2\nMust have only have less than or equal to 1 of [Player_Contraints_R:3_P:Ben_McEvoy_RU, Player_Contraints_R:3_P:Ben_McEvoy_DE] positions in round 3\nMust have only have less than or equal to 1 of [Player_Contraints_R:3_P:Brodie_Smith_DE, Player_Contraints_R:3_P:Brodie_Smith_MI] positions in round 3\nMust have only have less than or equal to 1 of [Player_Contraints_R:3_P:Dayne_Zorko_FO, Player_Contraints_R:3_P:Dayne_Zorko_MI] positions in round 3\nMust have only have less than or equal to 1 of [Player_Contraints_R:3_P:Dustin_Martin_FO, Player_Contraints_R:3_P:Dustin_Martin_MI] positions in round 3\nMust have only have less than or equal to 1 of [Player_Contraints_R:3_P:Ed_Richards_FO, Player_Contraints_R:3_P:Ed_Richards_MI] positions in round 3\nMust have only have less than or equal to 1 of [Player_Contraints_R:3_P:Isaac_Smith_FO, Player_Contraints_R:3_P:Isaac_Smith_MI] positions in round 3\nMust have only have less than or equal to 1 of [Player_Contraints_R:3_P:Jack_Newnes_FO, Player_Contraints_R:3_P:Jack_Newnes_MI] positions in round 3\nMust have only have less than or equal to 1 of [Player_Contraints_R:3_P:Mark_Blicavs_DE, Player_Contraints_R:3_P:Mark_Blicavs_MI] positions in round 3\nMust have only have less than or equal to 1 of [Player_Contraints_R:3_P:Mark_Hutchings_FO, Player_Contraints_R:3_P:Mark_Hutchings_MI] positions in round 3\nMust have only have less than or equal to 1 of [Player_Contraints_R:3_P:Nathan_Jones_FO, Player_Contraints_R:3_P:Nathan_Jones_MI] positions in round 3\nMust have only have less than or equal to 1 of [Player_Contraints_R:3_P:Paddy_Dow_FO, Player_Contraints_R:3_P:Paddy_Dow_MI] positions in round 3\nMust have only have less than or equal to 1 of [Player_Contraints_R:3_P:Patrick_Dangerfield_FO, Player_Contraints_R:3_P:Patrick_Dangerfield_MI] positions in round 3\nMust have only have less than or equal to 1 of [Player_Contraints_R:3_P:Rory_Laird_DE, Player_Contraints_R:3_P:Rory_Laird_MI] positions in round 3\nMust have only have less than or equal to 1 of [Player_Contraints_R:3_P:Sam_Powell_Pepper_FO, Player_Contraints_R:3_P:Sam_Powell_Pepper_MI] positions in round 3\nMust have only have less than or equal to 1 of [Player_Contraints_R:3_P:Steele_Sidebottom_FO, Player_Contraints_R:3_P:Steele_Sidebottom_MI] positions in round 3\nMust have only have less than or equal to 1 of [Player_Contraints_R:3_P:Tom_Phillips_FO, Player_Contraints_R:3_P:Tom_Phillips_MI] positions in round 3\nMust have only have less than or equal to 1 of [Player_Contraints_R:3_P:Tom_Scully_FO, Player_Contraints_R:3_P:Tom_Scully_MI] positions in round 3\nMust have only have less than or equal to 1 of [Player_Contraints_R:4_P:Ben_McEvoy_RU, Player_Contraints_R:4_P:Ben_McEvoy_DE] positions in round 4\nMust have only have less than or equal to 1 of [Player_Contraints_R:4_P:Brodie_Smith_DE, Player_Contraints_R:4_P:Brodie_Smith_MI] positions in round 4\nMust have only have less than or equal to 1 of [Player_Contraints_R:4_P:Dayne_Zorko_FO, Player_Contraints_R:4_P:Dayne_Zorko_MI] positions in round 4\nMust have only have less than or equal to 1 of [Player_Contraints_R:4_P:Dustin_Martin_FO, Player_Contraints_R:4_P:Dustin_Martin_MI] positions in round 4\nMust have only have less than or equal to 1 of [Player_Contraints_R:4_P:Ed_Richards_FO, Player_Contraints_R:4_P:Ed_Richards_MI] positions in round 4\nMust have only have less than or equal to 1 of [Player_Contraints_R:4_P:Isaac_Smith_FO, Player_Contraints_R:4_P:Isaac_Smith_MI] positions in round 4\nMust have only have less than or equal to 1 of [Player_Contraints_R:4_P:Jack_Newnes_FO, Player_Contraints_R:4_P:Jack_Newnes_MI] positions in round 4\nMust have only have less than or equal to 1 of [Player_Contraints_R:4_P:Mark_Blicavs_DE, Player_Contraints_R:4_P:Mark_Blicavs_MI] positions in round 4\nMust have only have less than or equal to 1 of [Player_Contraints_R:4_P:Mark_Hutchings_FO, Player_Contraints_R:4_P:Mark_Hutchings_MI] positions in round 4\nMust have only have less than or equal to 1 of [Player_Contraints_R:4_P:Nathan_Jones_FO, Player_Contraints_R:4_P:Nathan_Jones_MI] positions in round 4\nMust have only have less than or equal to 1 of [Player_Contraints_R:4_P:Paddy_Dow_FO, Player_Contraints_R:4_P:Paddy_Dow_MI] positions in round 4\nMust have only have less than or equal to 1 of [Player_Contraints_R:4_P:Patrick_Dangerfield_FO, Player_Contraints_R:4_P:Patrick_Dangerfield_MI] positions in round 4\nMust have only have less than or equal to 1 of [Player_Contraints_R:4_P:Rory_Laird_DE, Player_Contraints_R:4_P:Rory_Laird_MI] positions in round 4\nMust have only have less than or equal to 1 of [Player_Contraints_R:4_P:Sam_Powell_Pepper_FO, Player_Contraints_R:4_P:Sam_Powell_Pepper_MI] positions in round 4\nMust have only have less than or equal to 1 of [Player_Contraints_R:4_P:Steele_Sidebottom_FO, Player_Contraints_R:4_P:Steele_Sidebottom_MI] positions in round 4\nMust have only have less than or equal to 1 of [Player_Contraints_R:4_P:Tom_Phillips_FO, Player_Contraints_R:4_P:Tom_Phillips_MI] positions in round 4\nMust have only have less than or equal to 1 of [Player_Contraints_R:4_P:Tom_Scully_FO, Player_Contraints_R:4_P:Tom_Scully_MI] positions in round 4\nMust have only have less than or equal to 1 of [Player_Contraints_R:5_P:Ben_McEvoy_RU, Player_Contraints_R:5_P:Ben_McEvoy_DE] positions in round 5\nMust have only have less than or equal to 1 of [Player_Contraints_R:5_P:Brodie_Smith_DE, Player_Contraints_R:5_P:Brodie_Smith_MI] positions in round 5\nMust have only have less than or equal to 1 of [Player_Contraints_R:5_P:Dayne_Zorko_FO, Player_Contraints_R:5_P:Dayne_Zorko_MI] positions in round 5\nMust have only have less than or equal to 1 of [Player_Contraints_R:5_P:Dustin_Martin_FO, Player_Contraints_R:5_P:Dustin_Martin_MI] positions in round 5\nMust have only have less than or equal to 1 of [Player_Contraints_R:5_P:Ed_Richards_FO, Player_Contraints_R:5_P:Ed_Richards_MI] positions in round 5\nMust have only have less than or equal to 1 of [Player_Contraints_R:5_P:Isaac_Smith_FO, Player_Contraints_R:5_P:Isaac_Smith_MI] positions in round 5\nMust have only have less than or equal to 1 of [Player_Contraints_R:5_P:Jack_Newnes_FO, Player_Contraints_R:5_P:Jack_Newnes_MI] positions in round 5\nMust have only have less than or equal to 1 of [Player_Contraints_R:5_P:Mark_Blicavs_DE, Player_Contraints_R:5_P:Mark_Blicavs_MI] positions in round 5\nMust have only have less than or equal to 1 of [Player_Contraints_R:5_P:Mark_Hutchings_FO, Player_Contraints_R:5_P:Mark_Hutchings_MI] positions in round 5\nMust have only have less than or equal to 1 of [Player_Contraints_R:5_P:Nathan_Jones_FO, Player_Contraints_R:5_P:Nathan_Jones_MI] positions in round 5\nMust have only have less than or equal to 1 of [Player_Contraints_R:5_P:Paddy_Dow_FO, Player_Contraints_R:5_P:Paddy_Dow_MI] positions in round 5\nMust have only have less than or equal to 1 of [Player_Contraints_R:5_P:Patrick_Dangerfield_FO, Player_Contraints_R:5_P:Patrick_Dangerfield_MI] positions in round 5\nMust have only have less than or equal to 1 of [Player_Contraints_R:5_P:Rory_Laird_DE, Player_Contraints_R:5_P:Rory_Laird_MI] positions in round 5\nMust have only have less than or equal to 1 of [Player_Contraints_R:5_P:Sam_Powell_Pepper_FO, Player_Contraints_R:5_P:Sam_Powell_Pepper_MI] positions in round 5\nMust have only have less than or equal to 1 of [Player_Contraints_R:5_P:Steele_Sidebottom_FO, Player_Contraints_R:5_P:Steele_Sidebottom_MI] positions in round 5\nMust have only have less than or equal to 1 of [Player_Contraints_R:5_P:Tom_Phillips_FO, Player_Contraints_R:5_P:Tom_Phillips_MI] positions in round 5\nMust have only have less than or equal to 1 of [Player_Contraints_R:5_P:Tom_Scully_FO, Player_Contraints_R:5_P:Tom_Scully_MI] positions in round 5\nMust have only have less than or equal to 1 of [Player_Contraints_R:6_P:Ben_McEvoy_RU, Player_Contraints_R:6_P:Ben_McEvoy_DE] positions in round 6\nMust have only have less than or equal to 1 of [Player_Contraints_R:6_P:Brodie_Smith_DE, Player_Contraints_R:6_P:Brodie_Smith_MI] positions in round 6\nMust have only have less than or equal to 1 of [Player_Contraints_R:6_P:Dayne_Zorko_FO, Player_Contraints_R:6_P:Dayne_Zorko_MI] positions in round 6\nMust have only have less than or equal to 1 of [Player_Contraints_R:6_P:Dustin_Martin_FO, Player_Contraints_R:6_P:Dustin_Martin_MI] positions in round 6\nMust have only have less than or equal to 1 of [Player_Contraints_R:6_P:Ed_Richards_FO, Player_Contraints_R:6_P:Ed_Richards_MI] positions in round 6\nMust have only have less than or equal to 1 of [Player_Contraints_R:6_P:Isaac_Smith_FO, Player_Contraints_R:6_P:Isaac_Smith_MI] positions in round 6\nMust have only have less than or equal to 1 of [Player_Contraints_R:6_P:Jack_Newnes_FO, Player_Contraints_R:6_P:Jack_Newnes_MI] positions in round 6\nMust have only have less than or equal to 1 of [Player_Contraints_R:6_P:Mark_Blicavs_DE, Player_Contraints_R:6_P:Mark_Blicavs_MI] positions in round 6\nMust have only have less than or equal to 1 of [Player_Contraints_R:6_P:Mark_Hutchings_FO, Player_Contraints_R:6_P:Mark_Hutchings_MI] positions in round 6\nMust have only have less than or equal to 1 of [Player_Contraints_R:6_P:Nathan_Jones_FO, Player_Contraints_R:6_P:Nathan_Jones_MI] positions in round 6\nMust have only have less than or equal to 1 of [Player_Contraints_R:6_P:Paddy_Dow_FO, Player_Contraints_R:6_P:Paddy_Dow_MI] positions in round 6\nMust have only have less than or equal to 1 of [Player_Contraints_R:6_P:Patrick_Dangerfield_FO, Player_Contraints_R:6_P:Patrick_Dangerfield_MI] positions in round 6\nMust have only have less than or equal to 1 of [Player_Contraints_R:6_P:Rory_Laird_DE, Player_Contraints_R:6_P:Rory_Laird_MI] positions in round 6\nMust have only have less than or equal to 1 of [Player_Contraints_R:6_P:Sam_Powell_Pepper_FO, Player_Contraints_R:6_P:Sam_Powell_Pepper_MI] positions in round 6\nMust have only have less than or equal to 1 of [Player_Contraints_R:6_P:Steele_Sidebottom_FO, Player_Contraints_R:6_P:Steele_Sidebottom_MI] positions in round 6\nMust have only have less than or equal to 1 of [Player_Contraints_R:6_P:Tom_Phillips_FO, Player_Contraints_R:6_P:Tom_Phillips_MI] positions in round 6\nMust have only have less than or equal to 1 of [Player_Contraints_R:6_P:Tom_Scully_FO, Player_Contraints_R:6_P:Tom_Scully_MI] positions in round 6\nMust have only have less than or equal to 1 of [Player_Contraints_R:7_P:Ben_McEvoy_RU, Player_Contraints_R:7_P:Ben_McEvoy_DE] positions in round 7\nMust have only have less than or equal to 1 of [Player_Contraints_R:7_P:Brodie_Smith_DE, Player_Contraints_R:7_P:Brodie_Smith_MI] positions in round 7\nMust have only have less than or equal to 1 of [Player_Contraints_R:7_P:Dayne_Zorko_FO, Player_Contraints_R:7_P:Dayne_Zorko_MI] positions in round 7\nMust have only have less than or equal to 1 of [Player_Contraints_R:7_P:Dustin_Martin_FO, Player_Contraints_R:7_P:Dustin_Martin_MI] positions in round 7\nMust have only have less than or equal to 1 of [Player_Contraints_R:7_P:Ed_Richards_FO, Player_Contraints_R:7_P:Ed_Richards_MI] positions in round 7\nMust have only have less than or equal to 1 of [Player_Contraints_R:7_P:Isaac_Smith_FO, Player_Contraints_R:7_P:Isaac_Smith_MI] positions in round 7\nMust have only have less than or equal to 1 of [Player_Contraints_R:7_P:Jack_Newnes_FO, Player_Contraints_R:7_P:Jack_Newnes_MI] positions in round 7\nMust have only have less than or equal to 1 of [Player_Contraints_R:7_P:Mark_Blicavs_DE, Player_Contraints_R:7_P:Mark_Blicavs_MI] positions in round 7\nMust have only have less than or equal to 1 of [Player_Contraints_R:7_P:Mark_Hutchings_FO, Player_Contraints_R:7_P:Mark_Hutchings_MI] positions in round 7\nMust have only have less than or equal to 1 of [Player_Contraints_R:7_P:Nathan_Jones_FO, Player_Contraints_R:7_P:Nathan_Jones_MI] positions in round 7\nMust have only have less than or equal to 1 of [Player_Contraints_R:7_P:Paddy_Dow_FO, Player_Contraints_R:7_P:Paddy_Dow_MI] positions in round 7\nMust have only have less than or equal to 1 of [Player_Contraints_R:7_P:Patrick_Dangerfield_FO, Player_Contraints_R:7_P:Patrick_Dangerfield_MI] positions in round 7\nMust have only have less than or equal to 1 of [Player_Contraints_R:7_P:Rory_Laird_DE, Player_Contraints_R:7_P:Rory_Laird_MI] positions in round 7\nMust have only have less than or equal to 1 of [Player_Contraints_R:7_P:Sam_Powell_Pepper_FO, Player_Contraints_R:7_P:Sam_Powell_Pepper_MI] positions in round 7\nMust have only have less than or equal to 1 of [Player_Contraints_R:7_P:Steele_Sidebottom_FO, Player_Contraints_R:7_P:Steele_Sidebottom_MI] positions in round 7\nMust have only have less than or equal to 1 of [Player_Contraints_R:7_P:Tom_Phillips_FO, Player_Contraints_R:7_P:Tom_Phillips_MI] positions in round 7\nMust have only have less than or equal to 1 of [Player_Contraints_R:7_P:Tom_Scully_FO, Player_Contraints_R:7_P:Tom_Scully_MI] positions in round 7\nMust have only have less than or equal to 1 of [Player_Contraints_R:8_P:Ben_McEvoy_RU, Player_Contraints_R:8_P:Ben_McEvoy_DE] positions in round 8\nMust have only have less than or equal to 1 of [Player_Contraints_R:8_P:Brodie_Smith_DE, Player_Contraints_R:8_P:Brodie_Smith_MI] positions in round 8\nMust have only have less than or equal to 1 of [Player_Contraints_R:8_P:Dayne_Zorko_FO, Player_Contraints_R:8_P:Dayne_Zorko_MI] positions in round 8\nMust have only have less than or equal to 1 of [Player_Contraints_R:8_P:Dustin_Martin_FO, Player_Contraints_R:8_P:Dustin_Martin_MI] positions in round 8\nMust have only have less than or equal to 1 of [Player_Contraints_R:8_P:Ed_Richards_FO, Player_Contraints_R:8_P:Ed_Richards_MI] positions in round 8\nMust have only have less than or equal to 1 of [Player_Contraints_R:8_P:Isaac_Smith_FO, Player_Contraints_R:8_P:Isaac_Smith_MI] positions in round 8\nMust have only have less than or equal to 1 of [Player_Contraints_R:8_P:Jack_Newnes_FO, Player_Contraints_R:8_P:Jack_Newnes_MI] positions in round 8\nMust have only have less than or equal to 1 of [Player_Contraints_R:8_P:Mark_Blicavs_DE, Player_Contraints_R:8_P:Mark_Blicavs_MI] positions in round 8\nMust have only have less than or equal to 1 of [Player_Contraints_R:8_P:Mark_Hutchings_FO, Player_Contraints_R:8_P:Mark_Hutchings_MI] positions in round 8\nMust have only have less than or equal to 1 of [Player_Contraints_R:8_P:Nathan_Jones_FO, Player_Contraints_R:8_P:Nathan_Jones_MI] positions in round 8\nMust have only have less than or equal to 1 of [Player_Contraints_R:8_P:Paddy_Dow_FO, Player_Contraints_R:8_P:Paddy_Dow_MI] positions in round 8\nMust have only have less than or equal to 1 of [Player_Contraints_R:8_P:Patrick_Dangerfield_FO, Player_Contraints_R:8_P:Patrick_Dangerfield_MI] positions in round 8\nMust have only have less than or equal to 1 of [Player_Contraints_R:8_P:Rory_Laird_DE, Player_Contraints_R:8_P:Rory_Laird_MI] positions in round 8\nMust have only have less than or equal to 1 of [Player_Contraints_R:8_P:Sam_Powell_Pepper_FO, Player_Contraints_R:8_P:Sam_Powell_Pepper_MI] positions in round 8\nMust have only have less than or equal to 1 of [Player_Contraints_R:8_P:Steele_Sidebottom_FO, Player_Contraints_R:8_P:Steele_Sidebottom_MI] positions in round 8\nMust have only have less than or equal to 1 of [Player_Contraints_R:8_P:Tom_Phillips_FO, Player_Contraints_R:8_P:Tom_Phillips_MI] positions in round 8\nMust have only have less than or equal to 1 of [Player_Contraints_R:8_P:Tom_Scully_FO, Player_Contraints_R:8_P:Tom_Scully_MI] positions in round 8\nMust have only have less than or equal to 1 of [Player_Contraints_R:9_P:Ben_McEvoy_RU, Player_Contraints_R:9_P:Ben_McEvoy_DE] positions in round 9\nMust have only have less than or equal to 1 of [Player_Contraints_R:9_P:Brodie_Smith_DE, Player_Contraints_R:9_P:Brodie_Smith_MI] positions in round 9\nMust have only have less than or equal to 1 of [Player_Contraints_R:9_P:Dayne_Zorko_FO, Player_Contraints_R:9_P:Dayne_Zorko_MI] positions in round 9\nMust have only have less than or equal to 1 of [Player_Contraints_R:9_P:Dustin_Martin_FO, Player_Contraints_R:9_P:Dustin_Martin_MI] positions in round 9\nMust have only have less than or equal to 1 of [Player_Contraints_R:9_P:Ed_Richards_FO, Player_Contraints_R:9_P:Ed_Richards_MI] positions in round 9\nMust have only have less than or equal to 1 of [Player_Contraints_R:9_P:Isaac_Smith_FO, Player_Contraints_R:9_P:Isaac_Smith_MI] positions in round 9\nMust have only have less than or equal to 1 of [Player_Contraints_R:9_P:Jack_Newnes_FO, Player_Contraints_R:9_P:Jack_Newnes_MI] positions in round 9\nMust have only have less than or equal to 1 of [Player_Contraints_R:9_P:Mark_Blicavs_DE, Player_Contraints_R:9_P:Mark_Blicavs_MI] positions in round 9\nMust have only have less than or equal to 1 of [Player_Contraints_R:9_P:Mark_Hutchings_FO, Player_Contraints_R:9_P:Mark_Hutchings_MI] positions in round 9\nMust have only have less than or equal to 1 of [Player_Contraints_R:9_P:Nathan_Jones_FO, Player_Contraints_R:9_P:Nathan_Jones_MI] positions in round 9\nMust have only have less than or equal to 1 of [Player_Contraints_R:9_P:Paddy_Dow_FO, Player_Contraints_R:9_P:Paddy_Dow_MI] positions in round 9\nMust have only have less than or equal to 1 of [Player_Contraints_R:9_P:Patrick_Dangerfield_FO, Player_Contraints_R:9_P:Patrick_Dangerfield_MI] positions in round 9\nMust have only have less than or equal to 1 of [Player_Contraints_R:9_P:Rory_Laird_DE, Player_Contraints_R:9_P:Rory_Laird_MI] positions in round 9\nMust have only have less than or equal to 1 of [Player_Contraints_R:9_P:Sam_Powell_Pepper_FO, Player_Contraints_R:9_P:Sam_Powell_Pepper_MI] positions in round 9\nMust have only have less than or equal to 1 of [Player_Contraints_R:9_P:Steele_Sidebottom_FO, Player_Contraints_R:9_P:Steele_Sidebottom_MI] positions in round 9\nMust have only have less than or equal to 1 of [Player_Contraints_R:9_P:Tom_Phillips_FO, Player_Contraints_R:9_P:Tom_Phillips_MI] positions in round 9\nMust have only have less than or equal to 1 of [Player_Contraints_R:9_P:Tom_Scully_FO, Player_Contraints_R:9_P:Tom_Scully_MI] positions in round 9\n"
     ]
    }
   ],
   "source": [
    "#START Contrain each player to a single position per round\n",
    "P_Position_Casting = P.copy()\n",
    "# P_Position_Casting['pl_pos_id'] = (P['id']+'_'+P['Position'])\n",
    "P_Position_Casting = P_Position_Casting[['id','pl_pos_id','Round','Position']].drop_duplicates()\n",
    "\n",
    "Players_Position_Casting_Series = P[['id','pl_pos_id','Round']].drop_duplicates().groupby(['id','Round'])['pl_pos_id'].apply(list).iteritems()\n",
    "\n",
    "for (p_id,round), pl_pos_ids in Players_Position_Casting_Series:\n",
    "    player_possible_positions = [player_contraints[pl_pos_id] for pl_pos_id  in pl_pos_ids] \n",
    "    prob += lpSum(player_possible_positions) <= 1, f\"Must have only have less than or equal to 1 of {player_possible_positions} positions in round {round}\"\n",
    "    if len(player_possible_positions)>1:\n",
    "        # print(f\"Must have only have less than or equal to 1 of {player_possible_positions} positions in round {round}\")\n",
    "#   END Contrain each player to a single position per round"
   ]
  },
  {
   "cell_type": "code",
   "execution_count": 20,
   "metadata": {},
   "outputs": [],
   "source": [
    "# # START max players from each position\n",
    "allowed_holds_per_position = {'DE': 8, \"MI\" : 10, 'RU' : 3, 'FO':9}\n",
    "for (position,round), pl_pos_ids in P[['pl_pos_id','Position','Round']].drop_duplicates().groupby(['Position', 'Round'])['pl_pos_id'].apply(list).iteritems():\n",
    "    prob += lpSum([player_contraints[pl_pos_id] for pl_pos_id in pl_pos_ids]) == allowed_holds_per_position[position], f\"Position: {position}, has less than {allowed_holds_per_position[position]} in round {round}\"\n",
    "    # print(f\"Position: {position}, has less than {allowed_holds_per_position[position]} in round {round}\")\n",
    "# END max players from each position"
   ]
  },
  {
   "cell_type": "code",
   "execution_count": 21,
   "metadata": {},
   "outputs": [],
   "source": [
    "# # START max players from each position team constraint\n",
    "\n",
    "player_selection_contraints = LpVariable.dicts(\"Player Team Contraints\", P['pl_pos_id'].unique(), 0, 1, cat='Binary')\n",
    "\n",
    "allowed_selection_holds_per_position = {'DE': 6, \"MI\" : 8, 'RU' : 2, 'FO':6}\n",
    "for (position,round), pl_pos_ids in P[['pl_pos_id','Position','Round']].drop_duplicates().groupby(['Position', 'Round'])['pl_pos_id'].apply(list).iteritems():\n",
    "    prob += lpSum([player_selection_contraints[pl_pos_id] for pl_pos_id in pl_pos_ids]) == allowed_selection_holds_per_position[position], f\"Position: {position}, has less than {allowed_selection_holds_per_position[position]} in round {round}\"\n",
    "\n",
    "for pl_pos_id in P['pl_pos_id'].unique():\n",
    "    prob += player_selection_contraints[pl_pos_id] <= player_contraints[pl_pos_id]\n",
    "\n",
    "# END max players from each position team constraint"
   ]
  },
  {
   "cell_type": "code",
   "execution_count": 22,
   "metadata": {},
   "outputs": [],
   "source": [
    "# set scoring\n",
    "prob += lpSum([player_selection_contraints[p_id[1]]*score[1] for p_id,score in zip(P['pl_pos_id'].iteritems(),P['Score'].iteritems())]), \"Total score is maximized\""
   ]
  },
  {
   "cell_type": "code",
   "execution_count": 23,
   "metadata": {},
   "outputs": [
    {
     "output_type": "execute_result",
     "data": {
      "text/plain": [
       "1"
      ]
     },
     "metadata": {},
     "execution_count": 23
    }
   ],
   "source": [
    "solver = getSolver('COIN_CMD', timeLimit=4000, msg=True,gapRel = 0.2)\n",
    "prob.solve(solver)\n",
    "\n",
    "# solver = getSolver('PULP_CBC_CMD')\n",
    "# prob.solve(solver)\n",
    "prob.status"
   ]
  },
  {
   "cell_type": "code",
   "execution_count": 25,
   "metadata": {},
   "outputs": [],
   "source": [
    "results = []\n",
    "for name, player_position in player_contraints.items():\n",
    "    if player_position.value() != 0:\n",
    "        results.append([name,1])\n",
    "        # print('here')\n",
    "Players_selected = pd.DataFrame(results, columns=['pl_pos_id', 'is_selected'])\n",
    "P_results = P.merge(Players_selected, on = ['pl_pos_id'])\n",
    "P_results.to_csv(FILENAME+'_solution.csv')\n",
    "print(P_results.groupby(['Round','Position']).sum()['is_selected'])"
   ]
  },
  {
   "cell_type": "code",
   "execution_count": 27,
   "metadata": {},
   "outputs": [
    {
     "output_type": "stream",
     "name": "stdout",
     "text": [
      "Round  Position\n1      DE          5\n       FO          7\n       MI          8\n       RU          2\n2      DE          5\n                  ..\n22     RU          2\n23     DE          5\n       FO          7\n       MI          8\n       RU          2\nName: is_selected, Length: 92, dtype: int64\n"
     ]
    }
   ],
   "source": [
    "results = []\n",
    "for name, player_position in player_selection_contraints.items():\n",
    "    if player_position.value() != 0:\n",
    "        results.append([name,1])\n",
    "        # print('here')\n",
    "Players_selected = pd.DataFrame(results, columns=['pl_pos_id', 'is_selected'])\n",
    "P_results = P.merge(Players_selected, on = ['pl_pos_id'])\n",
    "P_results.to_csv(FILENAME+'_selection_solution.csv')\n",
    "print(P_results.groupby(['Round','Position']).sum()['is_selected'])"
   ]
  },
  {
   "cell_type": "code",
   "execution_count": null,
   "metadata": {},
   "outputs": [],
   "source": []
  }
 ]
}