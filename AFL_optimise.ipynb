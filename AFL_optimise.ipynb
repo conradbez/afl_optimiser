{
 "metadata": {
  "language_info": {
   "codemirror_mode": {
    "name": "ipython",
    "version": 3
   },
   "file_extension": ".py",
   "mimetype": "text/x-python",
   "name": "python",
   "nbconvert_exporter": "python",
   "pygments_lexer": "ipython3",
   "version": "3.8.5-final"
  },
  "orig_nbformat": 2,
  "kernelspec": {
   "name": "python3",
   "display_name": "Python 3",
   "language": "python"
  }
 },
 "nbformat": 4,
 "nbformat_minor": 2,
 "cells": [
  {
   "cell_type": "code",
   "execution_count": 22,
   "metadata": {},
   "outputs": [],
   "source": [
    "import pandas as pd\n",
    "import numpy as np\n",
    "from pulp import *"
   ]
  },
  {
   "cell_type": "code",
   "execution_count": 23,
   "metadata": {},
   "outputs": [],
   "source": [
    "PREVIOUS_ROUND = 1"
   ]
  },
  {
   "cell_type": "code",
   "execution_count": 24,
   "metadata": {},
   "outputs": [],
   "source": [
    "FILENAME = 'Test_data/test - 1'\n",
    "FILENAME = 'Test_data/test - 2'\n",
    "FILENAME = 'Test_data/test - 3'\n",
    "FILENAME = 'full_players'\n",
    "\n",
    "full_players = pd.read_csv('full_players.csv', index_col=0).reset_index(drop=True)\n",
    "\n",
    "\n",
    "full_players = pd.read_csv(FILENAME+'.csv', index_col=0).reset_index(drop=True)\n",
    "\n",
    "full_players['Score'] = pd.to_numeric(full_players['Score'].replace('-',0))\n",
    "schedule = pd.read_csv('2021_schedule', index_col=0) \n",
    "\n",
    "players_2021 = full_players[full_players['Year']==2021][['Name','Price','Team 1', 'Position']]\n",
    "player_prev = full_players[full_players['Name'].isin(players_2021['Name'].unique())]\n",
    "player_prev = player_prev.groupby(['Name','Team 2']).mean()['Score']\n",
    "\n",
    "players_schedule_2021 = players_2021.merge(schedule, on=['Team 1'])\n",
    "players_schedule_score_2021 = players_schedule_2021.merge(player_prev, on = ['Name','Team 2'], how = 'left')\n",
    "\n",
    "# add bye's\n",
    "all_players_list = players_schedule_score_2021[['Name','Price','Position', 'Team 1']].drop_duplicates()\n",
    "all_players_list['key'] = 1\n",
    "all_rounds_list =  players_schedule_score_2021[['Round']].drop_duplicates()\n",
    "all_rounds_list['key'] = 1\n",
    "all_players_list = all_players_list.merge(all_rounds_list, on=['key']).drop('key',1)\n",
    "current_players_list = players_schedule_score_2021.copy()\n",
    "missing_players = all_players_list.merge(current_players_list, how='outer',indicator=True)\n",
    "missing_players = missing_players[missing_players['_merge'] == 'left_only'].drop('_merge',1)\n",
    "missing_players['Score']=0\n",
    "missing_players['Team 2'] = '_BYE'\n",
    "\n",
    "players_schedule_score_2021 = players_schedule_score_2021.append(missing_players).reset_index(drop=True)\n",
    "# end add bye's\n",
    "\n",
    "P = players_schedule_score_2021[players_schedule_score_2021['Round'] >= PREVIOUS_ROUND]\n",
    "\n",
    "players_to_be_kept = P.copy()\n",
    "players_to_be_kept[\"Value\"] = players_to_be_kept['Score']/players_to_be_kept['Price']\n",
    "players_to_be_kept = players_to_be_kept.groupby('Name').mean()[['Score','Value']]\n",
    "\n",
    "players_to_keep = []\n",
    "num_players_to_keep = int(len(players_to_be_kept)*1)\n",
    "players_to_keep += list(players_to_be_kept.sort_values('Score', ascending = False).index[:num_players_to_keep])\n",
    "players_to_keep += list(players_to_be_kept.sort_values('Value', ascending = False).index[:num_players_to_keep])\n",
    "\n",
    "P = P[P['Name'].isin(players_to_keep)]\n",
    "\n",
    "P['Score'] = P['Score'].replace(np.nan,0)\n",
    "# P = P[P['Round']<=2]\n",
    "P['id'] = \"R:\"+P['Round'].astype(str)+\"_P:\"+P['Name']\n",
    "P['pl_pos_id'] = (P['id']+'_'+P['Position'])"
   ]
  },
  {
   "cell_type": "code",
   "execution_count": 25,
   "metadata": {},
   "outputs": [],
   "source": [
    "player_contraints = {}\n",
    "prob = LpProblem(\"aflProblem\", LpMaximize)\n",
    "\n",
    "player_contraints = LpVariable.dicts(\"Player Contraints\", P['pl_pos_id'].unique(), 0, 1, cat='Binary')"
   ]
  },
  {
   "cell_type": "code",
   "execution_count": 26,
   "metadata": {},
   "outputs": [],
   "source": [
    "P_prev_round = P.copy()\n",
    "P_prev_round['Round_prev'] = P_prev_round['Round'] - 1\n",
    "\n",
    "P_transfers = P[['pl_pos_id','Position','Round','Name']].merge(P_prev_round[['pl_pos_id','Position','Round_prev','Name']],left_on=['Position','Round'],right_on=['Position','Round_prev'], suffixes = ('_prev','_next'))\n",
    "\n",
    "P_transfers['Transfer'] = P_transfers['pl_pos_id_prev']+'-'+P_transfers['pl_pos_id_next']\n",
    "P_transfers=P_transfers[['pl_pos_id_prev',\t'Round',\t'Name_prev',\t'pl_pos_id_next',\t'Round_prev',\t'Name_next',\t'Transfer']].drop_duplicates()\n",
    "\n",
    "transfer_contraints = LpVariable.dicts(\"Transfer contraints\", P_transfers['Transfer'], 0, 1, cat='Binary')\n",
    "\n",
    "# map rounds end to itermediary\n",
    "for prev_player,trans in P_transfers.groupby(['pl_pos_id_prev'])['Transfer'].apply(list).iteritems():\n",
    "    prob += lpSum([transfer_contraints[t_id] for t_id in trans]) == player_contraints[prev_player], f\"Previous player equals transfer intermediatary for {prev_player} equals {trans}\"\n",
    "\n",
    "# map intermediary to next round\n",
    "for next_player,trans in P_transfers.groupby(['pl_pos_id_next'])['Transfer'].apply(list).iteritems():\n",
    "    prob += lpSum([transfer_contraints[t_id] for t_id in trans]) == player_contraints[next_player], f\"Next player equals transfer intermediatary for {next_player} equals {trans}\"\n",
    "\n",
    "for round, transfers in P_transfers[P_transfers['Name_prev'] != P_transfers['Name_next']][['Round','Transfer']].drop_duplicates().groupby(['Round'])['Transfer'].apply(list).iteritems():\n",
    "    prob += lpSum([transfer_contraints[t_id] for t_id in transfers]) <= 2, f\"Round: {round}, has less than or equal to 4 transfers\"\n",
    "\n",
    "# # END TRANFERS"
   ]
  },
  {
   "cell_type": "code",
   "execution_count": 27,
   "metadata": {},
   "outputs": [],
   "source": [
    "# START money contraint\n",
    "money = 13 * 10**6\n",
    "for round,player in P[['pl_pos_id','Price','Round']].drop_duplicates().groupby(['Round'])['pl_pos_id'].apply(list).iteritems():\n",
    "    prob += lpSum([player_contraints[p_id]*P[P['pl_pos_id']==p_id]['Price'].values[0] for p_id in player]) <= money, f\"Round: {round}, has less than ${money}\"\n",
    "# # END money contraint"
   ]
  },
  {
   "cell_type": "code",
   "execution_count": 28,
   "metadata": {
    "tags": []
   },
   "outputs": [],
   "source": [
    "#START Contrain each player to a single position per round\n",
    "P_Position_Casting = P.copy()\n",
    "# P_Position_Casting['pl_pos_id'] = (P['id']+'_'+P['Position'])\n",
    "P_Position_Casting = P_Position_Casting[['id','pl_pos_id','Round','Position']].drop_duplicates()\n",
    "\n",
    "Players_Position_Casting_Series = P[['id','pl_pos_id','Round']].drop_duplicates().groupby(['id','Round'])['pl_pos_id'].apply(list).iteritems()\n",
    "\n",
    "for (p_id,round), pl_pos_ids in Players_Position_Casting_Series:\n",
    "    player_possible_positions = [player_contraints[pl_pos_id] for pl_pos_id  in pl_pos_ids] \n",
    "    prob += lpSum(player_possible_positions) <= 1, f\"Must have only have less than or equal to 1 of {player_possible_positions} positions in round {round}\"\n",
    "    # if len(player_possible_positions)>1:\n",
    "        # print(f\"Must have only have less than or equal to 1 of {player_possible_positions} positions in round {round}\")\n",
    "#   END Contrain each player to a single position per round"
   ]
  },
  {
   "cell_type": "code",
   "execution_count": 29,
   "metadata": {},
   "outputs": [],
   "source": [
    "\n",
    "previous_round_players = pd.read_csv('previous_round_selection/Round_one_selection.csv')\n",
    "assert list(previous_round_players['Round'].unique()) == [PREVIOUS_ROUND]\n",
    "previous_round_players = previous_round_players['pl_pos_id'].unique()"
   ]
  },
  {
   "cell_type": "code",
   "execution_count": 30,
   "metadata": {},
   "outputs": [
    {
     "output_type": "stream",
     "name": "stdout",
     "text": [
      "Player: R:1_P:Neville Jetta_DE,was selected in round 1\n",
      "Player: R:1_P:James Frawley_DE,was selected in round 1\n",
      "Player: R:1_P:Ben McEvoy_DE,was selected in round 1\n",
      "Player: R:1_P:Sam Taylor_DE,was selected in round 1\n",
      "Player: R:1_P:Jarrod Harbrow_DE,was selected in round 1\n",
      "Player: R:1_P:Connor Budarick_DE,was selected in round 1\n",
      "Player: R:1_P:Bryce Gibbs_DE,was selected in round 1\n",
      "Player: R:1_P:Dylan Roberton_DE,was selected in round 1\n",
      "Player: R:1_P:Joshua Kennedy_FO,was selected in round 1\n",
      "Player: R:1_P:Eddie Betts_FO,was selected in round 1\n",
      "Player: R:1_P:Minairo Frederick_FO,was selected in round 1\n",
      "Player: R:1_P:Jonathon Patton_FO,was selected in round 1\n",
      "Player: R:1_P:Shaun Burgoyne_FO,was selected in round 1\n",
      "Player: R:1_P:Jack Riewoldt_FO,was selected in round 1\n",
      "Player: R:1_P:Taylor Walker_FO,was selected in round 1\n",
      "Player: R:1_P:Steven Motlop_FO,was selected in round 1\n",
      "Player: R:1_P:Mark Hutchings_FO,was selected in round 1\n",
      "Player: R:1_P:Sam Powell-Pepper_MI,was selected in round 1\n",
      "Player: R:1_P:Trent Cotchin_MI,was selected in round 1\n",
      "Player: R:1_P:Jack Redden_MI,was selected in round 1\n",
      "Player: R:1_P:Luke Shuey_MI,was selected in round 1\n",
      "Player: R:1_P:Tom Scully_MI,was selected in round 1\n",
      "Player: R:1_P:Tim Kelly_MI,was selected in round 1\n",
      "Player: R:1_P:Lochie O'Brien_MI,was selected in round 1\n",
      "Player: R:1_P:Paddy Dow_MI,was selected in round 1\n",
      "Player: R:1_P:Dyson Heppell_MI,was selected in round 1\n",
      "Player: R:1_P:Callan Ward_MI,was selected in round 1\n",
      "Player: R:1_P:Tom Hickey_RU,was selected in round 1\n",
      "Player: R:1_P:Shane Mumford_RU,was selected in round 1\n",
      "Player: R:1_P:Todd Goldstein_RU,was selected in round 1\n",
      "/home/conradbez/.local/lib/python3.8/site-packages/pulp/pulp.py:1544: UserWarning: Overwriting previously set objective.\n",
      "  warnings.warn(\"Overwriting previously set objective.\")\n"
     ]
    }
   ],
   "source": [
    "# # START force select previous round players\n",
    "for pl_pos_ids in previous_round_players:\n",
    "    prob += pl_pos_ids == 1, f\"Player: {pl_pos_ids},was selected in round {PREVIOUS_ROUND}\"\n",
    "    print( f\"Player: {pl_pos_ids},was selected in round {PREVIOUS_ROUND}\")\n",
    "# END max players from each position"
   ]
  },
  {
   "cell_type": "code",
   "execution_count": 31,
   "metadata": {},
   "outputs": [],
   "source": [
    "# # START max players from each position\n",
    "allowed_holds_per_position = {'DE': 8, \"MI\" : 10, 'RU' : 3, 'FO':9}\n",
    "for (position,round), pl_pos_ids in P[['pl_pos_id','Position','Round']].drop_duplicates().groupby(['Position', 'Round'])['pl_pos_id'].apply(list).iteritems():\n",
    "    prob += lpSum([player_contraints[pl_pos_id] for pl_pos_id in pl_pos_ids]) == allowed_holds_per_position[position], f\"Position: {position}, has less than {allowed_holds_per_position[position]} in round {round}\"\n",
    "    # print(f\"Position: {position}, has less than {allowed_holds_per_position[position]} in round {round}\")\n",
    "# END max players from each position"
   ]
  },
  {
   "cell_type": "code",
   "execution_count": 32,
   "metadata": {},
   "outputs": [],
   "source": [
    "# # START max players from each position team constraint\n",
    "\n",
    "player_selection_contraints = LpVariable.dicts(\"Player Team Contraints\", P['pl_pos_id'].unique(), 0, 1, cat='Binary')\n",
    "\n",
    "allowed_selection_holds_per_position = {'DE': 6, \"MI\" : 8, 'RU' : 2, 'FO':6}\n",
    "for (position,round), pl_pos_ids in P[['pl_pos_id','Position','Round']].drop_duplicates().groupby(['Position', 'Round'])['pl_pos_id'].apply(list).iteritems():\n",
    "    prob += lpSum([player_selection_contraints[pl_pos_id] for pl_pos_id in pl_pos_ids]) == allowed_selection_holds_per_position[position], f\"Position: {position}, has less than {allowed_selection_holds_per_position[position]} in round {round}\"\n",
    "\n",
    "for pl_pos_id in P['pl_pos_id'].unique():\n",
    "    prob += player_selection_contraints[pl_pos_id] <= player_contraints[pl_pos_id]\n",
    "\n",
    "# END max players from each position team constraint"
   ]
  },
  {
   "cell_type": "code",
   "execution_count": 33,
   "metadata": {},
   "outputs": [
    {
     "output_type": "stream",
     "name": "stderr",
     "text": [
      "/home/conradbez/.local/lib/python3.8/site-packages/pulp/pulp.py:1537: UserWarning: Overwriting previously set objective.\n  warnings.warn(\"Overwriting previously set objective.\")\n"
     ]
    }
   ],
   "source": [
    "# set scoring\n",
    "prob += lpSum([player_selection_contraints[p_id[1]]*score[1] for p_id,score in zip(P['pl_pos_id'].iteritems(),P['Score'].iteritems())]), \"Total score is maximized\""
   ]
  },
  {
   "cell_type": "code",
   "execution_count": 34,
   "metadata": {},
   "outputs": [
    {
     "output_type": "error",
     "ename": "PulpSolverError",
     "evalue": "Pulp: cannot execute cbc cwd: /home/conradbez/Docs/afl_optimiser",
     "traceback": [
      "\u001b[0;31m---------------------------------------------------------------------------\u001b[0m",
      "\u001b[0;31mPulpSolverError\u001b[0m                           Traceback (most recent call last)",
      "\u001b[0;32m<ipython-input-34-b3b24e7e072a>\u001b[0m in \u001b[0;36m<module>\u001b[0;34m\u001b[0m\n\u001b[1;32m      1\u001b[0m \u001b[0msolver\u001b[0m \u001b[0;34m=\u001b[0m \u001b[0mgetSolver\u001b[0m\u001b[0;34m(\u001b[0m\u001b[0;34m'COIN_CMD'\u001b[0m\u001b[0;34m,\u001b[0m \u001b[0mtimeLimit\u001b[0m\u001b[0;34m=\u001b[0m\u001b[0;36m4000\u001b[0m\u001b[0;34m,\u001b[0m \u001b[0mmsg\u001b[0m\u001b[0;34m=\u001b[0m\u001b[0;32mTrue\u001b[0m\u001b[0;34m,\u001b[0m\u001b[0mgapRel\u001b[0m \u001b[0;34m=\u001b[0m \u001b[0;36m0.2\u001b[0m\u001b[0;34m)\u001b[0m\u001b[0;34m\u001b[0m\u001b[0;34m\u001b[0m\u001b[0m\n\u001b[0;32m----> 2\u001b[0;31m \u001b[0mprob\u001b[0m\u001b[0;34m.\u001b[0m\u001b[0msolve\u001b[0m\u001b[0;34m(\u001b[0m\u001b[0msolver\u001b[0m\u001b[0;34m)\u001b[0m\u001b[0;34m\u001b[0m\u001b[0;34m\u001b[0m\u001b[0m\n\u001b[0m\u001b[1;32m      3\u001b[0m \u001b[0;34m\u001b[0m\u001b[0m\n\u001b[1;32m      4\u001b[0m \u001b[0;31m# solver = getSolver('PULP_CBC_CMD')\u001b[0m\u001b[0;34m\u001b[0m\u001b[0;34m\u001b[0m\u001b[0;34m\u001b[0m\u001b[0m\n\u001b[1;32m      5\u001b[0m \u001b[0;31m# prob.solve(solver)\u001b[0m\u001b[0;34m\u001b[0m\u001b[0;34m\u001b[0m\u001b[0;34m\u001b[0m\u001b[0m\n",
      "\u001b[0;32m~/.local/lib/python3.8/site-packages/pulp/pulp.py\u001b[0m in \u001b[0;36msolve\u001b[0;34m(self, solver, **kwargs)\u001b[0m\n\u001b[1;32m   1735\u001b[0m         \u001b[0;31m#time it\u001b[0m\u001b[0;34m\u001b[0m\u001b[0;34m\u001b[0m\u001b[0;34m\u001b[0m\u001b[0m\n\u001b[1;32m   1736\u001b[0m         \u001b[0mself\u001b[0m\u001b[0;34m.\u001b[0m\u001b[0msolutionTime\u001b[0m \u001b[0;34m=\u001b[0m \u001b[0;34m-\u001b[0m\u001b[0mclock\u001b[0m\u001b[0;34m(\u001b[0m\u001b[0;34m)\u001b[0m\u001b[0;34m\u001b[0m\u001b[0;34m\u001b[0m\u001b[0m\n\u001b[0;32m-> 1737\u001b[0;31m         \u001b[0mstatus\u001b[0m \u001b[0;34m=\u001b[0m \u001b[0msolver\u001b[0m\u001b[0;34m.\u001b[0m\u001b[0mactualSolve\u001b[0m\u001b[0;34m(\u001b[0m\u001b[0mself\u001b[0m\u001b[0;34m,\u001b[0m \u001b[0;34m**\u001b[0m\u001b[0mkwargs\u001b[0m\u001b[0;34m)\u001b[0m\u001b[0;34m\u001b[0m\u001b[0;34m\u001b[0m\u001b[0m\n\u001b[0m\u001b[1;32m   1738\u001b[0m         \u001b[0mself\u001b[0m\u001b[0;34m.\u001b[0m\u001b[0msolutionTime\u001b[0m \u001b[0;34m+=\u001b[0m \u001b[0mclock\u001b[0m\u001b[0;34m(\u001b[0m\u001b[0;34m)\u001b[0m\u001b[0;34m\u001b[0m\u001b[0;34m\u001b[0m\u001b[0m\n\u001b[1;32m   1739\u001b[0m         \u001b[0mself\u001b[0m\u001b[0;34m.\u001b[0m\u001b[0mrestoreObjective\u001b[0m\u001b[0;34m(\u001b[0m\u001b[0mwasNone\u001b[0m\u001b[0;34m,\u001b[0m \u001b[0mdummyVar\u001b[0m\u001b[0;34m)\u001b[0m\u001b[0;34m\u001b[0m\u001b[0;34m\u001b[0m\u001b[0m\n",
      "\u001b[0;32m~/.local/lib/python3.8/site-packages/pulp/apis/coin_api.py\u001b[0m in \u001b[0;36mactualSolve\u001b[0;34m(self, lp, **kwargs)\u001b[0m\n\u001b[1;32m     99\u001b[0m     \u001b[0;32mdef\u001b[0m \u001b[0mactualSolve\u001b[0m\u001b[0;34m(\u001b[0m\u001b[0mself\u001b[0m\u001b[0;34m,\u001b[0m \u001b[0mlp\u001b[0m\u001b[0;34m,\u001b[0m \u001b[0;34m**\u001b[0m\u001b[0mkwargs\u001b[0m\u001b[0;34m)\u001b[0m\u001b[0;34m:\u001b[0m\u001b[0;34m\u001b[0m\u001b[0;34m\u001b[0m\u001b[0m\n\u001b[1;32m    100\u001b[0m         \u001b[0;34m\"\"\"Solve a well formulated lp problem\"\"\"\u001b[0m\u001b[0;34m\u001b[0m\u001b[0;34m\u001b[0m\u001b[0m\n\u001b[0;32m--> 101\u001b[0;31m         \u001b[0;32mreturn\u001b[0m \u001b[0mself\u001b[0m\u001b[0;34m.\u001b[0m\u001b[0msolve_CBC\u001b[0m\u001b[0;34m(\u001b[0m\u001b[0mlp\u001b[0m\u001b[0;34m,\u001b[0m \u001b[0;34m**\u001b[0m\u001b[0mkwargs\u001b[0m\u001b[0;34m)\u001b[0m\u001b[0;34m\u001b[0m\u001b[0;34m\u001b[0m\u001b[0m\n\u001b[0m\u001b[1;32m    102\u001b[0m \u001b[0;34m\u001b[0m\u001b[0m\n\u001b[1;32m    103\u001b[0m     \u001b[0;32mdef\u001b[0m \u001b[0mavailable\u001b[0m\u001b[0;34m(\u001b[0m\u001b[0mself\u001b[0m\u001b[0;34m)\u001b[0m\u001b[0;34m:\u001b[0m\u001b[0;34m\u001b[0m\u001b[0;34m\u001b[0m\u001b[0m\n",
      "\u001b[0;32m~/.local/lib/python3.8/site-packages/pulp/apis/coin_api.py\u001b[0m in \u001b[0;36msolve_CBC\u001b[0;34m(self, lp, use_mps)\u001b[0m\n\u001b[1;32m    108\u001b[0m         \u001b[0;34m\"\"\"Solve a MIP problem using CBC\"\"\"\u001b[0m\u001b[0;34m\u001b[0m\u001b[0;34m\u001b[0m\u001b[0m\n\u001b[1;32m    109\u001b[0m         \u001b[0;32mif\u001b[0m \u001b[0;32mnot\u001b[0m \u001b[0mself\u001b[0m\u001b[0;34m.\u001b[0m\u001b[0mexecutable\u001b[0m\u001b[0;34m(\u001b[0m\u001b[0mself\u001b[0m\u001b[0;34m.\u001b[0m\u001b[0mpath\u001b[0m\u001b[0;34m)\u001b[0m\u001b[0;34m:\u001b[0m\u001b[0;34m\u001b[0m\u001b[0;34m\u001b[0m\u001b[0m\n\u001b[0;32m--> 110\u001b[0;31m             raise PulpSolverError(\"Pulp: cannot execute %s cwd: %s\"%(self.path,\n\u001b[0m\u001b[1;32m    111\u001b[0m                                    os.getcwd()))\n\u001b[1;32m    112\u001b[0m         \u001b[0mtmpLp\u001b[0m\u001b[0;34m,\u001b[0m \u001b[0mtmpMps\u001b[0m\u001b[0;34m,\u001b[0m \u001b[0mtmpSol\u001b[0m\u001b[0;34m,\u001b[0m \u001b[0mtmpMst\u001b[0m \u001b[0;34m=\u001b[0m \u001b[0mself\u001b[0m\u001b[0;34m.\u001b[0m\u001b[0mcreate_tmp_files\u001b[0m\u001b[0;34m(\u001b[0m\u001b[0mlp\u001b[0m\u001b[0;34m.\u001b[0m\u001b[0mname\u001b[0m\u001b[0;34m,\u001b[0m \u001b[0;34m'lp'\u001b[0m\u001b[0;34m,\u001b[0m \u001b[0;34m'mps'\u001b[0m\u001b[0;34m,\u001b[0m \u001b[0;34m'sol'\u001b[0m\u001b[0;34m,\u001b[0m \u001b[0;34m'mst'\u001b[0m\u001b[0;34m)\u001b[0m\u001b[0;34m\u001b[0m\u001b[0;34m\u001b[0m\u001b[0m\n",
      "\u001b[0;31mPulpSolverError\u001b[0m: Pulp: cannot execute cbc cwd: /home/conradbez/Docs/afl_optimiser"
     ]
    }
   ],
   "source": [
    "solver = getSolver('COIN_CMD', timeLimit=4000, msg=True,gapRel = 0.2)\n",
    "prob.solve(solver)\n",
    "\n",
    "# solver = getSolver('PULP_CBC_CMD')\n",
    "# prob.solve(solver)\n",
    "prob.status"
   ]
  },
  {
   "cell_type": "code",
   "execution_count": null,
   "metadata": {},
   "outputs": [],
   "source": [
    "results = []\n",
    "for name, player_position in player_contraints.items():\n",
    "    if player_position.value() != 0:\n",
    "        results.append([name,1])\n",
    "        # print('here')\n",
    "Players_selected = pd.DataFrame(results, columns=['pl_pos_id', 'is_selected'])\n",
    "P_results = P.merge(Players_selected, on = ['pl_pos_id'])\n",
    "P_results.to_csv(FILENAME+'_solution.csv')\n",
    "print(P_results.groupby(['Round','Position']).sum()['is_selected'])"
   ]
  },
  {
   "cell_type": "code",
   "execution_count": null,
   "metadata": {},
   "outputs": [],
   "source": [
    "results = []\n",
    "for name, player_position in player_selection_contraints.items():\n",
    "    if player_position.value() != 0:\n",
    "        results.append([name,1])\n",
    "        # print('here')\n",
    "Players_selected = pd.DataFrame(results, columns=['pl_pos_id', 'is_selected'])\n",
    "P_results = P.merge(Players_selected, on = ['pl_pos_id'])\n",
    "P_results.to_csv(FILENAME+'_selection_solution.csv')\n",
    "print(P_results.groupby(['Round','Position']).sum()['is_selected'])"
   ]
  },
  {
   "cell_type": "code",
   "execution_count": null,
   "metadata": {},
   "outputs": [],
   "source": []
  }
 ]
}